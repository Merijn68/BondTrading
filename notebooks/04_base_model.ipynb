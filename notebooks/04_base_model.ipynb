{
 "cells": [
  {
   "cell_type": "markdown",
   "metadata": {},
   "source": [
    "# Base model\n",
    "\n",
    "In eerste instantie wordt een naive voorspelling gemaakt voor de bond markt. Het doel hiervan is om een benchmark te hebben waarmee de andere modellen kunnen worden vergeleken. We voorspellen voor 1 bond voor 10 dagen vooruit wat de bond prijs gaat doen. Idealiter zouden we de prijsontwikkeling van meerdere (alle) staatsobligaties tegelijk willen voorspellen, zodat het model op 1 moment kan aangeven welke bond een betere investering zou zijn. Maar 1 stap tegelijk."
   ]
  },
  {
   "cell_type": "code",
   "execution_count": 1,
   "metadata": {},
   "outputs": [],
   "source": [
    "%load_ext autoreload\n",
    "%autoreload 2\n",
    "\n",
    "import sys\n",
    "import math\n",
    "import matplotlib.pyplot as plt\n",
    "sys.path.insert(0, \"..\")\n",
    "from src.data import make_dataset\n",
    "from src.models import window, evaluate, base_model\n",
    "from pathlib import Path\n",
    "datadir = Path(\"../data/raw\")\n",
    "\n",
    "import tensorflow as tf\n",
    "import numpy as np"
   ]
  },
  {
   "cell_type": "code",
   "execution_count": 2,
   "metadata": {},
   "outputs": [
    {
     "name": "stderr",
     "output_type": "stream",
     "text": [
      "2022-01-14 14:27:06.994 | INFO     | src.data.make_dataset:read_pkl:377 - Load preprocessed price data\n"
     ]
    }
   ],
   "source": [
    "df_price = make_dataset.read_pkl('price')\n",
    "isin = \"DE0001102374\" # 10 Years NL Bond, maturity 2025 0.5% coupon\n",
    "df_isin = df_price[df_price['reference_identifier'] == isin]\n",
    "df_isin = df_isin.set_index('rate_dt')\n",
    "df_isin = df_isin.sort_index()"
   ]
  },
  {
   "cell_type": "code",
   "execution_count": 3,
   "metadata": {},
   "outputs": [
    {
     "data": {
      "text/plain": [
       "<AxesSubplot:xlabel='rate_dt'>"
      ]
     },
     "execution_count": 3,
     "metadata": {},
     "output_type": "execute_result"
    },
    {
     "data": {
      "image/png": "[encoded data removed]",
      "text/plain": [
       "<Figure size 432x288 with 1 Axes>"
      ]
     },
     "metadata": {
      "needs_background": "light"
     },
     "output_type": "display_data"
    }
   ],
   "source": [
    "series = df_isin['mid']\n",
    "split = math.floor(len(series) * .70)\n",
    "\n",
    "# Train test split\n",
    "train = series[:split]\n",
    "norm = max(train)\n",
    "test = series[split:]\n",
    "train = train / norm\n",
    "test = test / norm\n",
    "train.plot(label = \"train\",legend=True)\n",
    "test.plot(label =\"test\",legend=True)"
   ]
  },
  {
   "cell_type": "code",
   "execution_count": 4,
   "metadata": {},
   "outputs": [
    {
     "data": {
      "text/plain": [
       "((1245,), (534,))"
      ]
     },
     "execution_count": 4,
     "metadata": {},
     "output_type": "execute_result"
    }
   ],
   "source": [
    "(train.shape, test.shape)"
   ]
  },
  {
   "cell_type": "code",
   "execution_count": 5,
   "metadata": {},
   "outputs": [],
   "source": [
    "# Create a windowed dataset from the data\n",
    "window_size = 32 \n",
    "batch_size = 32\n",
    "shuffle_buffer = 2\n",
    "horizon = 10\n",
    "train_set = window.windowed_dataset(train, window_size, batch_size, shuffle_buffer, horizon=horizon)\n",
    "valid_set = window.windowed_dataset(test, window_size, batch_size, shuffle_buffer, horizon=horizon)"
   ]
  },
  {
   "cell_type": "code",
   "execution_count": 6,
   "metadata": {},
   "outputs": [
    {
     "data": {
      "text/plain": [
       "(TensorShape([32, 32]), TensorShape([32, 10]))"
      ]
     },
     "execution_count": 6,
     "metadata": {},
     "output_type": "execute_result"
    }
   ],
   "source": [
    "x, y = next(iter(train_set))\n",
    "x.shape, y.shape"
   ]
  },
  {
   "cell_type": "code",
   "execution_count": 7,
   "metadata": {},
   "outputs": [
    {
     "name": "stdout",
     "output_type": "stream",
     "text": [
      "0.004074368742107603\n"
     ]
    }
   ],
   "source": [
    "# This needs to move somewhere else...\n",
    "\n",
    "maelist = []\n",
    "for x, y in train_set:      \n",
    "    x = x[:, -1] # get the last value of every batch\n",
    "    size = tf.size(x) # this will be the batchsize, so mostly 32\n",
    "    yhat = tf.broadcast_to(tf.reshape(x, [size,1]), [size, horizon]) # broadcast\n",
    "    mae = np.mean(np.abs(yhat - y)) # calculate mae\n",
    "    maelist.append(mae)\n",
    "norm = np.mean(maelist)\n",
    "print(norm)\n",
    "smae = evaluate.ScaledMAE(scale=norm)\n"
   ]
  },
  {
   "cell_type": "code",
   "execution_count": 8,
   "metadata": {},
   "outputs": [
    {
     "data": {
      "text/plain": [
       "(0.0017166150484410488, 6.262746686111532e-06, 1.003087633997175)"
      ]
     },
     "execution_count": 8,
     "metadata": {},
     "output_type": "execute_result"
    }
   ],
   "source": [
    "# 1 step naive prediction\n",
    "y, yhat = base_model.naivepredict(train.values)\n",
    "norm = evaluate.mae(y, yhat)\n",
    "norm, evaluate.mse(y, yhat), evaluate.mase(y, yhat)"
   ]
  },
  {
   "cell_type": "markdown",
   "metadata": {},
   "source": [
    "Een eenvoudig referentie model"
   ]
  },
  {
   "cell_type": "code",
   "execution_count": 9,
   "metadata": {},
   "outputs": [],
   "source": [
    "%load_ext tensorboard"
   ]
  },
  {
   "cell_type": "code",
   "execution_count": 10,
   "metadata": {},
   "outputs": [],
   "source": [
    "result = {}"
   ]
  },
  {
   "cell_type": "code",
   "execution_count": 11,
   "metadata": {},
   "outputs": [],
   "source": [
    "from tensorflow.keras.models import Sequential\n",
    "import tensorflow.keras.layers as tfl\n",
    "from tensorflow.keras.callbacks import TensorBoard, EarlyStopping\n",
    "from tensorflow.keras.optimizers import Adam\n",
    "\n",
    "early_stop = EarlyStopping(patience=5, restore_best_weights=True)\n",
    "\n",
    "model = Sequential([    \n",
    "        tfl.Reshape((window_size, 1)),\n",
    "        tfl.SimpleRNN(1),\n",
    "        tfl.Dense(horizon)\n",
    "    ])\n",
    "early_stop = EarlyStopping(patience=10, restore_best_weights=True)\n"
   ]
  },
  {
   "cell_type": "code",
   "execution_count": 12,
   "metadata": {},
   "outputs": [
    {
     "name": "stdout",
     "output_type": "stream",
     "text": [
      "16/16 [==============================] - 0s 21ms/step - loss: 5.1689e-05 - mae: 0.0060 - smae: 1.4686\n",
      "lr: 0.01 [5.168940333533101e-05, 0.00598348630592227, 1.4685677289962769]\n",
      "16/16 [==============================] - 0s 15ms/step - loss: 2.1308e-05 - mae: 0.0035 - smae: 0.8637\n",
      "lr: 0.001 [2.1308213035808876e-05, 0.003518983954563737, 0.8636881113052368]\n",
      "16/16 [==============================] - 0s 16ms/step - loss: 3.5460e-05 - mae: 0.0046 - smae: 1.1340\n",
      "lr: 0.0001 [3.546015432220884e-05, 0.004620345775038004, 1.1340028047561646]\n"
     ]
    }
   ],
   "source": [
    "\n",
    "for lr in [1e-2, 1e-3, 1e-4]:\n",
    "    name = f\"simpleRNN_Adam{lr}\"\n",
    "    logdir = Path(\"logs\") / name\n",
    "    tb = TensorBoard(logdir, histogram_freq=1)    \n",
    "    model.compile(loss=\"mse\", optimizer=Adam(learning_rate=lr), metrics=[\"mae\", smae])\n",
    "    result[name] = model.fit(train_set,epochs=200, validation_data=valid_set, callbacks=[early_stop, tb], verbose=0)\n",
    "    print('lr:', lr, model.evaluate(valid_set))"
   ]
  },
  {
   "cell_type": "code",
   "execution_count": 19,
   "metadata": {},
   "outputs": [
    {
     "data": {
      "text/plain": [
       "Reusing TensorBoard on port 6006 (pid 17560), started 1:43:13 ago. (Use '!kill 17560' to kill it.)"
      ]
     },
     "metadata": {},
     "output_type": "display_data"
    },
    {
     "data": {
      "text/html": [
       "\n",
       "      <iframe id=\"tensorboard-frame-a2de4b6535e7be3c\" width=\"100%\" height=\"800\" frameborder=\"0\">\n",
       "      </iframe>\n",
       "      <script>\n",
       "        (function() {\n",
       "          const frame = document.getElementById(\"tensorboard-frame-a2de4b6535e7be3c\");\n",
       "          const url = new URL(\"http://localhost\");\n",
       "          const port = 6006;\n",
       "          if (port) {\n",
       "            url.port = port;\n",
       "          }\n",
       "          frame.src = url;\n",
       "        })();\n",
       "      </script>\n",
       "    "
      ],
      "text/plain": [
       "<IPython.core.display.HTML object>"
      ]
     },
     "metadata": {},
     "output_type": "display_data"
    }
   ],
   "source": [
    "%tensorboard --logdir logs"
   ]
  },
  {
   "cell_type": "markdown",
   "metadata": {},
   "source": [
    "Het blijkt moeilijk om de naive voorspelling te verbeteren. Een hogere learning rate is zeker in het begin nodig. Na max 10 epochs is het model dan ook wel uitgeleerd en kunnen we waarschijnlijk beter met een lagere learning rate verder gaan."
   ]
  },
  {
   "cell_type": "code",
   "execution_count": 14,
   "metadata": {},
   "outputs": [
    {
     "data": {
      "image/png": "[encoded data removed]",
      "text/plain": [
       "<Figure size 1080x720 with 2 Axes>"
      ]
     },
     "metadata": {
      "needs_background": "light"
     },
     "output_type": "display_data"
    }
   ],
   "source": [
    "from src.models import evaluate\n",
    "evaluate.plot_results(result, ymax = 0.05, subset=\"simple\")"
   ]
  },
  {
   "cell_type": "code",
   "execution_count": 23,
   "metadata": {},
   "outputs": [
    {
     "data": {
      "text/plain": [
       "dict_keys(['simpleRNN_Adam0.01', 'simpleRNN_Adam0.001', 'simpleRNN_Adam0.0001', 'simpleRNN_Adam_rlr'])"
      ]
     },
     "execution_count": 23,
     "metadata": {},
     "output_type": "execute_result"
    }
   ],
   "source": [
    "result.keys()"
   ]
  },
  {
   "cell_type": "code",
   "execution_count": 56,
   "metadata": {},
   "outputs": [
    {
     "data": {
      "image/png": "[encoded data removed]",
      "text/plain": [
       "<Figure size 432x288 with 1 Axes>"
      ]
     },
     "metadata": {
      "needs_background": "light"
     },
     "output_type": "display_data"
    }
   ],
   "source": [
    "plt.figsize=(8,12)\n",
    "evaluate.naive(result, ylim=5.0, subset=\"simple\")"
   ]
  },
  {
   "cell_type": "code",
   "execution_count": 30,
   "metadata": {},
   "outputs": [],
   "source": [
    "from tensorflow.keras.callbacks import ReduceLROnPlateau\n",
    "\n",
    "name = f\"simpleRNN_Adam_rlr\"\n",
    "logdir = Path(\"logs\") / name\n",
    "tb = TensorBoard(logdir, histogram_freq=1)\n",
    "lr = 0.01\n",
    "\n",
    "reduce_lr = ReduceLROnPlateau(monitor='smae', factor=0.5,\n",
    "                              patience=3, min_lr=1e-5)\n",
    "model.compile(loss=\"mse\", optimizer=Adam(learning_rate = lr), metrics=[\"mae\", smae])                              \n",
    "result[name] = model.fit(train_set, epochs=200, validation_data=valid_set, callbacks=[reduce_lr, early_stop, tb], verbose=0)"
   ]
  },
  {
   "cell_type": "markdown",
   "metadata": {},
   "source": [
    "Ook wanneer we de learning rate reduceren wordt het model niet veek beter. Na 7 epochs is het resultaat wel beter dan het naive model."
   ]
  },
  {
   "cell_type": "markdown",
   "metadata": {},
   "source": [
    "Uitbreiden van het model"
   ]
  },
  {
   "cell_type": "code",
   "execution_count": 33,
   "metadata": {},
   "outputs": [
    {
     "data": {
      "text/plain": [
       "{'name': 'Adam',\n",
       " 'learning_rate': 0.1,\n",
       " 'decay': 0.0,\n",
       " 'beta_1': 0.9,\n",
       " 'beta_2': 0.999,\n",
       " 'epsilon': 1e-07,\n",
       " 'amsgrad': False}"
      ]
     },
     "execution_count": 33,
     "metadata": {},
     "output_type": "execute_result"
    }
   ],
   "source": [
    "opt = tf.keras.optimizers.get('Adam')\n",
    "opt.learning_rate = 0.1\n",
    "opt.get_config()"
   ]
  },
  {
   "cell_type": "code",
   "execution_count": 34,
   "metadata": {},
   "outputs": [
    {
     "name": "stderr",
     "output_type": "stream",
     "text": [
      "  0%|          | 0/3 [00:00<?, ?it/s]"
     ]
    },
    {
     "name": "stdout",
     "output_type": "stream",
     "text": [
      "16/16 [==============================] - 0s 19ms/step - loss: 4.0680e-05 - mae: 0.0052 - mape: 0.5361 - smae: 1.2808\n"
     ]
    },
    {
     "name": "stderr",
     "output_type": "stream",
     "text": [
      " 33%|███▎      | 1/3 [03:40<07:21, 220.60s/it]"
     ]
    },
    {
     "name": "stdout",
     "output_type": "stream",
     "text": [
      "opt: Adam [4.06798098993022e-05, 0.005218468140810728, 0.5361066460609436, 1.28080415725708]\n",
      "16/16 [==============================] - 0s 19ms/step - loss: 1.2448e-04 - mae: 0.0088 - mape: 0.9052 - smae: 2.1685\n"
     ]
    },
    {
     "name": "stderr",
     "output_type": "stream",
     "text": [
      " 67%|██████▋   | 2/3 [18:13<10:04, 604.38s/it]"
     ]
    },
    {
     "name": "stdout",
     "output_type": "stream",
     "text": [
      "opt: SGD [0.00012448466441128403, 0.00883533526211977, 0.9052023887634277, 2.1685163974761963]\n",
      "16/16 [==============================] - 0s 16ms/step - loss: 4.9335e-05 - mae: 0.0058 - mape: 0.5969 - smae: 1.4210\n"
     ]
    },
    {
     "name": "stderr",
     "output_type": "stream",
     "text": [
      "100%|██████████| 3/3 [21:51<00:00, 437.04s/it]"
     ]
    },
    {
     "name": "stdout",
     "output_type": "stream",
     "text": [
      "opt: RMSprop [4.933525269734673e-05, 0.005789535120129585, 0.5969147682189941, 1.4209648370742798]\n"
     ]
    },
    {
     "name": "stderr",
     "output_type": "stream",
     "text": [
      "\n"
     ]
    }
   ],
   "source": [
    "from src.models import hyper\n",
    "from tqdm import tqdm\n",
    "\n",
    "config = {\n",
    "    'window'    :   32,\n",
    "    'filters'   :   16,\n",
    "    'kernel'    :   4,    \n",
    "    'units'     :   16,    \n",
    "    'hidden'    :   1, \n",
    "    'horizon'   :   horizon,\n",
    "    'type'      :   'RNN'    \n",
    "}\n",
    "\n",
    "for key in tqdm([\"Adam\", \"SGD\", \"RMSprop\"]):\n",
    "    early_stop = EarlyStopping(patience=15, restore_best_weights=True)\n",
    "\n",
    "    name = f\"16_RNN_{key}\"\n",
    "    logdir = Path(\"logs\") / name\n",
    "    tb = TensorBoard(logdir, histogram_freq=1)\n",
    "    \n",
    "    opt = tf.keras.optimizers.get(key)\n",
    "    opt.momentum = 0.9\n",
    "    opt.learning_rate = 0.01\n",
    "\n",
    "    model = hyper.HyperRnn(config)\n",
    "    model.compile(loss=\"mse\",\n",
    "          optimizer=opt,\n",
    "          metrics=[\"mae\", \"mape\", smae])\n",
    "\n",
    "    result[name] = model.fit(train_set,epochs=200,callbacks=[tb, early_stop, reduce_lr],\n",
    "                            validation_data=valid_set, verbose=0)\n",
    "    print('opt:', key, model.evaluate(valid_set))"
   ]
  },
  {
   "cell_type": "code",
   "execution_count": 51,
   "metadata": {},
   "outputs": [
    {
     "data": {
      "image/png": "[encoded data removed]",
      "text/plain": [
       "<Figure size 1080x1080 with 3 Axes>"
      ]
     },
     "metadata": {
      "needs_background": "light"
     },
     "output_type": "display_data"
    }
   ],
   "source": [
    "evaluate.plot_results(result, ymax = 5, subset=\"16\",grid = True, measure = 'smae')"
   ]
  },
  {
   "cell_type": "markdown",
   "metadata": {},
   "source": [
    "Het wordt er niet beter op. RMSprop lijkt iets beter te leren. Opvallend verder dat de modellen het allemaal beter doen op de validatie set dan op de training set."
   ]
  },
  {
   "cell_type": "code",
   "execution_count": 55,
   "metadata": {},
   "outputs": [
    {
     "data": {
      "image/png": "[encoded data removed]",
      "text/plain": [
       "<Figure size 432x288 with 1 Axes>"
      ]
     },
     "metadata": {
      "needs_background": "light"
     },
     "output_type": "display_data"
    }
   ],
   "source": [
    "plt.figsize=(8,12)\n",
    "evaluate.naive(result, ylim=5.0, subset=\"16\")"
   ]
  },
  {
   "cell_type": "markdown",
   "metadata": {},
   "source": [
    "Deeper models with memory..."
   ]
  },
  {
   "cell_type": "code",
   "execution_count": 57,
   "metadata": {},
   "outputs": [
    {
     "name": "stderr",
     "output_type": "stream",
     "text": [
      "  0%|          | 0/3 [00:00<?, ?it/s]"
     ]
    },
    {
     "name": "stdout",
     "output_type": "stream",
     "text": [
      "16/16 [==============================] - 0s 11ms/step - loss: 9.6330e-06 - mae: 0.0021 - mape: 0.2188 - smae: 0.5236\n"
     ]
    },
    {
     "name": "stderr",
     "output_type": "stream",
     "text": [
      " 33%|███▎      | 1/3 [00:22<00:45, 22.73s/it]"
     ]
    },
    {
     "name": "stdout",
     "output_type": "stream",
     "text": [
      "opt: Adam [9.632968613004778e-06, 0.0021332423202693462, 0.21884717047214508, 0.5235761404037476]\n",
      "16/16 [==============================] - 0s 20ms/step - loss: 1.9097e-05 - mae: 0.0033 - mape: 0.3424 - smae: 0.8203\n",
      "opt:"
     ]
    },
    {
     "name": "stderr",
     "output_type": "stream",
     "text": [
      " 67%|██████▋   | 2/3 [02:46<01:33, 93.72s/it]"
     ]
    },
    {
     "name": "stdout",
     "output_type": "stream",
     "text": [
      " SGD [1.9096556570730172e-05, 0.003342060837894678, 0.34235867857933044, 0.8202646970748901]\n",
      "16/16 [==============================] - 0s 12ms/step - loss: 1.1529e-04 - mae: 0.0087 - mape: 0.8991 - smae: 2.1367\n"
     ]
    },
    {
     "name": "stderr",
     "output_type": "stream",
     "text": [
      "100%|██████████| 3/3 [03:07<00:00, 62.54s/it]"
     ]
    },
    {
     "name": "stdout",
     "output_type": "stream",
     "text": [
      "opt: RMSprop [0.00011528975301189348, 0.0087055005133152, 0.8991245627403259, 2.136650323867798]\n"
     ]
    },
    {
     "name": "stderr",
     "output_type": "stream",
     "text": [
      "\n"
     ]
    }
   ],
   "source": [
    "reduce_lr = ReduceLROnPlateau(monitor='smae', factor=0.5,\n",
    "                              patience=3, min_lr=1e-5)\n",
    "\n",
    "config = {\n",
    "    \"window\" : window_size,\n",
    "    \"filters\" : 64,\n",
    "    \"kernel\" : 3,\n",
    "    \"type\" : \"GRU\",\n",
    "    \"units\" : 128,\n",
    "    \"hidden\" : 4,\n",
    "    \"horizon\" : horizon,\n",
    "}\n",
    "\n",
    "for key in tqdm([\"Adam\", \"SGD\", \"RMSprop\"]):\n",
    "    early_stop = EarlyStopping(patience=15, restore_best_weights=True)\n",
    "\n",
    "    name = f\"GRU_{key}\"\n",
    "    logdir = Path(\"logs\") / name\n",
    "    tb = TensorBoard(logdir, histogram_freq=1)\n",
    "\n",
    "    opt = tf.keras.optimizers.get(key)\n",
    "    opt.momentum = 0.9\n",
    "    opt.learning_rate = 0.01\n",
    "\n",
    "    model = hyper.HyperRnn(config)\n",
    "    model.compile(loss=\"mse\",\n",
    "          optimizer=opt,\n",
    "          metrics=[\"mae\", \"mape\", smae])\n",
    "    \n",
    "    result[name] = model.fit(train_set,epochs=200,callbacks=[tb, early_stop, reduce_lr],\n",
    "                            validation_data=valid_set, verbose=0)\n",
    "    print('opt:', key, model.evaluate(valid_set))"
   ]
  },
  {
   "cell_type": "code",
   "execution_count": 60,
   "metadata": {},
   "outputs": [
    {
     "data": {
      "image/png": "[encoded data removed]",
      "text/plain": [
       "<Figure size 432x288 with 1 Axes>"
      ]
     },
     "metadata": {
      "needs_background": "light"
     },
     "output_type": "display_data"
    }
   ],
   "source": [
    "plt.figsize=(8,12)\n",
    "evaluate.naive(result, ylim=3.0, subset=\"GRU\")"
   ]
  },
  {
   "cell_type": "markdown",
   "metadata": {},
   "source": [
    "Modellen met historie doen het aanzienlijk beter - zoals verwacht. De RMSprop optimizer lijkt het nu juist weer een stuk minder goed te doen."
   ]
  },
  {
   "cell_type": "code",
   "execution_count": 61,
   "metadata": {},
   "outputs": [],
   "source": [
    "# Hypertune\n",
    "\n",
    "from ray import tune\n",
    "config = {\n",
    "    \"datadir\" : Path(\"data\").absolute(),\n",
    "    \"grace_period\" : 3,\n",
    "    \"local_dir\" : \"logs\",\n",
    "    \"epochs\" : 20,\n",
    "    \"samples\" : 25,\n",
    "    \"window\" : tune.randint(16, 52),\n",
    "    \"filters\" : tune.randint(8, 32),\n",
    "    \"kernel\" : 3,\n",
    "    \"type\" : tune.choice([\"GRU\", \"LSTM\"]),\n",
    "    \"optimizer\" : tune.choice([\"Adam\", \"RMSprop\"]),\n",
    "    \"hidden\" : tune.randint(1, 5),\n",
    "    \"units\" : tune.qrandint(64, 256, 16),\n",
    "    \"horizon\" : 10,\n",
    "}"
   ]
  },
  {
   "cell_type": "code",
   "execution_count": 62,
   "metadata": {},
   "outputs": [
    {
     "data": {
      "text/html": [
       "== Status ==<br>Current time: 2022-01-14 16:02:04 (running for 00:00:02.97)<br>Memory usage on this node: 10.2/16.0 GiB<br>Using AsyncHyperBand: num_stopped=0\n",
       "Bracket: Iter 192.000: None | Iter 48.000: None | Iter 12.000: None | Iter 3.000: None<br>Resources requested: 1.0/8 CPUs, 0/1 GPUs, 0.0/3.87 GiB heap, 0.0/1.94 GiB objects<br>Result logdir: c:\\Users\\M\\SkyDrive\\Documents\\GitHub\\BondTrading\\notebooks\\saleslogs\\hypertune<br>Number of trials: 16/25 (15 PENDING, 1 RUNNING)<br><table>\n",
       "<thead>\n",
       "<tr><th>Trial name         </th><th>status  </th><th>loc            </th><th style=\"text-align: right;\">  filters</th><th style=\"text-align: right;\">  hidden</th><th>optimizer  </th><th>type  </th><th style=\"text-align: right;\">  units</th><th style=\"text-align: right;\">  window</th></tr>\n",
       "</thead>\n",
       "<tbody>\n",
       "<tr><td>wrapper_edaf0_00000</td><td>RUNNING </td><td>127.0.0.1:19228</td><td style=\"text-align: right;\">       11</td><td style=\"text-align: right;\">       3</td><td>RMSprop    </td><td>GRU   </td><td style=\"text-align: right;\">    144</td><td style=\"text-align: right;\">      48</td></tr>\n",
       "<tr><td>wrapper_edaf0_00001</td><td>PENDING </td><td>               </td><td style=\"text-align: right;\">        8</td><td style=\"text-align: right;\">       2</td><td>Adam       </td><td>LSTM  </td><td style=\"text-align: right;\">    192</td><td style=\"text-align: right;\">      42</td></tr>\n",
       "<tr><td>wrapper_edaf0_00002</td><td>PENDING </td><td>               </td><td style=\"text-align: right;\">       11</td><td style=\"text-align: right;\">       2</td><td>Adam       </td><td>LSTM  </td><td style=\"text-align: right;\">     96</td><td style=\"text-align: right;\">      21</td></tr>\n",
       "<tr><td>wrapper_edaf0_00003</td><td>PENDING </td><td>               </td><td style=\"text-align: right;\">       10</td><td style=\"text-align: right;\">       2</td><td>RMSprop    </td><td>GRU   </td><td style=\"text-align: right;\">    112</td><td style=\"text-align: right;\">      28</td></tr>\n",
       "<tr><td>wrapper_edaf0_00004</td><td>PENDING </td><td>               </td><td style=\"text-align: right;\">       11</td><td style=\"text-align: right;\">       2</td><td>RMSprop    </td><td>GRU   </td><td style=\"text-align: right;\">    240</td><td style=\"text-align: right;\">      23</td></tr>\n",
       "<tr><td>wrapper_edaf0_00005</td><td>PENDING </td><td>               </td><td style=\"text-align: right;\">       28</td><td style=\"text-align: right;\">       1</td><td>Adam       </td><td>GRU   </td><td style=\"text-align: right;\">    192</td><td style=\"text-align: right;\">      43</td></tr>\n",
       "<tr><td>wrapper_edaf0_00006</td><td>PENDING </td><td>               </td><td style=\"text-align: right;\">       19</td><td style=\"text-align: right;\">       3</td><td>Adam       </td><td>GRU   </td><td style=\"text-align: right;\">    112</td><td style=\"text-align: right;\">      36</td></tr>\n",
       "<tr><td>wrapper_edaf0_00007</td><td>PENDING </td><td>               </td><td style=\"text-align: right;\">       24</td><td style=\"text-align: right;\">       3</td><td>Adam       </td><td>LSTM  </td><td style=\"text-align: right;\">     80</td><td style=\"text-align: right;\">      25</td></tr>\n",
       "<tr><td>wrapper_edaf0_00008</td><td>PENDING </td><td>               </td><td style=\"text-align: right;\">       24</td><td style=\"text-align: right;\">       4</td><td>RMSprop    </td><td>GRU   </td><td style=\"text-align: right;\">    256</td><td style=\"text-align: right;\">      27</td></tr>\n",
       "<tr><td>wrapper_edaf0_00009</td><td>PENDING </td><td>               </td><td style=\"text-align: right;\">       29</td><td style=\"text-align: right;\">       4</td><td>RMSprop    </td><td>GRU   </td><td style=\"text-align: right;\">    208</td><td style=\"text-align: right;\">      22</td></tr>\n",
       "<tr><td>wrapper_edaf0_00010</td><td>PENDING </td><td>               </td><td style=\"text-align: right;\">       30</td><td style=\"text-align: right;\">       2</td><td>RMSprop    </td><td>LSTM  </td><td style=\"text-align: right;\">     96</td><td style=\"text-align: right;\">      47</td></tr>\n",
       "<tr><td>wrapper_edaf0_00011</td><td>PENDING </td><td>               </td><td style=\"text-align: right;\">       28</td><td style=\"text-align: right;\">       2</td><td>RMSprop    </td><td>LSTM  </td><td style=\"text-align: right;\">     64</td><td style=\"text-align: right;\">      19</td></tr>\n",
       "<tr><td>wrapper_edaf0_00012</td><td>PENDING </td><td>               </td><td style=\"text-align: right;\">       14</td><td style=\"text-align: right;\">       2</td><td>RMSprop    </td><td>LSTM  </td><td style=\"text-align: right;\">    240</td><td style=\"text-align: right;\">      49</td></tr>\n",
       "<tr><td>wrapper_edaf0_00013</td><td>PENDING </td><td>               </td><td style=\"text-align: right;\">       19</td><td style=\"text-align: right;\">       4</td><td>RMSprop    </td><td>LSTM  </td><td style=\"text-align: right;\">    224</td><td style=\"text-align: right;\">      51</td></tr>\n",
       "<tr><td>wrapper_edaf0_00014</td><td>PENDING </td><td>               </td><td style=\"text-align: right;\">        8</td><td style=\"text-align: right;\">       1</td><td>RMSprop    </td><td>LSTM  </td><td style=\"text-align: right;\">    208</td><td style=\"text-align: right;\">      20</td></tr>\n",
       "<tr><td>wrapper_edaf0_00015</td><td>PENDING </td><td>               </td><td style=\"text-align: right;\">       22</td><td style=\"text-align: right;\">       1</td><td>Adam       </td><td>LSTM  </td><td style=\"text-align: right;\">    176</td><td style=\"text-align: right;\">      43</td></tr>\n",
       "</tbody>\n",
       "</table><br><br>"
      ],
      "text/plain": [
       "<IPython.core.display.HTML object>"
      ]
     },
     "metadata": {},
     "output_type": "display_data"
    },
    {
     "name": "stderr",
     "output_type": "stream",
     "text": [
      " pid=19228)\u001b[0m 2022-01-14 16:02:04,818\tERROR function_runner.py:268 -- Runner Thread raised error.\n",
      " pid=19228)\u001b[0m Traceback (most recent call last):\n",
      " pid=19228)\u001b[0m   File \"C:\\Users\\M\\AppData\\Local\\pypoetry\\Cache\\virtualenvs\\bondtrading-jbUXhQqa-py3.9\\lib\\site-packages\\ray\\tune\\function_runner.py\", line 262, in run\n",
      " pid=19228)\u001b[0m     self._entrypoint()\n",
      " pid=19228)\u001b[0m   File \"C:\\Users\\M\\AppData\\Local\\pypoetry\\Cache\\virtualenvs\\bondtrading-jbUXhQqa-py3.9\\lib\\site-packages\\ray\\tune\\function_runner.py\", line 330, in entrypoint\n",
      " pid=19228)\u001b[0m     return self._trainable_func(self.config, self._status_reporter,\n",
      " pid=19228)\u001b[0m   File \"C:\\Users\\M\\AppData\\Local\\pypoetry\\Cache\\virtualenvs\\bondtrading-jbUXhQqa-py3.9\\lib\\site-packages\\ray\\util\\tracing\\tracing_helper.py\", line 451, in _resume_span\n",
      " pid=19228)\u001b[0m     return method(self, *_args, **_kwargs)\n",
      " pid=19228)\u001b[0m   File \"C:\\Users\\M\\AppData\\Local\\pypoetry\\Cache\\virtualenvs\\bondtrading-jbUXhQqa-py3.9\\lib\\site-packages\\ray\\tune\\function_runner.py\", line 597, in _trainable_func\n",
      " pid=19228)\u001b[0m     output = fn()\n",
      " pid=19228)\u001b[0m   File \"c:\\Users\\M\\SkyDrive\\Documents\\GitHub\\BondTrading\\notebooks\\..\\src\\models\\hyper.py\", line 115, in tune_wrapper\n",
      " pid=19228)\u001b[0m     from src.models import hyper\n",
      " pid=19228)\u001b[0m ModuleNotFoundError: No module named 'src'\n",
      " pid=19228)\u001b[0m Exception in thread Thread-2:\n",
      " pid=19228)\u001b[0m Traceback (most recent call last):\n",
      " pid=19228)\u001b[0m   File \"C:\\Users\\M\\.pyenv\\pyenv-win\\versions\\3.9.6\\lib\\threading.py\", line 973, in _bootstrap_inner\n",
      " pid=19228)\u001b[0m     self.run()\n",
      " pid=19228)\u001b[0m   File \"C:\\Users\\M\\AppData\\Local\\pypoetry\\Cache\\virtualenvs\\bondtrading-jbUXhQqa-py3.9\\lib\\site-packages\\ray\\tune\\function_runner.py\", line 281, in run\n",
      " pid=19228)\u001b[0m     raise e\n",
      " pid=19228)\u001b[0m   File \"C:\\Users\\M\\AppData\\Local\\pypoetry\\Cache\\virtualenvs\\bondtrading-jbUXhQqa-py3.9\\lib\\site-packages\\ray\\tune\\function_runner.py\", line 262, in run\n",
      " pid=19228)\u001b[0m     self._entrypoint()\n",
      " pid=19228)\u001b[0m   File \"C:\\Users\\M\\AppData\\Local\\pypoetry\\Cache\\virtualenvs\\bondtrading-jbUXhQqa-py3.9\\lib\\site-packages\\ray\\tune\\function_runner.py\", line 330, in entrypoint\n",
      " pid=19228)\u001b[0m     return self._trainable_func(self.config, self._status_reporter,\n",
      " pid=19228)\u001b[0m   File \"C:\\Users\\M\\AppData\\Local\\pypoetry\\Cache\\virtualenvs\\bondtrading-jbUXhQqa-py3.9\\lib\\site-packages\\ray\\util\\tracing\\tracing_helper.py\", line 451, in _resume_span\n",
      " pid=19228)\u001b[0m     return method(self, *_args, **_kwargs)\n",
      " pid=19228)\u001b[0m   File \"C:\\Users\\M\\AppData\\Local\\pypoetry\\Cache\\virtualenvs\\bondtrading-jbUXhQqa-py3.9\\lib\\site-packages\\ray\\tune\\function_runner.py\", line 597, in _trainable_func\n",
      " pid=19228)\u001b[0m     output = fn()\n",
      " pid=19228)\u001b[0m   File \"c:\\Users\\M\\SkyDrive\\Documents\\GitHub\\BondTrading\\notebooks\\..\\src\\models\\hyper.py\", line 115, in tune_wrapper\n",
      " pid=19228)\u001b[0m     from src.models import hyper\n",
      " pid=19228)\u001b[0m ModuleNotFoundError: No module named 'src'\n",
      "2022-01-14 16:02:05,156\tERROR trial_runner.py:958 -- Trial wrapper_edaf0_00000: Error processing event.\n",
      "Traceback (most recent call last):\n",
      "  File \"C:\\Users\\M\\AppData\\Local\\pypoetry\\Cache\\virtualenvs\\bondtrading-jbUXhQqa-py3.9\\lib\\site-packages\\ray\\tune\\trial_runner.py\", line 924, in _process_trial\n",
      "    results = self.trial_executor.fetch_result(trial)\n",
      "  File \"C:\\Users\\M\\AppData\\Local\\pypoetry\\Cache\\virtualenvs\\bondtrading-jbUXhQqa-py3.9\\lib\\site-packages\\ray\\tune\\ray_trial_executor.py\", line 787, in fetch_result\n",
      "    result = ray.get(trial_future[0], timeout=DEFAULT_GET_TIMEOUT)\n",
      "  File \"C:\\Users\\M\\AppData\\Local\\pypoetry\\Cache\\virtualenvs\\bondtrading-jbUXhQqa-py3.9\\lib\\site-packages\\ray\\_private\\client_mode_hook.py\", line 105, in wrapper\n",
      "    return func(*args, **kwargs)\n",
      "  File \"C:\\Users\\M\\AppData\\Local\\pypoetry\\Cache\\virtualenvs\\bondtrading-jbUXhQqa-py3.9\\lib\\site-packages\\ray\\worker.py\", line 1713, in get\n",
      "    raise value.as_instanceof_cause()\n",
      "ray.exceptions.RayTaskError(TuneError): \u001b[36mray::ImplicitFunc.train_buffered()\u001b[39m (pid=19228, ip=127.0.0.1, repr=<types.ImplicitFunc object at 0x000001FA2E6E5040>)\n",
      "  File \"python\\ray\\_raylet.pyx\", line 625, in ray._raylet.execute_task\n",
      "  File \"python\\ray\\_raylet.pyx\", line 629, in ray._raylet.execute_task\n",
      "  File \"python\\ray\\_raylet.pyx\", line 578, in ray._raylet.execute_task.function_executor\n",
      "  File \"C:\\Users\\M\\AppData\\Local\\pypoetry\\Cache\\virtualenvs\\bondtrading-jbUXhQqa-py3.9\\lib\\site-packages\\ray\\_private\\function_manager.py\", line 609, in actor_method_executor\n",
      "    return method(__ray_actor, *args, **kwargs)\n",
      "  File \"C:\\Users\\M\\AppData\\Local\\pypoetry\\Cache\\virtualenvs\\bondtrading-jbUXhQqa-py3.9\\lib\\site-packages\\ray\\util\\tracing\\tracing_helper.py\", line 451, in _resume_span\n",
      "    return method(self, *_args, **_kwargs)\n",
      "  File \"C:\\Users\\M\\AppData\\Local\\pypoetry\\Cache\\virtualenvs\\bondtrading-jbUXhQqa-py3.9\\lib\\site-packages\\ray\\tune\\trainable.py\", line 255, in train_buffered\n",
      "    result = self.train()\n",
      "  File \"C:\\Users\\M\\AppData\\Local\\pypoetry\\Cache\\virtualenvs\\bondtrading-jbUXhQqa-py3.9\\lib\\site-packages\\ray\\util\\tracing\\tracing_helper.py\", line 451, in _resume_span\n",
      "    return method(self, *_args, **_kwargs)\n",
      "  File \"C:\\Users\\M\\AppData\\Local\\pypoetry\\Cache\\virtualenvs\\bondtrading-jbUXhQqa-py3.9\\lib\\site-packages\\ray\\tune\\trainable.py\", line 314, in train\n",
      "    result = self.step()\n",
      "  File \"C:\\Users\\M\\AppData\\Local\\pypoetry\\Cache\\virtualenvs\\bondtrading-jbUXhQqa-py3.9\\lib\\site-packages\\ray\\util\\tracing\\tracing_helper.py\", line 451, in _resume_span\n",
      "    return method(self, *_args, **_kwargs)\n",
      "  File \"C:\\Users\\M\\AppData\\Local\\pypoetry\\Cache\\virtualenvs\\bondtrading-jbUXhQqa-py3.9\\lib\\site-packages\\ray\\tune\\function_runner.py\", line 381, in step\n",
      "    self._report_thread_runner_error(block=True)\n",
      "  File \"C:\\Users\\M\\AppData\\Local\\pypoetry\\Cache\\virtualenvs\\bondtrading-jbUXhQqa-py3.9\\lib\\site-packages\\ray\\util\\tracing\\tracing_helper.py\", line 451, in _resume_span\n",
      "    return method(self, *_args, **_kwargs)\n",
      "  File \"C:\\Users\\M\\AppData\\Local\\pypoetry\\Cache\\virtualenvs\\bondtrading-jbUXhQqa-py3.9\\lib\\site-packages\\ray\\tune\\function_runner.py\", line 531, in _report_thread_runner_error\n",
      "    raise TuneError(\n",
      "ray.tune.error.TuneError: Trial raised an exception. Traceback:\n",
      "\u001b[36mray::ImplicitFunc.train_buffered()\u001b[39m (pid=19228, ip=127.0.0.1, repr=<types.ImplicitFunc object at 0x000001FA2E6E5040>)\n",
      "  File \"C:\\Users\\M\\AppData\\Local\\pypoetry\\Cache\\virtualenvs\\bondtrading-jbUXhQqa-py3.9\\lib\\site-packages\\ray\\tune\\function_runner.py\", line 262, in run\n",
      "    self._entrypoint()\n",
      "  File \"C:\\Users\\M\\AppData\\Local\\pypoetry\\Cache\\virtualenvs\\bondtrading-jbUXhQqa-py3.9\\lib\\site-packages\\ray\\tune\\function_runner.py\", line 330, in entrypoint\n",
      "    return self._trainable_func(self.config, self._status_reporter,\n",
      "  File \"C:\\Users\\M\\AppData\\Local\\pypoetry\\Cache\\virtualenvs\\bondtrading-jbUXhQqa-py3.9\\lib\\site-packages\\ray\\util\\tracing\\tracing_helper.py\", line 451, in _resume_span\n",
      "    return method(self, *_args, **_kwargs)\n",
      "  File \"C:\\Users\\M\\AppData\\Local\\pypoetry\\Cache\\virtualenvs\\bondtrading-jbUXhQqa-py3.9\\lib\\site-packages\\ray\\tune\\function_runner.py\", line 597, in _trainable_func\n",
      "    output = fn()\n",
      "  File \"c:\\Users\\M\\SkyDrive\\Documents\\GitHub\\BondTrading\\notebooks\\..\\src\\models\\hyper.py\", line 115, in tune_wrapper\n",
      "    from src.models import hyper\n",
      "ModuleNotFoundError: No module named 'src'\n"
     ]
    },
    {
     "name": "stdout",
     "output_type": "stream",
     "text": [
      "Result for wrapper_edaf0_00000:\n",
      "  date: 2022-01-14_16-02-04\n",
      "  experiment_id: 53520f49b9e5423fbe047b5d4ef4646e\n",
      "  hostname: Game-PC\n",
      "  node_ip: 127.0.0.1\n",
      "  pid: 19228\n",
      "  timestamp: 1642172524\n",
      "  trial_id: edaf0_00000\n",
      "  \n"
     ]
    },
    {
     "name": "stderr",
     "output_type": "stream",
     "text": [
      " pid=8932)\u001b[0m 2022-01-14 16:02:08,110\tERROR function_runner.py:268 -- Runner Thread raised error.\n",
      " pid=8932)\u001b[0m Traceback (most recent call last):\n",
      " pid=8932)\u001b[0m   File \"C:\\Users\\M\\AppData\\Local\\pypoetry\\Cache\\virtualenvs\\bondtrading-jbUXhQqa-py3.9\\lib\\site-packages\\ray\\tune\\function_runner.py\", line 262, in run\n",
      " pid=8932)\u001b[0m     self._entrypoint()\n",
      " pid=8932)\u001b[0m   File \"C:\\Users\\M\\AppData\\Local\\pypoetry\\Cache\\virtualenvs\\bondtrading-jbUXhQqa-py3.9\\lib\\site-packages\\ray\\tune\\function_runner.py\", line 330, in entrypoint\n",
      " pid=8932)\u001b[0m     return self._trainable_func(self.config, self._status_reporter,\n",
      " pid=8932)\u001b[0m   File \"C:\\Users\\M\\AppData\\Local\\pypoetry\\Cache\\virtualenvs\\bondtrading-jbUXhQqa-py3.9\\lib\\site-packages\\ray\\util\\tracing\\tracing_helper.py\", line 451, in _resume_span\n",
      " pid=8932)\u001b[0m     return method(self, *_args, **_kwargs)\n",
      " pid=8932)\u001b[0m   File \"C:\\Users\\M\\AppData\\Local\\pypoetry\\Cache\\virtualenvs\\bondtrading-jbUXhQqa-py3.9\\lib\\site-packages\\ray\\tune\\function_runner.py\", line 597, in _trainable_func\n",
      " pid=8932)\u001b[0m     output = fn()\n",
      " pid=8932)\u001b[0m   File \"c:\\Users\\M\\SkyDrive\\Documents\\GitHub\\BondTrading\\notebooks\\..\\src\\models\\hyper.py\", line 115, in tune_wrapper\n",
      " pid=8932)\u001b[0m     from src.models import hyper\n",
      " pid=8932)\u001b[0m ModuleNotFoundError: No module named 'src'\n",
      " pid=8932)\u001b[0m Exception in thread Thread-2:\n",
      " pid=8932)\u001b[0m Traceback (most recent call last):\n",
      " pid=8932)\u001b[0m   File \"C:\\Users\\M\\.pyenv\\pyenv-win\\versions\\3.9.6\\lib\\threading.py\", line 973, in _bootstrap_inner\n",
      " pid=8932)\u001b[0m     self.run()\n",
      " pid=8932)\u001b[0m   File \"C:\\Users\\M\\AppData\\Local\\pypoetry\\Cache\\virtualenvs\\bondtrading-jbUXhQqa-py3.9\\lib\\site-packages\\ray\\tune\\function_runner.py\", line 281, in run\n",
      " pid=8932)\u001b[0m     raise e\n",
      " pid=8932)\u001b[0m   File \"C:\\Users\\M\\AppData\\Local\\pypoetry\\Cache\\virtualenvs\\bondtrading-jbUXhQqa-py3.9\\lib\\site-packages\\ray\\tune\\function_runner.py\", line 262, in run\n",
      " pid=8932)\u001b[0m     self._entrypoint()\n",
      " pid=8932)\u001b[0m   File \"C:\\Users\\M\\AppData\\Local\\pypoetry\\Cache\\virtualenvs\\bondtrading-jbUXhQqa-py3.9\\lib\\site-packages\\ray\\tune\\function_runner.py\", line 330, in entrypoint\n",
      " pid=8932)\u001b[0m     return self._trainable_func(self.config, self._status_reporter,\n",
      " pid=8932)\u001b[0m   File \"C:\\Users\\M\\AppData\\Local\\pypoetry\\Cache\\virtualenvs\\bondtrading-jbUXhQqa-py3.9\\lib\\site-packages\\ray\\util\\tracing\\tracing_helper.py\", line 451, in _resume_span\n",
      " pid=8932)\u001b[0m     return method(self, *_args, **_kwargs)\n",
      " pid=8932)\u001b[0m   File \"C:\\Users\\M\\AppData\\Local\\pypoetry\\Cache\\virtualenvs\\bondtrading-jbUXhQqa-py3.9\\lib\\site-packages\\ray\\tune\\function_runner.py\", line 597, in _trainable_func\n",
      " pid=8932)\u001b[0m     output = fn()\n",
      " pid=8932)\u001b[0m   File \"c:\\Users\\M\\SkyDrive\\Documents\\GitHub\\BondTrading\\notebooks\\..\\src\\models\\hyper.py\", line 115, in tune_wrapper\n",
      " pid=8932)\u001b[0m     from src.models import hyper\n",
      " pid=8932)\u001b[0m ModuleNotFoundError: No module named 'src'\n",
      " pid=17728)\u001b[0m 2022-01-14 16:02:08,203\tERROR function_runner.py:268 -- Runner Thread raised error.\n",
      " pid=17728)\u001b[0m Traceback (most recent call last):\n",
      " pid=17728)\u001b[0m   File \"C:\\Users\\M\\AppData\\Local\\pypoetry\\Cache\\virtualenvs\\bondtrading-jbUXhQqa-py3.9\\lib\\site-packages\\ray\\tune\\function_runner.py\", line 262, in run\n",
      " pid=17728)\u001b[0m     self._entrypoint()\n",
      " pid=17728)\u001b[0m   File \"C:\\Users\\M\\AppData\\Local\\pypoetry\\Cache\\virtualenvs\\bondtrading-jbUXhQqa-py3.9\\lib\\site-packages\\ray\\tune\\function_runner.py\", line 330, in entrypoint\n",
      " pid=17728)\u001b[0m     return self._trainable_func(self.config, self._status_reporter,\n",
      " pid=17728)\u001b[0m   File \"C:\\Users\\M\\AppData\\Local\\pypoetry\\Cache\\virtualenvs\\bondtrading-jbUXhQqa-py3.9\\lib\\site-packages\\ray\\util\\tracing\\tracing_helper.py\", line 451, in _resume_span\n",
      " pid=17728)\u001b[0m     return method(self, *_args, **_kwargs)\n",
      " pid=17728)\u001b[0m   File \"C:\\Users\\M\\AppData\\Local\\pypoetry\\Cache\\virtualenvs\\bondtrading-jbUXhQqa-py3.9\\lib\\site-packages\\ray\\tune\\function_runner.py\", line 597, in _trainable_func\n",
      " pid=17728)\u001b[0m     output = fn()\n",
      " pid=17728)\u001b[0m   File \"c:\\Users\\M\\SkyDrive\\Documents\\GitHub\\BondTrading\\notebooks\\..\\src\\models\\hyper.py\", line 115, in tune_wrapper\n",
      " pid=17728)\u001b[0m     from src.models import hyper\n",
      " pid=17728)\u001b[0m ModuleNotFoundError: No module named 'src'\n",
      " pid=17728)\u001b[0m Exception in thread Thread-2:\n",
      " pid=17728)\u001b[0m Traceback (most recent call last):\n",
      " pid=17728)\u001b[0m   File \"C:\\Users\\M\\.pyenv\\pyenv-win\\versions\\3.9.6\\lib\\threading.py\", line 973, in _bootstrap_inner\n",
      " pid=17728)\u001b[0m     self.run()\n",
      " pid=17728)\u001b[0m   File \"C:\\Users\\M\\AppData\\Local\\pypoetry\\Cache\\virtualenvs\\bondtrading-jbUXhQqa-py3.9\\lib\\site-packages\\ray\\tune\\function_runner.py\", line 281, in run\n",
      " pid=17728)\u001b[0m     raise e\n",
      " pid=17728)\u001b[0m   File \"C:\\Users\\M\\AppData\\Local\\pypoetry\\Cache\\virtualenvs\\bondtrading-jbUXhQqa-py3.9\\lib\\site-packages\\ray\\tune\\function_runner.py\", line 262, in run\n",
      " pid=17728)\u001b[0m     self._entrypoint()\n",
      " pid=17728)\u001b[0m   File \"C:\\Users\\M\\AppData\\Local\\pypoetry\\Cache\\virtualenvs\\bondtrading-jbUXhQqa-py3.9\\lib\\site-packages\\ray\\tune\\function_runner.py\", line 330, in entrypoint\n",
      " pid=17728)\u001b[0m     return self._trainable_func(self.config, self._status_reporter,\n",
      " pid=17728)\u001b[0m   File \"C:\\Users\\M\\AppData\\Local\\pypoetry\\Cache\\virtualenvs\\bondtrading-jbUXhQqa-py3.9\\lib\\site-packages\\ray\\util\\tracing\\tracing_helper.py\", line 451, in _resume_span\n",
      " pid=17728)\u001b[0m     return method(self, *_args, **_kwargs)\n",
      " pid=17728)\u001b[0m   File \"C:\\Users\\M\\AppData\\Local\\pypoetry\\Cache\\virtualenvs\\bondtrading-jbUXhQqa-py3.9\\lib\\site-packages\\ray\\tune\\function_runner.py\", line 597, in _trainable_func\n",
      " pid=17728)\u001b[0m     output = fn()\n",
      " pid=17728)\u001b[0m   File \"c:\\Users\\M\\SkyDrive\\Documents\\GitHub\\BondTrading\\notebooks\\..\\src\\models\\hyper.py\", line 115, in tune_wrapper\n",
      " pid=17728)\u001b[0m     from src.models import hyper\n",
      " pid=17728)\u001b[0m ModuleNotFoundError: No module named 'src'\n",
      " pid=19424)\u001b[0m 2022-01-14 16:02:08,246\tERROR function_runner.py:268 -- Runner Thread raised error.\n",
      " pid=19424)\u001b[0m Traceback (most recent call last):\n",
      " pid=19424)\u001b[0m   File \"C:\\Users\\M\\AppData\\Local\\pypoetry\\Cache\\virtualenvs\\bondtrading-jbUXhQqa-py3.9\\lib\\site-packages\\ray\\tune\\function_runner.py\", line 262, in run\n",
      " pid=19424)\u001b[0m     self._entrypoint()\n",
      " pid=19424)\u001b[0m   File \"C:\\Users\\M\\AppData\\Local\\pypoetry\\Cache\\virtualenvs\\bondtrading-jbUXhQqa-py3.9\\lib\\site-packages\\ray\\tune\\function_runner.py\", line 330, in entrypoint\n",
      " pid=19424)\u001b[0m     return self._trainable_func(self.config, self._status_reporter,\n",
      " pid=19424)\u001b[0m   File \"C:\\Users\\M\\AppData\\Local\\pypoetry\\Cache\\virtualenvs\\bondtrading-jbUXhQqa-py3.9\\lib\\site-packages\\ray\\util\\tracing\\tracing_helper.py\", line 451, in _resume_span\n",
      " pid=19424)\u001b[0m     return method(self, *_args, **_kwargs)\n",
      " pid=19424)\u001b[0m   File \"C:\\Users\\M\\AppData\\Local\\pypoetry\\Cache\\virtualenvs\\bondtrading-jbUXhQqa-py3.9\\lib\\site-packages\\ray\\tune\\function_runner.py\", line 597, in _trainable_func\n",
      " pid=19424)\u001b[0m     output = fn()\n",
      " pid=19424)\u001b[0m   File \"c:\\Users\\M\\SkyDrive\\Documents\\GitHub\\BondTrading\\notebooks\\..\\src\\models\\hyper.py\", line 115, in tune_wrapper\n",
      " pid=19424)\u001b[0m     from src.models import hyper\n",
      " pid=19424)\u001b[0m ModuleNotFoundError: No module named 'src'\n",
      " pid=19424)\u001b[0m Exception in thread Thread-2:\n",
      " pid=19424)\u001b[0m Traceback (most recent call last):\n",
      " pid=19424)\u001b[0m   File \"C:\\Users\\M\\.pyenv\\pyenv-win\\versions\\3.9.6\\lib\\threading.py\", line 973, in _bootstrap_inner\n",
      " pid=19424)\u001b[0m     self.run()\n",
      " pid=19424)\u001b[0m   File \"C:\\Users\\M\\AppData\\Local\\pypoetry\\Cache\\virtualenvs\\bondtrading-jbUXhQqa-py3.9\\lib\\site-packages\\ray\\tune\\function_runner.py\", line 281, in run\n",
      " pid=19424)\u001b[0m     raise e\n",
      " pid=19424)\u001b[0m   File \"C:\\Users\\M\\AppData\\Local\\pypoetry\\Cache\\virtualenvs\\bondtrading-jbUXhQqa-py3.9\\lib\\site-packages\\ray\\tune\\function_runner.py\", line 262, in run\n",
      " pid=19424)\u001b[0m     self._entrypoint()\n",
      " pid=19424)\u001b[0m   File \"C:\\Users\\M\\AppData\\Local\\pypoetry\\Cache\\virtualenvs\\bondtrading-jbUXhQqa-py3.9\\lib\\site-packages\\ray\\tune\\function_runner.py\", line 330, in entrypoint\n",
      " pid=19424)\u001b[0m     return self._trainable_func(self.config, self._status_reporter,\n",
      " pid=19424)\u001b[0m   File \"C:\\Users\\M\\AppData\\Local\\pypoetry\\Cache\\virtualenvs\\bondtrading-jbUXhQqa-py3.9\\lib\\site-packages\\ray\\util\\tracing\\tracing_helper.py\", line 451, in _resume_span\n",
      " pid=19424)\u001b[0m     return method(self, *_args, **_kwargs)\n",
      " pid=19424)\u001b[0m   File \"C:\\Users\\M\\AppData\\Local\\pypoetry\\Cache\\virtualenvs\\bondtrading-jbUXhQqa-py3.9\\lib\\site-packages\\ray\\tune\\function_runner.py\", line 597, in _trainable_func\n",
      " pid=19424)\u001b[0m     output = fn()\n",
      " pid=19424)\u001b[0m   File \"c:\\Users\\M\\SkyDrive\\Documents\\GitHub\\BondTrading\\notebooks\\..\\src\\models\\hyper.py\", line 115, in tune_wrapper\n",
      " pid=19424)\u001b[0m     from src.models import hyper\n",
      " pid=19424)\u001b[0m ModuleNotFoundError: No module named 'src'\n",
      " pid=17048)\u001b[0m 2022-01-14 16:02:08,262\tERROR function_runner.py:268 -- Runner Thread raised error.\n",
      " pid=17048)\u001b[0m Traceback (most recent call last):\n",
      " pid=17048)\u001b[0m   File \"C:\\Users\\M\\AppData\\Local\\pypoetry\\Cache\\virtualenvs\\bondtrading-jbUXhQqa-py3.9\\lib\\site-packages\\ray\\tune\\function_runner.py\", line 262, in run\n",
      " pid=17048)\u001b[0m     self._entrypoint()\n",
      " pid=17048)\u001b[0m   File \"C:\\Users\\M\\AppData\\Local\\pypoetry\\Cache\\virtualenvs\\bondtrading-jbUXhQqa-py3.9\\lib\\site-packages\\ray\\tune\\function_runner.py\", line 330, in entrypoint\n",
      " pid=17048)\u001b[0m     return self._trainable_func(self.config, self._status_reporter,\n",
      " pid=17048)\u001b[0m   File \"C:\\Users\\M\\AppData\\Local\\pypoetry\\Cache\\virtualenvs\\bondtrading-jbUXhQqa-py3.9\\lib\\site-packages\\ray\\util\\tracing\\tracing_helper.py\", line 451, in _resume_span\n",
      " pid=17048)\u001b[0m     return method(self, *_args, **_kwargs)\n",
      " pid=17048)\u001b[0m   File \"C:\\Users\\M\\AppData\\Local\\pypoetry\\Cache\\virtualenvs\\bondtrading-jbUXhQqa-py3.9\\lib\\site-packages\\ray\\tune\\function_runner.py\", line 597, in _trainable_func\n",
      " pid=17048)\u001b[0m     output = fn()\n",
      " pid=17048)\u001b[0m   File \"c:\\Users\\M\\SkyDrive\\Documents\\GitHub\\BondTrading\\notebooks\\..\\src\\models\\hyper.py\", line 115, in tune_wrapper\n",
      " pid=17048)\u001b[0m     from src.models import hyper\n",
      " pid=17048)\u001b[0m ModuleNotFoundError: No module named 'src'\n",
      " pid=17048)\u001b[0m Exception in thread Thread-2:\n",
      " pid=17048)\u001b[0m Traceback (most recent call last):\n",
      " pid=17048)\u001b[0m   File \"C:\\Users\\M\\.pyenv\\pyenv-win\\versions\\3.9.6\\lib\\threading.py\", line 973, in _bootstrap_inner\n",
      " pid=17048)\u001b[0m     self.run()\n",
      " pid=17048)\u001b[0m   File \"C:\\Users\\M\\AppData\\Local\\pypoetry\\Cache\\virtualenvs\\bondtrading-jbUXhQqa-py3.9\\lib\\site-packages\\ray\\tune\\function_runner.py\", line 281, in run\n",
      " pid=17048)\u001b[0m     raise e\n",
      " pid=17048)\u001b[0m   File \"C:\\Users\\M\\AppData\\Local\\pypoetry\\Cache\\virtualenvs\\bondtrading-jbUXhQqa-py3.9\\lib\\site-packages\\ray\\tune\\function_runner.py\", line 262, in run\n",
      " pid=17048)\u001b[0m     self._entrypoint()\n",
      " pid=17048)\u001b[0m   File \"C:\\Users\\M\\AppData\\Local\\pypoetry\\Cache\\virtualenvs\\bondtrading-jbUXhQqa-py3.9\\lib\\site-packages\\ray\\tune\\function_runner.py\", line 330, in entrypoint\n",
      " pid=17048)\u001b[0m     return self._trainable_func(self.config, self._status_reporter,\n",
      " pid=17048)\u001b[0m   File \"C:\\Users\\M\\AppData\\Local\\pypoetry\\Cache\\virtualenvs\\bondtrading-jbUXhQqa-py3.9\\lib\\site-packages\\ray\\util\\tracing\\tracing_helper.py\", line 451, in _resume_span\n",
      " pid=17048)\u001b[0m     return method(self, *_args, **_kwargs)\n",
      " pid=17048)\u001b[0m   File \"C:\\Users\\M\\AppData\\Local\\pypoetry\\Cache\\virtualenvs\\bondtrading-jbUXhQqa-py3.9\\lib\\site-packages\\ray\\tune\\function_runner.py\", line 597, in _trainable_func\n",
      " pid=17048)\u001b[0m     output = fn()\n",
      " pid=17048)\u001b[0m   File \"c:\\Users\\M\\SkyDrive\\Documents\\GitHub\\BondTrading\\notebooks\\..\\src\\models\\hyper.py\", line 115, in tune_wrapper\n",
      " pid=17048)\u001b[0m     from src.models import hyper\n",
      " pid=17048)\u001b[0m ModuleNotFoundError: No module named 'src'\n",
      " pid=7576)\u001b[0m 2022-01-14 16:02:08,271\tERROR function_runner.py:268 -- Runner Thread raised error.\n",
      " pid=7576)\u001b[0m Traceback (most recent call last):\n",
      " pid=7576)\u001b[0m   File \"C:\\Users\\M\\AppData\\Local\\pypoetry\\Cache\\virtualenvs\\bondtrading-jbUXhQqa-py3.9\\lib\\site-packages\\ray\\tune\\function_runner.py\", line 262, in run\n",
      " pid=7576)\u001b[0m     self._entrypoint()\n",
      " pid=7576)\u001b[0m   File \"C:\\Users\\M\\AppData\\Local\\pypoetry\\Cache\\virtualenvs\\bondtrading-jbUXhQqa-py3.9\\lib\\site-packages\\ray\\tune\\function_runner.py\", line 330, in entrypoint\n",
      " pid=7576)\u001b[0m     return self._trainable_func(self.config, self._status_reporter,\n",
      " pid=7576)\u001b[0m   File \"C:\\Users\\M\\AppData\\Local\\pypoetry\\Cache\\virtualenvs\\bondtrading-jbUXhQqa-py3.9\\lib\\site-packages\\ray\\util\\tracing\\tracing_helper.py\", line 451, in _resume_span\n",
      " pid=7576)\u001b[0m     return method(self, *_args, **_kwargs)\n",
      " pid=7576)\u001b[0m   File \"C:\\Users\\M\\AppData\\Local\\pypoetry\\Cache\\virtualenvs\\bondtrading-jbUXhQqa-py3.9\\lib\\site-packages\\ray\\tune\\function_runner.py\", line 597, in _trainable_func\n",
      " pid=7576)\u001b[0m     output = fn()\n",
      " pid=7576)\u001b[0m   File \"c:\\Users\\M\\SkyDrive\\Documents\\GitHub\\BondTrading\\notebooks\\..\\src\\models\\hyper.py\", line 115, in tune_wrapper\n",
      " pid=7576)\u001b[0m     from src.models import hyper\n",
      " pid=7576)\u001b[0m ModuleNotFoundError: No module named 'src'\n",
      " pid=7576)\u001b[0m Exception in thread Thread-2:\n",
      " pid=7576)\u001b[0m Traceback (most recent call last):\n",
      " pid=7576)\u001b[0m   File \"C:\\Users\\M\\.pyenv\\pyenv-win\\versions\\3.9.6\\lib\\threading.py\", line 973, in _bootstrap_inner\n",
      " pid=7576)\u001b[0m     self.run()\n",
      " pid=7576)\u001b[0m   File \"C:\\Users\\M\\AppData\\Local\\pypoetry\\Cache\\virtualenvs\\bondtrading-jbUXhQqa-py3.9\\lib\\site-packages\\ray\\tune\\function_runner.py\", line 281, in run\n",
      " pid=7576)\u001b[0m     raise e\n",
      " pid=7576)\u001b[0m   File \"C:\\Users\\M\\AppData\\Local\\pypoetry\\Cache\\virtualenvs\\bondtrading-jbUXhQqa-py3.9\\lib\\site-packages\\ray\\tune\\function_runner.py\", line 262, in run\n",
      " pid=7576)\u001b[0m     self._entrypoint()\n",
      " pid=7576)\u001b[0m   File \"C:\\Users\\M\\AppData\\Local\\pypoetry\\Cache\\virtualenvs\\bondtrading-jbUXhQqa-py3.9\\lib\\site-packages\\ray\\tune\\function_runner.py\", line 330, in entrypoint\n",
      " pid=7576)\u001b[0m     return self._trainable_func(self.config, self._status_reporter,\n",
      " pid=7576)\u001b[0m   File \"C:\\Users\\M\\AppData\\Local\\pypoetry\\Cache\\virtualenvs\\bondtrading-jbUXhQqa-py3.9\\lib\\site-packages\\ray\\util\\tracing\\tracing_helper.py\", line 451, in _resume_span\n",
      " pid=7576)\u001b[0m     return method(self, *_args, **_kwargs)\n",
      " pid=7576)\u001b[0m   File \"C:\\Users\\M\\AppData\\Local\\pypoetry\\Cache\\virtualenvs\\bondtrading-jbUXhQqa-py3.9\\lib\\site-packages\\ray\\tune\\function_runner.py\", line 597, in _trainable_func\n",
      " pid=7576)\u001b[0m     output = fn()\n",
      " pid=7576)\u001b[0m   File \"c:\\Users\\M\\SkyDrive\\Documents\\GitHub\\BondTrading\\notebooks\\..\\src\\models\\hyper.py\", line 115, in tune_wrapper\n",
      " pid=7576)\u001b[0m     from src.models import hyper\n",
      " pid=7576)\u001b[0m ModuleNotFoundError: No module named 'src'\n",
      " pid=11464)\u001b[0m 2022-01-14 16:02:08,261\tERROR function_runner.py:268 -- Runner Thread raised error.\n",
      " pid=11464)\u001b[0m Traceback (most recent call last):\n",
      " pid=11464)\u001b[0m   File \"C:\\Users\\M\\AppData\\Local\\pypoetry\\Cache\\virtualenvs\\bondtrading-jbUXhQqa-py3.9\\lib\\site-packages\\ray\\tune\\function_runner.py\", line 262, in run\n",
      " pid=11464)\u001b[0m     self._entrypoint()\n",
      " pid=11464)\u001b[0m   File \"C:\\Users\\M\\AppData\\Local\\pypoetry\\Cache\\virtualenvs\\bondtrading-jbUXhQqa-py3.9\\lib\\site-packages\\ray\\tune\\function_runner.py\", line 330, in entrypoint\n",
      " pid=11464)\u001b[0m     return self._trainable_func(self.config, self._status_reporter,\n",
      " pid=11464)\u001b[0m   File \"C:\\Users\\M\\AppData\\Local\\pypoetry\\Cache\\virtualenvs\\bondtrading-jbUXhQqa-py3.9\\lib\\site-packages\\ray\\util\\tracing\\tracing_helper.py\", line 451, in _resume_span\n",
      " pid=11464)\u001b[0m     return method(self, *_args, **_kwargs)\n",
      " pid=11464)\u001b[0m   File \"C:\\Users\\M\\AppData\\Local\\pypoetry\\Cache\\virtualenvs\\bondtrading-jbUXhQqa-py3.9\\lib\\site-packages\\ray\\tune\\function_runner.py\", line 597, in _trainable_func\n",
      " pid=11464)\u001b[0m     output = fn()\n",
      " pid=11464)\u001b[0m   File \"c:\\Users\\M\\SkyDrive\\Documents\\GitHub\\BondTrading\\notebooks\\..\\src\\models\\hyper.py\", line 115, in tune_wrapper\n",
      " pid=11464)\u001b[0m     from src.models import hyper\n",
      " pid=11464)\u001b[0m ModuleNotFoundError: No module named 'src'\n",
      " pid=11464)\u001b[0m Exception in thread Thread-2:\n",
      " pid=11464)\u001b[0m Traceback (most recent call last):\n",
      " pid=11464)\u001b[0m   File \"C:\\Users\\M\\.pyenv\\pyenv-win\\versions\\3.9.6\\lib\\threading.py\", line 973, in _bootstrap_inner\n",
      " pid=11464)\u001b[0m     self.run()\n",
      " pid=11464)\u001b[0m   File \"C:\\Users\\M\\AppData\\Local\\pypoetry\\Cache\\virtualenvs\\bondtrading-jbUXhQqa-py3.9\\lib\\site-packages\\ray\\tune\\function_runner.py\", line 281, in run\n",
      " pid=11464)\u001b[0m     raise e\n",
      " pid=11464)\u001b[0m   File \"C:\\Users\\M\\AppData\\Local\\pypoetry\\Cache\\virtualenvs\\bondtrading-jbUXhQqa-py3.9\\lib\\site-packages\\ray\\tune\\function_runner.py\", line 262, in run\n",
      " pid=11464)\u001b[0m     self._entrypoint()\n",
      " pid=11464)\u001b[0m   File \"C:\\Users\\M\\AppData\\Local\\pypoetry\\Cache\\virtualenvs\\bondtrading-jbUXhQqa-py3.9\\lib\\site-packages\\ray\\tune\\function_runner.py\", line 330, in entrypoint\n",
      " pid=11464)\u001b[0m     return self._trainable_func(self.config, self._status_reporter,\n",
      " pid=11464)\u001b[0m   File \"C:\\Users\\M\\AppData\\Local\\pypoetry\\Cache\\virtualenvs\\bondtrading-jbUXhQqa-py3.9\\lib\\site-packages\\ray\\util\\tracing\\tracing_helper.py\", line 451, in _resume_span\n",
      " pid=11464)\u001b[0m     return method(self, *_args, **_kwargs)\n",
      " pid=11464)\u001b[0m   File \"C:\\Users\\M\\AppData\\Local\\pypoetry\\Cache\\virtualenvs\\bondtrading-jbUXhQqa-py3.9\\lib\\site-packages\\ray\\tune\\function_runner.py\", line 597, in _trainable_func\n",
      " pid=11464)\u001b[0m     output = fn()\n",
      " pid=11464)\u001b[0m   File \"c:\\Users\\M\\SkyDrive\\Documents\\GitHub\\BondTrading\\notebooks\\..\\src\\models\\hyper.py\", line 115, in tune_wrapper\n",
      " pid=11464)\u001b[0m     from src.models import hyper\n",
      " pid=11464)\u001b[0m ModuleNotFoundError: No module named 'src'\n",
      " pid=2764)\u001b[0m 2022-01-14 16:02:08,358\tERROR function_runner.py:268 -- Runner Thread raised error.\n",
      " pid=2764)\u001b[0m Traceback (most recent call last):\n",
      " pid=2764)\u001b[0m   File \"C:\\Users\\M\\AppData\\Local\\pypoetry\\Cache\\virtualenvs\\bondtrading-jbUXhQqa-py3.9\\lib\\site-packages\\ray\\tune\\function_runner.py\", line 262, in run\n",
      " pid=2764)\u001b[0m     self._entrypoint()\n",
      " pid=2764)\u001b[0m   File \"C:\\Users\\M\\AppData\\Local\\pypoetry\\Cache\\virtualenvs\\bondtrading-jbUXhQqa-py3.9\\lib\\site-packages\\ray\\tune\\function_runner.py\", line 330, in entrypoint\n",
      " pid=2764)\u001b[0m     return self._trainable_func(self.config, self._status_reporter,\n",
      " pid=2764)\u001b[0m   File \"C:\\Users\\M\\AppData\\Local\\pypoetry\\Cache\\virtualenvs\\bondtrading-jbUXhQqa-py3.9\\lib\\site-packages\\ray\\util\\tracing\\tracing_helper.py\", line 451, in _resume_span\n",
      " pid=2764)\u001b[0m     return method(self, *_args, **_kwargs)\n",
      " pid=2764)\u001b[0m   File \"C:\\Users\\M\\AppData\\Local\\pypoetry\\Cache\\virtualenvs\\bondtrading-jbUXhQqa-py3.9\\lib\\site-packages\\ray\\tune\\function_runner.py\", line 597, in _trainable_func\n",
      " pid=2764)\u001b[0m     output = fn()\n",
      " pid=2764)\u001b[0m   File \"c:\\Users\\M\\SkyDrive\\Documents\\GitHub\\BondTrading\\notebooks\\..\\src\\models\\hyper.py\", line 115, in tune_wrapper\n",
      " pid=2764)\u001b[0m     from src.models import hyper\n",
      " pid=2764)\u001b[0m ModuleNotFoundError: No module named 'src'\n",
      " pid=2764)\u001b[0m Exception in thread Thread-2:\n",
      " pid=2764)\u001b[0m Traceback (most recent call last):\n",
      " pid=2764)\u001b[0m   File \"C:\\Users\\M\\.pyenv\\pyenv-win\\versions\\3.9.6\\lib\\threading.py\", line 973, in _bootstrap_inner\n",
      " pid=2764)\u001b[0m     self.run()\n",
      " pid=2764)\u001b[0m   File \"C:\\Users\\M\\AppData\\Local\\pypoetry\\Cache\\virtualenvs\\bondtrading-jbUXhQqa-py3.9\\lib\\site-packages\\ray\\tune\\function_runner.py\", line 281, in run\n",
      " pid=2764)\u001b[0m     raise e\n",
      " pid=2764)\u001b[0m   File \"C:\\Users\\M\\AppData\\Local\\pypoetry\\Cache\\virtualenvs\\bondtrading-jbUXhQqa-py3.9\\lib\\site-packages\\ray\\tune\\function_runner.py\", line 262, in run\n",
      " pid=2764)\u001b[0m     self._entrypoint()\n",
      " pid=2764)\u001b[0m   File \"C:\\Users\\M\\AppData\\Local\\pypoetry\\Cache\\virtualenvs\\bondtrading-jbUXhQqa-py3.9\\lib\\site-packages\\ray\\tune\\function_runner.py\", line 330, in entrypoint\n",
      " pid=2764)\u001b[0m     return self._trainable_func(self.config, self._status_reporter,\n",
      " pid=2764)\u001b[0m   File \"C:\\Users\\M\\AppData\\Local\\pypoetry\\Cache\\virtualenvs\\bondtrading-jbUXhQqa-py3.9\\lib\\site-packages\\ray\\util\\tracing\\tracing_helper.py\", line 451, in _resume_span\n",
      " pid=2764)\u001b[0m     return method(self, *_args, **_kwargs)\n",
      " pid=2764)\u001b[0m   File \"C:\\Users\\M\\AppData\\Local\\pypoetry\\Cache\\virtualenvs\\bondtrading-jbUXhQqa-py3.9\\lib\\site-packages\\ray\\tune\\function_runner.py\", line 597, in _trainable_func\n",
      " pid=2764)\u001b[0m     output = fn()\n",
      " pid=2764)\u001b[0m   File \"c:\\Users\\M\\SkyDrive\\Documents\\GitHub\\BondTrading\\notebooks\\..\\src\\models\\hyper.py\", line 115, in tune_wrapper\n",
      " pid=2764)\u001b[0m     from src.models import hyper\n",
      " pid=2764)\u001b[0m ModuleNotFoundError: No module named 'src'\n",
      "2022-01-14 16:02:13,867\tERROR worker.py:84 -- Unhandled error (suppress with RAY_IGNORE_UNHANDLED_ERRORS=1): \u001b[36mray::ImplicitFunc.train_buffered()\u001b[39m (pid=17048, ip=127.0.0.1, repr=<types.ImplicitFunc object at 0x0000026D9DE15040>)\n",
      "  File \"python\\ray\\_raylet.pyx\", line 625, in ray._raylet.execute_task\n",
      "  File \"python\\ray\\_raylet.pyx\", line 629, in ray._raylet.execute_task\n",
      "  File \"python\\ray\\_raylet.pyx\", line 578, in ray._raylet.execute_task.function_executor\n",
      "  File \"C:\\Users\\M\\AppData\\Local\\pypoetry\\Cache\\virtualenvs\\bondtrading-jbUXhQqa-py3.9\\lib\\site-packages\\ray\\_private\\function_manager.py\", line 609, in actor_method_executor\n",
      "    return method(__ray_actor, *args, **kwargs)\n",
      "  File \"C:\\Users\\M\\AppData\\Local\\pypoetry\\Cache\\virtualenvs\\bondtrading-jbUXhQqa-py3.9\\lib\\site-packages\\ray\\util\\tracing\\tracing_helper.py\", line 451, in _resume_span\n",
      "    return method(self, *_args, **_kwargs)\n",
      "  File \"C:\\Users\\M\\AppData\\Local\\pypoetry\\Cache\\virtualenvs\\bondtrading-jbUXhQqa-py3.9\\lib\\site-packages\\ray\\tune\\trainable.py\", line 255, in train_buffered\n",
      "    result = self.train()\n",
      "  File \"C:\\Users\\M\\AppData\\Local\\pypoetry\\Cache\\virtualenvs\\bondtrading-jbUXhQqa-py3.9\\lib\\site-packages\\ray\\util\\tracing\\tracing_helper.py\", line 451, in _resume_span\n",
      "    return method(self, *_args, **_kwargs)\n",
      "  File \"C:\\Users\\M\\AppData\\Local\\pypoetry\\Cache\\virtualenvs\\bondtrading-jbUXhQqa-py3.9\\lib\\site-packages\\ray\\tune\\trainable.py\", line 314, in train\n",
      "    result = self.step()\n",
      "  File \"C:\\Users\\M\\AppData\\Local\\pypoetry\\Cache\\virtualenvs\\bondtrading-jbUXhQqa-py3.9\\lib\\site-packages\\ray\\util\\tracing\\tracing_helper.py\", line 451, in _resume_span\n",
      "    return method(self, *_args, **_kwargs)\n",
      "  File \"C:\\Users\\M\\AppData\\Local\\pypoetry\\Cache\\virtualenvs\\bondtrading-jbUXhQqa-py3.9\\lib\\site-packages\\ray\\tune\\function_runner.py\", line 381, in step\n",
      "    self._report_thread_runner_error(block=True)\n",
      "  File \"C:\\Users\\M\\AppData\\Local\\pypoetry\\Cache\\virtualenvs\\bondtrading-jbUXhQqa-py3.9\\lib\\site-packages\\ray\\util\\tracing\\tracing_helper.py\", line 451, in _resume_span\n",
      "    return method(self, *_args, **_kwargs)\n",
      "  File \"C:\\Users\\M\\AppData\\Local\\pypoetry\\Cache\\virtualenvs\\bondtrading-jbUXhQqa-py3.9\\lib\\site-packages\\ray\\tune\\function_runner.py\", line 531, in _report_thread_runner_error\n",
      "    raise TuneError(\n",
      "ray.tune.error.TuneError: Trial raised an exception. Traceback:\n",
      "\u001b[36mray::ImplicitFunc.train_buffered()\u001b[39m (pid=17048, ip=127.0.0.1, repr=<types.ImplicitFunc object at 0x0000026D9DE15040>)\n",
      "  File \"C:\\Users\\M\\AppData\\Local\\pypoetry\\Cache\\virtualenvs\\bondtrading-jbUXhQqa-py3.9\\lib\\site-packages\\ray\\tune\\function_runner.py\", line 262, in run\n",
      "    self._entrypoint()\n",
      "  File \"C:\\Users\\M\\AppData\\Local\\pypoetry\\Cache\\virtualenvs\\bondtrading-jbUXhQqa-py3.9\\lib\\site-packages\\ray\\tune\\function_runner.py\", line 330, in entrypoint\n",
      "    return self._trainable_func(self.config, self._status_reporter,\n",
      "  File \"C:\\Users\\M\\AppData\\Local\\pypoetry\\Cache\\virtualenvs\\bondtrading-jbUXhQqa-py3.9\\lib\\site-packages\\ray\\util\\tracing\\tracing_helper.py\", line 451, in _resume_span\n",
      "    return method(self, *_args, **_kwargs)\n",
      "  File \"C:\\Users\\M\\AppData\\Local\\pypoetry\\Cache\\virtualenvs\\bondtrading-jbUXhQqa-py3.9\\lib\\site-packages\\ray\\tune\\function_runner.py\", line 597, in _trainable_func\n",
      "    output = fn()\n",
      "  File \"c:\\Users\\M\\SkyDrive\\Documents\\GitHub\\BondTrading\\notebooks\\..\\src\\models\\hyper.py\", line 115, in tune_wrapper\n",
      "    from src.models import hyper\n",
      "ModuleNotFoundError: No module named 'src'\n",
      "2022-01-14 16:02:13,870\tERROR worker.py:84 -- Unhandled error (suppress with RAY_IGNORE_UNHANDLED_ERRORS=1): \u001b[36mray::ImplicitFunc.train_buffered()\u001b[39m (pid=8932, ip=127.0.0.1, repr=<types.ImplicitFunc object at 0x00000254DE0C6E50>)\n",
      "  File \"python\\ray\\_raylet.pyx\", line 625, in ray._raylet.execute_task\n",
      "  File \"python\\ray\\_raylet.pyx\", line 629, in ray._raylet.execute_task\n",
      "  File \"python\\ray\\_raylet.pyx\", line 578, in ray._raylet.execute_task.function_executor\n",
      "  File \"C:\\Users\\M\\AppData\\Local\\pypoetry\\Cache\\virtualenvs\\bondtrading-jbUXhQqa-py3.9\\lib\\site-packages\\ray\\_private\\function_manager.py\", line 609, in actor_method_executor\n",
      "    return method(__ray_actor, *args, **kwargs)\n",
      "  File \"C:\\Users\\M\\AppData\\Local\\pypoetry\\Cache\\virtualenvs\\bondtrading-jbUXhQqa-py3.9\\lib\\site-packages\\ray\\util\\tracing\\tracing_helper.py\", line 451, in _resume_span\n",
      "    return method(self, *_args, **_kwargs)\n",
      "  File \"C:\\Users\\M\\AppData\\Local\\pypoetry\\Cache\\virtualenvs\\bondtrading-jbUXhQqa-py3.9\\lib\\site-packages\\ray\\tune\\trainable.py\", line 255, in train_buffered\n",
      "    result = self.train()\n",
      "  File \"C:\\Users\\M\\AppData\\Local\\pypoetry\\Cache\\virtualenvs\\bondtrading-jbUXhQqa-py3.9\\lib\\site-packages\\ray\\util\\tracing\\tracing_helper.py\", line 451, in _resume_span\n",
      "    return method(self, *_args, **_kwargs)\n",
      "  File \"C:\\Users\\M\\AppData\\Local\\pypoetry\\Cache\\virtualenvs\\bondtrading-jbUXhQqa-py3.9\\lib\\site-packages\\ray\\tune\\trainable.py\", line 314, in train\n",
      "    result = self.step()\n",
      "  File \"C:\\Users\\M\\AppData\\Local\\pypoetry\\Cache\\virtualenvs\\bondtrading-jbUXhQqa-py3.9\\lib\\site-packages\\ray\\util\\tracing\\tracing_helper.py\", line 451, in _resume_span\n",
      "    return method(self, *_args, **_kwargs)\n",
      "  File \"C:\\Users\\M\\AppData\\Local\\pypoetry\\Cache\\virtualenvs\\bondtrading-jbUXhQqa-py3.9\\lib\\site-packages\\ray\\tune\\function_runner.py\", line 381, in step\n",
      "    self._report_thread_runner_error(block=True)\n",
      "  File \"C:\\Users\\M\\AppData\\Local\\pypoetry\\Cache\\virtualenvs\\bondtrading-jbUXhQqa-py3.9\\lib\\site-packages\\ray\\util\\tracing\\tracing_helper.py\", line 451, in _resume_span\n",
      "    return method(self, *_args, **_kwargs)\n",
      "  File \"C:\\Users\\M\\AppData\\Local\\pypoetry\\Cache\\virtualenvs\\bondtrading-jbUXhQqa-py3.9\\lib\\site-packages\\ray\\tune\\function_runner.py\", line 531, in _report_thread_runner_error\n",
      "    raise TuneError(\n",
      "ray.tune.error.TuneError: Trial raised an exception. Traceback:\n",
      "\u001b[36mray::ImplicitFunc.train_buffered()\u001b[39m (pid=8932, ip=127.0.0.1, repr=<types.ImplicitFunc object at 0x00000254DE0C6E50>)\n",
      "  File \"C:\\Users\\M\\AppData\\Local\\pypoetry\\Cache\\virtualenvs\\bondtrading-jbUXhQqa-py3.9\\lib\\site-packages\\ray\\tune\\function_runner.py\", line 262, in run\n",
      "    self._entrypoint()\n",
      "  File \"C:\\Users\\M\\AppData\\Local\\pypoetry\\Cache\\virtualenvs\\bondtrading-jbUXhQqa-py3.9\\lib\\site-packages\\ray\\tune\\function_runner.py\", line 330, in entrypoint\n",
      "    return self._trainable_func(self.config, self._status_reporter,\n",
      "  File \"C:\\Users\\M\\AppData\\Local\\pypoetry\\Cache\\virtualenvs\\bondtrading-jbUXhQqa-py3.9\\lib\\site-packages\\ray\\util\\tracing\\tracing_helper.py\", line 451, in _resume_span\n",
      "    return method(self, *_args, **_kwargs)\n",
      "  File \"C:\\Users\\M\\AppData\\Local\\pypoetry\\Cache\\virtualenvs\\bondtrading-jbUXhQqa-py3.9\\lib\\site-packages\\ray\\tune\\function_runner.py\", line 597, in _trainable_func\n",
      "    output = fn()\n",
      "  File \"c:\\Users\\M\\SkyDrive\\Documents\\GitHub\\BondTrading\\notebooks\\..\\src\\models\\hyper.py\", line 115, in tune_wrapper\n",
      "    from src.models import hyper\n",
      "ModuleNotFoundError: No module named 'src'\n",
      "2022-01-14 16:02:13,872\tERROR worker.py:84 -- Unhandled error (suppress with RAY_IGNORE_UNHANDLED_ERRORS=1): \u001b[36mray::ImplicitFunc.train_buffered()\u001b[39m (pid=11464, ip=127.0.0.1, repr=<types.ImplicitFunc object at 0x000001A134116E80>)\n",
      "  File \"python\\ray\\_raylet.pyx\", line 625, in ray._raylet.execute_task\n",
      "  File \"python\\ray\\_raylet.pyx\", line 629, in ray._raylet.execute_task\n",
      "  File \"python\\ray\\_raylet.pyx\", line 578, in ray._raylet.execute_task.function_executor\n",
      "  File \"C:\\Users\\M\\AppData\\Local\\pypoetry\\Cache\\virtualenvs\\bondtrading-jbUXhQqa-py3.9\\lib\\site-packages\\ray\\_private\\function_manager.py\", line 609, in actor_method_executor\n",
      "    return method(__ray_actor, *args, **kwargs)\n",
      "  File \"C:\\Users\\M\\AppData\\Local\\pypoetry\\Cache\\virtualenvs\\bondtrading-jbUXhQqa-py3.9\\lib\\site-packages\\ray\\util\\tracing\\tracing_helper.py\", line 451, in _resume_span\n",
      "    return method(self, *_args, **_kwargs)\n",
      "  File \"C:\\Users\\M\\AppData\\Local\\pypoetry\\Cache\\virtualenvs\\bondtrading-jbUXhQqa-py3.9\\lib\\site-packages\\ray\\tune\\trainable.py\", line 255, in train_buffered\n",
      "    result = self.train()\n",
      "  File \"C:\\Users\\M\\AppData\\Local\\pypoetry\\Cache\\virtualenvs\\bondtrading-jbUXhQqa-py3.9\\lib\\site-packages\\ray\\util\\tracing\\tracing_helper.py\", line 451, in _resume_span\n",
      "    return method(self, *_args, **_kwargs)\n",
      "  File \"C:\\Users\\M\\AppData\\Local\\pypoetry\\Cache\\virtualenvs\\bondtrading-jbUXhQqa-py3.9\\lib\\site-packages\\ray\\tune\\trainable.py\", line 314, in train\n",
      "    result = self.step()\n",
      "  File \"C:\\Users\\M\\AppData\\Local\\pypoetry\\Cache\\virtualenvs\\bondtrading-jbUXhQqa-py3.9\\lib\\site-packages\\ray\\util\\tracing\\tracing_helper.py\", line 451, in _resume_span\n",
      "    return method(self, *_args, **_kwargs)\n",
      "  File \"C:\\Users\\M\\AppData\\Local\\pypoetry\\Cache\\virtualenvs\\bondtrading-jbUXhQqa-py3.9\\lib\\site-packages\\ray\\tune\\function_runner.py\", line 381, in step\n",
      "    self._report_thread_runner_error(block=True)\n",
      "  File \"C:\\Users\\M\\AppData\\Local\\pypoetry\\Cache\\virtualenvs\\bondtrading-jbUXhQqa-py3.9\\lib\\site-packages\\ray\\util\\tracing\\tracing_helper.py\", line 451, in _resume_span\n",
      "    return method(self, *_args, **_kwargs)\n",
      "  File \"C:\\Users\\M\\AppData\\Local\\pypoetry\\Cache\\virtualenvs\\bondtrading-jbUXhQqa-py3.9\\lib\\site-packages\\ray\\tune\\function_runner.py\", line 531, in _report_thread_runner_error\n",
      "    raise TuneError(\n",
      "ray.tune.error.TuneError: Trial raised an exception. Traceback:\n",
      "\u001b[36mray::ImplicitFunc.train_buffered()\u001b[39m (pid=11464, ip=127.0.0.1, repr=<types.ImplicitFunc object at 0x000001A134116E80>)\n",
      "  File \"C:\\Users\\M\\AppData\\Local\\pypoetry\\Cache\\virtualenvs\\bondtrading-jbUXhQqa-py3.9\\lib\\site-packages\\ray\\tune\\function_runner.py\", line 262, in run\n",
      "    self._entrypoint()\n",
      "  File \"C:\\Users\\M\\AppData\\Local\\pypoetry\\Cache\\virtualenvs\\bondtrading-jbUXhQqa-py3.9\\lib\\site-packages\\ray\\tune\\function_runner.py\", line 330, in entrypoint\n",
      "    return self._trainable_func(self.config, self._status_reporter,\n",
      "  File \"C:\\Users\\M\\AppData\\Local\\pypoetry\\Cache\\virtualenvs\\bondtrading-jbUXhQqa-py3.9\\lib\\site-packages\\ray\\util\\tracing\\tracing_helper.py\", line 451, in _resume_span\n",
      "    return method(self, *_args, **_kwargs)\n",
      "  File \"C:\\Users\\M\\AppData\\Local\\pypoetry\\Cache\\virtualenvs\\bondtrading-jbUXhQqa-py3.9\\lib\\site-packages\\ray\\tune\\function_runner.py\", line 597, in _trainable_func\n",
      "    output = fn()\n",
      "  File \"c:\\Users\\M\\SkyDrive\\Documents\\GitHub\\BondTrading\\notebooks\\..\\src\\models\\hyper.py\", line 115, in tune_wrapper\n",
      "    from src.models import hyper\n",
      "ModuleNotFoundError: No module named 'src'\n",
      "2022-01-14 16:02:13,875\tERROR worker.py:84 -- Unhandled error (suppress with RAY_IGNORE_UNHANDLED_ERRORS=1): \u001b[36mray::ImplicitFunc.train_buffered()\u001b[39m (pid=19424, ip=127.0.0.1, repr=<types.ImplicitFunc object at 0x0000021764F7B040>)\n",
      "  File \"python\\ray\\_raylet.pyx\", line 625, in ray._raylet.execute_task\n",
      "  File \"python\\ray\\_raylet.pyx\", line 629, in ray._raylet.execute_task\n",
      "  File \"python\\ray\\_raylet.pyx\", line 578, in ray._raylet.execute_task.function_executor\n",
      "  File \"C:\\Users\\M\\AppData\\Local\\pypoetry\\Cache\\virtualenvs\\bondtrading-jbUXhQqa-py3.9\\lib\\site-packages\\ray\\_private\\function_manager.py\", line 609, in actor_method_executor\n",
      "    return method(__ray_actor, *args, **kwargs)\n",
      "  File \"C:\\Users\\M\\AppData\\Local\\pypoetry\\Cache\\virtualenvs\\bondtrading-jbUXhQqa-py3.9\\lib\\site-packages\\ray\\util\\tracing\\tracing_helper.py\", line 451, in _resume_span\n",
      "    return method(self, *_args, **_kwargs)\n",
      "  File \"C:\\Users\\M\\AppData\\Local\\pypoetry\\Cache\\virtualenvs\\bondtrading-jbUXhQqa-py3.9\\lib\\site-packages\\ray\\tune\\trainable.py\", line 255, in train_buffered\n",
      "    result = self.train()\n",
      "  File \"C:\\Users\\M\\AppData\\Local\\pypoetry\\Cache\\virtualenvs\\bondtrading-jbUXhQqa-py3.9\\lib\\site-packages\\ray\\util\\tracing\\tracing_helper.py\", line 451, in _resume_span\n",
      "    return method(self, *_args, **_kwargs)\n",
      "  File \"C:\\Users\\M\\AppData\\Local\\pypoetry\\Cache\\virtualenvs\\bondtrading-jbUXhQqa-py3.9\\lib\\site-packages\\ray\\tune\\trainable.py\", line 314, in train\n",
      "    result = self.step()\n",
      "  File \"C:\\Users\\M\\AppData\\Local\\pypoetry\\Cache\\virtualenvs\\bondtrading-jbUXhQqa-py3.9\\lib\\site-packages\\ray\\util\\tracing\\tracing_helper.py\", line 451, in _resume_span\n",
      "    return method(self, *_args, **_kwargs)\n",
      "  File \"C:\\Users\\M\\AppData\\Local\\pypoetry\\Cache\\virtualenvs\\bondtrading-jbUXhQqa-py3.9\\lib\\site-packages\\ray\\tune\\function_runner.py\", line 381, in step\n",
      "    self._report_thread_runner_error(block=True)\n",
      "  File \"C:\\Users\\M\\AppData\\Local\\pypoetry\\Cache\\virtualenvs\\bondtrading-jbUXhQqa-py3.9\\lib\\site-packages\\ray\\util\\tracing\\tracing_helper.py\", line 451, in _resume_span\n",
      "    return method(self, *_args, **_kwargs)\n",
      "  File \"C:\\Users\\M\\AppData\\Local\\pypoetry\\Cache\\virtualenvs\\bondtrading-jbUXhQqa-py3.9\\lib\\site-packages\\ray\\tune\\function_runner.py\", line 531, in _report_thread_runner_error\n",
      "    raise TuneError(\n",
      "ray.tune.error.TuneError: Trial raised an exception. Traceback:\n",
      "\u001b[36mray::ImplicitFunc.train_buffered()\u001b[39m (pid=19424, ip=127.0.0.1, repr=<types.ImplicitFunc object at 0x0000021764F7B040>)\n",
      "  File \"C:\\Users\\M\\AppData\\Local\\pypoetry\\Cache\\virtualenvs\\bondtrading-jbUXhQqa-py3.9\\lib\\site-packages\\ray\\tune\\function_runner.py\", line 262, in run\n",
      "    self._entrypoint()\n",
      "  File \"C:\\Users\\M\\AppData\\Local\\pypoetry\\Cache\\virtualenvs\\bondtrading-jbUXhQqa-py3.9\\lib\\site-packages\\ray\\tune\\function_runner.py\", line 330, in entrypoint\n",
      "    return self._trainable_func(self.config, self._status_reporter,\n",
      "  File \"C:\\Users\\M\\AppData\\Local\\pypoetry\\Cache\\virtualenvs\\bondtrading-jbUXhQqa-py3.9\\lib\\site-packages\\ray\\util\\tracing\\tracing_helper.py\", line 451, in _resume_span\n",
      "    return method(self, *_args, **_kwargs)\n",
      "  File \"C:\\Users\\M\\AppData\\Local\\pypoetry\\Cache\\virtualenvs\\bondtrading-jbUXhQqa-py3.9\\lib\\site-packages\\ray\\tune\\function_runner.py\", line 597, in _trainable_func\n",
      "    output = fn()\n",
      "  File \"c:\\Users\\M\\SkyDrive\\Documents\\GitHub\\BondTrading\\notebooks\\..\\src\\models\\hyper.py\", line 115, in tune_wrapper\n",
      "    from src.models import hyper\n",
      "ModuleNotFoundError: No module named 'src'\n",
      "2022-01-14 16:02:13,878\tERROR worker.py:84 -- Unhandled error (suppress with RAY_IGNORE_UNHANDLED_ERRORS=1): \u001b[36mray::ImplicitFunc.train_buffered()\u001b[39m (pid=17728, ip=127.0.0.1, repr=<types.ImplicitFunc object at 0x00000185E25A5040>)\n",
      "  File \"python\\ray\\_raylet.pyx\", line 625, in ray._raylet.execute_task\n",
      "  File \"python\\ray\\_raylet.pyx\", line 629, in ray._raylet.execute_task\n",
      "  File \"python\\ray\\_raylet.pyx\", line 578, in ray._raylet.execute_task.function_executor\n",
      "  File \"C:\\Users\\M\\AppData\\Local\\pypoetry\\Cache\\virtualenvs\\bondtrading-jbUXhQqa-py3.9\\lib\\site-packages\\ray\\_private\\function_manager.py\", line 609, in actor_method_executor\n",
      "    return method(__ray_actor, *args, **kwargs)\n",
      "  File \"C:\\Users\\M\\AppData\\Local\\pypoetry\\Cache\\virtualenvs\\bondtrading-jbUXhQqa-py3.9\\lib\\site-packages\\ray\\util\\tracing\\tracing_helper.py\", line 451, in _resume_span\n",
      "    return method(self, *_args, **_kwargs)\n",
      "  File \"C:\\Users\\M\\AppData\\Local\\pypoetry\\Cache\\virtualenvs\\bondtrading-jbUXhQqa-py3.9\\lib\\site-packages\\ray\\tune\\trainable.py\", line 255, in train_buffered\n",
      "    result = self.train()\n",
      "  File \"C:\\Users\\M\\AppData\\Local\\pypoetry\\Cache\\virtualenvs\\bondtrading-jbUXhQqa-py3.9\\lib\\site-packages\\ray\\util\\tracing\\tracing_helper.py\", line 451, in _resume_span\n",
      "    return method(self, *_args, **_kwargs)\n",
      "  File \"C:\\Users\\M\\AppData\\Local\\pypoetry\\Cache\\virtualenvs\\bondtrading-jbUXhQqa-py3.9\\lib\\site-packages\\ray\\tune\\trainable.py\", line 314, in train\n",
      "    result = self.step()\n",
      "  File \"C:\\Users\\M\\AppData\\Local\\pypoetry\\Cache\\virtualenvs\\bondtrading-jbUXhQqa-py3.9\\lib\\site-packages\\ray\\util\\tracing\\tracing_helper.py\", line 451, in _resume_span\n",
      "    return method(self, *_args, **_kwargs)\n",
      "  File \"C:\\Users\\M\\AppData\\Local\\pypoetry\\Cache\\virtualenvs\\bondtrading-jbUXhQqa-py3.9\\lib\\site-packages\\ray\\tune\\function_runner.py\", line 381, in step\n",
      "    self._report_thread_runner_error(block=True)\n",
      "  File \"C:\\Users\\M\\AppData\\Local\\pypoetry\\Cache\\virtualenvs\\bondtrading-jbUXhQqa-py3.9\\lib\\site-packages\\ray\\util\\tracing\\tracing_helper.py\", line 451, in _resume_span\n",
      "    return method(self, *_args, **_kwargs)\n",
      "  File \"C:\\Users\\M\\AppData\\Local\\pypoetry\\Cache\\virtualenvs\\bondtrading-jbUXhQqa-py3.9\\lib\\site-packages\\ray\\tune\\function_runner.py\", line 531, in _report_thread_runner_error\n",
      "    raise TuneError(\n",
      "ray.tune.error.TuneError: Trial raised an exception. Traceback:\n",
      "\u001b[36mray::ImplicitFunc.train_buffered()\u001b[39m (pid=17728, ip=127.0.0.1, repr=<types.ImplicitFunc object at 0x00000185E25A5040>)\n",
      "  File \"C:\\Users\\M\\AppData\\Local\\pypoetry\\Cache\\virtualenvs\\bondtrading-jbUXhQqa-py3.9\\lib\\site-packages\\ray\\tune\\function_runner.py\", line 262, in run\n",
      "    self._entrypoint()\n",
      "  File \"C:\\Users\\M\\AppData\\Local\\pypoetry\\Cache\\virtualenvs\\bondtrading-jbUXhQqa-py3.9\\lib\\site-packages\\ray\\tune\\function_runner.py\", line 330, in entrypoint\n",
      "    return self._trainable_func(self.config, self._status_reporter,\n",
      "  File \"C:\\Users\\M\\AppData\\Local\\pypoetry\\Cache\\virtualenvs\\bondtrading-jbUXhQqa-py3.9\\lib\\site-packages\\ray\\util\\tracing\\tracing_helper.py\", line 451, in _resume_span\n",
      "    return method(self, *_args, **_kwargs)\n",
      "  File \"C:\\Users\\M\\AppData\\Local\\pypoetry\\Cache\\virtualenvs\\bondtrading-jbUXhQqa-py3.9\\lib\\site-packages\\ray\\tune\\function_runner.py\", line 597, in _trainable_func\n",
      "    output = fn()\n",
      "  File \"c:\\Users\\M\\SkyDrive\\Documents\\GitHub\\BondTrading\\notebooks\\..\\src\\models\\hyper.py\", line 115, in tune_wrapper\n",
      "    from src.models import hyper\n",
      "ModuleNotFoundError: No module named 'src'\n",
      "2022-01-14 16:02:13,880\tERROR worker.py:84 -- Unhandled error (suppress with RAY_IGNORE_UNHANDLED_ERRORS=1): \u001b[36mray::ImplicitFunc.train_buffered()\u001b[39m (pid=7576, ip=127.0.0.1, repr=<types.ImplicitFunc object at 0x00000238314E5040>)\n",
      "  File \"python\\ray\\_raylet.pyx\", line 625, in ray._raylet.execute_task\n",
      "  File \"python\\ray\\_raylet.pyx\", line 629, in ray._raylet.execute_task\n",
      "  File \"python\\ray\\_raylet.pyx\", line 578, in ray._raylet.execute_task.function_executor\n",
      "  File \"C:\\Users\\M\\AppData\\Local\\pypoetry\\Cache\\virtualenvs\\bondtrading-jbUXhQqa-py3.9\\lib\\site-packages\\ray\\_private\\function_manager.py\", line 609, in actor_method_executor\n",
      "    return method(__ray_actor, *args, **kwargs)\n",
      "  File \"C:\\Users\\M\\AppData\\Local\\pypoetry\\Cache\\virtualenvs\\bondtrading-jbUXhQqa-py3.9\\lib\\site-packages\\ray\\util\\tracing\\tracing_helper.py\", line 451, in _resume_span\n",
      "    return method(self, *_args, **_kwargs)\n",
      "  File \"C:\\Users\\M\\AppData\\Local\\pypoetry\\Cache\\virtualenvs\\bondtrading-jbUXhQqa-py3.9\\lib\\site-packages\\ray\\tune\\trainable.py\", line 255, in train_buffered\n",
      "    result = self.train()\n",
      "  File \"C:\\Users\\M\\AppData\\Local\\pypoetry\\Cache\\virtualenvs\\bondtrading-jbUXhQqa-py3.9\\lib\\site-packages\\ray\\util\\tracing\\tracing_helper.py\", line 451, in _resume_span\n",
      "    return method(self, *_args, **_kwargs)\n",
      "  File \"C:\\Users\\M\\AppData\\Local\\pypoetry\\Cache\\virtualenvs\\bondtrading-jbUXhQqa-py3.9\\lib\\site-packages\\ray\\tune\\trainable.py\", line 314, in train\n",
      "    result = self.step()\n",
      "  File \"C:\\Users\\M\\AppData\\Local\\pypoetry\\Cache\\virtualenvs\\bondtrading-jbUXhQqa-py3.9\\lib\\site-packages\\ray\\util\\tracing\\tracing_helper.py\", line 451, in _resume_span\n",
      "    return method(self, *_args, **_kwargs)\n",
      "  File \"C:\\Users\\M\\AppData\\Local\\pypoetry\\Cache\\virtualenvs\\bondtrading-jbUXhQqa-py3.9\\lib\\site-packages\\ray\\tune\\function_runner.py\", line 381, in step\n",
      "    self._report_thread_runner_error(block=True)\n",
      "  File \"C:\\Users\\M\\AppData\\Local\\pypoetry\\Cache\\virtualenvs\\bondtrading-jbUXhQqa-py3.9\\lib\\site-packages\\ray\\util\\tracing\\tracing_helper.py\", line 451, in _resume_span\n",
      "    return method(self, *_args, **_kwargs)\n",
      "  File \"C:\\Users\\M\\AppData\\Local\\pypoetry\\Cache\\virtualenvs\\bondtrading-jbUXhQqa-py3.9\\lib\\site-packages\\ray\\tune\\function_runner.py\", line 531, in _report_thread_runner_error\n",
      "    raise TuneError(\n",
      "ray.tune.error.TuneError: Trial raised an exception. Traceback:\n",
      "\u001b[36mray::ImplicitFunc.train_buffered()\u001b[39m (pid=7576, ip=127.0.0.1, repr=<types.ImplicitFunc object at 0x00000238314E5040>)\n",
      "  File \"C:\\Users\\M\\AppData\\Local\\pypoetry\\Cache\\virtualenvs\\bondtrading-jbUXhQqa-py3.9\\lib\\site-packages\\ray\\tune\\function_runner.py\", line 262, in run\n",
      "    self._entrypoint()\n",
      "  File \"C:\\Users\\M\\AppData\\Local\\pypoetry\\Cache\\virtualenvs\\bondtrading-jbUXhQqa-py3.9\\lib\\site-packages\\ray\\tune\\function_runner.py\", line 330, in entrypoint\n",
      "    return self._trainable_func(self.config, self._status_reporter,\n",
      "  File \"C:\\Users\\M\\AppData\\Local\\pypoetry\\Cache\\virtualenvs\\bondtrading-jbUXhQqa-py3.9\\lib\\site-packages\\ray\\util\\tracing\\tracing_helper.py\", line 451, in _resume_span\n",
      "    return method(self, *_args, **_kwargs)\n",
      "  File \"C:\\Users\\M\\AppData\\Local\\pypoetry\\Cache\\virtualenvs\\bondtrading-jbUXhQqa-py3.9\\lib\\site-packages\\ray\\tune\\function_runner.py\", line 597, in _trainable_func\n",
      "    output = fn()\n",
      "  File \"c:\\Users\\M\\SkyDrive\\Documents\\GitHub\\BondTrading\\notebooks\\..\\src\\models\\hyper.py\", line 115, in tune_wrapper\n",
      "    from src.models import hyper\n",
      "ModuleNotFoundError: No module named 'src'\n",
      "2022-01-14 16:02:13,883\tERROR worker.py:84 -- Unhandled error (suppress with RAY_IGNORE_UNHANDLED_ERRORS=1): \u001b[36mray::ImplicitFunc.train_buffered()\u001b[39m (pid=2764, ip=127.0.0.1, repr=<types.ImplicitFunc object at 0x000001DB73F17E50>)\n",
      "  File \"python\\ray\\_raylet.pyx\", line 625, in ray._raylet.execute_task\n",
      "  File \"python\\ray\\_raylet.pyx\", line 629, in ray._raylet.execute_task\n",
      "  File \"python\\ray\\_raylet.pyx\", line 578, in ray._raylet.execute_task.function_executor\n",
      "  File \"C:\\Users\\M\\AppData\\Local\\pypoetry\\Cache\\virtualenvs\\bondtrading-jbUXhQqa-py3.9\\lib\\site-packages\\ray\\_private\\function_manager.py\", line 609, in actor_method_executor\n",
      "    return method(__ray_actor, *args, **kwargs)\n",
      "  File \"C:\\Users\\M\\AppData\\Local\\pypoetry\\Cache\\virtualenvs\\bondtrading-jbUXhQqa-py3.9\\lib\\site-packages\\ray\\util\\tracing\\tracing_helper.py\", line 451, in _resume_span\n",
      "    return method(self, *_args, **_kwargs)\n",
      "  File \"C:\\Users\\M\\AppData\\Local\\pypoetry\\Cache\\virtualenvs\\bondtrading-jbUXhQqa-py3.9\\lib\\site-packages\\ray\\tune\\trainable.py\", line 255, in train_buffered\n",
      "    result = self.train()\n",
      "  File \"C:\\Users\\M\\AppData\\Local\\pypoetry\\Cache\\virtualenvs\\bondtrading-jbUXhQqa-py3.9\\lib\\site-packages\\ray\\util\\tracing\\tracing_helper.py\", line 451, in _resume_span\n",
      "    return method(self, *_args, **_kwargs)\n",
      "  File \"C:\\Users\\M\\AppData\\Local\\pypoetry\\Cache\\virtualenvs\\bondtrading-jbUXhQqa-py3.9\\lib\\site-packages\\ray\\tune\\trainable.py\", line 314, in train\n",
      "    result = self.step()\n",
      "  File \"C:\\Users\\M\\AppData\\Local\\pypoetry\\Cache\\virtualenvs\\bondtrading-jbUXhQqa-py3.9\\lib\\site-packages\\ray\\util\\tracing\\tracing_helper.py\", line 451, in _resume_span\n",
      "    return method(self, *_args, **_kwargs)\n",
      "  File \"C:\\Users\\M\\AppData\\Local\\pypoetry\\Cache\\virtualenvs\\bondtrading-jbUXhQqa-py3.9\\lib\\site-packages\\ray\\tune\\function_runner.py\", line 381, in step\n",
      "    self._report_thread_runner_error(block=True)\n",
      "  File \"C:\\Users\\M\\AppData\\Local\\pypoetry\\Cache\\virtualenvs\\bondtrading-jbUXhQqa-py3.9\\lib\\site-packages\\ray\\util\\tracing\\tracing_helper.py\", line 451, in _resume_span\n",
      "    return method(self, *_args, **_kwargs)\n",
      "  File \"C:\\Users\\M\\AppData\\Local\\pypoetry\\Cache\\virtualenvs\\bondtrading-jbUXhQqa-py3.9\\lib\\site-packages\\ray\\tune\\function_runner.py\", line 531, in _report_thread_runner_error\n",
      "    raise TuneError(\n",
      "ray.tune.error.TuneError: Trial raised an exception. Traceback:\n",
      "\u001b[36mray::ImplicitFunc.train_buffered()\u001b[39m (pid=2764, ip=127.0.0.1, repr=<types.ImplicitFunc object at 0x000001DB73F17E50>)\n",
      "  File \"C:\\Users\\M\\AppData\\Local\\pypoetry\\Cache\\virtualenvs\\bondtrading-jbUXhQqa-py3.9\\lib\\site-packages\\ray\\tune\\function_runner.py\", line 262, in run\n",
      "    self._entrypoint()\n",
      "  File \"C:\\Users\\M\\AppData\\Local\\pypoetry\\Cache\\virtualenvs\\bondtrading-jbUXhQqa-py3.9\\lib\\site-packages\\ray\\tune\\function_runner.py\", line 330, in entrypoint\n",
      "    return self._trainable_func(self.config, self._status_reporter,\n",
      "  File \"C:\\Users\\M\\AppData\\Local\\pypoetry\\Cache\\virtualenvs\\bondtrading-jbUXhQqa-py3.9\\lib\\site-packages\\ray\\util\\tracing\\tracing_helper.py\", line 451, in _resume_span\n",
      "    return method(self, *_args, **_kwargs)\n",
      "  File \"C:\\Users\\M\\AppData\\Local\\pypoetry\\Cache\\virtualenvs\\bondtrading-jbUXhQqa-py3.9\\lib\\site-packages\\ray\\tune\\function_runner.py\", line 597, in _trainable_func\n",
      "    output = fn()\n",
      "  File \"c:\\Users\\M\\SkyDrive\\Documents\\GitHub\\BondTrading\\notebooks\\..\\src\\models\\hyper.py\", line 115, in tune_wrapper\n",
      "    from src.models import hyper\n",
      "ModuleNotFoundError: No module named 'src'\n",
      "2022-01-14 16:02:52,783\tWARNING tune.py:582 -- SIGINT received (e.g. via Ctrl+C), ending Ray Tune run. This will try to checkpoint the experiment state one last time. Press CTRL+C one more time (or send SIGINT/SIGKILL/SIGTERM) to skip. \n"
     ]
    },
    {
     "ename": "KeyboardInterrupt",
     "evalue": "",
     "output_type": "error",
     "traceback": [
      "\u001b[1;31m---------------------------------------------------------------------------\u001b[0m",
      "\u001b[1;31mKeyboardInterrupt\u001b[0m                         Traceback (most recent call last)",
      "Input \u001b[1;32mIn [62]\u001b[0m, in \u001b[0;36m<module>\u001b[1;34m\u001b[0m\n\u001b[1;32m----> 1\u001b[0m analysis \u001b[38;5;241m=\u001b[39m \u001b[43mhyper\u001b[49m\u001b[38;5;241;43m.\u001b[39;49m\u001b[43mhypertune\u001b[49m\u001b[43m(\u001b[49m\u001b[43mconfig\u001b[49m\u001b[43m)\u001b[49m\n",
      "File \u001b[1;32mc:\\Users\\M\\SkyDrive\\Documents\\GitHub\\BondTrading\\notebooks\\..\\src\\models\\hyper.py:121\u001b[0m, in \u001b[0;36mhypertune\u001b[1;34m(config)\u001b[0m\n\u001b[0;32m    117\u001b[0m     _ \u001b[38;5;241m=\u001b[39m hyper\u001b[38;5;241m.\u001b[39mtrain_hypermodel(config)\n\u001b[0;32m    119\u001b[0m tune\u001b[38;5;241m.\u001b[39mregister_trainable(\u001b[38;5;124m\"\u001b[39m\u001b[38;5;124mwrapper\u001b[39m\u001b[38;5;124m\"\u001b[39m, tune_wrapper)\n\u001b[1;32m--> 121\u001b[0m analysis \u001b[38;5;241m=\u001b[39m \u001b[43mtune\u001b[49m\u001b[38;5;241;43m.\u001b[39;49m\u001b[43mrun\u001b[49m\u001b[43m(\u001b[49m\n\u001b[0;32m    122\u001b[0m \u001b[43m    \u001b[49m\u001b[38;5;124;43m\"\u001b[39;49m\u001b[38;5;124;43mwrapper\u001b[39;49m\u001b[38;5;124;43m\"\u001b[39;49m\u001b[43m,\u001b[49m\n\u001b[0;32m    123\u001b[0m \u001b[43m    \u001b[49m\u001b[43mname\u001b[49m\u001b[38;5;241;43m=\u001b[39;49m\u001b[38;5;124;43m\"\u001b[39;49m\u001b[38;5;124;43mhypertune\u001b[39;49m\u001b[38;5;124;43m\"\u001b[39;49m\u001b[43m,\u001b[49m\n\u001b[0;32m    124\u001b[0m \u001b[43m    \u001b[49m\u001b[43mscheduler\u001b[49m\u001b[38;5;241;43m=\u001b[39;49m\u001b[43msched\u001b[49m\u001b[43m,\u001b[49m\n\u001b[0;32m    125\u001b[0m \u001b[43m    \u001b[49m\u001b[43mmetric\u001b[49m\u001b[38;5;241;43m=\u001b[39;49m\u001b[38;5;124;43m\"\u001b[39;49m\u001b[38;5;124;43mval_loss\u001b[39;49m\u001b[38;5;124;43m\"\u001b[39;49m\u001b[43m,\u001b[49m\n\u001b[0;32m    126\u001b[0m \u001b[43m    \u001b[49m\u001b[43mmode\u001b[49m\u001b[38;5;241;43m=\u001b[39;49m\u001b[38;5;124;43m\"\u001b[39;49m\u001b[38;5;124;43mmin\u001b[39;49m\u001b[38;5;124;43m\"\u001b[39;49m\u001b[43m,\u001b[49m\n\u001b[0;32m    127\u001b[0m \u001b[43m    \u001b[49m\u001b[43mprogress_reporter\u001b[49m\u001b[38;5;241;43m=\u001b[39;49m\u001b[43mreporter\u001b[49m\u001b[43m,\u001b[49m\n\u001b[0;32m    128\u001b[0m \u001b[43m    \u001b[49m\u001b[43mlocal_dir\u001b[49m\u001b[38;5;241;43m=\u001b[39;49m\u001b[43mconfig\u001b[49m\u001b[43m[\u001b[49m\u001b[38;5;124;43m\"\u001b[39;49m\u001b[38;5;124;43mlocal_dir\u001b[39;49m\u001b[38;5;124;43m\"\u001b[39;49m\u001b[43m]\u001b[49m\u001b[43m,\u001b[49m\n\u001b[0;32m    129\u001b[0m \u001b[43m    \u001b[49m\u001b[43mstop\u001b[49m\u001b[38;5;241;43m=\u001b[39;49m\u001b[43m{\u001b[49m\u001b[38;5;124;43m\"\u001b[39;49m\u001b[38;5;124;43mtraining_iteration\u001b[39;49m\u001b[38;5;124;43m\"\u001b[39;49m\u001b[43m:\u001b[49m\u001b[43m \u001b[49m\u001b[43mconfig\u001b[49m\u001b[43m[\u001b[49m\u001b[38;5;124;43m\"\u001b[39;49m\u001b[38;5;124;43mepochs\u001b[39;49m\u001b[38;5;124;43m\"\u001b[39;49m\u001b[43m]\u001b[49m\u001b[43m}\u001b[49m\u001b[43m,\u001b[49m\n\u001b[0;32m    130\u001b[0m \u001b[43m    \u001b[49m\u001b[43mnum_samples\u001b[49m\u001b[38;5;241;43m=\u001b[39;49m\u001b[43mconfig\u001b[49m\u001b[43m[\u001b[49m\u001b[38;5;124;43m\"\u001b[39;49m\u001b[38;5;124;43msamples\u001b[39;49m\u001b[38;5;124;43m\"\u001b[39;49m\u001b[43m]\u001b[49m\u001b[43m,\u001b[49m\n\u001b[0;32m    131\u001b[0m \u001b[43m    \u001b[49m\u001b[38;5;66;43;03m# resources_per_trial={\"cpu\": 4, \"gpu\": 0},\u001b[39;49;00m\n\u001b[0;32m    132\u001b[0m \u001b[43m    \u001b[49m\u001b[43mconfig\u001b[49m\u001b[38;5;241;43m=\u001b[39;49m\u001b[43mconfig\u001b[49m\u001b[43m,\u001b[49m\n\u001b[0;32m    133\u001b[0m \u001b[43m\u001b[49m\u001b[43m)\u001b[49m\n\u001b[0;32m    134\u001b[0m \u001b[38;5;28;01mreturn\u001b[39;00m analysis\n",
      "File \u001b[1;32m~\\AppData\\Local\\pypoetry\\Cache\\virtualenvs\\bondtrading-jbUXhQqa-py3.9\\lib\\site-packages\\ray\\tune\\tune.py:599\u001b[0m, in \u001b[0;36mrun\u001b[1;34m(run_or_experiment, name, metric, mode, stop, time_budget_s, config, resources_per_trial, num_samples, local_dir, search_alg, scheduler, keep_checkpoints_num, checkpoint_score_attr, checkpoint_freq, checkpoint_at_end, verbose, progress_reporter, log_to_file, trial_name_creator, trial_dirname_creator, sync_config, export_formats, max_failures, fail_fast, restore, server_port, resume, reuse_actors, trial_executor, raise_on_failed_trial, callbacks, max_concurrent_trials, queue_trials, loggers, _remote)\u001b[0m\n\u001b[0;32m    597\u001b[0m     runner\u001b[38;5;241m.\u001b[39mstep()\n\u001b[0;32m    598\u001b[0m     \u001b[38;5;28;01mif\u001b[39;00m has_verbosity(Verbosity\u001b[38;5;241m.\u001b[39mV1_EXPERIMENT):\n\u001b[1;32m--> 599\u001b[0m         \u001b[43m_report_progress\u001b[49m\u001b[43m(\u001b[49m\u001b[43mrunner\u001b[49m\u001b[43m,\u001b[49m\u001b[43m \u001b[49m\u001b[43mprogress_reporter\u001b[49m\u001b[43m)\u001b[49m\n\u001b[0;32m    600\u001b[0m tune_taken \u001b[38;5;241m=\u001b[39m time\u001b[38;5;241m.\u001b[39mtime() \u001b[38;5;241m-\u001b[39m tune_start\n\u001b[0;32m    602\u001b[0m \u001b[38;5;28;01mtry\u001b[39;00m:\n",
      "File \u001b[1;32m~\\AppData\\Local\\pypoetry\\Cache\\virtualenvs\\bondtrading-jbUXhQqa-py3.9\\lib\\site-packages\\ray\\tune\\tune.py:68\u001b[0m, in \u001b[0;36m_report_progress\u001b[1;34m(runner, reporter, done)\u001b[0m\n\u001b[0;32m     66\u001b[0m sched_debug_str \u001b[38;5;241m=\u001b[39m runner\u001b[38;5;241m.\u001b[39mscheduler_alg\u001b[38;5;241m.\u001b[39mdebug_string()\n\u001b[0;32m     67\u001b[0m executor_debug_str \u001b[38;5;241m=\u001b[39m runner\u001b[38;5;241m.\u001b[39mtrial_executor\u001b[38;5;241m.\u001b[39mdebug_string()\n\u001b[1;32m---> 68\u001b[0m \u001b[43mreporter\u001b[49m\u001b[38;5;241;43m.\u001b[39;49m\u001b[43mreport\u001b[49m\u001b[43m(\u001b[49m\u001b[43mtrials\u001b[49m\u001b[43m,\u001b[49m\u001b[43m \u001b[49m\u001b[43mdone\u001b[49m\u001b[43m,\u001b[49m\u001b[43m \u001b[49m\u001b[43msched_debug_str\u001b[49m\u001b[43m,\u001b[49m\u001b[43m \u001b[49m\u001b[43mexecutor_debug_str\u001b[49m\u001b[43m)\u001b[49m\n",
      "File \u001b[1;32m~\\AppData\\Local\\pypoetry\\Cache\\virtualenvs\\bondtrading-jbUXhQqa-py3.9\\lib\\site-packages\\ray\\tune\\progress_reporter.py:441\u001b[0m, in \u001b[0;36mJupyterNotebookReporter.report\u001b[1;34m(self, trials, done, *sys_info)\u001b[0m\n\u001b[0;32m    439\u001b[0m \u001b[38;5;28;01mdef\u001b[39;00m \u001b[38;5;21mreport\u001b[39m(\u001b[38;5;28mself\u001b[39m, trials: List[Trial], done: \u001b[38;5;28mbool\u001b[39m, \u001b[38;5;241m*\u001b[39msys_info: Dict):\n\u001b[0;32m    440\u001b[0m     overwrite \u001b[38;5;241m=\u001b[39m \u001b[38;5;28mself\u001b[39m\u001b[38;5;241m.\u001b[39m_overwrite\n\u001b[1;32m--> 441\u001b[0m     progress_str \u001b[38;5;241m=\u001b[39m \u001b[38;5;28;43mself\u001b[39;49m\u001b[38;5;241;43m.\u001b[39;49m\u001b[43m_progress_str\u001b[49m\u001b[43m(\u001b[49m\n\u001b[0;32m    442\u001b[0m \u001b[43m        \u001b[49m\u001b[43mtrials\u001b[49m\u001b[43m,\u001b[49m\u001b[43m \u001b[49m\u001b[43mdone\u001b[49m\u001b[43m,\u001b[49m\u001b[43m \u001b[49m\u001b[38;5;241;43m*\u001b[39;49m\u001b[43msys_info\u001b[49m\u001b[43m,\u001b[49m\u001b[43m \u001b[49m\u001b[43mfmt\u001b[49m\u001b[38;5;241;43m=\u001b[39;49m\u001b[38;5;124;43m\"\u001b[39;49m\u001b[38;5;124;43mhtml\u001b[39;49m\u001b[38;5;124;43m\"\u001b[39;49m\u001b[43m,\u001b[49m\u001b[43m \u001b[49m\u001b[43mdelim\u001b[49m\u001b[38;5;241;43m=\u001b[39;49m\u001b[38;5;124;43m\"\u001b[39;49m\u001b[38;5;124;43m<br>\u001b[39;49m\u001b[38;5;124;43m\"\u001b[39;49m\u001b[43m)\u001b[49m\n\u001b[0;32m    444\u001b[0m     \u001b[38;5;28;01mdef\u001b[39;00m \u001b[38;5;21mupdate_output\u001b[39m():\n\u001b[0;32m    445\u001b[0m         \u001b[38;5;28;01mfrom\u001b[39;00m \u001b[38;5;21;01mIPython\u001b[39;00m\u001b[38;5;21;01m.\u001b[39;00m\u001b[38;5;21;01mdisplay\u001b[39;00m \u001b[38;5;28;01mimport\u001b[39;00m clear_output\n",
      "File \u001b[1;32m~\\AppData\\Local\\pypoetry\\Cache\\virtualenvs\\bondtrading-jbUXhQqa-py3.9\\lib\\site-packages\\ray\\tune\\progress_reporter.py:279\u001b[0m, in \u001b[0;36mTuneReporterBase._progress_str\u001b[1;34m(self, trials, done, fmt, delim, *sys_info)\u001b[0m\n\u001b[0;32m    265\u001b[0m \u001b[38;5;124;03m\"\"\"Returns full progress string.\u001b[39;00m\n\u001b[0;32m    266\u001b[0m \n\u001b[0;32m    267\u001b[0m \u001b[38;5;124;03mThis string contains a progress table and error table. The progress\u001b[39;00m\n\u001b[1;32m   (...)\u001b[0m\n\u001b[0;32m    276\u001b[0m \u001b[38;5;124;03m    delim (str): Delimiter between messages.\u001b[39;00m\n\u001b[0;32m    277\u001b[0m \u001b[38;5;124;03m\"\"\"\u001b[39;00m\n\u001b[0;32m    278\u001b[0m \u001b[38;5;28;01mif\u001b[39;00m \u001b[38;5;129;01mnot\u001b[39;00m \u001b[38;5;28mself\u001b[39m\u001b[38;5;241m.\u001b[39m_metrics_override:\n\u001b[1;32m--> 279\u001b[0m     user_metrics \u001b[38;5;241m=\u001b[39m \u001b[38;5;28;43mself\u001b[39;49m\u001b[38;5;241;43m.\u001b[39;49m\u001b[43m_infer_user_metrics\u001b[49m\u001b[43m(\u001b[49m\u001b[43mtrials\u001b[49m\u001b[43m,\u001b[49m\u001b[43m \u001b[49m\u001b[38;5;28;43mself\u001b[39;49m\u001b[38;5;241;43m.\u001b[39;49m\u001b[43m_infer_limit\u001b[49m\u001b[43m)\u001b[49m\n\u001b[0;32m    280\u001b[0m     \u001b[38;5;28mself\u001b[39m\u001b[38;5;241m.\u001b[39m_metric_columns\u001b[38;5;241m.\u001b[39mupdate(user_metrics)\n\u001b[0;32m    281\u001b[0m messages \u001b[38;5;241m=\u001b[39m [\n\u001b[0;32m    282\u001b[0m     \u001b[38;5;124m\"\u001b[39m\u001b[38;5;124m== Status ==\u001b[39m\u001b[38;5;124m\"\u001b[39m,\n\u001b[0;32m    283\u001b[0m     time_passed_str(\u001b[38;5;28mself\u001b[39m\u001b[38;5;241m.\u001b[39m_start_time, time\u001b[38;5;241m.\u001b[39mtime()),\n\u001b[0;32m    284\u001b[0m     memory_debug_str(), \u001b[38;5;241m*\u001b[39msys_info\n\u001b[0;32m    285\u001b[0m ]\n",
      "File \u001b[1;32m~\\AppData\\Local\\pypoetry\\Cache\\virtualenvs\\bondtrading-jbUXhQqa-py3.9\\lib\\site-packages\\ray\\tune\\progress_reporter.py:325\u001b[0m, in \u001b[0;36mTuneReporterBase._infer_user_metrics\u001b[1;34m(self, trials, limit)\u001b[0m\n\u001b[0;32m    323\u001b[0m \u001b[38;5;28mself\u001b[39m\u001b[38;5;241m.\u001b[39m_inferred_metrics \u001b[38;5;241m=\u001b[39m {}\n\u001b[0;32m    324\u001b[0m \u001b[38;5;28;01mfor\u001b[39;00m t \u001b[38;5;129;01min\u001b[39;00m trials:\n\u001b[1;32m--> 325\u001b[0m     \u001b[38;5;28;01mif\u001b[39;00m \u001b[38;5;129;01mnot\u001b[39;00m \u001b[43mt\u001b[49m\u001b[38;5;241;43m.\u001b[39;49m\u001b[43mlast_result\u001b[49m:\n\u001b[0;32m    326\u001b[0m         \u001b[38;5;28;01mcontinue\u001b[39;00m\n\u001b[0;32m    327\u001b[0m     \u001b[38;5;28;01mfor\u001b[39;00m metric, value \u001b[38;5;129;01min\u001b[39;00m t\u001b[38;5;241m.\u001b[39mlast_result\u001b[38;5;241m.\u001b[39mitems():\n",
      "File \u001b[1;32m~\\AppData\\Local\\pypoetry\\Cache\\virtualenvs\\bondtrading-jbUXhQqa-py3.9\\lib\\site-packages\\ray\\tune\\trial.py:409\u001b[0m, in \u001b[0;36mTrial.last_result\u001b[1;34m(self)\u001b[0m\n\u001b[0;32m    407\u001b[0m result \u001b[38;5;241m=\u001b[39m \u001b[38;5;28mself\u001b[39m\u001b[38;5;241m.\u001b[39m_last_result\n\u001b[0;32m    408\u001b[0m \u001b[38;5;28;01mif\u001b[39;00m \u001b[38;5;129;01mnot\u001b[39;00m {k \u001b[38;5;28;01mfor\u001b[39;00m k \u001b[38;5;129;01min\u001b[39;00m result \u001b[38;5;28;01mif\u001b[39;00m k \u001b[38;5;241m!=\u001b[39m TRIAL_ID}:\n\u001b[1;32m--> 409\u001b[0m     \u001b[38;5;28;43mself\u001b[39;49m\u001b[38;5;241;43m.\u001b[39;49m\u001b[43m_get_default_result_or_future\u001b[49m\u001b[43m(\u001b[49m\u001b[43m)\u001b[49m\n\u001b[0;32m    410\u001b[0m     result \u001b[38;5;241m=\u001b[39m \u001b[38;5;28mself\u001b[39m\u001b[38;5;241m.\u001b[39m_default_result_or_future \u001b[38;5;129;01mor\u001b[39;00m result\n\u001b[0;32m    411\u001b[0m result\u001b[38;5;241m.\u001b[39msetdefault(TRIAL_ID, \u001b[38;5;28mself\u001b[39m\u001b[38;5;241m.\u001b[39mtrial_id)\n",
      "File \u001b[1;32m~\\AppData\\Local\\pypoetry\\Cache\\virtualenvs\\bondtrading-jbUXhQqa-py3.9\\lib\\site-packages\\ray\\tune\\trial.py:385\u001b[0m, in \u001b[0;36mTrial._get_default_result_or_future\u001b[1;34m(self)\u001b[0m\n\u001b[0;32m    382\u001b[0m \u001b[38;5;28;01mif\u001b[39;00m \u001b[38;5;28mself\u001b[39m\u001b[38;5;241m.\u001b[39m_default_result_or_future \u001b[38;5;129;01mand\u001b[39;00m \u001b[38;5;28misinstance\u001b[39m(\n\u001b[0;32m    383\u001b[0m         \u001b[38;5;28mself\u001b[39m\u001b[38;5;241m.\u001b[39m_default_result_or_future, ray\u001b[38;5;241m.\u001b[39mObjectRef):\n\u001b[0;32m    384\u001b[0m     \u001b[38;5;28;01mtry\u001b[39;00m:\n\u001b[1;32m--> 385\u001b[0m         \u001b[38;5;28mself\u001b[39m\u001b[38;5;241m.\u001b[39m_default_result_or_future \u001b[38;5;241m=\u001b[39m \u001b[43mray\u001b[49m\u001b[38;5;241;43m.\u001b[39;49m\u001b[43mget\u001b[49m\u001b[43m(\u001b[49m\n\u001b[0;32m    386\u001b[0m \u001b[43m            \u001b[49m\u001b[38;5;28;43mself\u001b[39;49m\u001b[38;5;241;43m.\u001b[39;49m\u001b[43m_default_result_or_future\u001b[49m\u001b[43m)\u001b[49m\n\u001b[0;32m    387\u001b[0m     \u001b[38;5;28;01mexcept\u001b[39;00m RayActorError:  \u001b[38;5;66;03m# error during initialization\u001b[39;00m\n\u001b[0;32m    388\u001b[0m         \u001b[38;5;28mself\u001b[39m\u001b[38;5;241m.\u001b[39m_default_result_or_future \u001b[38;5;241m=\u001b[39m \u001b[38;5;28;01mNone\u001b[39;00m\n",
      "File \u001b[1;32m~\\AppData\\Local\\pypoetry\\Cache\\virtualenvs\\bondtrading-jbUXhQqa-py3.9\\lib\\site-packages\\ray\\_private\\client_mode_hook.py:105\u001b[0m, in \u001b[0;36mclient_mode_hook.<locals>.wrapper\u001b[1;34m(*args, **kwargs)\u001b[0m\n\u001b[0;32m    103\u001b[0m     \u001b[38;5;28;01mif\u001b[39;00m func\u001b[38;5;241m.\u001b[39m\u001b[38;5;18m__name__\u001b[39m \u001b[38;5;241m!=\u001b[39m \u001b[38;5;124m\"\u001b[39m\u001b[38;5;124minit\u001b[39m\u001b[38;5;124m\"\u001b[39m \u001b[38;5;129;01mor\u001b[39;00m is_client_mode_enabled_by_default:\n\u001b[0;32m    104\u001b[0m         \u001b[38;5;28;01mreturn\u001b[39;00m \u001b[38;5;28mgetattr\u001b[39m(ray, func\u001b[38;5;241m.\u001b[39m\u001b[38;5;18m__name__\u001b[39m)(\u001b[38;5;241m*\u001b[39margs, \u001b[38;5;241m*\u001b[39m\u001b[38;5;241m*\u001b[39mkwargs)\n\u001b[1;32m--> 105\u001b[0m \u001b[38;5;28;01mreturn\u001b[39;00m func(\u001b[38;5;241m*\u001b[39margs, \u001b[38;5;241m*\u001b[39m\u001b[38;5;241m*\u001b[39mkwargs)\n",
      "File \u001b[1;32m~\\AppData\\Local\\pypoetry\\Cache\\virtualenvs\\bondtrading-jbUXhQqa-py3.9\\lib\\site-packages\\ray\\worker.py:1706\u001b[0m, in \u001b[0;36mget\u001b[1;34m(object_refs, timeout)\u001b[0m\n\u001b[0;32m   1702\u001b[0m     \u001b[38;5;28;01mraise\u001b[39;00m \u001b[38;5;167;01mValueError\u001b[39;00m(\u001b[38;5;124m\"\u001b[39m\u001b[38;5;124m'\u001b[39m\u001b[38;5;124mobject_refs\u001b[39m\u001b[38;5;124m'\u001b[39m\u001b[38;5;124m must either be an object ref \u001b[39m\u001b[38;5;124m\"\u001b[39m\n\u001b[0;32m   1703\u001b[0m                      \u001b[38;5;124m\"\u001b[39m\u001b[38;5;124mor a list of object refs.\u001b[39m\u001b[38;5;124m\"\u001b[39m)\n\u001b[0;32m   1705\u001b[0m \u001b[38;5;66;03m# TODO(ujvl): Consider how to allow user to retrieve the ready objects.\u001b[39;00m\n\u001b[1;32m-> 1706\u001b[0m values, debugger_breakpoint \u001b[38;5;241m=\u001b[39m \u001b[43mworker\u001b[49m\u001b[38;5;241;43m.\u001b[39;49m\u001b[43mget_objects\u001b[49m\u001b[43m(\u001b[49m\n\u001b[0;32m   1707\u001b[0m \u001b[43m    \u001b[49m\u001b[43mobject_refs\u001b[49m\u001b[43m,\u001b[49m\u001b[43m \u001b[49m\u001b[43mtimeout\u001b[49m\u001b[38;5;241;43m=\u001b[39;49m\u001b[43mtimeout\u001b[49m\u001b[43m)\u001b[49m\n\u001b[0;32m   1708\u001b[0m \u001b[38;5;28;01mfor\u001b[39;00m i, value \u001b[38;5;129;01min\u001b[39;00m \u001b[38;5;28menumerate\u001b[39m(values):\n\u001b[0;32m   1709\u001b[0m     \u001b[38;5;28;01mif\u001b[39;00m \u001b[38;5;28misinstance\u001b[39m(value, RayError):\n",
      "File \u001b[1;32m~\\AppData\\Local\\pypoetry\\Cache\\virtualenvs\\bondtrading-jbUXhQqa-py3.9\\lib\\site-packages\\ray\\worker.py:353\u001b[0m, in \u001b[0;36mWorker.get_objects\u001b[1;34m(self, object_refs, timeout)\u001b[0m\n\u001b[0;32m    348\u001b[0m         \u001b[38;5;28;01mraise\u001b[39;00m \u001b[38;5;167;01mTypeError\u001b[39;00m(\n\u001b[0;32m    349\u001b[0m             \u001b[38;5;124mf\u001b[39m\u001b[38;5;124m\"\u001b[39m\u001b[38;5;124mAttempting to call `get` on the value \u001b[39m\u001b[38;5;132;01m{\u001b[39;00mobject_ref\u001b[38;5;132;01m}\u001b[39;00m\u001b[38;5;124m, \u001b[39m\u001b[38;5;124m\"\u001b[39m\n\u001b[0;32m    350\u001b[0m             \u001b[38;5;124m\"\u001b[39m\u001b[38;5;124mwhich is not an ray.ObjectRef.\u001b[39m\u001b[38;5;124m\"\u001b[39m)\n\u001b[0;32m    352\u001b[0m timeout_ms \u001b[38;5;241m=\u001b[39m \u001b[38;5;28mint\u001b[39m(timeout \u001b[38;5;241m*\u001b[39m \u001b[38;5;241m1000\u001b[39m) \u001b[38;5;28;01mif\u001b[39;00m timeout \u001b[38;5;28;01melse\u001b[39;00m \u001b[38;5;241m-\u001b[39m\u001b[38;5;241m1\u001b[39m\n\u001b[1;32m--> 353\u001b[0m data_metadata_pairs \u001b[38;5;241m=\u001b[39m \u001b[38;5;28;43mself\u001b[39;49m\u001b[38;5;241;43m.\u001b[39;49m\u001b[43mcore_worker\u001b[49m\u001b[38;5;241;43m.\u001b[39;49m\u001b[43mget_objects\u001b[49m\u001b[43m(\u001b[49m\n\u001b[0;32m    354\u001b[0m \u001b[43m    \u001b[49m\u001b[43mobject_refs\u001b[49m\u001b[43m,\u001b[49m\u001b[43m \u001b[49m\u001b[38;5;28;43mself\u001b[39;49m\u001b[38;5;241;43m.\u001b[39;49m\u001b[43mcurrent_task_id\u001b[49m\u001b[43m,\u001b[49m\u001b[43m \u001b[49m\u001b[43mtimeout_ms\u001b[49m\u001b[43m)\u001b[49m\n\u001b[0;32m    355\u001b[0m debugger_breakpoint \u001b[38;5;241m=\u001b[39m \u001b[38;5;124mb\u001b[39m\u001b[38;5;124m\"\u001b[39m\u001b[38;5;124m\"\u001b[39m\n\u001b[0;32m    356\u001b[0m \u001b[38;5;28;01mfor\u001b[39;00m (data, metadata) \u001b[38;5;129;01min\u001b[39;00m data_metadata_pairs:\n",
      "File \u001b[1;32mpython\\ray\\_raylet.pyx:1163\u001b[0m, in \u001b[0;36mray._raylet.CoreWorker.get_objects\u001b[1;34m()\u001b[0m\n",
      "File \u001b[1;32mpython\\ray\\_raylet.pyx:154\u001b[0m, in \u001b[0;36mray._raylet.check_status\u001b[1;34m()\u001b[0m\n",
      "\u001b[1;31mKeyboardInterrupt\u001b[0m: "
     ]
    }
   ],
   "source": [
    "analysis = hyper.hypertune(config)"
   ]
  },
  {
   "cell_type": "code",
   "execution_count": null,
   "metadata": {},
   "outputs": [],
   "source": [
    "config = analysis.get_best_config()\n",
    "config"
   ]
  },
  {
   "cell_type": "code",
   "execution_count": null,
   "metadata": {},
   "outputs": [],
   "source": [
    "window_size = config[\"window\"]\n",
    "horizon = config[\"horizon\"]\n",
    "train_set = make_dataset.windowed_dataset(\n",
    "    train, window_size, batch_size=32, shuffle_buffer=25, horizon=horizon\n",
    ")\n",
    "valid_set = make_dataset.windowed_dataset(\n",
    "    train, window_size, batch_size=32, shuffle_buffer=25, horizon=horizon\n",
    ")"
   ]
  },
  {
   "cell_type": "code",
   "execution_count": null,
   "metadata": {},
   "outputs": [],
   "source": [
    "reduce_lr = ReduceLROnPlateau(\n",
    "    monitor=\"val_loss\", factor=0.5, patience=5, min_lr=1e-5\n",
    ")\n",
    "opt = tf.keras.optimizers.get(config[\"optimizer\"])\n",
    "opt.momentum = 0.9\n",
    "opt.learning_rate = 0.01\n",
    "model = hyper.HyperRnn(config)\n",
    "model.compile(loss=\"mse\", optimizer=opt, metrics=[\"mae\", \"mape\", smae])\n",
    "\n",
    "result[\"hypertuned\"] = model.fit(\n",
    "        train_set,\n",
    "        epochs=150,\n",
    "        validation_data=valid_set,\n",
    "        callbacks=[reduce_lr, early_stop],\n",
    "    )\n"
   ]
  },
  {
   "cell_type": "code",
   "execution_count": null,
   "metadata": {},
   "outputs": [],
   "source": [
    "plt.figure(figsize=(8,8))\n",
    "evaluate.naive(result, ylim=1.5)"
   ]
  },
  {
   "cell_type": "code",
   "execution_count": null,
   "metadata": {},
   "outputs": [],
   "source": [
    "evaluate.plot_results(result, ymax = 0.1)"
   ]
  },
  {
   "cell_type": "code",
   "execution_count": null,
   "metadata": {},
   "outputs": [],
   "source": [
    "pred = evaluate.generate_prediction(model, test, window = window_size, horizon = horizon)"
   ]
  },
  {
   "cell_type": "code",
   "execution_count": null,
   "metadata": {},
   "outputs": [],
   "source": [
    "pred = evaluate.generate_prediction(model, test, window = window_size, horizon = 4)"
   ]
  }
 ],
 "metadata": {
  "interpreter": {
   "hash": "1389c38e18b09211742924e4a6d3a03ddfed7e517446f32e6ff0b8f71d44711b"
  },
  "kernelspec": {
   "display_name": "Python 3.9.6 64-bit ('bondtrading-jbUXhQqa-py3.9': venv)",
   "language": "python",
   "name": "python3"
  },
  "language_info": {
   "codemirror_mode": {
    "name": "ipython",
    "version": 3
   },
   "file_extension": ".py",
   "mimetype": "text/x-python",
   "name": "python",
   "nbconvert_exporter": "python",
   "pygments_lexer": "ipython3",
   "version": "3.9.6"
  },
  "orig_nbformat": 4
 },
 "nbformat": 4,
 "nbformat_minor": 2
}
