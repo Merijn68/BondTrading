{
 "cells": [
  {
   "cell_type": "code",
   "execution_count": 1,
   "metadata": {},
   "outputs": [],
   "source": [
    "try:\n",
    "    # %tensorflow_version only exists in Colab.\n",
    "    %tensorflow_version 2.x\n",
    "    IS_COLAB = True\n",
    "except Exception:\n",
    "    IS_COLAB = False\n",
    "\n",
    "if IS_COLAB:\n",
    "    !git clone https://github.com/Merijn68/BondTrading.git    \n",
    "    %pip install -q \"ray[tune]\" bayesian-optimization\n",
    "    %pip install loguru tensorflow-addons"
   ]
  },
  {
   "cell_type": "markdown",
   "metadata": {},
   "source": [
    "# Base model\n",
    "\n",
    "In eerste instantie wordt een naive voorspelling gemaakt voor de bond markt. Het doel hiervan is om een benchmark te hebben waarmee de andere modellen kunnen worden vergeleken. We voorspellen voor 1 bond voor 10 dagen vooruit wat de bond prijs gaat doen. Idealiter zouden we de prijsontwikkeling van meerdere (alle) staatsobligaties tegelijk willen voorspellen, zodat het model op 1 moment kan aangeven welke bond een betere investering zou zijn. Maar 1 stap tegelijk."
   ]
  },
  {
   "cell_type": "code",
   "execution_count": 2,
   "metadata": {},
   "outputs": [],
   "source": [
    "%load_ext autoreload\n",
    "%autoreload 2\n",
    "\n",
    "import sys\n",
    "import math\n",
    "import matplotlib.pyplot as plt\n",
    "sys.path.insert(0, \"..\")\n",
    "from src.data import make_dataset\n",
    "from src.models import window, evaluate, base_model\n",
    "from pathlib import Path\n",
    "datadir = Path(\"../data/raw\")\n",
    "\n",
    "import tensorflow as tf\n",
    "import numpy as np"
   ]
  },
  {
   "cell_type": "code",
   "execution_count": 3,
   "metadata": {},
   "outputs": [
    {
     "name": "stderr",
     "output_type": "stream",
     "text": [
      "2022-01-14 16:15:05.209 | INFO     | src.data.make_dataset:read_pkl:377 - Load preprocessed price data\n"
     ]
    }
   ],
   "source": [
    "df_price = make_dataset.read_pkl('price')\n",
    "isin = \"DE0001102374\" # 10 Years NL Bond, maturity 2025 0.5% coupon\n",
    "df_isin = df_price[df_price['reference_identifier'] == isin]\n",
    "df_isin = df_isin.set_index('rate_dt')\n",
    "df_isin = df_isin.sort_index()"
   ]
  },
  {
   "cell_type": "code",
   "execution_count": 4,
   "metadata": {},
   "outputs": [
    {
     "data": {
      "text/plain": [
       "<AxesSubplot:xlabel='rate_dt'>"
      ]
     },
     "execution_count": 4,
     "metadata": {},
     "output_type": "execute_result"
    },
    {
     "data": {
      "image/png": "[encoded data removed]",
      "text/plain": [
       "<Figure size 432x288 with 1 Axes>"
      ]
     },
     "metadata": {
      "needs_background": "light"
     },
     "output_type": "display_data"
    }
   ],
   "source": [
    "series = df_isin['mid']\n",
    "split = math.floor(len(series) * .70)\n",
    "\n",
    "# Train test split\n",
    "train = series[:split]\n",
    "norm = max(train)\n",
    "test = series[split:]\n",
    "train = train / norm\n",
    "test = test / norm\n",
    "train.plot(label = \"train\",legend=True)\n",
    "test.plot(label =\"test\",legend=True)"
   ]
  },
  {
   "cell_type": "code",
   "execution_count": 5,
   "metadata": {},
   "outputs": [
    {
     "data": {
      "text/plain": [
       "((1245,), (534,))"
      ]
     },
     "execution_count": 5,
     "metadata": {},
     "output_type": "execute_result"
    }
   ],
   "source": [
    "(train.shape, test.shape)"
   ]
  },
  {
   "cell_type": "code",
   "execution_count": 6,
   "metadata": {},
   "outputs": [],
   "source": [
    "# Create a windowed dataset from the data\n",
    "window_size = 32 \n",
    "batch_size = 32\n",
    "shuffle_buffer = 2\n",
    "horizon = 10\n",
    "train_set = window.windowed_dataset(train, window_size, batch_size, shuffle_buffer, horizon=horizon)\n",
    "valid_set = window.windowed_dataset(test, window_size, batch_size, shuffle_buffer, horizon=horizon)"
   ]
  },
  {
   "cell_type": "code",
   "execution_count": 7,
   "metadata": {},
   "outputs": [
    {
     "data": {
      "text/plain": [
       "(TensorShape([32, 32]), TensorShape([32, 10]))"
      ]
     },
     "execution_count": 7,
     "metadata": {},
     "output_type": "execute_result"
    }
   ],
   "source": [
    "x, y = next(iter(train_set))\n",
    "x.shape, y.shape"
   ]
  },
  {
   "cell_type": "code",
   "execution_count": 8,
   "metadata": {},
   "outputs": [
    {
     "name": "stdout",
     "output_type": "stream",
     "text": [
      "0.00407483552631579\n"
     ]
    }
   ],
   "source": [
    "# This needs to move somewhere else...\n",
    "\n",
    "maelist = []\n",
    "for x, y in train_set:      \n",
    "    x = x[:, -1] # get the last value of every batch\n",
    "    size = tf.size(x) # this will be the batchsize, so mostly 32\n",
    "    yhat = tf.broadcast_to(tf.reshape(x, [size,1]), [size, horizon]) # broadcast\n",
    "    mae = np.mean(np.abs(yhat - y)) # calculate mae\n",
    "    maelist.append(mae)\n",
    "norm = np.mean(maelist)\n",
    "print(norm)\n",
    "smae = evaluate.ScaledMAE(scale=norm)\n"
   ]
  },
  {
   "cell_type": "code",
   "execution_count": 9,
   "metadata": {},
   "outputs": [
    {
     "data": {
      "text/plain": [
       "(0.0017166150484410488, 6.262746686111532e-06, 1.003087633997175)"
      ]
     },
     "execution_count": 9,
     "metadata": {},
     "output_type": "execute_result"
    }
   ],
   "source": [
    "# 1 step naive prediction\n",
    "y, yhat = base_model.naivepredict(train.values)\n",
    "norm = evaluate.mae(y, yhat)\n",
    "norm, evaluate.mse(y, yhat), evaluate.mase(y, yhat)"
   ]
  },
  {
   "cell_type": "markdown",
   "metadata": {},
   "source": [
    "Een eenvoudig referentie model"
   ]
  },
  {
   "cell_type": "code",
   "execution_count": 10,
   "metadata": {},
   "outputs": [],
   "source": [
    "%load_ext tensorboard"
   ]
  },
  {
   "cell_type": "code",
   "execution_count": 11,
   "metadata": {},
   "outputs": [],
   "source": [
    "result = {}"
   ]
  },
  {
   "cell_type": "code",
   "execution_count": 12,
   "metadata": {},
   "outputs": [],
   "source": [
    "from tensorflow.keras.models import Sequential\n",
    "import tensorflow.keras.layers as tfl\n",
    "from tensorflow.keras.callbacks import TensorBoard, EarlyStopping\n",
    "from tensorflow.keras.optimizers import Adam\n",
    "\n",
    "early_stop = EarlyStopping(patience=5, restore_best_weights=True)\n",
    "\n",
    "model = Sequential([    \n",
    "        tfl.Reshape((window_size, 1)),\n",
    "        tfl.SimpleRNN(1),\n",
    "        tfl.Dense(horizon)\n",
    "    ])\n",
    "early_stop = EarlyStopping(patience=10, restore_best_weights=True)\n"
   ]
  },
  {
   "cell_type": "code",
   "execution_count": 13,
   "metadata": {},
   "outputs": [
    {
     "name": "stdout",
     "output_type": "stream",
     "text": [
      "16/16 [==============================] - 0s 15ms/step - loss: 3.1021e-05 - mae: 0.0046 - smae: 1.1282\n",
      "lr: 0.01 [3.102124173892662e-05, 0.004597429186105728, 1.1282490491867065]\n",
      "16/16 [==============================] - 1s 29ms/step - loss: 6.8155e-05 - mae: 0.0067 - smae: 1.6470\n",
      "lr: 0.001 [6.815462256781757e-05, 0.0067113894037902355, 1.6470333337783813]\n",
      "16/16 [==============================] - 0s 18ms/step - loss: 1.0751e-04 - mae: 0.0089 - smae: 2.1882\n",
      "lr: 0.0001 [0.00010750814544735476, 0.008916357532143593, 2.1881511211395264]\n"
     ]
    }
   ],
   "source": [
    "\n",
    "for lr in [1e-2, 1e-3, 1e-4]:\n",
    "    name = f\"simpleRNN_Adam{lr}\"\n",
    "    logdir = Path(\"logs\") / name\n",
    "    tb = TensorBoard(logdir, histogram_freq=1)    \n",
    "    model.compile(loss=\"mse\", optimizer=Adam(learning_rate=lr), metrics=[\"mae\", smae])\n",
    "    result[name] = model.fit(train_set,epochs=200, validation_data=valid_set, callbacks=[early_stop, tb], verbose=0)\n",
    "    print('lr:', lr, model.evaluate(valid_set))"
   ]
  },
  {
   "cell_type": "code",
   "execution_count": 14,
   "metadata": {},
   "outputs": [
    {
     "data": {
      "text/plain": [
       "Reusing TensorBoard on port 6006 (pid 17560), started 3:13:47 ago. (Use '!kill 17560' to kill it.)"
      ]
     },
     "metadata": {},
     "output_type": "display_data"
    },
    {
     "data": {
      "text/html": [
       "\n",
       "      <iframe id=\"tensorboard-frame-bb55ac7e1407f156\" width=\"100%\" height=\"800\" frameborder=\"0\">\n",
       "      </iframe>\n",
       "      <script>\n",
       "        (function() {\n",
       "          const frame = document.getElementById(\"tensorboard-frame-bb55ac7e1407f156\");\n",
       "          const url = new URL(\"http://localhost\");\n",
       "          const port = 6006;\n",
       "          if (port) {\n",
       "            url.port = port;\n",
       "          }\n",
       "          frame.src = url;\n",
       "        })();\n",
       "      </script>\n",
       "    "
      ],
      "text/plain": [
       "<IPython.core.display.HTML object>"
      ]
     },
     "metadata": {},
     "output_type": "display_data"
    }
   ],
   "source": [
    "%tensorboard --logdir logs"
   ]
  },
  {
   "cell_type": "markdown",
   "metadata": {},
   "source": [
    "Het blijkt moeilijk om de naive voorspelling te verbeteren. Een hogere learning rate is zeker in het begin nodig. Na max 10 epochs is het model dan ook wel uitgeleerd en kunnen we waarschijnlijk beter met een lagere learning rate verder gaan."
   ]
  },
  {
   "cell_type": "code",
   "execution_count": 15,
   "metadata": {},
   "outputs": [
    {
     "data": {
      "image/png": "[encoded data removed]",
      "text/plain": [
       "<Figure size 1080x720 with 2 Axes>"
      ]
     },
     "metadata": {
      "needs_background": "light"
     },
     "output_type": "display_data"
    }
   ],
   "source": [
    "from src.models import evaluate\n",
    "evaluate.plot_results(result, ymax = 0.05, subset=\"simple\")"
   ]
  },
  {
   "cell_type": "code",
   "execution_count": 16,
   "metadata": {},
   "outputs": [
    {
     "data": {
      "text/plain": [
       "dict_keys(['simpleRNN_Adam0.01', 'simpleRNN_Adam0.001', 'simpleRNN_Adam0.0001'])"
      ]
     },
     "execution_count": 16,
     "metadata": {},
     "output_type": "execute_result"
    }
   ],
   "source": [
    "result.keys()"
   ]
  },
  {
   "cell_type": "code",
   "execution_count": 17,
   "metadata": {},
   "outputs": [
    {
     "data": {
      "image/png": "[encoded data removed]",
      "text/plain": [
       "<Figure size 432x288 with 1 Axes>"
      ]
     },
     "metadata": {
      "needs_background": "light"
     },
     "output_type": "display_data"
    }
   ],
   "source": [
    "plt.figsize=(8,12)\n",
    "evaluate.naive(result, ylim=5.0, subset=\"simple\")"
   ]
  },
  {
   "cell_type": "code",
   "execution_count": 18,
   "metadata": {},
   "outputs": [],
   "source": [
    "from tensorflow.keras.callbacks import ReduceLROnPlateau\n",
    "\n",
    "name = f\"simpleRNN_Adam_rlr\"\n",
    "logdir = Path(\"logs\") / name\n",
    "tb = TensorBoard(logdir, histogram_freq=1)\n",
    "lr = 0.01\n",
    "\n",
    "reduce_lr = ReduceLROnPlateau(monitor='smae', factor=0.5,\n",
    "                              patience=3, min_lr=1e-5)\n",
    "model.compile(loss=\"mse\", optimizer=Adam(learning_rate = lr), metrics=[\"mae\", smae])                              \n",
    "result[name] = model.fit(train_set, epochs=200, validation_data=valid_set, callbacks=[reduce_lr, early_stop, tb], verbose=0)"
   ]
  },
  {
   "cell_type": "markdown",
   "metadata": {},
   "source": [
    "Ook wanneer we de learning rate reduceren wordt het model niet veek beter. Na 7 epochs is het resultaat wel beter dan het naive model."
   ]
  },
  {
   "cell_type": "markdown",
   "metadata": {},
   "source": [
    "Uitbreiden van het model"
   ]
  },
  {
   "cell_type": "code",
   "execution_count": 19,
   "metadata": {},
   "outputs": [
    {
     "data": {
      "text/plain": [
       "{'name': 'Adam',\n",
       " 'learning_rate': 0.1,\n",
       " 'decay': 0.0,\n",
       " 'beta_1': 0.9,\n",
       " 'beta_2': 0.999,\n",
       " 'epsilon': 1e-07,\n",
       " 'amsgrad': False}"
      ]
     },
     "execution_count": 19,
     "metadata": {},
     "output_type": "execute_result"
    }
   ],
   "source": [
    "opt = tf.keras.optimizers.get('Adam')\n",
    "opt.learning_rate = 0.1\n",
    "opt.get_config()"
   ]
  },
  {
   "cell_type": "code",
   "execution_count": 20,
   "metadata": {},
   "outputs": [
    {
     "name": "stderr",
     "output_type": "stream",
     "text": [
      "  0%|          | 0/3 [00:00<?, ?it/s]"
     ]
    },
    {
     "name": "stdout",
     "output_type": "stream",
     "text": [
      "16/16 [==============================] - 0s 19ms/step - loss: 6.3039e-05 - mae: 0.0065 - mape: 0.6703 - smae: 1.6032\n"
     ]
    },
    {
     "name": "stderr",
     "output_type": "stream",
     "text": [
      " 33%|███▎      | 1/3 [03:02<06:04, 182.44s/it]"
     ]
    },
    {
     "name": "stdout",
     "output_type": "stream",
     "text": [
      "opt: Adam [6.303933332674205e-05, 0.0065329414792358875, 0.6703067421913147, 1.603240728378296]\n",
      "16/16 [==============================] - 0s 23ms/step - loss: 1.2532e-04 - mae: 0.0088 - mape: 0.9032 - smae: 2.1624\n"
     ]
    },
    {
     "name": "stderr",
     "output_type": "stream",
     "text": [
      " 67%|██████▋   | 2/3 [18:14<10:11, 611.52s/it]"
     ]
    },
    {
     "name": "stdout",
     "output_type": "stream",
     "text": [
      "opt: SGD [0.00012532004620879889, 0.008811268955469131, 0.9031656384468079, 2.1623616218566895]\n",
      "16/16 [==============================] - 0s 17ms/step - loss: 5.0683e-05 - mae: 0.0060 - mape: 0.6205 - smae: 1.4825\n"
     ]
    },
    {
     "name": "stderr",
     "output_type": "stream",
     "text": [
      "100%|██████████| 3/3 [22:32<00:00, 450.70s/it]"
     ]
    },
    {
     "name": "stdout",
     "output_type": "stream",
     "text": [
      "opt: RMSprop [5.068312384537421e-05, 0.006041141226887703, 0.6204524040222168, 1.482548475265503]\n"
     ]
    },
    {
     "name": "stderr",
     "output_type": "stream",
     "text": [
      "\n"
     ]
    }
   ],
   "source": [
    "from src.models import hyper\n",
    "from tqdm import tqdm\n",
    "\n",
    "config = {\n",
    "    'window'    :   32,\n",
    "    'filters'   :   16,\n",
    "    'kernel'    :   4,    \n",
    "    'units'     :   16,    \n",
    "    'hidden'    :   1, \n",
    "    'horizon'   :   horizon,\n",
    "    'type'      :   'RNN'    \n",
    "}\n",
    "\n",
    "for key in tqdm([\"Adam\", \"SGD\", \"RMSprop\"]):\n",
    "    early_stop = EarlyStopping(patience=15, restore_best_weights=True)\n",
    "\n",
    "    name = f\"16_RNN_{key}\"\n",
    "    logdir = Path(\"logs\") / name\n",
    "    tb = TensorBoard(logdir, histogram_freq=1)\n",
    "    \n",
    "    opt = tf.keras.optimizers.get(key)\n",
    "    opt.momentum = 0.9\n",
    "    opt.learning_rate = 0.01\n",
    "\n",
    "    model = hyper.HyperRnn(config)\n",
    "    model.compile(loss=\"mse\",\n",
    "          optimizer=opt,\n",
    "          metrics=[\"mae\", \"mape\", smae])\n",
    "\n",
    "    result[name] = model.fit(train_set,epochs=200,callbacks=[tb, early_stop, reduce_lr],\n",
    "                            validation_data=valid_set, verbose=0)\n",
    "    print('opt:', key, model.evaluate(valid_set))"
   ]
  },
  {
   "cell_type": "code",
   "execution_count": 21,
   "metadata": {},
   "outputs": [
    {
     "data": {
      "image/png": "[encoded data removed]",
      "text/plain": [
       "<Figure size 1080x1080 with 3 Axes>"
      ]
     },
     "metadata": {
      "needs_background": "light"
     },
     "output_type": "display_data"
    }
   ],
   "source": [
    "evaluate.plot_results(result, ymax = 5, subset=\"16\",grid = True, measure = 'smae')"
   ]
  },
  {
   "cell_type": "markdown",
   "metadata": {},
   "source": [
    "Het wordt er niet beter op. RMSprop lijkt iets beter te leren. Opvallend verder dat de modellen het allemaal beter doen op de validatie set dan op de training set."
   ]
  },
  {
   "cell_type": "code",
   "execution_count": 22,
   "metadata": {},
   "outputs": [
    {
     "data": {
      "image/png": "[encoded data removed]",
      "text/plain": [
       "<Figure size 432x288 with 1 Axes>"
      ]
     },
     "metadata": {
      "needs_background": "light"
     },
     "output_type": "display_data"
    }
   ],
   "source": [
    "plt.figsize=(8,12)\n",
    "evaluate.naive(result, ylim=5.0, subset=\"16\")"
   ]
  },
  {
   "cell_type": "markdown",
   "metadata": {},
   "source": [
    "Deeper models with memory..."
   ]
  },
  {
   "cell_type": "code",
   "execution_count": 23,
   "metadata": {},
   "outputs": [
    {
     "name": "stderr",
     "output_type": "stream",
     "text": [
      "  0%|          | 0/3 [00:00<?, ?it/s]"
     ]
    },
    {
     "name": "stdout",
     "output_type": "stream",
     "text": [
      "16/16 [==============================] - 0s 18ms/step - loss: 1.9435e-05 - mae: 0.0034 - mape: 0.3515 - smae: 0.8388\n"
     ]
    },
    {
     "name": "stderr",
     "output_type": "stream",
     "text": [
      " 33%|███▎      | 1/3 [00:17<00:34, 17.42s/it]"
     ]
    },
    {
     "name": "stdout",
     "output_type": "stream",
     "text": [
      "opt: Adam [1.943487222888507e-05, 0.003417982254177332, 0.3514636158943176, 0.8388026356697083]\n",
      "16/16 [==============================] - 0s 10ms/step - loss: 2.7641e-05 - mae: 0.0041 - mape: 0.4243 - smae: 1.0168\n"
     ]
    },
    {
     "name": "stderr",
     "output_type": "stream",
     "text": [
      " 67%|██████▋   | 2/3 [02:42<01:32, 92.72s/it]"
     ]
    },
    {
     "name": "stdout",
     "output_type": "stream",
     "text": [
      "opt: SGD [2.7640660846373066e-05, 0.004143249709159136, 0.4243396520614624, 1.016789436340332]\n",
      "16/16 [==============================] - 0s 13ms/step - loss: 4.8055e-05 - mae: 0.0056 - mape: 0.5801 - smae: 1.3803\n"
     ]
    },
    {
     "name": "stderr",
     "output_type": "stream",
     "text": [
      "100%|██████████| 3/3 [03:24<00:00, 68.29s/it]"
     ]
    },
    {
     "name": "stdout",
     "output_type": "stream",
     "text": [
      "opt: RMSprop [4.805513526662253e-05, 0.005624391138553619, 0.5801055431365967, 1.3802744150161743]\n"
     ]
    },
    {
     "name": "stderr",
     "output_type": "stream",
     "text": [
      "\n"
     ]
    }
   ],
   "source": [
    "reduce_lr = ReduceLROnPlateau(monitor='smae', factor=0.5,\n",
    "                              patience=3, min_lr=1e-5)\n",
    "\n",
    "config = {\n",
    "    \"window\" : window_size,\n",
    "    \"filters\" : 64,\n",
    "    \"kernel\" : 3,\n",
    "    \"type\" : \"GRU\",\n",
    "    \"units\" : 128,\n",
    "    \"hidden\" : 4,\n",
    "    \"horizon\" : horizon,\n",
    "}\n",
    "\n",
    "for key in tqdm([\"Adam\", \"SGD\", \"RMSprop\"]):\n",
    "    early_stop = EarlyStopping(patience=15, restore_best_weights=True)\n",
    "\n",
    "    name = f\"GRU_{key}\"\n",
    "    logdir = Path(\"logs\") / name\n",
    "    tb = TensorBoard(logdir, histogram_freq=1)\n",
    "\n",
    "    opt = tf.keras.optimizers.get(key)\n",
    "    opt.momentum = 0.9\n",
    "    opt.learning_rate = 0.01\n",
    "\n",
    "    model = hyper.HyperRnn(config)\n",
    "    model.compile(loss=\"mse\",\n",
    "          optimizer=opt,\n",
    "          metrics=[\"mae\", \"mape\", smae])\n",
    "    \n",
    "    result[name] = model.fit(train_set,epochs=200,callbacks=[tb, early_stop, reduce_lr],\n",
    "                            validation_data=valid_set, verbose=0)\n",
    "    print('opt:', key, model.evaluate(valid_set))"
   ]
  },
  {
   "cell_type": "code",
   "execution_count": 24,
   "metadata": {},
   "outputs": [
    {
     "data": {
      "image/png": "[encoded data removed]",
      "text/plain": [
       "<Figure size 432x288 with 1 Axes>"
      ]
     },
     "metadata": {
      "needs_background": "light"
     },
     "output_type": "display_data"
    }
   ],
   "source": [
    "plt.figsize=(8,12)\n",
    "evaluate.naive(result, ylim=3.0, subset=\"GRU\")"
   ]
  },
  {
   "cell_type": "markdown",
   "metadata": {},
   "source": [
    "Modellen met historie doen het aanzienlijk beter - zoals verwacht. De RMSprop optimizer lijkt het nu juist weer een stuk minder goed te doen."
   ]
  },
  {
   "cell_type": "code",
   "execution_count": 25,
   "metadata": {},
   "outputs": [],
   "source": [
    "# Hypertune\n",
    "\n",
    "from ray import tune\n",
    "config = {\n",
    "    \"datadir\" : Path(\"data\").absolute(),\n",
    "    \"grace_period\" : 3,\n",
    "    \"local_dir\" : \"logs\",\n",
    "    \"epochs\" : 20,\n",
    "    \"samples\" : 25,\n",
    "    \"window\" : tune.randint(16, 52),\n",
    "    \"filters\" : tune.randint(8, 32),\n",
    "    \"kernel\" : 3,\n",
    "    \"type\" : tune.choice([\"GRU\", \"LSTM\"]),\n",
    "    \"optimizer\" : tune.choice([\"Adam\", \"RMSprop\"]),\n",
    "    \"hidden\" : tune.randint(1, 5),\n",
    "    \"units\" : tune.qrandint(64, 256, 16),\n",
    "    \"horizon\" : 10,\n",
    "}"
   ]
  },
  {
   "cell_type": "code",
   "execution_count": 26,
   "metadata": {},
   "outputs": [
    {
     "data": {
      "text/html": [
       "== Status ==<br>Current time: 2022-01-14 16:46:49 (running for 00:00:10.60)<br>Memory usage on this node: 9.8/16.0 GiB<br>Using AsyncHyperBand: num_stopped=0\n",
       "Bracket: Iter 192.000: None | Iter 48.000: None | Iter 12.000: None | Iter 3.000: None<br>Resources requested: 4.0/8 CPUs, 1.0/1 GPUs, 0.0/3.92 GiB heap, 0.0/1.96 GiB objects<br>Result logdir: c:\\Users\\M\\SkyDrive\\Documents\\GitHub\\BondTrading\\notebooks\\logs\\hypertune<br>Number of trials: 23/25 (6 ERROR, 16 PENDING, 1 RUNNING)<br><table>\n",
       "<thead>\n",
       "<tr><th>Trial name         </th><th>status  </th><th>loc            </th><th style=\"text-align: right;\">  filters</th><th style=\"text-align: right;\">  hidden</th><th>optimizer  </th><th>type  </th><th style=\"text-align: right;\">  units</th><th style=\"text-align: right;\">  window</th></tr>\n",
       "</thead>\n",
       "<tbody>\n",
       "<tr><td>wrapper_290ff_00006</td><td>RUNNING </td><td>127.0.0.1:10664</td><td style=\"text-align: right;\">       17</td><td style=\"text-align: right;\">       4</td><td>RMSprop    </td><td>GRU   </td><td style=\"text-align: right;\">    128</td><td style=\"text-align: right;\">      35</td></tr>\n",
       "<tr><td>wrapper_290ff_00007</td><td>PENDING </td><td>               </td><td style=\"text-align: right;\">       18</td><td style=\"text-align: right;\">       2</td><td>Adam       </td><td>GRU   </td><td style=\"text-align: right;\">     64</td><td style=\"text-align: right;\">      45</td></tr>\n",
       "<tr><td>wrapper_290ff_00008</td><td>PENDING </td><td>               </td><td style=\"text-align: right;\">       29</td><td style=\"text-align: right;\">       1</td><td>RMSprop    </td><td>GRU   </td><td style=\"text-align: right;\">    112</td><td style=\"text-align: right;\">      16</td></tr>\n",
       "<tr><td>wrapper_290ff_00009</td><td>PENDING </td><td>               </td><td style=\"text-align: right;\">       15</td><td style=\"text-align: right;\">       1</td><td>Adam       </td><td>LSTM  </td><td style=\"text-align: right;\">    144</td><td style=\"text-align: right;\">      18</td></tr>\n",
       "<tr><td>wrapper_290ff_00010</td><td>PENDING </td><td>               </td><td style=\"text-align: right;\">       24</td><td style=\"text-align: right;\">       1</td><td>Adam       </td><td>GRU   </td><td style=\"text-align: right;\">    240</td><td style=\"text-align: right;\">      49</td></tr>\n",
       "<tr><td>wrapper_290ff_00011</td><td>PENDING </td><td>               </td><td style=\"text-align: right;\">        9</td><td style=\"text-align: right;\">       2</td><td>Adam       </td><td>GRU   </td><td style=\"text-align: right;\">    144</td><td style=\"text-align: right;\">      26</td></tr>\n",
       "<tr><td>wrapper_290ff_00012</td><td>PENDING </td><td>               </td><td style=\"text-align: right;\">       24</td><td style=\"text-align: right;\">       3</td><td>Adam       </td><td>GRU   </td><td style=\"text-align: right;\">    208</td><td style=\"text-align: right;\">      16</td></tr>\n",
       "<tr><td>wrapper_290ff_00013</td><td>PENDING </td><td>               </td><td style=\"text-align: right;\">       15</td><td style=\"text-align: right;\">       2</td><td>Adam       </td><td>GRU   </td><td style=\"text-align: right;\">    208</td><td style=\"text-align: right;\">      33</td></tr>\n",
       "<tr><td>wrapper_290ff_00014</td><td>PENDING </td><td>               </td><td style=\"text-align: right;\">       18</td><td style=\"text-align: right;\">       3</td><td>RMSprop    </td><td>LSTM  </td><td style=\"text-align: right;\">    224</td><td style=\"text-align: right;\">      23</td></tr>\n",
       "<tr><td>wrapper_290ff_00015</td><td>PENDING </td><td>               </td><td style=\"text-align: right;\">       29</td><td style=\"text-align: right;\">       1</td><td>Adam       </td><td>LSTM  </td><td style=\"text-align: right;\">     96</td><td style=\"text-align: right;\">      47</td></tr>\n",
       "<tr><td>wrapper_290ff_00016</td><td>PENDING </td><td>               </td><td style=\"text-align: right;\">       13</td><td style=\"text-align: right;\">       4</td><td>RMSprop    </td><td>LSTM  </td><td style=\"text-align: right;\">    192</td><td style=\"text-align: right;\">      28</td></tr>\n",
       "<tr><td>wrapper_290ff_00017</td><td>PENDING </td><td>               </td><td style=\"text-align: right;\">       30</td><td style=\"text-align: right;\">       1</td><td>RMSprop    </td><td>GRU   </td><td style=\"text-align: right;\">    208</td><td style=\"text-align: right;\">      50</td></tr>\n",
       "<tr><td>wrapper_290ff_00018</td><td>PENDING </td><td>               </td><td style=\"text-align: right;\">       18</td><td style=\"text-align: right;\">       4</td><td>Adam       </td><td>GRU   </td><td style=\"text-align: right;\">    144</td><td style=\"text-align: right;\">      35</td></tr>\n",
       "<tr><td>wrapper_290ff_00019</td><td>PENDING </td><td>               </td><td style=\"text-align: right;\">       23</td><td style=\"text-align: right;\">       4</td><td>RMSprop    </td><td>GRU   </td><td style=\"text-align: right;\">     96</td><td style=\"text-align: right;\">      39</td></tr>\n",
       "<tr><td>wrapper_290ff_00000</td><td>ERROR   </td><td>127.0.0.1:12408</td><td style=\"text-align: right;\">       14</td><td style=\"text-align: right;\">       2</td><td>RMSprop    </td><td>GRU   </td><td style=\"text-align: right;\">    176</td><td style=\"text-align: right;\">      40</td></tr>\n",
       "<tr><td>wrapper_290ff_00001</td><td>ERROR   </td><td>127.0.0.1:15764</td><td style=\"text-align: right;\">       22</td><td style=\"text-align: right;\">       3</td><td>Adam       </td><td>LSTM  </td><td style=\"text-align: right;\">    192</td><td style=\"text-align: right;\">      16</td></tr>\n",
       "<tr><td>wrapper_290ff_00002</td><td>ERROR   </td><td>127.0.0.1:15088</td><td style=\"text-align: right;\">       22</td><td style=\"text-align: right;\">       4</td><td>RMSprop    </td><td>GRU   </td><td style=\"text-align: right;\">    176</td><td style=\"text-align: right;\">      48</td></tr>\n",
       "<tr><td>wrapper_290ff_00003</td><td>ERROR   </td><td>127.0.0.1:19116</td><td style=\"text-align: right;\">       15</td><td style=\"text-align: right;\">       3</td><td>RMSprop    </td><td>LSTM  </td><td style=\"text-align: right;\">     96</td><td style=\"text-align: right;\">      31</td></tr>\n",
       "<tr><td>wrapper_290ff_00004</td><td>ERROR   </td><td>127.0.0.1:9924 </td><td style=\"text-align: right;\">       20</td><td style=\"text-align: right;\">       2</td><td>Adam       </td><td>LSTM  </td><td style=\"text-align: right;\">     80</td><td style=\"text-align: right;\">      47</td></tr>\n",
       "<tr><td>wrapper_290ff_00005</td><td>ERROR   </td><td>127.0.0.1:10204</td><td style=\"text-align: right;\">       22</td><td style=\"text-align: right;\">       1</td><td>Adam       </td><td>LSTM  </td><td style=\"text-align: right;\">    112</td><td style=\"text-align: right;\">      17</td></tr>\n",
       "</tbody>\n",
       "</table><br>... 3 more trials not shown (3 PENDING)<br>Number of errored trials: 6<br><table>\n",
       "<thead>\n",
       "<tr><th>Trial name         </th><th style=\"text-align: right;\">  # failures</th><th>error file                                                                                                                                                                                      </th></tr>\n",
       "</thead>\n",
       "<tbody>\n",
       "<tr><td>wrapper_290ff_00000</td><td style=\"text-align: right;\">           1</td><td>c:\\Users\\M\\SkyDrive\\Documents\\GitHub\\BondTrading\\notebooks\\logs\\hypertune\\wrapper_290ff_00000_0_filters=14,hidden=2,optimizer=RMSprop,type=GRU,units=176,window=40_2022-01-14_16-46-38\\error.txt</td></tr>\n",
       "<tr><td>wrapper_290ff_00001</td><td style=\"text-align: right;\">           1</td><td>c:\\Users\\M\\SkyDrive\\Documents\\GitHub\\BondTrading\\notebooks\\logs\\hypertune\\wrapper_290ff_00001_1_filters=22,hidden=3,optimizer=Adam,type=LSTM,units=192,window=16_2022-01-14_16-46-40\\error.txt  </td></tr>\n",
       "<tr><td>wrapper_290ff_00002</td><td style=\"text-align: right;\">           1</td><td>c:\\Users\\M\\SkyDrive\\Documents\\GitHub\\BondTrading\\notebooks\\logs\\hypertune\\wrapper_290ff_00002_2_filters=22,hidden=4,optimizer=RMSprop,type=GRU,units=176,window=48_2022-01-14_16-46-40\\error.txt</td></tr>\n",
       "<tr><td>wrapper_290ff_00003</td><td style=\"text-align: right;\">           1</td><td>c:\\Users\\M\\SkyDrive\\Documents\\GitHub\\BondTrading\\notebooks\\logs\\hypertune\\wrapper_290ff_00003_3_filters=15,hidden=3,optimizer=RMSprop,type=LSTM,units=96,window=31_2022-01-14_16-46-42\\error.txt</td></tr>\n",
       "<tr><td>wrapper_290ff_00004</td><td style=\"text-align: right;\">           1</td><td>c:\\Users\\M\\SkyDrive\\Documents\\GitHub\\BondTrading\\notebooks\\logs\\hypertune\\wrapper_290ff_00004_4_filters=20,hidden=2,optimizer=Adam,type=LSTM,units=80,window=47_2022-01-14_16-46-43\\error.txt   </td></tr>\n",
       "<tr><td>wrapper_290ff_00005</td><td style=\"text-align: right;\">           1</td><td>c:\\Users\\M\\SkyDrive\\Documents\\GitHub\\BondTrading\\notebooks\\logs\\hypertune\\wrapper_290ff_00005_5_filters=22,hidden=1,optimizer=Adam,type=LSTM,units=112,window=17_2022-01-14_16-46-44\\error.txt  </td></tr>\n",
       "</tbody>\n",
       "</table><br>"
      ],
      "text/plain": [
       "<IPython.core.display.HTML object>"
      ]
     },
     "metadata": {},
     "output_type": "display_data"
    },
    {
     "name": "stderr",
     "output_type": "stream",
     "text": [
      " pid=10664)\u001b[0m 2022-01-14 16:46:49,016\tERROR function_runner.py:268 -- Runner Thread raised error.\n",
      " pid=10664)\u001b[0m Traceback (most recent call last):\n",
      " pid=10664)\u001b[0m   File \"C:\\Users\\M\\AppData\\Local\\pypoetry\\Cache\\virtualenvs\\bondtrading-jbUXhQqa-py3.9\\lib\\site-packages\\ray\\tune\\function_runner.py\", line 262, in run\n",
      " pid=10664)\u001b[0m     self._entrypoint()\n",
      " pid=10664)\u001b[0m   File \"C:\\Users\\M\\AppData\\Local\\pypoetry\\Cache\\virtualenvs\\bondtrading-jbUXhQqa-py3.9\\lib\\site-packages\\ray\\tune\\function_runner.py\", line 330, in entrypoint\n",
      " pid=10664)\u001b[0m     return self._trainable_func(self.config, self._status_reporter,\n",
      " pid=10664)\u001b[0m   File \"C:\\Users\\M\\AppData\\Local\\pypoetry\\Cache\\virtualenvs\\bondtrading-jbUXhQqa-py3.9\\lib\\site-packages\\ray\\util\\tracing\\tracing_helper.py\", line 451, in _resume_span\n",
      " pid=10664)\u001b[0m     return method(self, *_args, **_kwargs)\n",
      " pid=10664)\u001b[0m   File \"C:\\Users\\M\\AppData\\Local\\pypoetry\\Cache\\virtualenvs\\bondtrading-jbUXhQqa-py3.9\\lib\\site-packages\\ray\\tune\\function_runner.py\", line 597, in _trainable_func\n",
      " pid=10664)\u001b[0m     output = fn()\n",
      " pid=10664)\u001b[0m   File \"c:\\Users\\M\\SkyDrive\\Documents\\GitHub\\BondTrading\\notebooks\\..\\src\\models\\hyper.py\", line 115, in tune_wrapper\n",
      " pid=10664)\u001b[0m     from src.models import hyper\n",
      " pid=10664)\u001b[0m ModuleNotFoundError: No module named 'src'\n",
      " pid=10664)\u001b[0m Exception in thread Thread-2:\n",
      " pid=10664)\u001b[0m Traceback (most recent call last):\n",
      " pid=10664)\u001b[0m   File \"C:\\Users\\M\\.pyenv\\pyenv-win\\versions\\3.9.6\\lib\\threading.py\", line 973, in _bootstrap_inner\n",
      " pid=10664)\u001b[0m     self.run()\n",
      " pid=10664)\u001b[0m   File \"C:\\Users\\M\\AppData\\Local\\pypoetry\\Cache\\virtualenvs\\bondtrading-jbUXhQqa-py3.9\\lib\\site-packages\\ray\\tune\\function_runner.py\", line 281, in run\n",
      " pid=10664)\u001b[0m     raise e\n",
      " pid=10664)\u001b[0m   File \"C:\\Users\\M\\AppData\\Local\\pypoetry\\Cache\\virtualenvs\\bondtrading-jbUXhQqa-py3.9\\lib\\site-packages\\ray\\tune\\function_runner.py\", line 262, in run\n",
      " pid=10664)\u001b[0m     self._entrypoint()\n",
      " pid=10664)\u001b[0m   File \"C:\\Users\\M\\AppData\\Local\\pypoetry\\Cache\\virtualenvs\\bondtrading-jbUXhQqa-py3.9\\lib\\site-packages\\ray\\tune\\function_runner.py\", line 330, in entrypoint\n",
      " pid=10664)\u001b[0m     return self._trainable_func(self.config, self._status_reporter,\n",
      " pid=10664)\u001b[0m   File \"C:\\Users\\M\\AppData\\Local\\pypoetry\\Cache\\virtualenvs\\bondtrading-jbUXhQqa-py3.9\\lib\\site-packages\\ray\\util\\tracing\\tracing_helper.py\", line 451, in _resume_span\n",
      " pid=10664)\u001b[0m     return method(self, *_args, **_kwargs)\n",
      " pid=10664)\u001b[0m   File \"C:\\Users\\M\\AppData\\Local\\pypoetry\\Cache\\virtualenvs\\bondtrading-jbUXhQqa-py3.9\\lib\\site-packages\\ray\\tune\\function_runner.py\", line 597, in _trainable_func\n",
      " pid=10664)\u001b[0m     output = fn()\n",
      " pid=10664)\u001b[0m   File \"c:\\Users\\M\\SkyDrive\\Documents\\GitHub\\BondTrading\\notebooks\\..\\src\\models\\hyper.py\", line 115, in tune_wrapper\n",
      " pid=10664)\u001b[0m     from src.models import hyper\n",
      " pid=10664)\u001b[0m ModuleNotFoundError: No module named 'src'\n",
      "2022-01-14 16:46:49,228\tERROR trial_runner.py:958 -- Trial wrapper_290ff_00006: Error processing event.\n",
      "Traceback (most recent call last):\n",
      "  File \"C:\\Users\\M\\AppData\\Local\\pypoetry\\Cache\\virtualenvs\\bondtrading-jbUXhQqa-py3.9\\lib\\site-packages\\ray\\tune\\trial_runner.py\", line 924, in _process_trial\n",
      "    results = self.trial_executor.fetch_result(trial)\n",
      "  File \"C:\\Users\\M\\AppData\\Local\\pypoetry\\Cache\\virtualenvs\\bondtrading-jbUXhQqa-py3.9\\lib\\site-packages\\ray\\tune\\ray_trial_executor.py\", line 787, in fetch_result\n",
      "    result = ray.get(trial_future[0], timeout=DEFAULT_GET_TIMEOUT)\n",
      "  File \"C:\\Users\\M\\AppData\\Local\\pypoetry\\Cache\\virtualenvs\\bondtrading-jbUXhQqa-py3.9\\lib\\site-packages\\ray\\_private\\client_mode_hook.py\", line 105, in wrapper\n",
      "    return func(*args, **kwargs)\n",
      "  File \"C:\\Users\\M\\AppData\\Local\\pypoetry\\Cache\\virtualenvs\\bondtrading-jbUXhQqa-py3.9\\lib\\site-packages\\ray\\worker.py\", line 1713, in get\n",
      "    raise value.as_instanceof_cause()\n",
      "ray.exceptions.RayTaskError(TuneError): \u001b[36mray::ImplicitFunc.train_buffered()\u001b[39m (pid=10664, ip=127.0.0.1, repr=<types.ImplicitFunc object at 0x000001ED033E6E50>)\n",
      "  File \"python\\ray\\_raylet.pyx\", line 625, in ray._raylet.execute_task\n",
      "  File \"python\\ray\\_raylet.pyx\", line 629, in ray._raylet.execute_task\n",
      "  File \"python\\ray\\_raylet.pyx\", line 578, in ray._raylet.execute_task.function_executor\n",
      "  File \"C:\\Users\\M\\AppData\\Local\\pypoetry\\Cache\\virtualenvs\\bondtrading-jbUXhQqa-py3.9\\lib\\site-packages\\ray\\_private\\function_manager.py\", line 609, in actor_method_executor\n",
      "    return method(__ray_actor, *args, **kwargs)\n",
      "  File \"C:\\Users\\M\\AppData\\Local\\pypoetry\\Cache\\virtualenvs\\bondtrading-jbUXhQqa-py3.9\\lib\\site-packages\\ray\\util\\tracing\\tracing_helper.py\", line 451, in _resume_span\n",
      "    return method(self, *_args, **_kwargs)\n",
      "  File \"C:\\Users\\M\\AppData\\Local\\pypoetry\\Cache\\virtualenvs\\bondtrading-jbUXhQqa-py3.9\\lib\\site-packages\\ray\\tune\\trainable.py\", line 255, in train_buffered\n",
      "    result = self.train()\n",
      "  File \"C:\\Users\\M\\AppData\\Local\\pypoetry\\Cache\\virtualenvs\\bondtrading-jbUXhQqa-py3.9\\lib\\site-packages\\ray\\util\\tracing\\tracing_helper.py\", line 451, in _resume_span\n",
      "    return method(self, *_args, **_kwargs)\n",
      "  File \"C:\\Users\\M\\AppData\\Local\\pypoetry\\Cache\\virtualenvs\\bondtrading-jbUXhQqa-py3.9\\lib\\site-packages\\ray\\tune\\trainable.py\", line 314, in train\n",
      "    result = self.step()\n",
      "  File \"C:\\Users\\M\\AppData\\Local\\pypoetry\\Cache\\virtualenvs\\bondtrading-jbUXhQqa-py3.9\\lib\\site-packages\\ray\\util\\tracing\\tracing_helper.py\", line 451, in _resume_span\n",
      "    return method(self, *_args, **_kwargs)\n",
      "  File \"C:\\Users\\M\\AppData\\Local\\pypoetry\\Cache\\virtualenvs\\bondtrading-jbUXhQqa-py3.9\\lib\\site-packages\\ray\\tune\\function_runner.py\", line 381, in step\n",
      "    self._report_thread_runner_error(block=True)\n",
      "  File \"C:\\Users\\M\\AppData\\Local\\pypoetry\\Cache\\virtualenvs\\bondtrading-jbUXhQqa-py3.9\\lib\\site-packages\\ray\\util\\tracing\\tracing_helper.py\", line 451, in _resume_span\n",
      "    return method(self, *_args, **_kwargs)\n",
      "  File \"C:\\Users\\M\\AppData\\Local\\pypoetry\\Cache\\virtualenvs\\bondtrading-jbUXhQqa-py3.9\\lib\\site-packages\\ray\\tune\\function_runner.py\", line 531, in _report_thread_runner_error\n",
      "    raise TuneError(\n",
      "ray.tune.error.TuneError: Trial raised an exception. Traceback:\n",
      "\u001b[36mray::ImplicitFunc.train_buffered()\u001b[39m (pid=10664, ip=127.0.0.1, repr=<types.ImplicitFunc object at 0x000001ED033E6E50>)\n",
      "  File \"C:\\Users\\M\\AppData\\Local\\pypoetry\\Cache\\virtualenvs\\bondtrading-jbUXhQqa-py3.9\\lib\\site-packages\\ray\\tune\\function_runner.py\", line 262, in run\n",
      "    self._entrypoint()\n",
      "  File \"C:\\Users\\M\\AppData\\Local\\pypoetry\\Cache\\virtualenvs\\bondtrading-jbUXhQqa-py3.9\\lib\\site-packages\\ray\\tune\\function_runner.py\", line 330, in entrypoint\n",
      "    return self._trainable_func(self.config, self._status_reporter,\n",
      "  File \"C:\\Users\\M\\AppData\\Local\\pypoetry\\Cache\\virtualenvs\\bondtrading-jbUXhQqa-py3.9\\lib\\site-packages\\ray\\util\\tracing\\tracing_helper.py\", line 451, in _resume_span\n",
      "    return method(self, *_args, **_kwargs)\n",
      "  File \"C:\\Users\\M\\AppData\\Local\\pypoetry\\Cache\\virtualenvs\\bondtrading-jbUXhQqa-py3.9\\lib\\site-packages\\ray\\tune\\function_runner.py\", line 597, in _trainable_func\n",
      "    output = fn()\n",
      "  File \"c:\\Users\\M\\SkyDrive\\Documents\\GitHub\\BondTrading\\notebooks\\..\\src\\models\\hyper.py\", line 115, in tune_wrapper\n",
      "    from src.models import hyper\n",
      "ModuleNotFoundError: No module named 'src'\n"
     ]
    },
    {
     "name": "stdout",
     "output_type": "stream",
     "text": [
      "Result for wrapper_290ff_00006:\n",
      "  date: 2022-01-14_16-46-49\n",
      "  experiment_id: 6820819362cf4860a196d7c1e8981dc9\n",
      "  hostname: Game-PC\n",
      "  node_ip: 127.0.0.1\n",
      "  pid: 10664\n",
      "  timestamp: 1642175209\n",
      "  trial_id: 290ff_00006\n",
      "  \n"
     ]
    },
    {
     "name": "stderr",
     "output_type": "stream",
     "text": [
      " pid=1592)\u001b[0m 2022-01-14 16:46:50,373\tERROR function_runner.py:268 -- Runner Thread raised error.\n",
      " pid=1592)\u001b[0m Traceback (most recent call last):\n",
      " pid=1592)\u001b[0m   File \"C:\\Users\\M\\AppData\\Local\\pypoetry\\Cache\\virtualenvs\\bondtrading-jbUXhQqa-py3.9\\lib\\site-packages\\ray\\tune\\function_runner.py\", line 262, in run\n",
      " pid=1592)\u001b[0m     self._entrypoint()\n",
      " pid=1592)\u001b[0m   File \"C:\\Users\\M\\AppData\\Local\\pypoetry\\Cache\\virtualenvs\\bondtrading-jbUXhQqa-py3.9\\lib\\site-packages\\ray\\tune\\function_runner.py\", line 330, in entrypoint\n",
      " pid=1592)\u001b[0m     return self._trainable_func(self.config, self._status_reporter,\n",
      " pid=1592)\u001b[0m   File \"C:\\Users\\M\\AppData\\Local\\pypoetry\\Cache\\virtualenvs\\bondtrading-jbUXhQqa-py3.9\\lib\\site-packages\\ray\\util\\tracing\\tracing_helper.py\", line 451, in _resume_span\n",
      " pid=1592)\u001b[0m     return method(self, *_args, **_kwargs)\n",
      " pid=1592)\u001b[0m   File \"C:\\Users\\M\\AppData\\Local\\pypoetry\\Cache\\virtualenvs\\bondtrading-jbUXhQqa-py3.9\\lib\\site-packages\\ray\\tune\\function_runner.py\", line 597, in _trainable_func\n",
      " pid=1592)\u001b[0m     output = fn()\n",
      " pid=1592)\u001b[0m   File \"c:\\Users\\M\\SkyDrive\\Documents\\GitHub\\BondTrading\\notebooks\\..\\src\\models\\hyper.py\", line 115, in tune_wrapper\n",
      " pid=1592)\u001b[0m     from src.models import hyper\n",
      " pid=1592)\u001b[0m ModuleNotFoundError: No module named 'src'\n",
      " pid=1592)\u001b[0m Exception in thread Thread-2:\n",
      " pid=1592)\u001b[0m Traceback (most recent call last):\n",
      " pid=1592)\u001b[0m   File \"C:\\Users\\M\\.pyenv\\pyenv-win\\versions\\3.9.6\\lib\\threading.py\", line 973, in _bootstrap_inner\n",
      " pid=1592)\u001b[0m     self.run()\n",
      " pid=1592)\u001b[0m   File \"C:\\Users\\M\\AppData\\Local\\pypoetry\\Cache\\virtualenvs\\bondtrading-jbUXhQqa-py3.9\\lib\\site-packages\\ray\\tune\\function_runner.py\", line 281, in run\n",
      " pid=1592)\u001b[0m     raise e\n",
      " pid=1592)\u001b[0m   File \"C:\\Users\\M\\AppData\\Local\\pypoetry\\Cache\\virtualenvs\\bondtrading-jbUXhQqa-py3.9\\lib\\site-packages\\ray\\tune\\function_runner.py\", line 262, in run\n",
      " pid=1592)\u001b[0m     self._entrypoint()\n",
      " pid=1592)\u001b[0m   File \"C:\\Users\\M\\AppData\\Local\\pypoetry\\Cache\\virtualenvs\\bondtrading-jbUXhQqa-py3.9\\lib\\site-packages\\ray\\tune\\function_runner.py\", line 330, in entrypoint\n",
      " pid=1592)\u001b[0m     return self._trainable_func(self.config, self._status_reporter,\n",
      " pid=1592)\u001b[0m   File \"C:\\Users\\M\\AppData\\Local\\pypoetry\\Cache\\virtualenvs\\bondtrading-jbUXhQqa-py3.9\\lib\\site-packages\\ray\\util\\tracing\\tracing_helper.py\", line 451, in _resume_span\n",
      " pid=1592)\u001b[0m     return method(self, *_args, **_kwargs)\n",
      " pid=1592)\u001b[0m   File \"C:\\Users\\M\\AppData\\Local\\pypoetry\\Cache\\virtualenvs\\bondtrading-jbUXhQqa-py3.9\\lib\\site-packages\\ray\\tune\\function_runner.py\", line 597, in _trainable_func\n",
      " pid=1592)\u001b[0m     output = fn()\n",
      " pid=1592)\u001b[0m   File \"c:\\Users\\M\\SkyDrive\\Documents\\GitHub\\BondTrading\\notebooks\\..\\src\\models\\hyper.py\", line 115, in tune_wrapper\n",
      " pid=1592)\u001b[0m     from src.models import hyper\n",
      " pid=1592)\u001b[0m ModuleNotFoundError: No module named 'src'\n",
      "2022-01-14 16:46:50,584\tERROR trial_runner.py:958 -- Trial wrapper_290ff_00007: Error processing event.\n",
      "Traceback (most recent call last):\n",
      "  File \"C:\\Users\\M\\AppData\\Local\\pypoetry\\Cache\\virtualenvs\\bondtrading-jbUXhQqa-py3.9\\lib\\site-packages\\ray\\tune\\trial_runner.py\", line 924, in _process_trial\n",
      "    results = self.trial_executor.fetch_result(trial)\n",
      "  File \"C:\\Users\\M\\AppData\\Local\\pypoetry\\Cache\\virtualenvs\\bondtrading-jbUXhQqa-py3.9\\lib\\site-packages\\ray\\tune\\ray_trial_executor.py\", line 787, in fetch_result\n",
      "    result = ray.get(trial_future[0], timeout=DEFAULT_GET_TIMEOUT)\n",
      "  File \"C:\\Users\\M\\AppData\\Local\\pypoetry\\Cache\\virtualenvs\\bondtrading-jbUXhQqa-py3.9\\lib\\site-packages\\ray\\_private\\client_mode_hook.py\", line 105, in wrapper\n",
      "    return func(*args, **kwargs)\n",
      "  File \"C:\\Users\\M\\AppData\\Local\\pypoetry\\Cache\\virtualenvs\\bondtrading-jbUXhQqa-py3.9\\lib\\site-packages\\ray\\worker.py\", line 1713, in get\n",
      "    raise value.as_instanceof_cause()\n",
      "ray.exceptions.RayTaskError(TuneError): \u001b[36mray::ImplicitFunc.train_buffered()\u001b[39m (pid=1592, ip=127.0.0.1, repr=<types.ImplicitFunc object at 0x0000016E6E696E50>)\n",
      "  File \"python\\ray\\_raylet.pyx\", line 625, in ray._raylet.execute_task\n",
      "  File \"python\\ray\\_raylet.pyx\", line 629, in ray._raylet.execute_task\n",
      "  File \"python\\ray\\_raylet.pyx\", line 578, in ray._raylet.execute_task.function_executor\n",
      "  File \"C:\\Users\\M\\AppData\\Local\\pypoetry\\Cache\\virtualenvs\\bondtrading-jbUXhQqa-py3.9\\lib\\site-packages\\ray\\_private\\function_manager.py\", line 609, in actor_method_executor\n",
      "    return method(__ray_actor, *args, **kwargs)\n",
      "  File \"C:\\Users\\M\\AppData\\Local\\pypoetry\\Cache\\virtualenvs\\bondtrading-jbUXhQqa-py3.9\\lib\\site-packages\\ray\\util\\tracing\\tracing_helper.py\", line 451, in _resume_span\n",
      "    return method(self, *_args, **_kwargs)\n",
      "  File \"C:\\Users\\M\\AppData\\Local\\pypoetry\\Cache\\virtualenvs\\bondtrading-jbUXhQqa-py3.9\\lib\\site-packages\\ray\\tune\\trainable.py\", line 255, in train_buffered\n",
      "    result = self.train()\n",
      "  File \"C:\\Users\\M\\AppData\\Local\\pypoetry\\Cache\\virtualenvs\\bondtrading-jbUXhQqa-py3.9\\lib\\site-packages\\ray\\util\\tracing\\tracing_helper.py\", line 451, in _resume_span\n",
      "    return method(self, *_args, **_kwargs)\n",
      "  File \"C:\\Users\\M\\AppData\\Local\\pypoetry\\Cache\\virtualenvs\\bondtrading-jbUXhQqa-py3.9\\lib\\site-packages\\ray\\tune\\trainable.py\", line 314, in train\n",
      "    result = self.step()\n",
      "  File \"C:\\Users\\M\\AppData\\Local\\pypoetry\\Cache\\virtualenvs\\bondtrading-jbUXhQqa-py3.9\\lib\\site-packages\\ray\\util\\tracing\\tracing_helper.py\", line 451, in _resume_span\n",
      "    return method(self, *_args, **_kwargs)\n",
      "  File \"C:\\Users\\M\\AppData\\Local\\pypoetry\\Cache\\virtualenvs\\bondtrading-jbUXhQqa-py3.9\\lib\\site-packages\\ray\\tune\\function_runner.py\", line 381, in step\n",
      "    self._report_thread_runner_error(block=True)\n",
      "  File \"C:\\Users\\M\\AppData\\Local\\pypoetry\\Cache\\virtualenvs\\bondtrading-jbUXhQqa-py3.9\\lib\\site-packages\\ray\\util\\tracing\\tracing_helper.py\", line 451, in _resume_span\n",
      "    return method(self, *_args, **_kwargs)\n",
      "  File \"C:\\Users\\M\\AppData\\Local\\pypoetry\\Cache\\virtualenvs\\bondtrading-jbUXhQqa-py3.9\\lib\\site-packages\\ray\\tune\\function_runner.py\", line 531, in _report_thread_runner_error\n",
      "    raise TuneError(\n",
      "ray.tune.error.TuneError: Trial raised an exception. Traceback:\n",
      "\u001b[36mray::ImplicitFunc.train_buffered()\u001b[39m (pid=1592, ip=127.0.0.1, repr=<types.ImplicitFunc object at 0x0000016E6E696E50>)\n",
      "  File \"C:\\Users\\M\\AppData\\Local\\pypoetry\\Cache\\virtualenvs\\bondtrading-jbUXhQqa-py3.9\\lib\\site-packages\\ray\\tune\\function_runner.py\", line 262, in run\n",
      "    self._entrypoint()\n",
      "  File \"C:\\Users\\M\\AppData\\Local\\pypoetry\\Cache\\virtualenvs\\bondtrading-jbUXhQqa-py3.9\\lib\\site-packages\\ray\\tune\\function_runner.py\", line 330, in entrypoint\n",
      "    return self._trainable_func(self.config, self._status_reporter,\n",
      "  File \"C:\\Users\\M\\AppData\\Local\\pypoetry\\Cache\\virtualenvs\\bondtrading-jbUXhQqa-py3.9\\lib\\site-packages\\ray\\util\\tracing\\tracing_helper.py\", line 451, in _resume_span\n",
      "    return method(self, *_args, **_kwargs)\n",
      "  File \"C:\\Users\\M\\AppData\\Local\\pypoetry\\Cache\\virtualenvs\\bondtrading-jbUXhQqa-py3.9\\lib\\site-packages\\ray\\tune\\function_runner.py\", line 597, in _trainable_func\n",
      "    output = fn()\n",
      "  File \"c:\\Users\\M\\SkyDrive\\Documents\\GitHub\\BondTrading\\notebooks\\..\\src\\models\\hyper.py\", line 115, in tune_wrapper\n",
      "    from src.models import hyper\n",
      "ModuleNotFoundError: No module named 'src'\n"
     ]
    },
    {
     "name": "stdout",
     "output_type": "stream",
     "text": [
      "Result for wrapper_290ff_00007:\n",
      "  date: 2022-01-14_16-46-50\n",
      "  experiment_id: 45b11906ffcb40b6bde185aaa3a460ef\n",
      "  hostname: Game-PC\n",
      "  node_ip: 127.0.0.1\n",
      "  pid: 1592\n",
      "  timestamp: 1642175210\n",
      "  trial_id: 290ff_00007\n",
      "  \n"
     ]
    },
    {
     "name": "stderr",
     "output_type": "stream",
     "text": [
      "2022-01-14 17:00:54,722\tWARNING tune.py:582 -- SIGINT received (e.g. via Ctrl+C), ending Ray Tune run. This will try to checkpoint the experiment state one last time. Press CTRL+C one more time (or send SIGINT/SIGKILL/SIGTERM) to skip. \n"
     ]
    }
   ],
   "source": [
    "analysis = hyper.hypertune(config)"
   ]
  },
  {
   "cell_type": "code",
   "execution_count": null,
   "metadata": {},
   "outputs": [],
   "source": [
    "config = analysis.get_best_config()\n",
    "config"
   ]
  },
  {
   "cell_type": "code",
   "execution_count": null,
   "metadata": {},
   "outputs": [],
   "source": [
    "window_size = config[\"window\"]\n",
    "horizon = config[\"horizon\"]\n",
    "train_set = make_dataset.windowed_dataset(\n",
    "    train, window_size, batch_size=32, shuffle_buffer=25, horizon=horizon\n",
    ")\n",
    "valid_set = make_dataset.windowed_dataset(\n",
    "    train, window_size, batch_size=32, shuffle_buffer=25, horizon=horizon\n",
    ")"
   ]
  },
  {
   "cell_type": "code",
   "execution_count": null,
   "metadata": {},
   "outputs": [],
   "source": [
    "reduce_lr = ReduceLROnPlateau(\n",
    "    monitor=\"val_loss\", factor=0.5, patience=5, min_lr=1e-5\n",
    ")\n",
    "opt = tf.keras.optimizers.get(config[\"optimizer\"])\n",
    "opt.momentum = 0.9\n",
    "opt.learning_rate = 0.01\n",
    "model = hyper.HyperRnn(config)\n",
    "model.compile(loss=\"mse\", optimizer=opt, metrics=[\"mae\", \"mape\", smae])\n",
    "\n",
    "result[\"hypertuned\"] = model.fit(\n",
    "        train_set,\n",
    "        epochs=150,\n",
    "        validation_data=valid_set,\n",
    "        callbacks=[reduce_lr, early_stop],\n",
    "    )\n"
   ]
  },
  {
   "cell_type": "code",
   "execution_count": null,
   "metadata": {},
   "outputs": [],
   "source": [
    "plt.figure(figsize=(8,8))\n",
    "evaluate.naive(result, ylim=1.5)"
   ]
  },
  {
   "cell_type": "code",
   "execution_count": null,
   "metadata": {},
   "outputs": [],
   "source": [
    "evaluate.plot_results(result, ymax = 0.1)"
   ]
  },
  {
   "cell_type": "code",
   "execution_count": null,
   "metadata": {},
   "outputs": [],
   "source": [
    "pred = evaluate.generate_prediction(model, test, window = window_size, horizon = horizon)"
   ]
  },
  {
   "cell_type": "code",
   "execution_count": null,
   "metadata": {},
   "outputs": [],
   "source": [
    "pred = evaluate.generate_prediction(model, test, window = window_size, horizon = 4)"
   ]
  }
 ],
 "metadata": {
  "interpreter": {
   "hash": "1389c38e18b09211742924e4a6d3a03ddfed7e517446f32e6ff0b8f71d44711b"
  },
  "kernelspec": {
   "display_name": "Python 3.9.6 64-bit ('bondtrading-jbUXhQqa-py3.9': venv)",
   "language": "python",
   "name": "python3"
  },
  "language_info": {
   "codemirror_mode": {
    "name": "ipython",
    "version": 3
   },
   "file_extension": ".py",
   "mimetype": "text/x-python",
   "name": "python",
   "nbconvert_exporter": "python",
   "pygments_lexer": "ipython3",
   "version": "3.9.6"
  },
  "orig_nbformat": 4
 },
 "nbformat": 4,
 "nbformat_minor": 2
}
