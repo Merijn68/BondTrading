{
 "cells": [
  {
   "cell_type": "markdown",
   "metadata": {},
   "source": [
    "# Data voorbewerking"
   ]
  },
  {
   "cell_type": "markdown",
   "metadata": {},
   "source": [
    "De data voor dit project is afkomstig van het back office systeem van Financial Markets, deels aangevuld met extra data vanuit Bloomberg.\n",
    "De data bestaat uit de volgende elementen:\n",
    "\n",
    "- Bond data\n",
    "- Bondprijzen\n",
    "- Government Yield curves\n",
    "- Inflation data\n",
    "\n",
    "Alle data is extracted en opgeslagen in csv files. In dit workbook lopen we door de data voorbereiding heen. Alle hier genoemde stappen kunnen ook geautomatiseerd worden uitgevoerd door het shell command 'Make Data'."
   ]
  },
  {
   "cell_type": "code",
   "execution_count": 3,
   "metadata": {},
   "outputs": [
    {
     "name": "stdout",
     "output_type": "stream",
     "text": [
      "The autoreload extension is already loaded. To reload it, use:\n",
      "  %reload_ext autoreload\n"
     ]
    }
   ],
   "source": [
    "%load_ext autoreload\n",
    "%autoreload 2\n",
    "\n",
    "import sys\n",
    "import pandas as pd\n",
    "\n",
    "sys.path.insert(0, \"..\") \n",
    "from src.data import make_dataset\n",
    "from src.features import build_features"
   ]
  },
  {
   "cell_type": "markdown",
   "metadata": {},
   "source": [
    "# Bond data"
   ]
  },
  {
   "cell_type": "code",
   "execution_count": 4,
   "metadata": {},
   "outputs": [
    {
     "name": "stderr",
     "output_type": "stream",
     "text": [
      "2022-01-16 14:21:40.668 | INFO     | src.data.make_dataset:get_bond_data:42 - Load bond data\n",
      "2022-01-16 14:21:40.670 | INFO     | src.data.make_dataset:read_csv:27 - Loading data from ..\\data\\raw\\bonds.csv\n"
     ]
    }
   ],
   "source": [
    "\n",
    "# Get bond data, drop unneeded columns, convert formats and strip training blanks\n",
    "df_bonds = make_dataset.get_bond_data()"
   ]
  },
  {
   "cell_type": "code",
   "execution_count": 5,
   "metadata": {},
   "outputs": [
    {
     "name": "stdout",
     "output_type": "stream",
     "text": [
      "<class 'pandas.core.frame.DataFrame'>\n",
      "RangeIndex: 230 entries, 0 to 229\n",
      "Data columns (total 13 columns):\n",
      " #   Column             Non-Null Count  Dtype         \n",
      "---  ------             --------------  -----         \n",
      " 0   ccy                230 non-null    string        \n",
      " 1   country            230 non-null    string        \n",
      " 2   bond_ext_name      230 non-null    object        \n",
      " 3   issue_dt           230 non-null    datetime64[ns]\n",
      " 4   first_coupon_date  207 non-null    datetime64[ns]\n",
      " 5   mature_dt          230 non-null    datetime64[ns]\n",
      " 6   isin               230 non-null    string        \n",
      " 7   issuer_name        230 non-null    string        \n",
      " 8   coupon_frq         230 non-null    string        \n",
      " 9   coupon             230 non-null    float64       \n",
      " 10  tot_issue          230 non-null    float64       \n",
      " 11  cfi_code           223 non-null    string        \n",
      " 12  issue_rating       226 non-null    string        \n",
      "dtypes: datetime64[ns](3), float64(2), object(1), string(7)\n",
      "memory usage: 23.5+ KB\n"
     ]
    }
   ],
   "source": [
    "df_bonds.info()"
   ]
  },
  {
   "cell_type": "markdown",
   "metadata": {},
   "source": [
    "Imputeren ontbrekende waarden voor issue rating. \n",
    "Issue rating wordt waar deze ontbreekt ingevuld met de meest voorkomende issue rating voor de issuer.\n",
    "\n",
    "CFI code wordt waar deze ontbreekt ingevuld met code 'onbekend' = DXXXXX.\n",
    "\n",
    "Datums met de waarde 1899-12-30 zijn default waardes van het bronsysteem. Deze worden verwijderd.\n",
    "Daar waar de eerste coupon datum ontbreekt (o.a. zero coupon bonds) - wordt deze aangevuld met de issue datum.\n",
    "De reden hiervoor is dat we zo zonder veel moeite de looptijd van de bond kunnen berekenen."
   ]
  },
  {
   "cell_type": "code",
   "execution_count": 6,
   "metadata": {},
   "outputs": [
    {
     "name": "stderr",
     "output_type": "stream",
     "text": [
      "2022-01-16 14:21:44.953 | INFO     | src.data.make_dataset:impute_bonds:81 - Impute bond data\n"
     ]
    }
   ],
   "source": [
    "df_bonds = make_dataset.impute_bonds(df_bonds)\n"
   ]
  },
  {
   "cell_type": "code",
   "execution_count": 7,
   "metadata": {},
   "outputs": [
    {
     "name": "stderr",
     "output_type": "stream",
     "text": [
      "2022-01-16 14:21:47.004 | INFO     | src.data.make_dataset:save_pkl:364 - Save preprocessed bonds data\n"
     ]
    }
   ],
   "source": [
    "make_dataset.save_pkl('bonds', df_bonds)"
   ]
  },
  {
   "cell_type": "markdown",
   "metadata": {},
   "source": [
    "# Bondprijzen"
   ]
  },
  {
   "cell_type": "code",
   "execution_count": 26,
   "metadata": {},
   "outputs": [
    {
     "name": "stderr",
     "output_type": "stream",
     "text": [
      "2022-01-16 20:06:47.906 | INFO     | src.data.make_dataset:get_price:116 - Load bond price data\n",
      "2022-01-16 20:06:47.918 | INFO     | src.data.make_dataset:read_csv:27 - Loading data from ..\\data\\raw\\price.csv\n"
     ]
    }
   ],
   "source": [
    "df_price = make_dataset.get_price()"
   ]
  },
  {
   "cell_type": "code",
   "execution_count": 28,
   "metadata": {},
   "outputs": [
    {
     "name": "stderr",
     "output_type": "stream",
     "text": [
      "2022-01-16 20:09:13.199 | INFO     | src.data.make_dataset:impute_price:139 - Impute bond price\n"
     ]
    }
   ],
   "source": [
    "df_price = make_dataset.impute_price(df_price)"
   ]
  },
  {
   "cell_type": "code",
   "execution_count": 22,
   "metadata": {},
   "outputs": [
    {
     "data": {
      "text/html": [
       "<div>\n",
       "<style scoped>\n",
       "    .dataframe tbody tr th:only-of-type {\n",
       "        vertical-align: middle;\n",
       "    }\n",
       "\n",
       "    .dataframe tbody tr th {\n",
       "        vertical-align: top;\n",
       "    }\n",
       "\n",
       "    .dataframe thead th {\n",
       "        text-align: right;\n",
       "    }\n",
       "</style>\n",
       "<table border=\"1\" class=\"dataframe\">\n",
       "  <thead>\n",
       "    <tr style=\"text-align: right;\">\n",
       "      <th></th>\n",
       "      <th>reference_identifier</th>\n",
       "      <th>ccy</th>\n",
       "      <th>rate_dt</th>\n",
       "      <th>mid</th>\n",
       "    </tr>\n",
       "  </thead>\n",
       "  <tbody>\n",
       "    <tr>\n",
       "      <th>0</th>\n",
       "      <td>DE0001135143</td>\n",
       "      <td>EUR</td>\n",
       "      <td>2010-12-17</td>\n",
       "      <td>136.760</td>\n",
       "    </tr>\n",
       "    <tr>\n",
       "      <th>1</th>\n",
       "      <td>NL0000102275</td>\n",
       "      <td>EUR</td>\n",
       "      <td>2010-12-17</td>\n",
       "      <td>103.390</td>\n",
       "    </tr>\n",
       "    <tr>\n",
       "      <th>2</th>\n",
       "      <td>DE0001135424</td>\n",
       "      <td>EUR</td>\n",
       "      <td>2010-12-17</td>\n",
       "      <td>95.453</td>\n",
       "    </tr>\n",
       "    <tr>\n",
       "      <th>3</th>\n",
       "      <td>NL0009446418</td>\n",
       "      <td>EUR</td>\n",
       "      <td>2010-12-17</td>\n",
       "      <td>102.690</td>\n",
       "    </tr>\n",
       "    <tr>\n",
       "      <th>4</th>\n",
       "      <td>NL0000102234</td>\n",
       "      <td>EUR</td>\n",
       "      <td>2010-12-17</td>\n",
       "      <td>106.220</td>\n",
       "    </tr>\n",
       "    <tr>\n",
       "      <th>...</th>\n",
       "      <td>...</td>\n",
       "      <td>...</td>\n",
       "      <td>...</td>\n",
       "      <td>...</td>\n",
       "    </tr>\n",
       "    <tr>\n",
       "      <th>235980</th>\n",
       "      <td>NL0015614579</td>\n",
       "      <td>EUR</td>\n",
       "      <td>2022-01-07</td>\n",
       "      <td>89.449</td>\n",
       "    </tr>\n",
       "    <tr>\n",
       "      <th>235981</th>\n",
       "      <td>SI0002104196</td>\n",
       "      <td>EUR</td>\n",
       "      <td>2022-01-07</td>\n",
       "      <td>97.525</td>\n",
       "    </tr>\n",
       "    <tr>\n",
       "      <th>235983</th>\n",
       "      <td>XS1756338551</td>\n",
       "      <td>EUR</td>\n",
       "      <td>2022-01-07</td>\n",
       "      <td>100.810</td>\n",
       "    </tr>\n",
       "    <tr>\n",
       "      <th>235984</th>\n",
       "      <td>XS2262263622</td>\n",
       "      <td>EUR</td>\n",
       "      <td>2022-01-07</td>\n",
       "      <td>95.945</td>\n",
       "    </tr>\n",
       "    <tr>\n",
       "      <th>235985</th>\n",
       "      <td>XS2351088955</td>\n",
       "      <td>EUR</td>\n",
       "      <td>2022-01-07</td>\n",
       "      <td>97.463</td>\n",
       "    </tr>\n",
       "  </tbody>\n",
       "</table>\n",
       "<p>223950 rows × 4 columns</p>\n",
       "</div>"
      ],
      "text/plain": [
       "       reference_identifier  ccy    rate_dt      mid\n",
       "0              DE0001135143  EUR 2010-12-17  136.760\n",
       "1              NL0000102275  EUR 2010-12-17  103.390\n",
       "2              DE0001135424  EUR 2010-12-17   95.453\n",
       "3              NL0009446418  EUR 2010-12-17  102.690\n",
       "4              NL0000102234  EUR 2010-12-17  106.220\n",
       "...                     ...  ...        ...      ...\n",
       "235980         NL0015614579  EUR 2022-01-07   89.449\n",
       "235981         SI0002104196  EUR 2022-01-07   97.525\n",
       "235983         XS1756338551  EUR 2022-01-07  100.810\n",
       "235984         XS2262263622  EUR 2022-01-07   95.945\n",
       "235985         XS2351088955  EUR 2022-01-07   97.463\n",
       "\n",
       "[223950 rows x 4 columns]"
      ]
     },
     "execution_count": 22,
     "metadata": {},
     "output_type": "execute_result"
    }
   ],
   "source": [
    "\n",
    "\n"
   ]
  },
  {
   "cell_type": "code",
   "execution_count": 21,
   "metadata": {},
   "outputs": [
    {
     "data": {
      "text/html": [
       "<div>\n",
       "<style scoped>\n",
       "    .dataframe tbody tr th:only-of-type {\n",
       "        vertical-align: middle;\n",
       "    }\n",
       "\n",
       "    .dataframe tbody tr th {\n",
       "        vertical-align: top;\n",
       "    }\n",
       "\n",
       "    .dataframe thead th {\n",
       "        text-align: right;\n",
       "    }\n",
       "</style>\n",
       "<table border=\"1\" class=\"dataframe\">\n",
       "  <thead>\n",
       "    <tr style=\"text-align: right;\">\n",
       "      <th></th>\n",
       "      <th>reference_identifier</th>\n",
       "      <th>ccy</th>\n",
       "      <th>rate_dt</th>\n",
       "      <th>mid</th>\n",
       "      <th>lastday</th>\n",
       "    </tr>\n",
       "  </thead>\n",
       "  <tbody>\n",
       "    <tr>\n",
       "      <th>0</th>\n",
       "      <td>DE0001135143</td>\n",
       "      <td>EUR</td>\n",
       "      <td>2010-12-17</td>\n",
       "      <td>136.760</td>\n",
       "      <td>2010-12-31</td>\n",
       "    </tr>\n",
       "    <tr>\n",
       "      <th>1</th>\n",
       "      <td>NL0000102275</td>\n",
       "      <td>EUR</td>\n",
       "      <td>2010-12-17</td>\n",
       "      <td>103.390</td>\n",
       "      <td>2010-12-31</td>\n",
       "    </tr>\n",
       "    <tr>\n",
       "      <th>2</th>\n",
       "      <td>DE0001135424</td>\n",
       "      <td>EUR</td>\n",
       "      <td>2010-12-17</td>\n",
       "      <td>95.453</td>\n",
       "      <td>2010-12-31</td>\n",
       "    </tr>\n",
       "    <tr>\n",
       "      <th>3</th>\n",
       "      <td>NL0009446418</td>\n",
       "      <td>EUR</td>\n",
       "      <td>2010-12-17</td>\n",
       "      <td>102.690</td>\n",
       "      <td>2010-12-31</td>\n",
       "    </tr>\n",
       "    <tr>\n",
       "      <th>4</th>\n",
       "      <td>NL0000102234</td>\n",
       "      <td>EUR</td>\n",
       "      <td>2010-12-17</td>\n",
       "      <td>106.220</td>\n",
       "      <td>2010-12-31</td>\n",
       "    </tr>\n",
       "    <tr>\n",
       "      <th>...</th>\n",
       "      <td>...</td>\n",
       "      <td>...</td>\n",
       "      <td>...</td>\n",
       "      <td>...</td>\n",
       "      <td>...</td>\n",
       "    </tr>\n",
       "    <tr>\n",
       "      <th>235980</th>\n",
       "      <td>NL0015614579</td>\n",
       "      <td>EUR</td>\n",
       "      <td>2022-01-07</td>\n",
       "      <td>89.449</td>\n",
       "      <td>2022-12-31</td>\n",
       "    </tr>\n",
       "    <tr>\n",
       "      <th>235981</th>\n",
       "      <td>SI0002104196</td>\n",
       "      <td>EUR</td>\n",
       "      <td>2022-01-07</td>\n",
       "      <td>97.525</td>\n",
       "      <td>2022-12-31</td>\n",
       "    </tr>\n",
       "    <tr>\n",
       "      <th>235983</th>\n",
       "      <td>XS1756338551</td>\n",
       "      <td>EUR</td>\n",
       "      <td>2022-01-07</td>\n",
       "      <td>100.810</td>\n",
       "      <td>2022-12-31</td>\n",
       "    </tr>\n",
       "    <tr>\n",
       "      <th>235984</th>\n",
       "      <td>XS2262263622</td>\n",
       "      <td>EUR</td>\n",
       "      <td>2022-01-07</td>\n",
       "      <td>95.945</td>\n",
       "      <td>2022-12-31</td>\n",
       "    </tr>\n",
       "    <tr>\n",
       "      <th>235985</th>\n",
       "      <td>XS2351088955</td>\n",
       "      <td>EUR</td>\n",
       "      <td>2022-01-07</td>\n",
       "      <td>97.463</td>\n",
       "      <td>2022-12-31</td>\n",
       "    </tr>\n",
       "  </tbody>\n",
       "</table>\n",
       "<p>223950 rows × 5 columns</p>\n",
       "</div>"
      ],
      "text/plain": [
       "       reference_identifier  ccy    rate_dt      mid     lastday\n",
       "0              DE0001135143  EUR 2010-12-17  136.760  2010-12-31\n",
       "1              NL0000102275  EUR 2010-12-17  103.390  2010-12-31\n",
       "2              DE0001135424  EUR 2010-12-17   95.453  2010-12-31\n",
       "3              NL0009446418  EUR 2010-12-17  102.690  2010-12-31\n",
       "4              NL0000102234  EUR 2010-12-17  106.220  2010-12-31\n",
       "...                     ...  ...        ...      ...         ...\n",
       "235980         NL0015614579  EUR 2022-01-07   89.449  2022-12-31\n",
       "235981         SI0002104196  EUR 2022-01-07   97.525  2022-12-31\n",
       "235983         XS1756338551  EUR 2022-01-07  100.810  2022-12-31\n",
       "235984         XS2262263622  EUR 2022-01-07   95.945  2022-12-31\n",
       "235985         XS2351088955  EUR 2022-01-07   97.463  2022-12-31\n",
       "\n",
       "[223950 rows x 5 columns]"
      ]
     },
     "execution_count": 21,
     "metadata": {},
     "output_type": "execute_result"
    }
   ],
   "source": [
    "df_price"
   ]
  },
  {
   "cell_type": "code",
   "execution_count": null,
   "metadata": {},
   "outputs": [],
   "source": [
    "df_price.head()"
   ]
  },
  {
   "cell_type": "code",
   "execution_count": null,
   "metadata": {},
   "outputs": [],
   "source": [
    "df_price.describe()"
   ]
  },
  {
   "cell_type": "code",
   "execution_count": null,
   "metadata": {},
   "outputs": [],
   "source": [
    "df_price.info()"
   ]
  },
  {
   "cell_type": "code",
   "execution_count": null,
   "metadata": {},
   "outputs": [],
   "source": [
    "make_dataset.save_pkl('price', df_price)"
   ]
  },
  {
   "cell_type": "markdown",
   "metadata": {},
   "source": [
    "# Government Yield curves"
   ]
  },
  {
   "cell_type": "code",
   "execution_count": null,
   "metadata": {},
   "outputs": [],
   "source": [
    "df_yield = make_dataset.get_yield()"
   ]
  },
  {
   "cell_type": "code",
   "execution_count": null,
   "metadata": {},
   "outputs": [],
   "source": [
    "df_yield.info()"
   ]
  },
  {
   "cell_type": "code",
   "execution_count": null,
   "metadata": {},
   "outputs": [],
   "source": [
    "df_yield = make_dataset.impute_yield(df_yield)"
   ]
  },
  {
   "cell_type": "code",
   "execution_count": null,
   "metadata": {},
   "outputs": [],
   "source": [
    "df_yield.tail()"
   ]
  },
  {
   "cell_type": "code",
   "execution_count": null,
   "metadata": {},
   "outputs": [],
   "source": [
    "df_yield.info()"
   ]
  },
  {
   "cell_type": "code",
   "execution_count": null,
   "metadata": {},
   "outputs": [],
   "source": [
    "make_dataset.save_pkl('yield', df_yield)"
   ]
  },
  {
   "cell_type": "markdown",
   "metadata": {},
   "source": [
    "# Inflation data\n"
   ]
  },
  {
   "cell_type": "code",
   "execution_count": null,
   "metadata": {},
   "outputs": [],
   "source": [
    "df_inflation = make_dataset.get_inflation()  "
   ]
  },
  {
   "cell_type": "code",
   "execution_count": null,
   "metadata": {},
   "outputs": [],
   "source": [
    "df_inflation = make_dataset.impute_inflation(df_inflation)\n",
    "\n",
    "\n",
    "df_inflation.info()"
   ]
  },
  {
   "cell_type": "code",
   "execution_count": null,
   "metadata": {},
   "outputs": [],
   "source": [
    "df_inflation.head()"
   ]
  },
  {
   "cell_type": "code",
   "execution_count": null,
   "metadata": {},
   "outputs": [],
   "source": [
    "make_dataset.save_pkl('inflation', df_inflation)"
   ]
  },
  {
   "cell_type": "code",
   "execution_count": null,
   "metadata": {},
   "outputs": [],
   "source": [
    "df_bp = make_dataset.join_price(df_bonds,df_price )\n",
    "df_bp = build_features.add_duration(df_bp)"
   ]
  },
  {
   "cell_type": "markdown",
   "metadata": {},
   "source": [
    "Om de termspread toe te kunnen voegen moeten we de bond data joinen met de government yield. Hierdoor hebben we minder data beschikbaar.\n",
    "De vraag is of dit nodig is (of dat het model dit zelf uit kan vogelen)\n",
    "\n",
    "Hoe meer data we joinen - hoe meer data we kwijt raken. "
   ]
  },
  {
   "cell_type": "code",
   "execution_count": null,
   "metadata": {},
   "outputs": [],
   "source": [
    "df_bpy = make_dataset.join_yield(df_bp, df_yield)\n",
    "df_bpy = build_features.add_term_spread(df_bpy)\n",
    "df_bpy = build_features.add_bid_offer_spread(df_bpy)\n",
    "df_bpy.info()"
   ]
  },
  {
   "cell_type": "code",
   "execution_count": null,
   "metadata": {},
   "outputs": [],
   "source": [
    "df_tf = make_dataset.build_simple_input(df_bonds, df_price)\n"
   ]
  },
  {
   "cell_type": "markdown",
   "metadata": {},
   "source": [
    "All in one make statement...\n",
    "\n",
    "(dit duurt ongeveer 1min, 20sec)"
   ]
  },
  {
   "cell_type": "code",
   "execution_count": 25,
   "metadata": {},
   "outputs": [
    {
     "name": "stderr",
     "output_type": "stream",
     "text": [
      "2022-01-16 14:42:40.071 | INFO     | src.data.make_dataset:get_bond_data:42 - Load bond data\n",
      "2022-01-16 14:42:40.072 | INFO     | src.data.make_dataset:read_csv:27 - Loading data from ..\\data\\raw\\bonds.csv\n",
      "2022-01-16 14:42:40.100 | INFO     | src.data.make_dataset:impute_bonds:81 - Impute bond data\n",
      "2022-01-16 14:42:40.106 | INFO     | src.data.make_dataset:save_pkl:369 - Save preprocessed bonds data\n",
      "2022-01-16 14:42:40.127 | INFO     | src.data.make_dataset:get_price:116 - Load bond price data\n",
      "2022-01-16 14:42:40.128 | INFO     | src.data.make_dataset:read_csv:27 - Loading data from ..\\data\\raw\\price.csv\n",
      "2022-01-16 14:42:40.540 | INFO     | src.data.make_dataset:impute_price:139 - Impute bond price\n",
      "2022-01-16 14:42:40.766 | INFO     | src.data.make_dataset:save_pkl:369 - Save preprocessed price data\n",
      "2022-01-16 14:42:44.924 | INFO     | src.data.make_dataset:get_yield:154 - Load goverment yield curve data\n",
      "2022-01-16 14:42:44.926 | INFO     | src.data.make_dataset:read_csv:27 - Loading data from ..\\data\\raw\\yield.csv\n",
      "2022-01-16 14:42:45.891 | INFO     | src.data.make_dataset:impute_yield:184 - Impute yield curve\n",
      "2022-01-16 14:42:46.221 | INFO     | src.data.make_dataset:save_pkl:369 - Save preprocessed yield data\n",
      "2022-01-16 14:42:46.291 | ERROR    | src.data.make_dataset:save_pkl:374 - Error saving yield data: [Errno 22] Invalid argument: '../data/processed/yield.csv'\n",
      "2022-01-16 14:42:46.292 | INFO     | src.data.make_dataset:get_inflation:210 - Load goverment yield curve data\n",
      "2022-01-16 14:42:46.293 | INFO     | src.data.make_dataset:read_csv:27 - Loading data from ..\\data\\raw\\DE Inflation.csv\n",
      "2022-01-16 14:42:46.315 | INFO     | src.data.make_dataset:read_csv:27 - Loading data from ..\\data\\raw\\FR Inflation.csv\n",
      "2022-01-16 14:42:46.342 | INFO     | src.data.make_dataset:read_csv:27 - Loading data from ..\\data\\raw\\ES Inflation.csv\n",
      "2022-01-16 14:42:46.365 | INFO     | src.data.make_dataset:read_csv:27 - Loading data from ..\\data\\raw\\IT Inflation.csv\n",
      "2022-01-16 14:42:46.390 | INFO     | src.data.make_dataset:read_csv:27 - Loading data from ..\\data\\raw\\US Inflation.csv\n",
      "2022-01-16 14:43:03.333 | INFO     | src.data.make_dataset:impute_inflation:238 - Impute inflation curve\n",
      "2022-01-16 14:43:03.919 | INFO     | src.data.make_dataset:save_pkl:369 - Save preprocessed inflation data\n",
      "2022-01-16 14:43:13.560 | INFO     | src.features.build_features:add_duration:13 - Add remaining duration...\n",
      "2022-01-16 14:43:13.571 | INFO     | src.data.make_dataset:save_pkl:369 - Save preprocessed bp data\n",
      "2022-01-16 14:43:28.275 | INFO     | src.features.build_features:add_duration:13 - Add remaining duration...\n",
      "2022-01-16 14:43:28.320 | INFO     | src.features.build_features:encode_coupon_freq:23 - Encode coupon frequency coupon_frq\n",
      "2022-01-16 14:43:28.337 | INFO     | src.features.build_features:encode_cfi:51 - Encode CFI Code column cfi_code\n",
      "2022-01-16 14:43:28.675 | INFO     | src.data.make_dataset:save_pkl:369 - Save preprocessed tf data\n",
      "2022-01-16 14:43:43.632 | INFO     | src.features.build_features:add_term_spread:64 - Add term spread...\n",
      "2022-01-16 14:43:43.638 | INFO     | src.features.build_features:add_bid_offer_spread:75 - Add bid offer spread...\n",
      "2022-01-16 14:43:43.873 | INFO     | src.data.make_dataset:save_pkl:369 - Save preprocessed bpy data\n"
     ]
    }
   ],
   "source": [
    "make_dataset.make_data()"
   ]
  }
 ],
 "metadata": {
  "interpreter": {
   "hash": "11ceafc7b78f5f3763c3d9a031e4cc9e8924ad6b8398b171c2d2e49c83b2b56a"
  },
  "kernelspec": {
   "display_name": "Python 3.8.10 64-bit ('timeseries-NkPdx04N-py3.8': venv)",
   "language": "python",
   "name": "python3"
  },
  "language_info": {
   "codemirror_mode": {
    "name": "ipython",
    "version": 3
   },
   "file_extension": ".py",
   "mimetype": "text/x-python",
   "name": "python",
   "nbconvert_exporter": "python",
   "pygments_lexer": "ipython3",
   "version": "3.8.10"
  },
  "orig_nbformat": 4
 },
 "nbformat": 4,
 "nbformat_minor": 2
}
