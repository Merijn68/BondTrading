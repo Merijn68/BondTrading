{
 "cells": [
  {
   "cell_type": "markdown",
   "metadata": {},
   "source": [
    "# Data voorbewerking"
   ]
  },
  {
   "cell_type": "markdown",
   "metadata": {},
   "source": [
    "De data voor dit project is afkomstig van het back office systeem van Financial Markets, deels aangevuld met extra data vanuit Bloomberg.\n",
    "De data bestaat uit de volgende elementen:\n",
    "\n",
    "- Bond data\n",
    "- Bondprijzen\n",
    "- Government Yield curves\n",
    "- Inflation data\n",
    "\n",
    "Alle data is extracted en opgeslagen in csv files. In dit workbook lopen we door de data voorbereiding heen. Alle hier genoemde stappen kunnen ook geautomatiseerd worden uitgevoerd door het shell command 'Make Data'."
   ]
  },
  {
   "cell_type": "code",
   "execution_count": 1,
   "metadata": {},
   "outputs": [],
   "source": [
    "%load_ext autoreload\n",
    "%autoreload 2\n",
    "\n",
    "import sys\n",
    "import pandas as pd\n",
    "\n",
    "sys.path.insert(0, \"..\") \n",
    "from src.data import make_dataset\n",
    "from src.features import build_features"
   ]
  },
  {
   "cell_type": "markdown",
   "metadata": {},
   "source": [
    "# Bond data"
   ]
  },
  {
   "cell_type": "code",
   "execution_count": null,
   "metadata": {},
   "outputs": [],
   "source": [
    "\n",
    "# Get bond data, drop unneeded columns, convert formats and strip training blanks\n",
    "df_bonds = make_dataset.get_bond_data()"
   ]
  },
  {
   "cell_type": "code",
   "execution_count": null,
   "metadata": {},
   "outputs": [],
   "source": [
    "df_bonds.info()"
   ]
  },
  {
   "cell_type": "code",
   "execution_count": null,
   "metadata": {},
   "outputs": [],
   "source": [
    "df_bonds.head()"
   ]
  },
  {
   "cell_type": "markdown",
   "metadata": {},
   "source": [
    "Imputeren ontbrekende waarden voor issue rating. \n",
    "Issue rating wordt waar deze ontbreekt ingevuld met de meest voorkomende issue rating voor de issuer.\n",
    "\n",
    "CFI code wordt waar deze ontbreekt ingevuld met code 'onbekend' = DXXXXX.\n",
    "\n",
    "Datums met de waarde 1899-12-30 zijn default waardes van het bronsysteem. Deze worden verwijderd.\n",
    "Daar waar de eerste coupon datum ontbreekt (o.a. zero coupon bonds) - wordt deze aangevuld met de issue datum.\n",
    "De reden hiervoor is dat we zo zonder veel moeite de looptijd van de bond kunnen berekenen."
   ]
  },
  {
   "cell_type": "code",
   "execution_count": null,
   "metadata": {},
   "outputs": [],
   "source": [
    "df_bonds = make_dataset.impute_bonds(df_bonds)"
   ]
  },
  {
   "cell_type": "code",
   "execution_count": null,
   "metadata": {},
   "outputs": [],
   "source": [
    "make_dataset.save_pkl('bonds', df_bonds)"
   ]
  },
  {
   "cell_type": "code",
   "execution_count": null,
   "metadata": {},
   "outputs": [],
   "source": [
    "df_bonds.count()"
   ]
  },
  {
   "cell_type": "markdown",
   "metadata": {},
   "source": [
    "# Bondprijzen"
   ]
  },
  {
   "cell_type": "code",
   "execution_count": null,
   "metadata": {},
   "outputs": [],
   "source": [
    "df_price = make_dataset.get_price()"
   ]
  },
  {
   "cell_type": "code",
   "execution_count": null,
   "metadata": {},
   "outputs": [],
   "source": [
    "df_price = make_dataset.impute_price(df_price)"
   ]
  },
  {
   "cell_type": "code",
   "execution_count": null,
   "metadata": {},
   "outputs": [],
   "source": [
    "df_price.head()"
   ]
  },
  {
   "cell_type": "code",
   "execution_count": null,
   "metadata": {},
   "outputs": [],
   "source": [
    "df_price.describe()"
   ]
  },
  {
   "cell_type": "code",
   "execution_count": null,
   "metadata": {},
   "outputs": [],
   "source": [
    "df_price.info()"
   ]
  },
  {
   "cell_type": "code",
   "execution_count": null,
   "metadata": {},
   "outputs": [],
   "source": [
    "make_dataset.save_pkl('price', df_price)"
   ]
  },
  {
   "cell_type": "markdown",
   "metadata": {},
   "source": [
    "# Government Yield curves"
   ]
  },
  {
   "cell_type": "code",
   "execution_count": null,
   "metadata": {},
   "outputs": [],
   "source": [
    "df_yield = make_dataset.get_yield()"
   ]
  },
  {
   "cell_type": "code",
   "execution_count": null,
   "metadata": {},
   "outputs": [],
   "source": [
    "df_yield = make_dataset.impute_yield(df_yield)"
   ]
  },
  {
   "cell_type": "code",
   "execution_count": null,
   "metadata": {},
   "outputs": [],
   "source": [
    "df_yield.tail()"
   ]
  },
  {
   "cell_type": "code",
   "execution_count": null,
   "metadata": {},
   "outputs": [],
   "source": [
    "df_yield.info()"
   ]
  },
  {
   "cell_type": "code",
   "execution_count": null,
   "metadata": {},
   "outputs": [],
   "source": [
    "make_dataset.save_pkl('yield', df_yield)"
   ]
  },
  {
   "cell_type": "markdown",
   "metadata": {},
   "source": [
    "# Inflation data\n"
   ]
  },
  {
   "cell_type": "code",
   "execution_count": null,
   "metadata": {},
   "outputs": [],
   "source": [
    "df_inflation = make_dataset.get_inflation()  "
   ]
  },
  {
   "cell_type": "code",
   "execution_count": null,
   "metadata": {},
   "outputs": [],
   "source": [
    "df_inflation = make_dataset.impute_inflation(df_inflation)\n",
    "\n",
    "\n",
    "df_inflation.info()"
   ]
  },
  {
   "cell_type": "code",
   "execution_count": null,
   "metadata": {},
   "outputs": [],
   "source": [
    "df_inflation.head()"
   ]
  },
  {
   "cell_type": "code",
   "execution_count": null,
   "metadata": {},
   "outputs": [],
   "source": [
    "make_dataset.save_pkl('inflation', df_inflation)"
   ]
  },
  {
   "cell_type": "code",
   "execution_count": null,
   "metadata": {},
   "outputs": [],
   "source": [
    "df_price"
   ]
  },
  {
   "cell_type": "code",
   "execution_count": null,
   "metadata": {},
   "outputs": [],
   "source": [
    "df_bp = make_dataset.join_price(df_bonds,df_price )\n",
    "df_bp = build_features.add_duration(df_bp)"
   ]
  },
  {
   "cell_type": "markdown",
   "metadata": {},
   "source": [
    "Om de termspread toe te kunnen voegen moeten we de bond data joinen met de government yield. Hierdoor hebben we minder data beschikbaar.\n",
    "De vraag is of dit nodig is (of dat het model dit zelf uit kan vogelen)\n",
    "\n",
    "Hoe meer data we joinen - hoe meer data we kwijt raken. "
   ]
  },
  {
   "cell_type": "code",
   "execution_count": null,
   "metadata": {},
   "outputs": [],
   "source": [
    "df_yield"
   ]
  },
  {
   "cell_type": "code",
   "execution_count": null,
   "metadata": {},
   "outputs": [],
   "source": [
    "df_bpy = make_dataset.join_yield(df_bp, df_yield)\n",
    "df_bpy = build_features.add_term_spread(df_bpy)\n",
    "df_bpy = build_features.add_bid_offer_spread(df_bpy)\n",
    "df_bpy.info()"
   ]
  },
  {
   "cell_type": "code",
   "execution_count": null,
   "metadata": {},
   "outputs": [],
   "source": [
    "#df_bpiy = make_dataset.fulljoin(df_bonds, df_price, df_inflation, df_yield, df_countryspread)\n",
    "#df_bpiy = build_features.add_duration(df_bpiy)\n",
    "#df_bpiy = build_features.add_bid_offer_spread(df_bpiy)\n",
    "\n",
    "#df_bpy.to_csv(f'../data/processed/bpy.csv')\n",
    "#df_bpi.to_csv(f'../data/processed/bpi.csv')\n",
    "#df_bpiy.to_csv(f'../data/processed/bpiy.csv')"
   ]
  },
  {
   "cell_type": "code",
   "execution_count": null,
   "metadata": {},
   "outputs": [],
   "source": [
    "#df_pivot1 = df_pivot.drop(['bid','offer'], axis=1, level=0)\n",
    "#df_pivot1.columns = df_pivot1.columns.droplevel(1)\n",
    "#df_pivot1.reset_index()"
   ]
  },
  {
   "cell_type": "code",
   "execution_count": null,
   "metadata": {},
   "outputs": [],
   "source": [
    "#df_bpiy"
   ]
  },
  {
   "cell_type": "code",
   "execution_count": null,
   "metadata": {},
   "outputs": [],
   "source": [
    "# Een eerste tensorflow data model\n",
    "df_tf = make_dataset.build_simple_input(df_bonds, df_price)\n"
   ]
  },
  {
   "cell_type": "markdown",
   "metadata": {},
   "source": [
    "All in one make statement..."
   ]
  },
  {
   "cell_type": "code",
   "execution_count": 4,
   "metadata": {},
   "outputs": [
    {
     "name": "stderr",
     "output_type": "stream",
     "text": [
      "2022-01-04 20:13:55.294 | INFO     | src.data.make_dataset:get_bond_data:41 - Load bond data\n",
      "2022-01-04 20:13:55.296 | INFO     | src.data.make_dataset:read_csv:26 - Loading data from ..\\data\\raw\\bonds.csv\n",
      "2022-01-04 20:13:55.391 | INFO     | src.data.make_dataset:impute_bonds:76 - Impute bond data\n",
      "2022-01-04 20:13:55.400 | INFO     | src.data.make_dataset:save_pkl:375 - Save preprocessed bonds data\n",
      "2022-01-04 20:13:55.418 | INFO     | src.data.make_dataset:get_price:109 - Load bond price data\n",
      "2022-01-04 20:13:55.420 | INFO     | src.data.make_dataset:read_csv:26 - Loading data from ..\\data\\raw\\price.csv\n",
      "2022-01-04 20:13:55.936 | INFO     | src.data.make_dataset:impute_price:134 - Impute bond price\n",
      "2022-01-04 20:13:55.956 | INFO     | src.data.make_dataset:save_pkl:375 - Save preprocessed price data\n",
      "2022-01-04 20:13:59.209 | INFO     | src.data.make_dataset:get_yield:142 - Load goverment yield curve data\n",
      "2022-01-04 20:13:59.210 | INFO     | src.data.make_dataset:read_csv:26 - Loading data from ..\\data\\raw\\yield.csv\n",
      "2022-01-04 20:14:00.530 | INFO     | src.data.make_dataset:impute_yield:173 - Impute yield curve\n",
      "2022-01-04 20:14:00.793 | INFO     | src.data.make_dataset:save_pkl:375 - Save preprocessed yield data\n",
      "2022-01-04 20:14:04.515 | INFO     | src.data.make_dataset:get_inflation:193 - Load goverment yield curve data\n",
      "2022-01-04 20:14:04.517 | INFO     | src.data.make_dataset:read_csv:26 - Loading data from ..\\data\\raw\\DE Inflation.csv\n",
      "2022-01-04 20:14:04.532 | INFO     | src.data.make_dataset:read_csv:26 - Loading data from ..\\data\\raw\\FR Inflation.csv\n",
      "2022-01-04 20:14:04.549 | INFO     | src.data.make_dataset:read_csv:26 - Loading data from ..\\data\\raw\\ES Inflation.csv\n",
      "2022-01-04 20:14:04.566 | INFO     | src.data.make_dataset:read_csv:26 - Loading data from ..\\data\\raw\\IT Inflation.csv\n",
      "2022-01-04 20:14:04.584 | INFO     | src.data.make_dataset:read_csv:26 - Loading data from ..\\data\\raw\\US Inflation.csv\n",
      "2022-01-04 20:14:19.562 | INFO     | src.data.make_dataset:impute_inflation:221 - Impute inflation curve\n",
      "2022-01-04 20:14:20.037 | INFO     | src.data.make_dataset:save_pkl:375 - Save preprocessed inflation data\n",
      "2022-01-04 20:14:28.523 | INFO     | src.data.make_dataset:save_pkl:375 - Save preprocessed bp data\n",
      "2022-01-04 20:14:28.654 | ERROR    | src.data.make_dataset:save_pkl:380 - Error saving bp data: [Errno 13] Permission denied: '../data/processed/bp.csv'\n",
      "2022-01-04 20:14:28.800 | INFO     | src.features.build_features:add_duration:13 - Add remaining duration...\n",
      "2022-01-04 20:14:28.837 | INFO     | src.features.build_features:encode_coupon_freq:22 - Encode coupon frequency coupon_frq\n",
      "2022-01-04 20:14:28.863 | INFO     | src.features.build_features:encode_cfi:50 - Encode CFI Code column cfi_code\n",
      "2022-01-04 20:14:29.196 | INFO     | src.features.build_features:encode_onehot:35 - One Hot Encode column country\n",
      "2022-01-04 20:14:29.387 | INFO     | src.features.build_features:encode_onehot:35 - One Hot Encode column isin\n",
      "2022-01-04 20:14:30.655 | INFO     | src.features.build_features:encode_onehot:35 - One Hot Encode column issuer_name\n",
      "2022-01-04 20:14:31.432 | INFO     | src.features.build_features:encode_onehot:35 - One Hot Encode column coupon_frq\n",
      "2022-01-04 20:14:32.106 | INFO     | src.features.build_features:encode_onehot:35 - One Hot Encode column issue_rating\n",
      "2022-01-04 20:14:32.813 | INFO     | src.features.build_features:encode_onehot:35 - One Hot Encode column cfi_code_0\n",
      "2022-01-04 20:14:33.520 | INFO     | src.features.build_features:encode_onehot:35 - One Hot Encode column cfi_code_1\n",
      "2022-01-04 20:14:34.307 | INFO     | src.features.build_features:encode_onehot:35 - One Hot Encode column cfi_code_2\n",
      "2022-01-04 20:14:35.005 | INFO     | src.features.build_features:encode_onehot:35 - One Hot Encode column cfi_code_3\n",
      "2022-01-04 20:14:35.737 | INFO     | src.features.build_features:encode_onehot:35 - One Hot Encode column cfi_code_4\n",
      "2022-01-04 20:14:36.476 | INFO     | src.features.build_features:encode_onehot:35 - One Hot Encode column cfi_code_5\n",
      "2022-01-04 20:14:37.228 | INFO     | src.data.make_dataset:save_pkl:375 - Save preprocessed tf data\n",
      "2022-01-04 20:15:21.863 | INFO     | src.features.build_features:add_term_spread:63 - Add term spread...\n",
      "2022-01-04 20:15:21.867 | INFO     | src.features.build_features:add_bid_offer_spread:74 - Add bid offer spread...\n",
      "2022-01-04 20:15:22.067 | INFO     | src.data.make_dataset:save_pkl:375 - Save preprocessed bpy data\n"
     ]
    }
   ],
   "source": [
    "make_dataset.make_data()"
   ]
  }
 ],
 "metadata": {
  "interpreter": {
   "hash": "11ceafc7b78f5f3763c3d9a031e4cc9e8924ad6b8398b171c2d2e49c83b2b56a"
  },
  "kernelspec": {
   "display_name": "Python 3.8.10 64-bit ('timeseries-NkPdx04N-py3.8': venv)",
   "language": "python",
   "name": "python3"
  },
  "language_info": {
   "codemirror_mode": {
    "name": "ipython",
    "version": 3
   },
   "file_extension": ".py",
   "mimetype": "text/x-python",
   "name": "python",
   "nbconvert_exporter": "python",
   "pygments_lexer": "ipython3",
   "version": "3.8.10"
  },
  "orig_nbformat": 4
 },
 "nbformat": 4,
 "nbformat_minor": 2
}
