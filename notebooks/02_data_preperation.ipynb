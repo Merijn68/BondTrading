{
 "cells": [
  {
   "cell_type": "markdown",
   "metadata": {},
   "source": [
    "# Data voorbewerking"
   ]
  },
  {
   "cell_type": "markdown",
   "metadata": {},
   "source": [
    "De data voor dit project is afkomstig van het back office systeem van Financial Markets, deels aangevuld met extra data vanuit Bloomberg.\n",
    "De data bestaat uit de volgende elementen:\n",
    "\n",
    "- Bond data\n",
    "- Bondprijzen\n",
    "- Government Yield curves\n",
    "- Inflation data\n",
    "\n",
    "Alle data is extracted en opgeslagen in csv files. In dit workbook lopen we door de data voorbereiding heen. Alle hier genoemde stappen kunnen ook geautomatiseerd worden uitgevoerd door het shell command 'Make Data'."
   ]
  },
  {
   "cell_type": "code",
   "execution_count": 1,
   "metadata": {},
   "outputs": [],
   "source": [
    "%load_ext autoreload\n",
    "%autoreload 2\n",
    "\n",
    "import sys\n",
    "import pandas as pd\n",
    "\n",
    "sys.path.insert(0, \"..\") \n",
    "from src.data import make_dataset\n",
    "from src.features import build_features"
   ]
  },
  {
   "cell_type": "markdown",
   "metadata": {},
   "source": [
    "# Bond data"
   ]
  },
  {
   "cell_type": "code",
   "execution_count": 2,
   "metadata": {},
   "outputs": [
    {
     "name": "stderr",
     "output_type": "stream",
     "text": [
      "2022-01-03 11:54:38.252 | INFO     | src.data.make_dataset:get_bond_data:35 - Load bond data\n",
      "2022-01-03 11:54:38.253 | INFO     | src.data.make_dataset:read_csv:20 - Loading data from ..\\data\\raw\\bonds.csv\n"
     ]
    }
   ],
   "source": [
    "\n",
    "# Get bond data, drop unneeded columns, convert formats and strip training blanks\n",
    "df_bonds = make_dataset.get_bond_data()"
   ]
  },
  {
   "cell_type": "code",
   "execution_count": 3,
   "metadata": {},
   "outputs": [
    {
     "name": "stdout",
     "output_type": "stream",
     "text": [
      "<class 'pandas.core.frame.DataFrame'>\n",
      "RangeIndex: 225 entries, 0 to 224\n",
      "Data columns (total 12 columns):\n",
      " #   Column             Non-Null Count  Dtype         \n",
      "---  ------             --------------  -----         \n",
      " 0   ccy                225 non-null    string        \n",
      " 1   country            225 non-null    string        \n",
      " 2   issue_dt           225 non-null    datetime64[ns]\n",
      " 3   first_coupon_date  202 non-null    datetime64[ns]\n",
      " 4   mature_dt          225 non-null    datetime64[ns]\n",
      " 5   isin               225 non-null    string        \n",
      " 6   issuer_name        225 non-null    string        \n",
      " 7   coupon_frq         225 non-null    string        \n",
      " 8   coupon             225 non-null    float64       \n",
      " 9   tot_issue          225 non-null    float64       \n",
      " 10  cfi_code           218 non-null    string        \n",
      " 11  issue_rating       220 non-null    string        \n",
      "dtypes: datetime64[ns](3), float64(2), string(7)\n",
      "memory usage: 21.2 KB\n"
     ]
    }
   ],
   "source": [
    "df_bonds.info()"
   ]
  },
  {
   "cell_type": "code",
   "execution_count": 4,
   "metadata": {},
   "outputs": [
    {
     "data": {
      "text/html": [
       "<div>\n",
       "<style scoped>\n",
       "    .dataframe tbody tr th:only-of-type {\n",
       "        vertical-align: middle;\n",
       "    }\n",
       "\n",
       "    .dataframe tbody tr th {\n",
       "        vertical-align: top;\n",
       "    }\n",
       "\n",
       "    .dataframe thead th {\n",
       "        text-align: right;\n",
       "    }\n",
       "</style>\n",
       "<table border=\"1\" class=\"dataframe\">\n",
       "  <thead>\n",
       "    <tr style=\"text-align: right;\">\n",
       "      <th></th>\n",
       "      <th>ccy</th>\n",
       "      <th>country</th>\n",
       "      <th>issue_dt</th>\n",
       "      <th>first_coupon_date</th>\n",
       "      <th>mature_dt</th>\n",
       "      <th>isin</th>\n",
       "      <th>issuer_name</th>\n",
       "      <th>coupon_frq</th>\n",
       "      <th>coupon</th>\n",
       "      <th>tot_issue</th>\n",
       "      <th>cfi_code</th>\n",
       "      <th>issue_rating</th>\n",
       "    </tr>\n",
       "  </thead>\n",
       "  <tbody>\n",
       "    <tr>\n",
       "      <th>0</th>\n",
       "      <td>EUR</td>\n",
       "      <td>Netherlands</td>\n",
       "      <td>2009-02-13</td>\n",
       "      <td>2009-07-15</td>\n",
       "      <td>2019-07-15</td>\n",
       "      <td>NL0009086115</td>\n",
       "      <td>STAAT DER NEDERLANDEN</td>\n",
       "      <td>ANNUAL</td>\n",
       "      <td>4.000</td>\n",
       "      <td>5.000000e+09</td>\n",
       "      <td>DBFTFN</td>\n",
       "      <td>AAA</td>\n",
       "    </tr>\n",
       "    <tr>\n",
       "      <th>1</th>\n",
       "      <td>NLG</td>\n",
       "      <td>Austria</td>\n",
       "      <td>1994-02-28</td>\n",
       "      <td>1995-02-28</td>\n",
       "      <td>2024-02-28</td>\n",
       "      <td>NL0000133924</td>\n",
       "      <td>AUSTRIA</td>\n",
       "      <td>ANNUAL</td>\n",
       "      <td>6.250</td>\n",
       "      <td>1.000000e+09</td>\n",
       "      <td>DBFTXB</td>\n",
       "      <td>AA+</td>\n",
       "    </tr>\n",
       "    <tr>\n",
       "      <th>2</th>\n",
       "      <td>EUR</td>\n",
       "      <td>Netherlands</td>\n",
       "      <td>2012-03-09</td>\n",
       "      <td>2013-01-15</td>\n",
       "      <td>2033-01-15</td>\n",
       "      <td>NL0010071189</td>\n",
       "      <td>STAAT DER NEDERLANDEN</td>\n",
       "      <td>ANNUAL</td>\n",
       "      <td>2.500</td>\n",
       "      <td>4.160000e+09</td>\n",
       "      <td>DBFXXN</td>\n",
       "      <td>AAA</td>\n",
       "    </tr>\n",
       "    <tr>\n",
       "      <th>3</th>\n",
       "      <td>USD</td>\n",
       "      <td>United States</td>\n",
       "      <td>2009-05-15</td>\n",
       "      <td>2009-11-15</td>\n",
       "      <td>2019-05-15</td>\n",
       "      <td>US912828KQ20</td>\n",
       "      <td>UNITED STATES TREASURY</td>\n",
       "      <td>SEMI ANNUAL</td>\n",
       "      <td>3.125</td>\n",
       "      <td>6.441100e+10</td>\n",
       "      <td>&lt;NA&gt;</td>\n",
       "      <td>&lt;NA&gt;</td>\n",
       "    </tr>\n",
       "    <tr>\n",
       "      <th>4</th>\n",
       "      <td>USD</td>\n",
       "      <td>United States</td>\n",
       "      <td>2010-02-15</td>\n",
       "      <td>2010-08-15</td>\n",
       "      <td>2020-02-15</td>\n",
       "      <td>US912828MP29</td>\n",
       "      <td>UNITED STATES TREASURY</td>\n",
       "      <td>SEMI ANNUAL</td>\n",
       "      <td>3.625</td>\n",
       "      <td>0.000000e+00</td>\n",
       "      <td>&lt;NA&gt;</td>\n",
       "      <td>&lt;NA&gt;</td>\n",
       "    </tr>\n",
       "  </tbody>\n",
       "</table>\n",
       "</div>"
      ],
      "text/plain": [
       "   ccy        country   issue_dt first_coupon_date  mature_dt          isin  \\\n",
       "0  EUR    Netherlands 2009-02-13        2009-07-15 2019-07-15  NL0009086115   \n",
       "1  NLG        Austria 1994-02-28        1995-02-28 2024-02-28  NL0000133924   \n",
       "2  EUR    Netherlands 2012-03-09        2013-01-15 2033-01-15  NL0010071189   \n",
       "3  USD  United States 2009-05-15        2009-11-15 2019-05-15  US912828KQ20   \n",
       "4  USD  United States 2010-02-15        2010-08-15 2020-02-15  US912828MP29   \n",
       "\n",
       "              issuer_name            coupon_frq  coupon     tot_issue  \\\n",
       "0   STAAT DER NEDERLANDEN  ANNUAL                 4.000  5.000000e+09   \n",
       "1                 AUSTRIA  ANNUAL                 6.250  1.000000e+09   \n",
       "2   STAAT DER NEDERLANDEN  ANNUAL                 2.500  4.160000e+09   \n",
       "3  UNITED STATES TREASURY  SEMI ANNUAL            3.125  6.441100e+10   \n",
       "4  UNITED STATES TREASURY  SEMI ANNUAL            3.625  0.000000e+00   \n",
       "\n",
       "  cfi_code issue_rating  \n",
       "0   DBFTFN          AAA  \n",
       "1   DBFTXB          AA+  \n",
       "2   DBFXXN          AAA  \n",
       "3     <NA>         <NA>  \n",
       "4     <NA>         <NA>  "
      ]
     },
     "execution_count": 4,
     "metadata": {},
     "output_type": "execute_result"
    }
   ],
   "source": [
    "df_bonds.head()"
   ]
  },
  {
   "cell_type": "markdown",
   "metadata": {},
   "source": [
    "Imputeren ontbrekende waarden voor issue rating. \n",
    "Issue rating wordt waar deze ontbreekt ingevuld met de meest voorkomende issue rating voor de issuer.\n",
    "\n",
    "CFI code wordt waar deze ontbreekt ingevuld met code 'onbekend' = DXXXXX.\n",
    "\n",
    "Datums met de waarde 1899-12-30 zijn default waardes van het bronsysteem. Deze worden verwijderd.\n",
    "Daar waar de eerste coupon datum ontbreekt (o.a. zero coupon bonds) - wordt deze aangevuld met de issue datum.\n",
    "De reden hiervoor is dat we zo zonder veel moeite de looptijd van de bond kunnen berekenen."
   ]
  },
  {
   "cell_type": "code",
   "execution_count": 5,
   "metadata": {},
   "outputs": [
    {
     "name": "stderr",
     "output_type": "stream",
     "text": [
      "2022-01-03 11:54:58.396 | INFO     | src.data.make_dataset:impute_bonds:68 - Impute bond data\n"
     ]
    }
   ],
   "source": [
    "df_bonds = make_dataset.impute_bonds(df_bonds)"
   ]
  },
  {
   "cell_type": "code",
   "execution_count": 6,
   "metadata": {},
   "outputs": [
    {
     "name": "stderr",
     "output_type": "stream",
     "text": [
      "2022-01-03 11:55:01.025 | INFO     | src.data.make_dataset:save_pkl:347 - Save preprocessed bonds data\n"
     ]
    }
   ],
   "source": [
    "make_dataset.save_pkl('bonds', df_bonds)"
   ]
  },
  {
   "cell_type": "code",
   "execution_count": 7,
   "metadata": {},
   "outputs": [
    {
     "data": {
      "text/plain": [
       "ccy                  225\n",
       "country              225\n",
       "issue_dt             225\n",
       "first_coupon_date    225\n",
       "mature_dt            225\n",
       "isin                 225\n",
       "issuer_name          225\n",
       "coupon_frq           225\n",
       "coupon               225\n",
       "tot_issue            225\n",
       "cfi_code             225\n",
       "issue_rating         225\n",
       "bond_duration        225\n",
       "dtype: int64"
      ]
     },
     "execution_count": 7,
     "metadata": {},
     "output_type": "execute_result"
    }
   ],
   "source": [
    "df_bonds.count()"
   ]
  },
  {
   "cell_type": "markdown",
   "metadata": {},
   "source": [
    "# Bondprijzen"
   ]
  },
  {
   "cell_type": "code",
   "execution_count": 8,
   "metadata": {},
   "outputs": [
    {
     "name": "stderr",
     "output_type": "stream",
     "text": [
      "2022-01-03 11:55:11.703 | INFO     | src.data.make_dataset:get_price:105 - Load bond price data\n",
      "2022-01-03 11:55:11.704 | INFO     | src.data.make_dataset:read_csv:20 - Loading data from ..\\data\\raw\\price.csv\n"
     ]
    }
   ],
   "source": [
    "df_price = make_dataset.get_price()"
   ]
  },
  {
   "cell_type": "code",
   "execution_count": 9,
   "metadata": {},
   "outputs": [
    {
     "name": "stderr",
     "output_type": "stream",
     "text": [
      "2022-01-03 11:55:14.144 | INFO     | src.data.make_dataset:impute_price:130 - Impute bond price\n"
     ]
    }
   ],
   "source": [
    "df_price = make_dataset.impute_price(df_price)"
   ]
  },
  {
   "cell_type": "code",
   "execution_count": 10,
   "metadata": {},
   "outputs": [
    {
     "data": {
      "text/html": [
       "<div>\n",
       "<style scoped>\n",
       "    .dataframe tbody tr th:only-of-type {\n",
       "        vertical-align: middle;\n",
       "    }\n",
       "\n",
       "    .dataframe tbody tr th {\n",
       "        vertical-align: top;\n",
       "    }\n",
       "\n",
       "    .dataframe thead th {\n",
       "        text-align: right;\n",
       "    }\n",
       "</style>\n",
       "<table border=\"1\" class=\"dataframe\">\n",
       "  <thead>\n",
       "    <tr style=\"text-align: right;\">\n",
       "      <th></th>\n",
       "      <th>reference_identifier</th>\n",
       "      <th>ccy</th>\n",
       "      <th>rate_dt</th>\n",
       "      <th>mid</th>\n",
       "    </tr>\n",
       "  </thead>\n",
       "  <tbody>\n",
       "    <tr>\n",
       "      <th>0</th>\n",
       "      <td>BE0000332412</td>\n",
       "      <td>EUR</td>\n",
       "      <td>2014-01-20</td>\n",
       "      <td>100.719</td>\n",
       "    </tr>\n",
       "    <tr>\n",
       "      <th>1</th>\n",
       "      <td>BE0000332412</td>\n",
       "      <td>EUR</td>\n",
       "      <td>2014-01-24</td>\n",
       "      <td>101.005</td>\n",
       "    </tr>\n",
       "    <tr>\n",
       "      <th>2</th>\n",
       "      <td>BE0000332412</td>\n",
       "      <td>EUR</td>\n",
       "      <td>2014-01-28</td>\n",
       "      <td>100.953</td>\n",
       "    </tr>\n",
       "    <tr>\n",
       "      <th>3</th>\n",
       "      <td>BE0000332412</td>\n",
       "      <td>EUR</td>\n",
       "      <td>2014-01-22</td>\n",
       "      <td>100.359</td>\n",
       "    </tr>\n",
       "    <tr>\n",
       "      <th>4</th>\n",
       "      <td>BE0000332412</td>\n",
       "      <td>EUR</td>\n",
       "      <td>2014-01-21</td>\n",
       "      <td>100.601</td>\n",
       "    </tr>\n",
       "  </tbody>\n",
       "</table>\n",
       "</div>"
      ],
      "text/plain": [
       "  reference_identifier  ccy    rate_dt      mid\n",
       "0         BE0000332412  EUR 2014-01-20  100.719\n",
       "1         BE0000332412  EUR 2014-01-24  101.005\n",
       "2         BE0000332412  EUR 2014-01-28  100.953\n",
       "3         BE0000332412  EUR 2014-01-22  100.359\n",
       "4         BE0000332412  EUR 2014-01-21  100.601"
      ]
     },
     "execution_count": 10,
     "metadata": {},
     "output_type": "execute_result"
    }
   ],
   "source": [
    "df_price.head()"
   ]
  },
  {
   "cell_type": "code",
   "execution_count": 11,
   "metadata": {},
   "outputs": [
    {
     "data": {
      "text/html": [
       "<div>\n",
       "<style scoped>\n",
       "    .dataframe tbody tr th:only-of-type {\n",
       "        vertical-align: middle;\n",
       "    }\n",
       "\n",
       "    .dataframe tbody tr th {\n",
       "        vertical-align: top;\n",
       "    }\n",
       "\n",
       "    .dataframe thead th {\n",
       "        text-align: right;\n",
       "    }\n",
       "</style>\n",
       "<table border=\"1\" class=\"dataframe\">\n",
       "  <thead>\n",
       "    <tr style=\"text-align: right;\">\n",
       "      <th></th>\n",
       "      <th>mid</th>\n",
       "    </tr>\n",
       "  </thead>\n",
       "  <tbody>\n",
       "    <tr>\n",
       "      <th>count</th>\n",
       "      <td>209276.000000</td>\n",
       "    </tr>\n",
       "    <tr>\n",
       "      <th>mean</th>\n",
       "      <td>111.289025</td>\n",
       "    </tr>\n",
       "    <tr>\n",
       "      <th>std</th>\n",
       "      <td>15.522802</td>\n",
       "    </tr>\n",
       "    <tr>\n",
       "      <th>min</th>\n",
       "      <td>84.429000</td>\n",
       "    </tr>\n",
       "    <tr>\n",
       "      <th>25%</th>\n",
       "      <td>102.285000</td>\n",
       "    </tr>\n",
       "    <tr>\n",
       "      <th>50%</th>\n",
       "      <td>106.729000</td>\n",
       "    </tr>\n",
       "    <tr>\n",
       "      <th>75%</th>\n",
       "      <td>112.926000</td>\n",
       "    </tr>\n",
       "    <tr>\n",
       "      <th>max</th>\n",
       "      <td>195.749000</td>\n",
       "    </tr>\n",
       "  </tbody>\n",
       "</table>\n",
       "</div>"
      ],
      "text/plain": [
       "                 mid\n",
       "count  209276.000000\n",
       "mean      111.289025\n",
       "std        15.522802\n",
       "min        84.429000\n",
       "25%       102.285000\n",
       "50%       106.729000\n",
       "75%       112.926000\n",
       "max       195.749000"
      ]
     },
     "execution_count": 11,
     "metadata": {},
     "output_type": "execute_result"
    }
   ],
   "source": [
    "df_price.describe()"
   ]
  },
  {
   "cell_type": "code",
   "execution_count": 12,
   "metadata": {},
   "outputs": [
    {
     "name": "stdout",
     "output_type": "stream",
     "text": [
      "<class 'pandas.core.frame.DataFrame'>\n",
      "Int64Index: 209276 entries, 0 to 220236\n",
      "Data columns (total 4 columns):\n",
      " #   Column                Non-Null Count   Dtype         \n",
      "---  ------                --------------   -----         \n",
      " 0   reference_identifier  209276 non-null  string        \n",
      " 1   ccy                   209276 non-null  string        \n",
      " 2   rate_dt               209276 non-null  datetime64[ns]\n",
      " 3   mid                   209276 non-null  float64       \n",
      "dtypes: datetime64[ns](1), float64(1), string(2)\n",
      "memory usage: 8.0 MB\n"
     ]
    }
   ],
   "source": [
    "df_price.info()"
   ]
  },
  {
   "cell_type": "code",
   "execution_count": 13,
   "metadata": {},
   "outputs": [
    {
     "name": "stderr",
     "output_type": "stream",
     "text": [
      "2022-01-03 11:55:23.586 | INFO     | src.data.make_dataset:save_pkl:347 - Save preprocessed price data\n"
     ]
    }
   ],
   "source": [
    "make_dataset.save_pkl('price', df_price)"
   ]
  },
  {
   "cell_type": "markdown",
   "metadata": {},
   "source": [
    "# Government Yield curves"
   ]
  },
  {
   "cell_type": "code",
   "execution_count": 14,
   "metadata": {},
   "outputs": [
    {
     "name": "stderr",
     "output_type": "stream",
     "text": [
      "2022-01-03 11:55:37.715 | INFO     | src.data.make_dataset:get_yield:138 - Load goverment yield curve data\n",
      "2022-01-03 11:55:37.716 | INFO     | src.data.make_dataset:read_csv:20 - Loading data from ..\\data\\raw\\yield.csv\n"
     ]
    }
   ],
   "source": [
    "df_yield = make_dataset.get_yield()"
   ]
  },
  {
   "cell_type": "code",
   "execution_count": 15,
   "metadata": {},
   "outputs": [
    {
     "name": "stderr",
     "output_type": "stream",
     "text": [
      "2022-01-03 11:55:48.305 | INFO     | src.data.make_dataset:impute_yield:169 - Impute yield curve\n"
     ]
    }
   ],
   "source": [
    "df_yield = make_dataset.impute_yield(df_yield)"
   ]
  },
  {
   "cell_type": "code",
   "execution_count": 16,
   "metadata": {},
   "outputs": [
    {
     "data": {
      "text/html": [
       "<div>\n",
       "<style scoped>\n",
       "    .dataframe tbody tr th:only-of-type {\n",
       "        vertical-align: middle;\n",
       "    }\n",
       "\n",
       "    .dataframe tbody tr th {\n",
       "        vertical-align: top;\n",
       "    }\n",
       "\n",
       "    .dataframe thead th {\n",
       "        text-align: right;\n",
       "    }\n",
       "</style>\n",
       "<table border=\"1\" class=\"dataframe\">\n",
       "  <thead>\n",
       "    <tr style=\"text-align: right;\">\n",
       "      <th></th>\n",
       "      <th>country</th>\n",
       "      <th>rate_dt</th>\n",
       "      <th>timeband</th>\n",
       "      <th>ratename</th>\n",
       "      <th>ccy</th>\n",
       "      <th>actual_dt</th>\n",
       "      <th>datedays</th>\n",
       "      <th>bid</th>\n",
       "      <th>offer</th>\n",
       "      <th>int_basis</th>\n",
       "      <th>time</th>\n",
       "    </tr>\n",
       "  </thead>\n",
       "  <tbody>\n",
       "    <tr>\n",
       "      <th>116809</th>\n",
       "      <td>Spain</td>\n",
       "      <td>2021-12-23</td>\n",
       "      <td>5 YEARS</td>\n",
       "      <td>GOV Yield Curve ES BB</td>\n",
       "      <td>EUR</td>\n",
       "      <td>2026-12-23</td>\n",
       "      <td>1831</td>\n",
       "      <td>-0.062</td>\n",
       "      <td>-0.081</td>\n",
       "      <td>ANNUAL</td>\n",
       "      <td>1826 days</td>\n",
       "    </tr>\n",
       "    <tr>\n",
       "      <th>116811</th>\n",
       "      <td>Spain</td>\n",
       "      <td>2021-12-23</td>\n",
       "      <td>6 YEARS</td>\n",
       "      <td>GOV Yield Curve ES BB</td>\n",
       "      <td>EUR</td>\n",
       "      <td>2027-12-23</td>\n",
       "      <td>2195</td>\n",
       "      <td>-0.015</td>\n",
       "      <td>-0.030</td>\n",
       "      <td>ANNUAL</td>\n",
       "      <td>2191 days</td>\n",
       "    </tr>\n",
       "    <tr>\n",
       "      <th>116812</th>\n",
       "      <td>Spain</td>\n",
       "      <td>2021-12-23</td>\n",
       "      <td>7 YEARS</td>\n",
       "      <td>GOV Yield Curve ES BB</td>\n",
       "      <td>EUR</td>\n",
       "      <td>2028-12-23</td>\n",
       "      <td>2561</td>\n",
       "      <td>0.071</td>\n",
       "      <td>0.057</td>\n",
       "      <td>ANNUAL</td>\n",
       "      <td>2557 days</td>\n",
       "    </tr>\n",
       "    <tr>\n",
       "      <th>116813</th>\n",
       "      <td>Spain</td>\n",
       "      <td>2021-12-23</td>\n",
       "      <td>8 YEARS</td>\n",
       "      <td>GOV Yield Curve ES BB</td>\n",
       "      <td>EUR</td>\n",
       "      <td>2029-12-23</td>\n",
       "      <td>2926</td>\n",
       "      <td>0.240</td>\n",
       "      <td>0.229</td>\n",
       "      <td>ANNUAL</td>\n",
       "      <td>2922 days</td>\n",
       "    </tr>\n",
       "    <tr>\n",
       "      <th>116815</th>\n",
       "      <td>Spain</td>\n",
       "      <td>2021-12-23</td>\n",
       "      <td>9 YEARS</td>\n",
       "      <td>GOV Yield Curve ES BB</td>\n",
       "      <td>EUR</td>\n",
       "      <td>2030-12-23</td>\n",
       "      <td>3291</td>\n",
       "      <td>0.367</td>\n",
       "      <td>0.357</td>\n",
       "      <td>ANNUAL</td>\n",
       "      <td>3287 days</td>\n",
       "    </tr>\n",
       "  </tbody>\n",
       "</table>\n",
       "</div>"
      ],
      "text/plain": [
       "       country    rate_dt timeband               ratename  ccy  actual_dt  \\\n",
       "116809   Spain 2021-12-23  5 YEARS  GOV Yield Curve ES BB  EUR 2026-12-23   \n",
       "116811   Spain 2021-12-23  6 YEARS  GOV Yield Curve ES BB  EUR 2027-12-23   \n",
       "116812   Spain 2021-12-23  7 YEARS  GOV Yield Curve ES BB  EUR 2028-12-23   \n",
       "116813   Spain 2021-12-23  8 YEARS  GOV Yield Curve ES BB  EUR 2029-12-23   \n",
       "116815   Spain 2021-12-23  9 YEARS  GOV Yield Curve ES BB  EUR 2030-12-23   \n",
       "\n",
       "        datedays    bid  offer     int_basis      time  \n",
       "116809      1831 -0.062 -0.081  ANNUAL       1826 days  \n",
       "116811      2195 -0.015 -0.030  ANNUAL       2191 days  \n",
       "116812      2561  0.071  0.057  ANNUAL       2557 days  \n",
       "116813      2926  0.240  0.229  ANNUAL       2922 days  \n",
       "116815      3291  0.367  0.357  ANNUAL       3287 days  "
      ]
     },
     "execution_count": 16,
     "metadata": {},
     "output_type": "execute_result"
    }
   ],
   "source": [
    "df_yield.tail()"
   ]
  },
  {
   "cell_type": "code",
   "execution_count": 17,
   "metadata": {},
   "outputs": [
    {
     "name": "stdout",
     "output_type": "stream",
     "text": [
      "<class 'pandas.core.frame.DataFrame'>\n",
      "Int64Index: 89750 entries, 1 to 116815\n",
      "Data columns (total 11 columns):\n",
      " #   Column     Non-Null Count  Dtype          \n",
      "---  ------     --------------  -----          \n",
      " 0   country    89750 non-null  object         \n",
      " 1   rate_dt    89750 non-null  datetime64[ns] \n",
      " 2   timeband   89750 non-null  object         \n",
      " 3   ratename   89750 non-null  string         \n",
      " 4   ccy        89750 non-null  string         \n",
      " 5   actual_dt  89750 non-null  datetime64[ns] \n",
      " 6   datedays   89750 non-null  int64          \n",
      " 7   bid        89750 non-null  float64        \n",
      " 8   offer      89750 non-null  float64        \n",
      " 9   int_basis  89750 non-null  string         \n",
      " 10  time       89750 non-null  timedelta64[ns]\n",
      "dtypes: datetime64[ns](2), float64(2), int64(1), object(2), string(3), timedelta64[ns](1)\n",
      "memory usage: 8.2+ MB\n"
     ]
    }
   ],
   "source": [
    "df_yield.info()"
   ]
  },
  {
   "cell_type": "code",
   "execution_count": 18,
   "metadata": {},
   "outputs": [
    {
     "name": "stderr",
     "output_type": "stream",
     "text": [
      "2022-01-03 11:56:02.605 | INFO     | src.data.make_dataset:save_pkl:347 - Save preprocessed yield data\n"
     ]
    }
   ],
   "source": [
    "make_dataset.save_pkl('yield', df_yield)"
   ]
  },
  {
   "cell_type": "markdown",
   "metadata": {},
   "source": [
    "# Inflation data\n"
   ]
  },
  {
   "cell_type": "code",
   "execution_count": 19,
   "metadata": {},
   "outputs": [
    {
     "name": "stderr",
     "output_type": "stream",
     "text": [
      "2022-01-03 11:56:12.554 | INFO     | src.data.make_dataset:get_inflation:189 - Load goverment yield curve data\n",
      "2022-01-03 11:56:12.556 | INFO     | src.data.make_dataset:read_csv:20 - Loading data from ..\\data\\raw\\DE Inflation.csv\n",
      "2022-01-03 11:56:12.578 | INFO     | src.data.make_dataset:read_csv:20 - Loading data from ..\\data\\raw\\FR Inflation.csv\n",
      "2022-01-03 11:56:12.599 | INFO     | src.data.make_dataset:read_csv:20 - Loading data from ..\\data\\raw\\ES Inflation.csv\n",
      "2022-01-03 11:56:12.625 | INFO     | src.data.make_dataset:read_csv:20 - Loading data from ..\\data\\raw\\IT Inflation.csv\n",
      "2022-01-03 11:56:12.651 | INFO     | src.data.make_dataset:read_csv:20 - Loading data from ..\\data\\raw\\US Inflation.csv\n"
     ]
    }
   ],
   "source": [
    "df_inflation = make_dataset.get_inflation()  "
   ]
  },
  {
   "cell_type": "code",
   "execution_count": 20,
   "metadata": {},
   "outputs": [
    {
     "name": "stderr",
     "output_type": "stream",
     "text": [
      "2022-01-03 11:56:44.729 | INFO     | src.data.make_dataset:impute_inflation:217 - Impute inflation curve\n"
     ]
    },
    {
     "name": "stdout",
     "output_type": "stream",
     "text": [
      "<class 'pandas.core.frame.DataFrame'>\n",
      "Int64Index: 215007 entries, 0 to 216873\n",
      "Data columns (total 7 columns):\n",
      " #   Column     Non-Null Count   Dtype          \n",
      "---  ------     --------------   -----          \n",
      " 0   country    215007 non-null  string         \n",
      " 1   rate_dt    215007 non-null  datetime64[ns] \n",
      " 2   timeband   215007 non-null  string         \n",
      " 3   inflation  215007 non-null  float64        \n",
      " 4   ratename   215007 non-null  string         \n",
      " 5   actual_dt  215007 non-null  datetime64[ns] \n",
      " 6   time       215007 non-null  timedelta64[ns]\n",
      "dtypes: datetime64[ns](2), float64(1), string(3), timedelta64[ns](1)\n",
      "memory usage: 13.1 MB\n"
     ]
    }
   ],
   "source": [
    "df_inflation = make_dataset.impute_inflation(df_inflation)\n",
    "\n",
    "\n",
    "df_inflation.info()"
   ]
  },
  {
   "cell_type": "code",
   "execution_count": 21,
   "metadata": {},
   "outputs": [
    {
     "data": {
      "text/html": [
       "<div>\n",
       "<style scoped>\n",
       "    .dataframe tbody tr th:only-of-type {\n",
       "        vertical-align: middle;\n",
       "    }\n",
       "\n",
       "    .dataframe tbody tr th {\n",
       "        vertical-align: top;\n",
       "    }\n",
       "\n",
       "    .dataframe thead th {\n",
       "        text-align: right;\n",
       "    }\n",
       "</style>\n",
       "<table border=\"1\" class=\"dataframe\">\n",
       "  <thead>\n",
       "    <tr style=\"text-align: right;\">\n",
       "      <th></th>\n",
       "      <th>country</th>\n",
       "      <th>rate_dt</th>\n",
       "      <th>timeband</th>\n",
       "      <th>inflation</th>\n",
       "      <th>ratename</th>\n",
       "      <th>actual_dt</th>\n",
       "      <th>time</th>\n",
       "    </tr>\n",
       "  </thead>\n",
       "  <tbody>\n",
       "    <tr>\n",
       "      <th>0</th>\n",
       "      <td>Germany</td>\n",
       "      <td>2021-12-23</td>\n",
       "      <td>1 YEAR</td>\n",
       "      <td>3.28625</td>\n",
       "      <td>Inflation</td>\n",
       "      <td>2022-12-23</td>\n",
       "      <td>365 days</td>\n",
       "    </tr>\n",
       "    <tr>\n",
       "      <th>1</th>\n",
       "      <td>Germany</td>\n",
       "      <td>2021-12-22</td>\n",
       "      <td>1 YEAR</td>\n",
       "      <td>3.33875</td>\n",
       "      <td>Inflation</td>\n",
       "      <td>2022-12-22</td>\n",
       "      <td>365 days</td>\n",
       "    </tr>\n",
       "    <tr>\n",
       "      <th>2</th>\n",
       "      <td>Germany</td>\n",
       "      <td>2021-12-21</td>\n",
       "      <td>1 YEAR</td>\n",
       "      <td>3.15625</td>\n",
       "      <td>Inflation</td>\n",
       "      <td>2022-12-21</td>\n",
       "      <td>365 days</td>\n",
       "    </tr>\n",
       "    <tr>\n",
       "      <th>3</th>\n",
       "      <td>Germany</td>\n",
       "      <td>2021-12-20</td>\n",
       "      <td>1 YEAR</td>\n",
       "      <td>3.01375</td>\n",
       "      <td>Inflation</td>\n",
       "      <td>2022-12-20</td>\n",
       "      <td>365 days</td>\n",
       "    </tr>\n",
       "    <tr>\n",
       "      <th>4</th>\n",
       "      <td>Germany</td>\n",
       "      <td>2021-12-17</td>\n",
       "      <td>1 YEAR</td>\n",
       "      <td>2.89875</td>\n",
       "      <td>Inflation</td>\n",
       "      <td>2022-12-17</td>\n",
       "      <td>365 days</td>\n",
       "    </tr>\n",
       "  </tbody>\n",
       "</table>\n",
       "</div>"
      ],
      "text/plain": [
       "   country    rate_dt timeband  inflation   ratename  actual_dt     time\n",
       "0  Germany 2021-12-23   1 YEAR    3.28625  Inflation 2022-12-23 365 days\n",
       "1  Germany 2021-12-22   1 YEAR    3.33875  Inflation 2022-12-22 365 days\n",
       "2  Germany 2021-12-21   1 YEAR    3.15625  Inflation 2022-12-21 365 days\n",
       "3  Germany 2021-12-20   1 YEAR    3.01375  Inflation 2022-12-20 365 days\n",
       "4  Germany 2021-12-17   1 YEAR    2.89875  Inflation 2022-12-17 365 days"
      ]
     },
     "execution_count": 21,
     "metadata": {},
     "output_type": "execute_result"
    }
   ],
   "source": [
    "df_inflation.head()"
   ]
  },
  {
   "cell_type": "code",
   "execution_count": 22,
   "metadata": {},
   "outputs": [
    {
     "name": "stderr",
     "output_type": "stream",
     "text": [
      "2022-01-03 11:56:51.763 | INFO     | src.data.make_dataset:save_pkl:347 - Save preprocessed inflation data\n"
     ]
    }
   ],
   "source": [
    "make_dataset.save_pkl('inflation', df_inflation)"
   ]
  },
  {
   "cell_type": "code",
   "execution_count": 23,
   "metadata": {},
   "outputs": [
    {
     "data": {
      "text/html": [
       "<div>\n",
       "<style scoped>\n",
       "    .dataframe tbody tr th:only-of-type {\n",
       "        vertical-align: middle;\n",
       "    }\n",
       "\n",
       "    .dataframe tbody tr th {\n",
       "        vertical-align: top;\n",
       "    }\n",
       "\n",
       "    .dataframe thead th {\n",
       "        text-align: right;\n",
       "    }\n",
       "</style>\n",
       "<table border=\"1\" class=\"dataframe\">\n",
       "  <thead>\n",
       "    <tr style=\"text-align: right;\">\n",
       "      <th></th>\n",
       "      <th>reference_identifier</th>\n",
       "      <th>ccy</th>\n",
       "      <th>rate_dt</th>\n",
       "      <th>mid</th>\n",
       "    </tr>\n",
       "  </thead>\n",
       "  <tbody>\n",
       "    <tr>\n",
       "      <th>0</th>\n",
       "      <td>BE0000332412</td>\n",
       "      <td>EUR</td>\n",
       "      <td>2014-01-20</td>\n",
       "      <td>100.719</td>\n",
       "    </tr>\n",
       "    <tr>\n",
       "      <th>1</th>\n",
       "      <td>BE0000332412</td>\n",
       "      <td>EUR</td>\n",
       "      <td>2014-01-24</td>\n",
       "      <td>101.005</td>\n",
       "    </tr>\n",
       "    <tr>\n",
       "      <th>2</th>\n",
       "      <td>BE0000332412</td>\n",
       "      <td>EUR</td>\n",
       "      <td>2014-01-28</td>\n",
       "      <td>100.953</td>\n",
       "    </tr>\n",
       "    <tr>\n",
       "      <th>3</th>\n",
       "      <td>BE0000332412</td>\n",
       "      <td>EUR</td>\n",
       "      <td>2014-01-22</td>\n",
       "      <td>100.359</td>\n",
       "    </tr>\n",
       "    <tr>\n",
       "      <th>4</th>\n",
       "      <td>BE0000332412</td>\n",
       "      <td>EUR</td>\n",
       "      <td>2014-01-21</td>\n",
       "      <td>100.601</td>\n",
       "    </tr>\n",
       "    <tr>\n",
       "      <th>...</th>\n",
       "      <td>...</td>\n",
       "      <td>...</td>\n",
       "      <td>...</td>\n",
       "      <td>...</td>\n",
       "    </tr>\n",
       "    <tr>\n",
       "      <th>220232</th>\n",
       "      <td>FR0011486067</td>\n",
       "      <td>EUR</td>\n",
       "      <td>2021-08-31</td>\n",
       "      <td>104.237</td>\n",
       "    </tr>\n",
       "    <tr>\n",
       "      <th>220233</th>\n",
       "      <td>FR0011486067</td>\n",
       "      <td>EUR</td>\n",
       "      <td>2021-09-02</td>\n",
       "      <td>104.231</td>\n",
       "    </tr>\n",
       "    <tr>\n",
       "      <th>220234</th>\n",
       "      <td>FR0011486067</td>\n",
       "      <td>EUR</td>\n",
       "      <td>2021-10-14</td>\n",
       "      <td>103.889</td>\n",
       "    </tr>\n",
       "    <tr>\n",
       "      <th>220235</th>\n",
       "      <td>FR0011486067</td>\n",
       "      <td>EUR</td>\n",
       "      <td>2021-10-15</td>\n",
       "      <td>103.882</td>\n",
       "    </tr>\n",
       "    <tr>\n",
       "      <th>220236</th>\n",
       "      <td>FR0011486067</td>\n",
       "      <td>EUR</td>\n",
       "      <td>2021-10-18</td>\n",
       "      <td>103.826</td>\n",
       "    </tr>\n",
       "  </tbody>\n",
       "</table>\n",
       "<p>209276 rows × 4 columns</p>\n",
       "</div>"
      ],
      "text/plain": [
       "       reference_identifier  ccy    rate_dt      mid\n",
       "0              BE0000332412  EUR 2014-01-20  100.719\n",
       "1              BE0000332412  EUR 2014-01-24  101.005\n",
       "2              BE0000332412  EUR 2014-01-28  100.953\n",
       "3              BE0000332412  EUR 2014-01-22  100.359\n",
       "4              BE0000332412  EUR 2014-01-21  100.601\n",
       "...                     ...  ...        ...      ...\n",
       "220232         FR0011486067  EUR 2021-08-31  104.237\n",
       "220233         FR0011486067  EUR 2021-09-02  104.231\n",
       "220234         FR0011486067  EUR 2021-10-14  103.889\n",
       "220235         FR0011486067  EUR 2021-10-15  103.882\n",
       "220236         FR0011486067  EUR 2021-10-18  103.826\n",
       "\n",
       "[209276 rows x 4 columns]"
      ]
     },
     "execution_count": 23,
     "metadata": {},
     "output_type": "execute_result"
    }
   ],
   "source": [
    "df_price"
   ]
  },
  {
   "cell_type": "code",
   "execution_count": 24,
   "metadata": {},
   "outputs": [
    {
     "name": "stderr",
     "output_type": "stream",
     "text": [
      "2022-01-03 11:57:20.653 | INFO     | src.features.build_features:add_duration:12 - Add remaining duration...\n"
     ]
    }
   ],
   "source": [
    "df_bp = make_dataset.join_price(df_bonds,df_price )\n",
    "df_bp = build_features.add_duration(df_bp)"
   ]
  },
  {
   "cell_type": "markdown",
   "metadata": {},
   "source": [
    "Om de termspread toe te kunnen voegen moeten we de bond data joinen met de government yield. Hierdoor hebben we minder data beschikbaar.\n",
    "De vraag is of dit nodig is (of dat het model dit zelf uit kan vogelen)\n",
    "\n",
    "Hoe meer data we joinen - hoe meer data we kwijt raken. "
   ]
  },
  {
   "cell_type": "code",
   "execution_count": 26,
   "metadata": {},
   "outputs": [
    {
     "data": {
      "text/html": [
       "<div>\n",
       "<style scoped>\n",
       "    .dataframe tbody tr th:only-of-type {\n",
       "        vertical-align: middle;\n",
       "    }\n",
       "\n",
       "    .dataframe tbody tr th {\n",
       "        vertical-align: top;\n",
       "    }\n",
       "\n",
       "    .dataframe thead th {\n",
       "        text-align: right;\n",
       "    }\n",
       "</style>\n",
       "<table border=\"1\" class=\"dataframe\">\n",
       "  <thead>\n",
       "    <tr style=\"text-align: right;\">\n",
       "      <th></th>\n",
       "      <th>country</th>\n",
       "      <th>rate_dt</th>\n",
       "      <th>timeband</th>\n",
       "      <th>ratename</th>\n",
       "      <th>ccy</th>\n",
       "      <th>actual_dt</th>\n",
       "      <th>datedays</th>\n",
       "      <th>bid</th>\n",
       "      <th>offer</th>\n",
       "      <th>int_basis</th>\n",
       "      <th>time</th>\n",
       "    </tr>\n",
       "  </thead>\n",
       "  <tbody>\n",
       "    <tr>\n",
       "      <th>1</th>\n",
       "      <td>France</td>\n",
       "      <td>2016-06-01</td>\n",
       "      <td>1 YEAR</td>\n",
       "      <td>GOV Yield Curve FR BB</td>\n",
       "      <td>EUR</td>\n",
       "      <td>2017-06-01</td>\n",
       "      <td>369</td>\n",
       "      <td>-0.5200</td>\n",
       "      <td>-0.498</td>\n",
       "      <td>ANNUAL</td>\n",
       "      <td>365 days</td>\n",
       "    </tr>\n",
       "    <tr>\n",
       "      <th>2</th>\n",
       "      <td>France</td>\n",
       "      <td>2016-06-01</td>\n",
       "      <td>10 YEARS</td>\n",
       "      <td>GOV Yield Curve FR BB</td>\n",
       "      <td>EUR</td>\n",
       "      <td>2026-06-01</td>\n",
       "      <td>3654</td>\n",
       "      <td>0.4755</td>\n",
       "      <td>0.475</td>\n",
       "      <td>ANNUAL</td>\n",
       "      <td>3652 days</td>\n",
       "    </tr>\n",
       "    <tr>\n",
       "      <th>3</th>\n",
       "      <td>France</td>\n",
       "      <td>2016-06-01</td>\n",
       "      <td>15 YEARS</td>\n",
       "      <td>GOV Yield Curve FR BB</td>\n",
       "      <td>EUR</td>\n",
       "      <td>2031-06-02</td>\n",
       "      <td>5480</td>\n",
       "      <td>0.4755</td>\n",
       "      <td>0.475</td>\n",
       "      <td>ANNUAL</td>\n",
       "      <td>5479 days</td>\n",
       "    </tr>\n",
       "    <tr>\n",
       "      <th>4</th>\n",
       "      <td>France</td>\n",
       "      <td>2016-06-01</td>\n",
       "      <td>2 YEARS</td>\n",
       "      <td>GOV Yield Curve FR BB</td>\n",
       "      <td>EUR</td>\n",
       "      <td>2018-06-01</td>\n",
       "      <td>733</td>\n",
       "      <td>-0.4597</td>\n",
       "      <td>-0.442</td>\n",
       "      <td>ANNUAL</td>\n",
       "      <td>730 days</td>\n",
       "    </tr>\n",
       "    <tr>\n",
       "      <th>5</th>\n",
       "      <td>France</td>\n",
       "      <td>2016-06-01</td>\n",
       "      <td>20 YEARS</td>\n",
       "      <td>GOV Yield Curve FR BB</td>\n",
       "      <td>EUR</td>\n",
       "      <td>2036-06-01</td>\n",
       "      <td>7307</td>\n",
       "      <td>1.2151</td>\n",
       "      <td>1.220</td>\n",
       "      <td>ANNUAL</td>\n",
       "      <td>7305 days</td>\n",
       "    </tr>\n",
       "    <tr>\n",
       "      <th>...</th>\n",
       "      <td>...</td>\n",
       "      <td>...</td>\n",
       "      <td>...</td>\n",
       "      <td>...</td>\n",
       "      <td>...</td>\n",
       "      <td>...</td>\n",
       "      <td>...</td>\n",
       "      <td>...</td>\n",
       "      <td>...</td>\n",
       "      <td>...</td>\n",
       "      <td>...</td>\n",
       "    </tr>\n",
       "    <tr>\n",
       "      <th>116809</th>\n",
       "      <td>Spain</td>\n",
       "      <td>2021-12-23</td>\n",
       "      <td>5 YEARS</td>\n",
       "      <td>GOV Yield Curve ES BB</td>\n",
       "      <td>EUR</td>\n",
       "      <td>2026-12-23</td>\n",
       "      <td>1831</td>\n",
       "      <td>-0.0620</td>\n",
       "      <td>-0.081</td>\n",
       "      <td>ANNUAL</td>\n",
       "      <td>1826 days</td>\n",
       "    </tr>\n",
       "    <tr>\n",
       "      <th>116811</th>\n",
       "      <td>Spain</td>\n",
       "      <td>2021-12-23</td>\n",
       "      <td>6 YEARS</td>\n",
       "      <td>GOV Yield Curve ES BB</td>\n",
       "      <td>EUR</td>\n",
       "      <td>2027-12-23</td>\n",
       "      <td>2195</td>\n",
       "      <td>-0.0150</td>\n",
       "      <td>-0.030</td>\n",
       "      <td>ANNUAL</td>\n",
       "      <td>2191 days</td>\n",
       "    </tr>\n",
       "    <tr>\n",
       "      <th>116812</th>\n",
       "      <td>Spain</td>\n",
       "      <td>2021-12-23</td>\n",
       "      <td>7 YEARS</td>\n",
       "      <td>GOV Yield Curve ES BB</td>\n",
       "      <td>EUR</td>\n",
       "      <td>2028-12-23</td>\n",
       "      <td>2561</td>\n",
       "      <td>0.0710</td>\n",
       "      <td>0.057</td>\n",
       "      <td>ANNUAL</td>\n",
       "      <td>2557 days</td>\n",
       "    </tr>\n",
       "    <tr>\n",
       "      <th>116813</th>\n",
       "      <td>Spain</td>\n",
       "      <td>2021-12-23</td>\n",
       "      <td>8 YEARS</td>\n",
       "      <td>GOV Yield Curve ES BB</td>\n",
       "      <td>EUR</td>\n",
       "      <td>2029-12-23</td>\n",
       "      <td>2926</td>\n",
       "      <td>0.2400</td>\n",
       "      <td>0.229</td>\n",
       "      <td>ANNUAL</td>\n",
       "      <td>2922 days</td>\n",
       "    </tr>\n",
       "    <tr>\n",
       "      <th>116815</th>\n",
       "      <td>Spain</td>\n",
       "      <td>2021-12-23</td>\n",
       "      <td>9 YEARS</td>\n",
       "      <td>GOV Yield Curve ES BB</td>\n",
       "      <td>EUR</td>\n",
       "      <td>2030-12-23</td>\n",
       "      <td>3291</td>\n",
       "      <td>0.3670</td>\n",
       "      <td>0.357</td>\n",
       "      <td>ANNUAL</td>\n",
       "      <td>3287 days</td>\n",
       "    </tr>\n",
       "  </tbody>\n",
       "</table>\n",
       "<p>89750 rows × 11 columns</p>\n",
       "</div>"
      ],
      "text/plain": [
       "       country    rate_dt  timeband               ratename  ccy  actual_dt  \\\n",
       "1       France 2016-06-01    1 YEAR  GOV Yield Curve FR BB  EUR 2017-06-01   \n",
       "2       France 2016-06-01  10 YEARS  GOV Yield Curve FR BB  EUR 2026-06-01   \n",
       "3       France 2016-06-01  15 YEARS  GOV Yield Curve FR BB  EUR 2031-06-02   \n",
       "4       France 2016-06-01   2 YEARS  GOV Yield Curve FR BB  EUR 2018-06-01   \n",
       "5       France 2016-06-01  20 YEARS  GOV Yield Curve FR BB  EUR 2036-06-01   \n",
       "...        ...        ...       ...                    ...  ...        ...   \n",
       "116809   Spain 2021-12-23   5 YEARS  GOV Yield Curve ES BB  EUR 2026-12-23   \n",
       "116811   Spain 2021-12-23   6 YEARS  GOV Yield Curve ES BB  EUR 2027-12-23   \n",
       "116812   Spain 2021-12-23   7 YEARS  GOV Yield Curve ES BB  EUR 2028-12-23   \n",
       "116813   Spain 2021-12-23   8 YEARS  GOV Yield Curve ES BB  EUR 2029-12-23   \n",
       "116815   Spain 2021-12-23   9 YEARS  GOV Yield Curve ES BB  EUR 2030-12-23   \n",
       "\n",
       "        datedays     bid  offer     int_basis      time  \n",
       "1            369 -0.5200 -0.498  ANNUAL        365 days  \n",
       "2           3654  0.4755  0.475  ANNUAL       3652 days  \n",
       "3           5480  0.4755  0.475  ANNUAL       5479 days  \n",
       "4            733 -0.4597 -0.442  ANNUAL        730 days  \n",
       "5           7307  1.2151  1.220  ANNUAL       7305 days  \n",
       "...          ...     ...    ...           ...       ...  \n",
       "116809      1831 -0.0620 -0.081  ANNUAL       1826 days  \n",
       "116811      2195 -0.0150 -0.030  ANNUAL       2191 days  \n",
       "116812      2561  0.0710  0.057  ANNUAL       2557 days  \n",
       "116813      2926  0.2400  0.229  ANNUAL       2922 days  \n",
       "116815      3291  0.3670  0.357  ANNUAL       3287 days  \n",
       "\n",
       "[89750 rows x 11 columns]"
      ]
     },
     "execution_count": 26,
     "metadata": {},
     "output_type": "execute_result"
    }
   ],
   "source": [
    "df_yield"
   ]
  },
  {
   "cell_type": "code",
   "execution_count": 25,
   "metadata": {},
   "outputs": [
    {
     "ename": "KeyError",
     "evalue": "'offset'",
     "output_type": "error",
     "traceback": [
      "\u001b[1;31m---------------------------------------------------------------------------\u001b[0m",
      "\u001b[1;31mKeyError\u001b[0m                                  Traceback (most recent call last)",
      "\u001b[1;32m~\\AppData\\Local\\pypoetry\\Cache\\virtualenvs\\timeseries-NkPdx04N-py3.8\\lib\\site-packages\\pandas\\core\\indexes\\base.py\u001b[0m in \u001b[0;36mget_loc\u001b[1;34m(self, key, method, tolerance)\u001b[0m\n\u001b[0;32m   3360\u001b[0m             \u001b[1;32mtry\u001b[0m\u001b[1;33m:\u001b[0m\u001b[1;33m\u001b[0m\u001b[1;33m\u001b[0m\u001b[0m\n\u001b[1;32m-> 3361\u001b[1;33m                 \u001b[1;32mreturn\u001b[0m \u001b[0mself\u001b[0m\u001b[1;33m.\u001b[0m\u001b[0m_engine\u001b[0m\u001b[1;33m.\u001b[0m\u001b[0mget_loc\u001b[0m\u001b[1;33m(\u001b[0m\u001b[0mcasted_key\u001b[0m\u001b[1;33m)\u001b[0m\u001b[1;33m\u001b[0m\u001b[1;33m\u001b[0m\u001b[0m\n\u001b[0m\u001b[0;32m   3362\u001b[0m             \u001b[1;32mexcept\u001b[0m \u001b[0mKeyError\u001b[0m \u001b[1;32mas\u001b[0m \u001b[0merr\u001b[0m\u001b[1;33m:\u001b[0m\u001b[1;33m\u001b[0m\u001b[1;33m\u001b[0m\u001b[0m\n",
      "\u001b[1;32m~\\AppData\\Local\\pypoetry\\Cache\\virtualenvs\\timeseries-NkPdx04N-py3.8\\lib\\site-packages\\pandas\\_libs\\index.pyx\u001b[0m in \u001b[0;36mpandas._libs.index.IndexEngine.get_loc\u001b[1;34m()\u001b[0m\n",
      "\u001b[1;32m~\\AppData\\Local\\pypoetry\\Cache\\virtualenvs\\timeseries-NkPdx04N-py3.8\\lib\\site-packages\\pandas\\_libs\\index.pyx\u001b[0m in \u001b[0;36mpandas._libs.index.IndexEngine.get_loc\u001b[1;34m()\u001b[0m\n",
      "\u001b[1;32mpandas\\_libs\\hashtable_class_helper.pxi\u001b[0m in \u001b[0;36mpandas._libs.hashtable.PyObjectHashTable.get_item\u001b[1;34m()\u001b[0m\n",
      "\u001b[1;32mpandas\\_libs\\hashtable_class_helper.pxi\u001b[0m in \u001b[0;36mpandas._libs.hashtable.PyObjectHashTable.get_item\u001b[1;34m()\u001b[0m\n",
      "\u001b[1;31mKeyError\u001b[0m: 'offset'",
      "\nThe above exception was the direct cause of the following exception:\n",
      "\u001b[1;31mKeyError\u001b[0m                                  Traceback (most recent call last)",
      "\u001b[1;32m~\\AppData\\Local\\Temp/ipykernel_13804/563743040.py\u001b[0m in \u001b[0;36m<module>\u001b[1;34m\u001b[0m\n\u001b[1;32m----> 1\u001b[1;33m \u001b[0mdf_bpy\u001b[0m \u001b[1;33m=\u001b[0m \u001b[0mmake_dataset\u001b[0m\u001b[1;33m.\u001b[0m\u001b[0mjoin_yield\u001b[0m\u001b[1;33m(\u001b[0m\u001b[0mdf_bp\u001b[0m\u001b[1;33m,\u001b[0m \u001b[0mdf_yield\u001b[0m\u001b[1;33m)\u001b[0m\u001b[1;33m\u001b[0m\u001b[1;33m\u001b[0m\u001b[0m\n\u001b[0m\u001b[0;32m      2\u001b[0m \u001b[0mdf_bpy\u001b[0m \u001b[1;33m=\u001b[0m \u001b[0mbuild_features\u001b[0m\u001b[1;33m.\u001b[0m\u001b[0madd_term_spread\u001b[0m\u001b[1;33m(\u001b[0m\u001b[0mdf_bpy\u001b[0m\u001b[1;33m)\u001b[0m\u001b[1;33m\u001b[0m\u001b[1;33m\u001b[0m\u001b[0m\n\u001b[0;32m      3\u001b[0m \u001b[0mdf_bpy\u001b[0m \u001b[1;33m=\u001b[0m \u001b[0mbuild_features\u001b[0m\u001b[1;33m.\u001b[0m\u001b[0madd_bid_offer_spread\u001b[0m\u001b[1;33m(\u001b[0m\u001b[0mdf_bpy\u001b[0m\u001b[1;33m)\u001b[0m\u001b[1;33m\u001b[0m\u001b[1;33m\u001b[0m\u001b[0m\n\u001b[0;32m      4\u001b[0m \u001b[0mdf_bpy\u001b[0m\u001b[1;33m.\u001b[0m\u001b[0minfo\u001b[0m\u001b[1;33m(\u001b[0m\u001b[1;33m)\u001b[0m\u001b[1;33m\u001b[0m\u001b[1;33m\u001b[0m\u001b[0m\n",
      "\u001b[1;32mc:\\Users\\M\\SkyDrive\\Documents\\GitHub\\BondTrading\\notebooks\\..\\src\\data\\make_dataset.py\u001b[0m in \u001b[0;36mjoin_yield\u001b[1;34m(df, df_yield)\u001b[0m\n\u001b[0;32m    292\u001b[0m \u001b[1;33m\u001b[0m\u001b[0m\n\u001b[0;32m    293\u001b[0m     \u001b[1;31m# Join yield\u001b[0m\u001b[1;33m\u001b[0m\u001b[1;33m\u001b[0m\u001b[1;33m\u001b[0m\u001b[0m\n\u001b[1;32m--> 294\u001b[1;33m     \u001b[0mdf_yield_pivot\u001b[0m \u001b[1;33m=\u001b[0m \u001b[0mpd\u001b[0m\u001b[1;33m.\u001b[0m\u001b[0mpivot\u001b[0m\u001b[1;33m(\u001b[0m\u001b[0mdf_yield\u001b[0m\u001b[1;33m,\u001b[0m \u001b[0mindex\u001b[0m \u001b[1;33m=\u001b[0m \u001b[1;33m[\u001b[0m\u001b[1;34m'country'\u001b[0m\u001b[1;33m,\u001b[0m\u001b[1;34m'rate_dt'\u001b[0m\u001b[1;33m]\u001b[0m\u001b[1;33m,\u001b[0m \u001b[0mcolumns\u001b[0m \u001b[1;33m=\u001b[0m \u001b[1;33m[\u001b[0m\u001b[1;34m'offset'\u001b[0m\u001b[1;33m]\u001b[0m\u001b[1;33m,\u001b[0m \u001b[0mvalues\u001b[0m \u001b[1;33m=\u001b[0m \u001b[1;33m[\u001b[0m\u001b[1;34m'bid'\u001b[0m\u001b[1;33m,\u001b[0m\u001b[1;34m'offer'\u001b[0m\u001b[1;33m]\u001b[0m\u001b[1;33m)\u001b[0m\u001b[1;33m\u001b[0m\u001b[1;33m\u001b[0m\u001b[0m\n\u001b[0m\u001b[0;32m    295\u001b[0m     \u001b[0mdf_yield_pivot\u001b[0m\u001b[1;33m.\u001b[0m\u001b[0mcolumns\u001b[0m \u001b[1;33m=\u001b[0m \u001b[1;33m[\u001b[0m\u001b[1;34m''\u001b[0m\u001b[1;33m.\u001b[0m\u001b[0mjoin\u001b[0m\u001b[1;33m(\u001b[0m\u001b[1;33m(\u001b[0m\u001b[1;34m'y_'\u001b[0m\u001b[1;33m,\u001b[0m\u001b[1;34m''\u001b[0m\u001b[1;33m.\u001b[0m\u001b[0mjoin\u001b[0m\u001b[1;33m(\u001b[0m\u001b[0mtup\u001b[0m\u001b[1;33m)\u001b[0m\u001b[1;33m)\u001b[0m\u001b[1;33m)\u001b[0m\u001b[1;33m.\u001b[0m\u001b[0mstrip\u001b[0m\u001b[1;33m(\u001b[0m\u001b[1;33m)\u001b[0m \u001b[1;32mfor\u001b[0m \u001b[0mtup\u001b[0m \u001b[1;32min\u001b[0m \u001b[0mdf_yield_pivot\u001b[0m\u001b[1;33m.\u001b[0m\u001b[0mcolumns\u001b[0m\u001b[1;33m]\u001b[0m\u001b[1;33m\u001b[0m\u001b[1;33m\u001b[0m\u001b[0m\n\u001b[0;32m    296\u001b[0m     \u001b[0mcolumns\u001b[0m \u001b[1;33m=\u001b[0m \u001b[0mdf_yield_pivot\u001b[0m\u001b[1;33m.\u001b[0m\u001b[0mcolumns\u001b[0m\u001b[1;33m.\u001b[0m\u001b[0mto_list\u001b[0m\u001b[1;33m(\u001b[0m\u001b[1;33m)\u001b[0m\u001b[1;33m\u001b[0m\u001b[1;33m\u001b[0m\u001b[0m\n",
      "\u001b[1;32m~\\AppData\\Local\\pypoetry\\Cache\\virtualenvs\\timeseries-NkPdx04N-py3.8\\lib\\site-packages\\pandas\\core\\reshape\\pivot.py\u001b[0m in \u001b[0;36mpivot\u001b[1;34m(data, index, columns, values)\u001b[0m\n\u001b[0;32m    503\u001b[0m             \u001b[0mindex_list\u001b[0m \u001b[1;33m=\u001b[0m \u001b[1;33m[\u001b[0m\u001b[0mdata\u001b[0m\u001b[1;33m[\u001b[0m\u001b[0midx\u001b[0m\u001b[1;33m]\u001b[0m \u001b[1;32mfor\u001b[0m \u001b[0midx\u001b[0m \u001b[1;32min\u001b[0m \u001b[0mcom\u001b[0m\u001b[1;33m.\u001b[0m\u001b[0mconvert_to_list_like\u001b[0m\u001b[1;33m(\u001b[0m\u001b[0mindex\u001b[0m\u001b[1;33m)\u001b[0m\u001b[1;33m]\u001b[0m\u001b[1;33m\u001b[0m\u001b[1;33m\u001b[0m\u001b[0m\n\u001b[0;32m    504\u001b[0m \u001b[1;33m\u001b[0m\u001b[0m\n\u001b[1;32m--> 505\u001b[1;33m         \u001b[0mdata_columns\u001b[0m \u001b[1;33m=\u001b[0m \u001b[1;33m[\u001b[0m\u001b[0mdata\u001b[0m\u001b[1;33m[\u001b[0m\u001b[0mcol\u001b[0m\u001b[1;33m]\u001b[0m \u001b[1;32mfor\u001b[0m \u001b[0mcol\u001b[0m \u001b[1;32min\u001b[0m \u001b[0mcolumns_listlike\u001b[0m\u001b[1;33m]\u001b[0m\u001b[1;33m\u001b[0m\u001b[1;33m\u001b[0m\u001b[0m\n\u001b[0m\u001b[0;32m    506\u001b[0m         \u001b[0mindex_list\u001b[0m\u001b[1;33m.\u001b[0m\u001b[0mextend\u001b[0m\u001b[1;33m(\u001b[0m\u001b[0mdata_columns\u001b[0m\u001b[1;33m)\u001b[0m\u001b[1;33m\u001b[0m\u001b[1;33m\u001b[0m\u001b[0m\n\u001b[0;32m    507\u001b[0m         \u001b[0mmultiindex\u001b[0m \u001b[1;33m=\u001b[0m \u001b[0mMultiIndex\u001b[0m\u001b[1;33m.\u001b[0m\u001b[0mfrom_arrays\u001b[0m\u001b[1;33m(\u001b[0m\u001b[0mindex_list\u001b[0m\u001b[1;33m)\u001b[0m\u001b[1;33m\u001b[0m\u001b[1;33m\u001b[0m\u001b[0m\n",
      "\u001b[1;32m~\\AppData\\Local\\pypoetry\\Cache\\virtualenvs\\timeseries-NkPdx04N-py3.8\\lib\\site-packages\\pandas\\core\\reshape\\pivot.py\u001b[0m in \u001b[0;36m<listcomp>\u001b[1;34m(.0)\u001b[0m\n\u001b[0;32m    503\u001b[0m             \u001b[0mindex_list\u001b[0m \u001b[1;33m=\u001b[0m \u001b[1;33m[\u001b[0m\u001b[0mdata\u001b[0m\u001b[1;33m[\u001b[0m\u001b[0midx\u001b[0m\u001b[1;33m]\u001b[0m \u001b[1;32mfor\u001b[0m \u001b[0midx\u001b[0m \u001b[1;32min\u001b[0m \u001b[0mcom\u001b[0m\u001b[1;33m.\u001b[0m\u001b[0mconvert_to_list_like\u001b[0m\u001b[1;33m(\u001b[0m\u001b[0mindex\u001b[0m\u001b[1;33m)\u001b[0m\u001b[1;33m]\u001b[0m\u001b[1;33m\u001b[0m\u001b[1;33m\u001b[0m\u001b[0m\n\u001b[0;32m    504\u001b[0m \u001b[1;33m\u001b[0m\u001b[0m\n\u001b[1;32m--> 505\u001b[1;33m         \u001b[0mdata_columns\u001b[0m \u001b[1;33m=\u001b[0m \u001b[1;33m[\u001b[0m\u001b[0mdata\u001b[0m\u001b[1;33m[\u001b[0m\u001b[0mcol\u001b[0m\u001b[1;33m]\u001b[0m \u001b[1;32mfor\u001b[0m \u001b[0mcol\u001b[0m \u001b[1;32min\u001b[0m \u001b[0mcolumns_listlike\u001b[0m\u001b[1;33m]\u001b[0m\u001b[1;33m\u001b[0m\u001b[1;33m\u001b[0m\u001b[0m\n\u001b[0m\u001b[0;32m    506\u001b[0m         \u001b[0mindex_list\u001b[0m\u001b[1;33m.\u001b[0m\u001b[0mextend\u001b[0m\u001b[1;33m(\u001b[0m\u001b[0mdata_columns\u001b[0m\u001b[1;33m)\u001b[0m\u001b[1;33m\u001b[0m\u001b[1;33m\u001b[0m\u001b[0m\n\u001b[0;32m    507\u001b[0m         \u001b[0mmultiindex\u001b[0m \u001b[1;33m=\u001b[0m \u001b[0mMultiIndex\u001b[0m\u001b[1;33m.\u001b[0m\u001b[0mfrom_arrays\u001b[0m\u001b[1;33m(\u001b[0m\u001b[0mindex_list\u001b[0m\u001b[1;33m)\u001b[0m\u001b[1;33m\u001b[0m\u001b[1;33m\u001b[0m\u001b[0m\n",
      "\u001b[1;32m~\\AppData\\Local\\pypoetry\\Cache\\virtualenvs\\timeseries-NkPdx04N-py3.8\\lib\\site-packages\\pandas\\core\\frame.py\u001b[0m in \u001b[0;36m__getitem__\u001b[1;34m(self, key)\u001b[0m\n\u001b[0;32m   3456\u001b[0m             \u001b[1;32mif\u001b[0m \u001b[0mself\u001b[0m\u001b[1;33m.\u001b[0m\u001b[0mcolumns\u001b[0m\u001b[1;33m.\u001b[0m\u001b[0mnlevels\u001b[0m \u001b[1;33m>\u001b[0m \u001b[1;36m1\u001b[0m\u001b[1;33m:\u001b[0m\u001b[1;33m\u001b[0m\u001b[1;33m\u001b[0m\u001b[0m\n\u001b[0;32m   3457\u001b[0m                 \u001b[1;32mreturn\u001b[0m \u001b[0mself\u001b[0m\u001b[1;33m.\u001b[0m\u001b[0m_getitem_multilevel\u001b[0m\u001b[1;33m(\u001b[0m\u001b[0mkey\u001b[0m\u001b[1;33m)\u001b[0m\u001b[1;33m\u001b[0m\u001b[1;33m\u001b[0m\u001b[0m\n\u001b[1;32m-> 3458\u001b[1;33m             \u001b[0mindexer\u001b[0m \u001b[1;33m=\u001b[0m \u001b[0mself\u001b[0m\u001b[1;33m.\u001b[0m\u001b[0mcolumns\u001b[0m\u001b[1;33m.\u001b[0m\u001b[0mget_loc\u001b[0m\u001b[1;33m(\u001b[0m\u001b[0mkey\u001b[0m\u001b[1;33m)\u001b[0m\u001b[1;33m\u001b[0m\u001b[1;33m\u001b[0m\u001b[0m\n\u001b[0m\u001b[0;32m   3459\u001b[0m             \u001b[1;32mif\u001b[0m \u001b[0mis_integer\u001b[0m\u001b[1;33m(\u001b[0m\u001b[0mindexer\u001b[0m\u001b[1;33m)\u001b[0m\u001b[1;33m:\u001b[0m\u001b[1;33m\u001b[0m\u001b[1;33m\u001b[0m\u001b[0m\n\u001b[0;32m   3460\u001b[0m                 \u001b[0mindexer\u001b[0m \u001b[1;33m=\u001b[0m \u001b[1;33m[\u001b[0m\u001b[0mindexer\u001b[0m\u001b[1;33m]\u001b[0m\u001b[1;33m\u001b[0m\u001b[1;33m\u001b[0m\u001b[0m\n",
      "\u001b[1;32m~\\AppData\\Local\\pypoetry\\Cache\\virtualenvs\\timeseries-NkPdx04N-py3.8\\lib\\site-packages\\pandas\\core\\indexes\\base.py\u001b[0m in \u001b[0;36mget_loc\u001b[1;34m(self, key, method, tolerance)\u001b[0m\n\u001b[0;32m   3361\u001b[0m                 \u001b[1;32mreturn\u001b[0m \u001b[0mself\u001b[0m\u001b[1;33m.\u001b[0m\u001b[0m_engine\u001b[0m\u001b[1;33m.\u001b[0m\u001b[0mget_loc\u001b[0m\u001b[1;33m(\u001b[0m\u001b[0mcasted_key\u001b[0m\u001b[1;33m)\u001b[0m\u001b[1;33m\u001b[0m\u001b[1;33m\u001b[0m\u001b[0m\n\u001b[0;32m   3362\u001b[0m             \u001b[1;32mexcept\u001b[0m \u001b[0mKeyError\u001b[0m \u001b[1;32mas\u001b[0m \u001b[0merr\u001b[0m\u001b[1;33m:\u001b[0m\u001b[1;33m\u001b[0m\u001b[1;33m\u001b[0m\u001b[0m\n\u001b[1;32m-> 3363\u001b[1;33m                 \u001b[1;32mraise\u001b[0m \u001b[0mKeyError\u001b[0m\u001b[1;33m(\u001b[0m\u001b[0mkey\u001b[0m\u001b[1;33m)\u001b[0m \u001b[1;32mfrom\u001b[0m \u001b[0merr\u001b[0m\u001b[1;33m\u001b[0m\u001b[1;33m\u001b[0m\u001b[0m\n\u001b[0m\u001b[0;32m   3364\u001b[0m \u001b[1;33m\u001b[0m\u001b[0m\n\u001b[0;32m   3365\u001b[0m         \u001b[1;32mif\u001b[0m \u001b[0mis_scalar\u001b[0m\u001b[1;33m(\u001b[0m\u001b[0mkey\u001b[0m\u001b[1;33m)\u001b[0m \u001b[1;32mand\u001b[0m \u001b[0misna\u001b[0m\u001b[1;33m(\u001b[0m\u001b[0mkey\u001b[0m\u001b[1;33m)\u001b[0m \u001b[1;32mand\u001b[0m \u001b[1;32mnot\u001b[0m \u001b[0mself\u001b[0m\u001b[1;33m.\u001b[0m\u001b[0mhasnans\u001b[0m\u001b[1;33m:\u001b[0m\u001b[1;33m\u001b[0m\u001b[1;33m\u001b[0m\u001b[0m\n",
      "\u001b[1;31mKeyError\u001b[0m: 'offset'"
     ]
    }
   ],
   "source": [
    "df_bpy = make_dataset.join_yield(df_bp, df_yield)\n",
    "df_bpy = build_features.add_term_spread(df_bpy)\n",
    "df_bpy = build_features.add_bid_offer_spread(df_bpy)\n",
    "df_bpy.info()"
   ]
  },
  {
   "cell_type": "code",
   "execution_count": null,
   "metadata": {},
   "outputs": [],
   "source": [
    "#df_bpiy = make_dataset.fulljoin(df_bonds, df_price, df_inflation, df_yield, df_countryspread)\n",
    "#df_bpiy = build_features.add_duration(df_bpiy)\n",
    "#df_bpiy = build_features.add_bid_offer_spread(df_bpiy)\n",
    "\n",
    "#df_bpy.to_csv(f'../data/processed/bpy.csv')\n",
    "#df_bpi.to_csv(f'../data/processed/bpi.csv')\n",
    "#df_bpiy.to_csv(f'../data/processed/bpiy.csv')"
   ]
  },
  {
   "cell_type": "code",
   "execution_count": null,
   "metadata": {},
   "outputs": [],
   "source": [
    "#df_pivot1 = df_pivot.drop(['bid','offer'], axis=1, level=0)\n",
    "#df_pivot1.columns = df_pivot1.columns.droplevel(1)\n",
    "#df_pivot1.reset_index()"
   ]
  },
  {
   "cell_type": "code",
   "execution_count": null,
   "metadata": {},
   "outputs": [],
   "source": [
    "#df_bpiy"
   ]
  },
  {
   "cell_type": "markdown",
   "metadata": {},
   "source": [
    "All in one make statement..."
   ]
  },
  {
   "cell_type": "code",
   "execution_count": 27,
   "metadata": {},
   "outputs": [
    {
     "name": "stderr",
     "output_type": "stream",
     "text": [
      "2022-01-03 12:01:36.085 | INFO     | src.data.make_dataset:get_bond_data:35 - Load bond data\n",
      "2022-01-03 12:01:36.086 | INFO     | src.data.make_dataset:read_csv:20 - Loading data from ..\\data\\raw\\bonds.csv\n",
      "2022-01-03 12:01:36.153 | INFO     | src.data.make_dataset:impute_bonds:68 - Impute bond data\n",
      "2022-01-03 12:01:36.162 | INFO     | src.data.make_dataset:save_pkl:345 - Save preprocessed bonds data\n",
      "2022-01-03 12:01:36.190 | INFO     | src.data.make_dataset:get_price:105 - Load bond price data\n",
      "2022-01-03 12:01:36.193 | INFO     | src.data.make_dataset:read_csv:20 - Loading data from ..\\data\\raw\\price.csv\n",
      "2022-01-03 12:01:36.798 | INFO     | src.data.make_dataset:impute_price:130 - Impute bond price\n",
      "2022-01-03 12:01:36.818 | INFO     | src.data.make_dataset:save_pkl:345 - Save preprocessed price data\n",
      "2022-01-03 12:01:40.006 | INFO     | src.data.make_dataset:get_yield:138 - Load goverment yield curve data\n",
      "2022-01-03 12:01:40.007 | INFO     | src.data.make_dataset:read_csv:20 - Loading data from ..\\data\\raw\\yield.csv\n",
      "2022-01-03 12:01:41.317 | INFO     | src.data.make_dataset:impute_yield:169 - Impute yield curve\n",
      "2022-01-03 12:01:41.573 | INFO     | src.data.make_dataset:save_pkl:345 - Save preprocessed yield data\n",
      "2022-01-03 12:01:45.438 | INFO     | src.data.make_dataset:get_inflation:189 - Load goverment yield curve data\n",
      "2022-01-03 12:01:45.440 | INFO     | src.data.make_dataset:read_csv:20 - Loading data from ..\\data\\raw\\DE Inflation.csv\n",
      "2022-01-03 12:01:45.456 | INFO     | src.data.make_dataset:read_csv:20 - Loading data from ..\\data\\raw\\FR Inflation.csv\n",
      "2022-01-03 12:01:45.473 | INFO     | src.data.make_dataset:read_csv:20 - Loading data from ..\\data\\raw\\ES Inflation.csv\n",
      "2022-01-03 12:01:45.492 | INFO     | src.data.make_dataset:read_csv:20 - Loading data from ..\\data\\raw\\IT Inflation.csv\n",
      "2022-01-03 12:01:45.515 | INFO     | src.data.make_dataset:read_csv:20 - Loading data from ..\\data\\raw\\US Inflation.csv\n",
      "2022-01-03 12:02:00.672 | INFO     | src.data.make_dataset:impute_inflation:217 - Impute inflation curve\n",
      "2022-01-03 12:02:01.146 | INFO     | src.data.make_dataset:save_pkl:345 - Save preprocessed inflation data\n",
      "2022-01-03 12:02:09.514 | INFO     | src.features.build_features:add_duration:12 - Add remaining duration...\n",
      "2022-01-03 12:02:09.520 | INFO     | src.data.make_dataset:save_pkl:345 - Save preprocessed bp data\n",
      "2022-01-03 12:02:26.630 | INFO     | src.features.build_features:add_term_spread:20 - Add term spread...\n",
      "2022-01-03 12:02:26.634 | INFO     | src.features.build_features:add_bid_offer_spread:31 - Add bid offer spread...\n",
      "2022-01-03 12:02:26.856 | INFO     | src.data.make_dataset:save_pkl:345 - Save preprocessed bpy data\n"
     ]
    }
   ],
   "source": [
    "make_dataset.make_data()"
   ]
  }
 ],
 "metadata": {
  "interpreter": {
   "hash": "11ceafc7b78f5f3763c3d9a031e4cc9e8924ad6b8398b171c2d2e49c83b2b56a"
  },
  "kernelspec": {
   "display_name": "Python 3.8.10 64-bit ('timeseries-NkPdx04N-py3.8': venv)",
   "language": "python",
   "name": "python3"
  },
  "language_info": {
   "codemirror_mode": {
    "name": "ipython",
    "version": 3
   },
   "file_extension": ".py",
   "mimetype": "text/x-python",
   "name": "python",
   "nbconvert_exporter": "python",
   "pygments_lexer": "ipython3",
   "version": "3.8.10"
  },
  "orig_nbformat": 4
 },
 "nbformat": 4,
 "nbformat_minor": 2
}
