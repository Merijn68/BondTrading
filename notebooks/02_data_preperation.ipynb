{
 "cells": [
  {
   "cell_type": "markdown",
   "metadata": {},
   "source": [
    "# Data voorbewerking"
   ]
  },
  {
   "cell_type": "markdown",
   "metadata": {},
   "source": [
    "De data voor dit project is afkomstig van het back office systeem van Financial Markets, deels aangevuld met extra data vanuit Bloomberg.\n",
    "De data bestaat uit de volgende elementen:\n",
    "\n",
    "- Bond data\n",
    "- Bondprijzen\n",
    "- Government Yield curves\n",
    "- Inflation data\n",
    "\n",
    "Alle data is extracted en opgeslagen in csv files. In dit workbook lopen we door de data voorbereiding heen. Alle hier genoemde stappen kunnen ook geautomatiseerd worden uitgevoerd door het shell command 'Make Data'."
   ]
  },
  {
   "cell_type": "code",
   "execution_count": 30,
   "metadata": {},
   "outputs": [
    {
     "name": "stdout",
     "output_type": "stream",
     "text": [
      "The autoreload extension is already loaded. To reload it, use:\n",
      "  %reload_ext autoreload\n"
     ]
    }
   ],
   "source": [
    "%load_ext autoreload\n",
    "%autoreload 2\n",
    "\n",
    "import sys\n",
    "import pandas as pd\n",
    "\n",
    "sys.path.insert(0, \"..\") \n",
    "from src.data import make_dataset"
   ]
  },
  {
   "cell_type": "markdown",
   "metadata": {},
   "source": [
    "# Bond data"
   ]
  },
  {
   "cell_type": "code",
   "execution_count": 31,
   "metadata": {},
   "outputs": [
    {
     "name": "stderr",
     "output_type": "stream",
     "text": [
      "2021-12-30 16:59:14.317 | INFO     | src.data.make_dataset:get_bond_data:34 - Load bond data\n",
      "2021-12-30 16:59:14.318 | INFO     | src.data.make_dataset:read_csv:19 - Loading data from ..\\data\\raw\\bonds.csv\n"
     ]
    }
   ],
   "source": [
    "\n",
    "# Get bond data, drop unneeded columns, convert formats and strip training blanks\n",
    "df_bonds = make_dataset.get_bond_data()"
   ]
  },
  {
   "cell_type": "code",
   "execution_count": 32,
   "metadata": {},
   "outputs": [
    {
     "name": "stdout",
     "output_type": "stream",
     "text": [
      "<class 'pandas.core.frame.DataFrame'>\n",
      "RangeIndex: 225 entries, 0 to 224\n",
      "Data columns (total 12 columns):\n",
      " #   Column             Non-Null Count  Dtype         \n",
      "---  ------             --------------  -----         \n",
      " 0   ccy                225 non-null    string        \n",
      " 1   country            225 non-null    string        \n",
      " 2   issue_dt           225 non-null    datetime64[ns]\n",
      " 3   first_coupon_date  202 non-null    datetime64[ns]\n",
      " 4   mature_dt          225 non-null    datetime64[ns]\n",
      " 5   isin               225 non-null    string        \n",
      " 6   issuer_name        225 non-null    string        \n",
      " 7   coupon_frq         225 non-null    string        \n",
      " 8   coupon             225 non-null    float64       \n",
      " 9   tot_issue          225 non-null    float64       \n",
      " 10  cfi_code           218 non-null    string        \n",
      " 11  issue_rating       220 non-null    string        \n",
      "dtypes: datetime64[ns](3), float64(2), string(7)\n",
      "memory usage: 21.2 KB\n"
     ]
    }
   ],
   "source": [
    "df_bonds.info()"
   ]
  },
  {
   "cell_type": "code",
   "execution_count": 33,
   "metadata": {},
   "outputs": [
    {
     "data": {
      "text/html": [
       "<div>\n",
       "<style scoped>\n",
       "    .dataframe tbody tr th:only-of-type {\n",
       "        vertical-align: middle;\n",
       "    }\n",
       "\n",
       "    .dataframe tbody tr th {\n",
       "        vertical-align: top;\n",
       "    }\n",
       "\n",
       "    .dataframe thead th {\n",
       "        text-align: right;\n",
       "    }\n",
       "</style>\n",
       "<table border=\"1\" class=\"dataframe\">\n",
       "  <thead>\n",
       "    <tr style=\"text-align: right;\">\n",
       "      <th></th>\n",
       "      <th>ccy</th>\n",
       "      <th>country</th>\n",
       "      <th>issue_dt</th>\n",
       "      <th>first_coupon_date</th>\n",
       "      <th>mature_dt</th>\n",
       "      <th>isin</th>\n",
       "      <th>issuer_name</th>\n",
       "      <th>coupon_frq</th>\n",
       "      <th>coupon</th>\n",
       "      <th>tot_issue</th>\n",
       "      <th>cfi_code</th>\n",
       "      <th>issue_rating</th>\n",
       "    </tr>\n",
       "  </thead>\n",
       "  <tbody>\n",
       "    <tr>\n",
       "      <th>0</th>\n",
       "      <td>EUR</td>\n",
       "      <td>Netherlands</td>\n",
       "      <td>2009-02-13</td>\n",
       "      <td>2009-07-15</td>\n",
       "      <td>2019-07-15</td>\n",
       "      <td>NL0009086115</td>\n",
       "      <td>STAAT DER NEDERLANDEN</td>\n",
       "      <td>ANNUAL</td>\n",
       "      <td>4.000</td>\n",
       "      <td>5.000000e+09</td>\n",
       "      <td>DBFTFN</td>\n",
       "      <td>AAA</td>\n",
       "    </tr>\n",
       "    <tr>\n",
       "      <th>1</th>\n",
       "      <td>NLG</td>\n",
       "      <td>Austria</td>\n",
       "      <td>1994-02-28</td>\n",
       "      <td>1995-02-28</td>\n",
       "      <td>2024-02-28</td>\n",
       "      <td>NL0000133924</td>\n",
       "      <td>AUSTRIA</td>\n",
       "      <td>ANNUAL</td>\n",
       "      <td>6.250</td>\n",
       "      <td>1.000000e+09</td>\n",
       "      <td>DBFTXB</td>\n",
       "      <td>AA+</td>\n",
       "    </tr>\n",
       "    <tr>\n",
       "      <th>2</th>\n",
       "      <td>EUR</td>\n",
       "      <td>Netherlands</td>\n",
       "      <td>2012-03-09</td>\n",
       "      <td>2013-01-15</td>\n",
       "      <td>2033-01-15</td>\n",
       "      <td>NL0010071189</td>\n",
       "      <td>STAAT DER NEDERLANDEN</td>\n",
       "      <td>ANNUAL</td>\n",
       "      <td>2.500</td>\n",
       "      <td>4.160000e+09</td>\n",
       "      <td>DBFXXN</td>\n",
       "      <td>AAA</td>\n",
       "    </tr>\n",
       "    <tr>\n",
       "      <th>3</th>\n",
       "      <td>USD</td>\n",
       "      <td>United States</td>\n",
       "      <td>2009-05-15</td>\n",
       "      <td>2009-11-15</td>\n",
       "      <td>2019-05-15</td>\n",
       "      <td>US912828KQ20</td>\n",
       "      <td>UNITED STATES TREASURY</td>\n",
       "      <td>SEMI ANNUAL</td>\n",
       "      <td>3.125</td>\n",
       "      <td>6.441100e+10</td>\n",
       "      <td>&lt;NA&gt;</td>\n",
       "      <td>&lt;NA&gt;</td>\n",
       "    </tr>\n",
       "    <tr>\n",
       "      <th>4</th>\n",
       "      <td>USD</td>\n",
       "      <td>United States</td>\n",
       "      <td>2010-02-15</td>\n",
       "      <td>2010-08-15</td>\n",
       "      <td>2020-02-15</td>\n",
       "      <td>US912828MP29</td>\n",
       "      <td>UNITED STATES TREASURY</td>\n",
       "      <td>SEMI ANNUAL</td>\n",
       "      <td>3.625</td>\n",
       "      <td>0.000000e+00</td>\n",
       "      <td>&lt;NA&gt;</td>\n",
       "      <td>&lt;NA&gt;</td>\n",
       "    </tr>\n",
       "  </tbody>\n",
       "</table>\n",
       "</div>"
      ],
      "text/plain": [
       "   ccy        country   issue_dt first_coupon_date  mature_dt          isin  \\\n",
       "0  EUR    Netherlands 2009-02-13        2009-07-15 2019-07-15  NL0009086115   \n",
       "1  NLG        Austria 1994-02-28        1995-02-28 2024-02-28  NL0000133924   \n",
       "2  EUR    Netherlands 2012-03-09        2013-01-15 2033-01-15  NL0010071189   \n",
       "3  USD  United States 2009-05-15        2009-11-15 2019-05-15  US912828KQ20   \n",
       "4  USD  United States 2010-02-15        2010-08-15 2020-02-15  US912828MP29   \n",
       "\n",
       "              issuer_name            coupon_frq  coupon     tot_issue  \\\n",
       "0   STAAT DER NEDERLANDEN  ANNUAL                 4.000  5.000000e+09   \n",
       "1                 AUSTRIA  ANNUAL                 6.250  1.000000e+09   \n",
       "2   STAAT DER NEDERLANDEN  ANNUAL                 2.500  4.160000e+09   \n",
       "3  UNITED STATES TREASURY  SEMI ANNUAL            3.125  6.441100e+10   \n",
       "4  UNITED STATES TREASURY  SEMI ANNUAL            3.625  0.000000e+00   \n",
       "\n",
       "  cfi_code issue_rating  \n",
       "0   DBFTFN          AAA  \n",
       "1   DBFTXB          AA+  \n",
       "2   DBFXXN          AAA  \n",
       "3     <NA>         <NA>  \n",
       "4     <NA>         <NA>  "
      ]
     },
     "execution_count": 33,
     "metadata": {},
     "output_type": "execute_result"
    }
   ],
   "source": [
    "df_bonds.head()"
   ]
  },
  {
   "cell_type": "markdown",
   "metadata": {},
   "source": [
    "Imputeren ontbrekende waarden voor issue rating. \n",
    "Issue rating wordt waar deze ontbreekt ingevuld met de meest voorkomende issue rating voor de issuer.\n",
    "\n",
    "CFI code wordt waar deze ontbreekt ingevuld met code 'onbekend' = DXXXXX.\n",
    "\n",
    "Datums met de waarde 1899-12-30 zijn default waardes van het bronsysteem. Deze worden verwijderd.\n",
    "Daar waar de eerste coupon datum ontbreekt (o.a. zero coupon bonds) - wordt deze aangevuld met de issue datum.\n",
    "De reden hiervoor is dat we zo zonder veel moeite de looptijd van de bond kunnen berekenen."
   ]
  },
  {
   "cell_type": "code",
   "execution_count": 34,
   "metadata": {},
   "outputs": [
    {
     "name": "stderr",
     "output_type": "stream",
     "text": [
      "2021-12-30 16:59:21.232 | INFO     | src.data.make_dataset:impute_bonds:67 - Impute bond data\n"
     ]
    }
   ],
   "source": [
    "df_bonds = make_dataset.impute_bonds(df_bonds)"
   ]
  },
  {
   "cell_type": "code",
   "execution_count": 35,
   "metadata": {},
   "outputs": [
    {
     "name": "stderr",
     "output_type": "stream",
     "text": [
      "2021-12-30 16:59:22.977 | INFO     | src.data.make_dataset:save_pkl:279 - Save preprocessed bonds data\n"
     ]
    }
   ],
   "source": [
    "make_dataset.save_pkl('bonds', df_bonds)"
   ]
  },
  {
   "cell_type": "markdown",
   "metadata": {},
   "source": [
    "# Bondprijzen"
   ]
  },
  {
   "cell_type": "code",
   "execution_count": 36,
   "metadata": {},
   "outputs": [
    {
     "name": "stderr",
     "output_type": "stream",
     "text": [
      "2021-12-30 16:59:24.476 | INFO     | src.data.make_dataset:get_price:104 - Load bond price data\n",
      "2021-12-30 16:59:24.476 | INFO     | src.data.make_dataset:read_csv:19 - Loading data from ..\\data\\raw\\price.csv\n"
     ]
    }
   ],
   "source": [
    "df_price = make_dataset.get_price()"
   ]
  },
  {
   "cell_type": "code",
   "execution_count": 37,
   "metadata": {},
   "outputs": [
    {
     "name": "stderr",
     "output_type": "stream",
     "text": [
      "2021-12-30 16:59:26.055 | INFO     | src.data.make_dataset:impute_price:129 - Impute bond price\n"
     ]
    }
   ],
   "source": [
    "df_price = make_dataset.impute_price(df_price)"
   ]
  },
  {
   "cell_type": "code",
   "execution_count": 38,
   "metadata": {},
   "outputs": [
    {
     "data": {
      "text/html": [
       "<div>\n",
       "<style scoped>\n",
       "    .dataframe tbody tr th:only-of-type {\n",
       "        vertical-align: middle;\n",
       "    }\n",
       "\n",
       "    .dataframe tbody tr th {\n",
       "        vertical-align: top;\n",
       "    }\n",
       "\n",
       "    .dataframe thead th {\n",
       "        text-align: right;\n",
       "    }\n",
       "</style>\n",
       "<table border=\"1\" class=\"dataframe\">\n",
       "  <thead>\n",
       "    <tr style=\"text-align: right;\">\n",
       "      <th></th>\n",
       "      <th>reference_identifier</th>\n",
       "      <th>ccy</th>\n",
       "      <th>rate_dt</th>\n",
       "      <th>mid</th>\n",
       "    </tr>\n",
       "  </thead>\n",
       "  <tbody>\n",
       "    <tr>\n",
       "      <th>0</th>\n",
       "      <td>BE0000332412</td>\n",
       "      <td>EUR</td>\n",
       "      <td>2014-01-20</td>\n",
       "      <td>100.719</td>\n",
       "    </tr>\n",
       "    <tr>\n",
       "      <th>1</th>\n",
       "      <td>BE0000332412</td>\n",
       "      <td>EUR</td>\n",
       "      <td>2014-01-24</td>\n",
       "      <td>101.005</td>\n",
       "    </tr>\n",
       "    <tr>\n",
       "      <th>2</th>\n",
       "      <td>BE0000332412</td>\n",
       "      <td>EUR</td>\n",
       "      <td>2014-01-28</td>\n",
       "      <td>100.953</td>\n",
       "    </tr>\n",
       "    <tr>\n",
       "      <th>3</th>\n",
       "      <td>BE0000332412</td>\n",
       "      <td>EUR</td>\n",
       "      <td>2014-01-22</td>\n",
       "      <td>100.359</td>\n",
       "    </tr>\n",
       "    <tr>\n",
       "      <th>4</th>\n",
       "      <td>BE0000332412</td>\n",
       "      <td>EUR</td>\n",
       "      <td>2014-01-21</td>\n",
       "      <td>100.601</td>\n",
       "    </tr>\n",
       "  </tbody>\n",
       "</table>\n",
       "</div>"
      ],
      "text/plain": [
       "  reference_identifier  ccy    rate_dt      mid\n",
       "0         BE0000332412  EUR 2014-01-20  100.719\n",
       "1         BE0000332412  EUR 2014-01-24  101.005\n",
       "2         BE0000332412  EUR 2014-01-28  100.953\n",
       "3         BE0000332412  EUR 2014-01-22  100.359\n",
       "4         BE0000332412  EUR 2014-01-21  100.601"
      ]
     },
     "execution_count": 38,
     "metadata": {},
     "output_type": "execute_result"
    }
   ],
   "source": [
    "df_price.head()"
   ]
  },
  {
   "cell_type": "code",
   "execution_count": 39,
   "metadata": {},
   "outputs": [
    {
     "data": {
      "text/html": [
       "<div>\n",
       "<style scoped>\n",
       "    .dataframe tbody tr th:only-of-type {\n",
       "        vertical-align: middle;\n",
       "    }\n",
       "\n",
       "    .dataframe tbody tr th {\n",
       "        vertical-align: top;\n",
       "    }\n",
       "\n",
       "    .dataframe thead th {\n",
       "        text-align: right;\n",
       "    }\n",
       "</style>\n",
       "<table border=\"1\" class=\"dataframe\">\n",
       "  <thead>\n",
       "    <tr style=\"text-align: right;\">\n",
       "      <th></th>\n",
       "      <th>mid</th>\n",
       "    </tr>\n",
       "  </thead>\n",
       "  <tbody>\n",
       "    <tr>\n",
       "      <th>count</th>\n",
       "      <td>209404.000000</td>\n",
       "    </tr>\n",
       "    <tr>\n",
       "      <th>mean</th>\n",
       "      <td>111.289448</td>\n",
       "    </tr>\n",
       "    <tr>\n",
       "      <th>std</th>\n",
       "      <td>15.522596</td>\n",
       "    </tr>\n",
       "    <tr>\n",
       "      <th>min</th>\n",
       "      <td>84.429000</td>\n",
       "    </tr>\n",
       "    <tr>\n",
       "      <th>25%</th>\n",
       "      <td>102.286000</td>\n",
       "    </tr>\n",
       "    <tr>\n",
       "      <th>50%</th>\n",
       "      <td>106.730000</td>\n",
       "    </tr>\n",
       "    <tr>\n",
       "      <th>75%</th>\n",
       "      <td>112.926000</td>\n",
       "    </tr>\n",
       "    <tr>\n",
       "      <th>max</th>\n",
       "      <td>195.749000</td>\n",
       "    </tr>\n",
       "  </tbody>\n",
       "</table>\n",
       "</div>"
      ],
      "text/plain": [
       "                 mid\n",
       "count  209404.000000\n",
       "mean      111.289448\n",
       "std        15.522596\n",
       "min        84.429000\n",
       "25%       102.286000\n",
       "50%       106.730000\n",
       "75%       112.926000\n",
       "max       195.749000"
      ]
     },
     "execution_count": 39,
     "metadata": {},
     "output_type": "execute_result"
    }
   ],
   "source": [
    "df_price.describe()"
   ]
  },
  {
   "cell_type": "code",
   "execution_count": 40,
   "metadata": {},
   "outputs": [
    {
     "name": "stdout",
     "output_type": "stream",
     "text": [
      "<class 'pandas.core.frame.DataFrame'>\n",
      "Int64Index: 209404 entries, 0 to 220236\n",
      "Data columns (total 4 columns):\n",
      " #   Column                Non-Null Count   Dtype         \n",
      "---  ------                --------------   -----         \n",
      " 0   reference_identifier  209404 non-null  string        \n",
      " 1   ccy                   209404 non-null  string        \n",
      " 2   rate_dt               209404 non-null  datetime64[ns]\n",
      " 3   mid                   209404 non-null  float64       \n",
      "dtypes: datetime64[ns](1), float64(1), string(2)\n",
      "memory usage: 8.0 MB\n"
     ]
    }
   ],
   "source": [
    "df_price.info()"
   ]
  },
  {
   "cell_type": "code",
   "execution_count": 41,
   "metadata": {},
   "outputs": [
    {
     "name": "stderr",
     "output_type": "stream",
     "text": [
      "2021-12-30 16:59:32.611 | INFO     | src.data.make_dataset:save_pkl:279 - Save preprocessed price data\n"
     ]
    }
   ],
   "source": [
    "make_dataset.save_pkl('price', df_price)"
   ]
  },
  {
   "cell_type": "markdown",
   "metadata": {},
   "source": [
    "# Government Yield curves"
   ]
  },
  {
   "cell_type": "code",
   "execution_count": 42,
   "metadata": {},
   "outputs": [
    {
     "name": "stderr",
     "output_type": "stream",
     "text": [
      "2021-12-30 16:59:34.196 | INFO     | src.data.make_dataset:get_yield:137 - Load goverment yield curve data\n",
      "2021-12-30 16:59:34.197 | INFO     | src.data.make_dataset:read_csv:19 - Loading data from ..\\data\\raw\\yield.csv\n"
     ]
    }
   ],
   "source": [
    "df_yield = make_dataset.get_yield()"
   ]
  },
  {
   "cell_type": "code",
   "execution_count": 43,
   "metadata": {},
   "outputs": [
    {
     "name": "stderr",
     "output_type": "stream",
     "text": [
      "2021-12-30 16:59:35.997 | INFO     | src.data.make_dataset:impute_yield:162 - Impute yield curve\n"
     ]
    }
   ],
   "source": [
    "df_yield = make_dataset.impute_yield(df_yield)"
   ]
  },
  {
   "cell_type": "code",
   "execution_count": 44,
   "metadata": {},
   "outputs": [
    {
     "data": {
      "text/html": [
       "<div>\n",
       "<style scoped>\n",
       "    .dataframe tbody tr th:only-of-type {\n",
       "        vertical-align: middle;\n",
       "    }\n",
       "\n",
       "    .dataframe tbody tr th {\n",
       "        vertical-align: top;\n",
       "    }\n",
       "\n",
       "    .dataframe thead th {\n",
       "        text-align: right;\n",
       "    }\n",
       "</style>\n",
       "<table border=\"1\" class=\"dataframe\">\n",
       "  <thead>\n",
       "    <tr style=\"text-align: right;\">\n",
       "      <th></th>\n",
       "      <th>ratename</th>\n",
       "      <th>ccy</th>\n",
       "      <th>rate_dt</th>\n",
       "      <th>timeband</th>\n",
       "      <th>actual_dt</th>\n",
       "      <th>datedays</th>\n",
       "      <th>bid</th>\n",
       "      <th>offer</th>\n",
       "      <th>int_basis</th>\n",
       "      <th>country</th>\n",
       "    </tr>\n",
       "  </thead>\n",
       "  <tbody>\n",
       "    <tr>\n",
       "      <th>0</th>\n",
       "      <td>GOV Yield Curve DE BB</td>\n",
       "      <td>EUR</td>\n",
       "      <td>2017-02-07</td>\n",
       "      <td>1 YEAR</td>\n",
       "      <td>2018-02-09</td>\n",
       "      <td>367</td>\n",
       "      <td>-0.875</td>\n",
       "      <td>-0.804</td>\n",
       "      <td>ANNUAL</td>\n",
       "      <td>Germany</td>\n",
       "    </tr>\n",
       "    <tr>\n",
       "      <th>1</th>\n",
       "      <td>GOV Yield Curve DE BB</td>\n",
       "      <td>EUR</td>\n",
       "      <td>2017-02-07</td>\n",
       "      <td>2 YEARS</td>\n",
       "      <td>2019-02-11</td>\n",
       "      <td>734</td>\n",
       "      <td>-0.799</td>\n",
       "      <td>-0.773</td>\n",
       "      <td>ANNUAL</td>\n",
       "      <td>Germany</td>\n",
       "    </tr>\n",
       "    <tr>\n",
       "      <th>2</th>\n",
       "      <td>GOV Yield Curve DE BB</td>\n",
       "      <td>EUR</td>\n",
       "      <td>2017-02-07</td>\n",
       "      <td>3 YEARS</td>\n",
       "      <td>2020-02-10</td>\n",
       "      <td>1098</td>\n",
       "      <td>-0.769</td>\n",
       "      <td>-0.754</td>\n",
       "      <td>ANNUAL</td>\n",
       "      <td>Germany</td>\n",
       "    </tr>\n",
       "    <tr>\n",
       "      <th>3</th>\n",
       "      <td>GOV Yield Curve DE BB</td>\n",
       "      <td>EUR</td>\n",
       "      <td>2017-02-07</td>\n",
       "      <td>4 YEARS</td>\n",
       "      <td>2021-02-09</td>\n",
       "      <td>1463</td>\n",
       "      <td>-0.620</td>\n",
       "      <td>-0.602</td>\n",
       "      <td>ANNUAL</td>\n",
       "      <td>Germany</td>\n",
       "    </tr>\n",
       "    <tr>\n",
       "      <th>4</th>\n",
       "      <td>GOV Yield Curve DE BB</td>\n",
       "      <td>EUR</td>\n",
       "      <td>2017-02-07</td>\n",
       "      <td>5 YEARS</td>\n",
       "      <td>2022-02-09</td>\n",
       "      <td>1828</td>\n",
       "      <td>-0.414</td>\n",
       "      <td>-0.404</td>\n",
       "      <td>ANNUAL</td>\n",
       "      <td>Germany</td>\n",
       "    </tr>\n",
       "  </tbody>\n",
       "</table>\n",
       "</div>"
      ],
      "text/plain": [
       "                ratename  ccy    rate_dt      timeband  actual_dt  datedays  \\\n",
       "0  GOV Yield Curve DE BB  EUR 2017-02-07  1 YEAR       2018-02-09       367   \n",
       "1  GOV Yield Curve DE BB  EUR 2017-02-07  2 YEARS      2019-02-11       734   \n",
       "2  GOV Yield Curve DE BB  EUR 2017-02-07  3 YEARS      2020-02-10      1098   \n",
       "3  GOV Yield Curve DE BB  EUR 2017-02-07  4 YEARS      2021-02-09      1463   \n",
       "4  GOV Yield Curve DE BB  EUR 2017-02-07  5 YEARS      2022-02-09      1828   \n",
       "\n",
       "     bid  offer     int_basis  country  \n",
       "0 -0.875 -0.804  ANNUAL        Germany  \n",
       "1 -0.799 -0.773  ANNUAL        Germany  \n",
       "2 -0.769 -0.754  ANNUAL        Germany  \n",
       "3 -0.620 -0.602  ANNUAL        Germany  \n",
       "4 -0.414 -0.404  ANNUAL        Germany  "
      ]
     },
     "execution_count": 44,
     "metadata": {},
     "output_type": "execute_result"
    }
   ],
   "source": [
    "df_yield.head()"
   ]
  },
  {
   "cell_type": "code",
   "execution_count": 45,
   "metadata": {},
   "outputs": [
    {
     "data": {
      "text/html": [
       "<div>\n",
       "<style scoped>\n",
       "    .dataframe tbody tr th:only-of-type {\n",
       "        vertical-align: middle;\n",
       "    }\n",
       "\n",
       "    .dataframe tbody tr th {\n",
       "        vertical-align: top;\n",
       "    }\n",
       "\n",
       "    .dataframe thead th {\n",
       "        text-align: right;\n",
       "    }\n",
       "</style>\n",
       "<table border=\"1\" class=\"dataframe\">\n",
       "  <thead>\n",
       "    <tr style=\"text-align: right;\">\n",
       "      <th></th>\n",
       "      <th>datedays</th>\n",
       "      <th>bid</th>\n",
       "      <th>offer</th>\n",
       "    </tr>\n",
       "  </thead>\n",
       "  <tbody>\n",
       "    <tr>\n",
       "      <th>count</th>\n",
       "      <td>89824.000000</td>\n",
       "      <td>89824.000000</td>\n",
       "      <td>89824.000000</td>\n",
       "    </tr>\n",
       "    <tr>\n",
       "      <th>mean</th>\n",
       "      <td>3389.145162</td>\n",
       "      <td>0.284556</td>\n",
       "      <td>0.274044</td>\n",
       "    </tr>\n",
       "    <tr>\n",
       "      <th>std</th>\n",
       "      <td>2877.661657</td>\n",
       "      <td>0.921327</td>\n",
       "      <td>0.921680</td>\n",
       "    </tr>\n",
       "    <tr>\n",
       "      <th>min</th>\n",
       "      <td>367.000000</td>\n",
       "      <td>-1.038000</td>\n",
       "      <td>-1.051000</td>\n",
       "    </tr>\n",
       "    <tr>\n",
       "      <th>25%</th>\n",
       "      <td>1463.000000</td>\n",
       "      <td>-0.429000</td>\n",
       "      <td>-0.443000</td>\n",
       "    </tr>\n",
       "    <tr>\n",
       "      <th>50%</th>\n",
       "      <td>2560.000000</td>\n",
       "      <td>0.016000</td>\n",
       "      <td>0.009000</td>\n",
       "    </tr>\n",
       "    <tr>\n",
       "      <th>75%</th>\n",
       "      <td>3657.000000</td>\n",
       "      <td>0.756000</td>\n",
       "      <td>0.750000</td>\n",
       "    </tr>\n",
       "    <tr>\n",
       "      <th>max</th>\n",
       "      <td>10968.000000</td>\n",
       "      <td>4.128000</td>\n",
       "      <td>4.109000</td>\n",
       "    </tr>\n",
       "  </tbody>\n",
       "</table>\n",
       "</div>"
      ],
      "text/plain": [
       "           datedays           bid         offer\n",
       "count  89824.000000  89824.000000  89824.000000\n",
       "mean    3389.145162      0.284556      0.274044\n",
       "std     2877.661657      0.921327      0.921680\n",
       "min      367.000000     -1.038000     -1.051000\n",
       "25%     1463.000000     -0.429000     -0.443000\n",
       "50%     2560.000000      0.016000      0.009000\n",
       "75%     3657.000000      0.756000      0.750000\n",
       "max    10968.000000      4.128000      4.109000"
      ]
     },
     "execution_count": 45,
     "metadata": {},
     "output_type": "execute_result"
    }
   ],
   "source": [
    "df_yield.describe()"
   ]
  },
  {
   "cell_type": "markdown",
   "metadata": {},
   "source": [
    "# Inflation data\n"
   ]
  },
  {
   "cell_type": "code",
   "execution_count": 46,
   "metadata": {},
   "outputs": [
    {
     "name": "stderr",
     "output_type": "stream",
     "text": [
      "2021-12-30 16:59:41.066 | INFO     | src.data.make_dataset:get_inflation:174 - Load goverment yield curve data\n",
      "2021-12-30 16:59:41.068 | INFO     | src.data.make_dataset:read_csv:19 - Loading data from ..\\data\\raw\\DE Inflation.csv\n",
      "2021-12-30 16:59:41.085 | INFO     | src.data.make_dataset:read_csv:19 - Loading data from ..\\data\\raw\\FR Inflation.csv\n",
      "2021-12-30 16:59:41.103 | INFO     | src.data.make_dataset:read_csv:19 - Loading data from ..\\data\\raw\\ES Inflation.csv\n",
      "2021-12-30 16:59:41.122 | INFO     | src.data.make_dataset:read_csv:19 - Loading data from ..\\data\\raw\\IT Inflation.csv\n",
      "2021-12-30 16:59:41.140 | INFO     | src.data.make_dataset:read_csv:19 - Loading data from ..\\data\\raw\\US Inflation.csv\n"
     ]
    }
   ],
   "source": [
    "df_inflation = make_dataset.get_inflation()  "
   ]
  },
  {
   "cell_type": "code",
   "execution_count": 50,
   "metadata": {},
   "outputs": [
    {
     "name": "stderr",
     "output_type": "stream",
     "text": [
      "2021-12-30 17:00:14.086 | INFO     | src.data.make_dataset:impute_inflation:201 - Impute inflation curve\n"
     ]
    },
    {
     "name": "stdout",
     "output_type": "stream",
     "text": [
      "<class 'pandas.core.frame.DataFrame'>\n",
      "Int64Index: 215007 entries, 0 to 216873\n",
      "Data columns (total 5 columns):\n",
      " #   Column     Non-Null Count   Dtype         \n",
      "---  ------     --------------   -----         \n",
      " 0   country    215007 non-null  string        \n",
      " 1   rate_dt    215007 non-null  datetime64[ns]\n",
      " 2   timeband   215007 non-null  string        \n",
      " 3   inflation  215007 non-null  float64       \n",
      " 4   ratename   215007 non-null  string        \n",
      "dtypes: datetime64[ns](1), float64(1), string(3)\n",
      "memory usage: 9.8 MB\n"
     ]
    }
   ],
   "source": [
    "df_inflation = make_dataset.impute_inflation(df_inflation)\n",
    "\n",
    "df_inflation.info()"
   ]
  },
  {
   "cell_type": "code",
   "execution_count": 51,
   "metadata": {},
   "outputs": [
    {
     "data": {
      "text/html": [
       "<div>\n",
       "<style scoped>\n",
       "    .dataframe tbody tr th:only-of-type {\n",
       "        vertical-align: middle;\n",
       "    }\n",
       "\n",
       "    .dataframe tbody tr th {\n",
       "        vertical-align: top;\n",
       "    }\n",
       "\n",
       "    .dataframe thead th {\n",
       "        text-align: right;\n",
       "    }\n",
       "</style>\n",
       "<table border=\"1\" class=\"dataframe\">\n",
       "  <thead>\n",
       "    <tr style=\"text-align: right;\">\n",
       "      <th></th>\n",
       "      <th>reference_identifier</th>\n",
       "      <th>ccy_x</th>\n",
       "      <th>rate_dt</th>\n",
       "      <th>mid</th>\n",
       "      <th>ccy_y</th>\n",
       "      <th>country</th>\n",
       "      <th>issue_dt</th>\n",
       "      <th>first_coupon_date</th>\n",
       "      <th>mature_dt</th>\n",
       "      <th>isin</th>\n",
       "      <th>issuer_name</th>\n",
       "      <th>coupon_frq</th>\n",
       "      <th>coupon</th>\n",
       "      <th>tot_issue</th>\n",
       "      <th>cfi_code</th>\n",
       "      <th>issue_rating</th>\n",
       "      <th>bond_duration</th>\n",
       "    </tr>\n",
       "  </thead>\n",
       "  <tbody>\n",
       "    <tr>\n",
       "      <th>0</th>\n",
       "      <td>BE0000332412</td>\n",
       "      <td>EUR</td>\n",
       "      <td>2014-01-20</td>\n",
       "      <td>100.719</td>\n",
       "      <td>EUR</td>\n",
       "      <td>Belgium</td>\n",
       "      <td>2014-01-21</td>\n",
       "      <td>2014-06-22</td>\n",
       "      <td>2024-06-22</td>\n",
       "      <td>BE0000332412</td>\n",
       "      <td>BELGIE BRU</td>\n",
       "      <td>ANNUAL</td>\n",
       "      <td>2.60</td>\n",
       "      <td>5.000000e+09</td>\n",
       "      <td>DBFTFR</td>\n",
       "      <td>AA-</td>\n",
       "      <td>3805 days</td>\n",
       "    </tr>\n",
       "    <tr>\n",
       "      <th>1</th>\n",
       "      <td>BE0000332412</td>\n",
       "      <td>EUR</td>\n",
       "      <td>2014-01-24</td>\n",
       "      <td>101.005</td>\n",
       "      <td>EUR</td>\n",
       "      <td>Belgium</td>\n",
       "      <td>2014-01-21</td>\n",
       "      <td>2014-06-22</td>\n",
       "      <td>2024-06-22</td>\n",
       "      <td>BE0000332412</td>\n",
       "      <td>BELGIE BRU</td>\n",
       "      <td>ANNUAL</td>\n",
       "      <td>2.60</td>\n",
       "      <td>5.000000e+09</td>\n",
       "      <td>DBFTFR</td>\n",
       "      <td>AA-</td>\n",
       "      <td>3805 days</td>\n",
       "    </tr>\n",
       "    <tr>\n",
       "      <th>2</th>\n",
       "      <td>BE0000332412</td>\n",
       "      <td>EUR</td>\n",
       "      <td>2014-01-28</td>\n",
       "      <td>100.953</td>\n",
       "      <td>EUR</td>\n",
       "      <td>Belgium</td>\n",
       "      <td>2014-01-21</td>\n",
       "      <td>2014-06-22</td>\n",
       "      <td>2024-06-22</td>\n",
       "      <td>BE0000332412</td>\n",
       "      <td>BELGIE BRU</td>\n",
       "      <td>ANNUAL</td>\n",
       "      <td>2.60</td>\n",
       "      <td>5.000000e+09</td>\n",
       "      <td>DBFTFR</td>\n",
       "      <td>AA-</td>\n",
       "      <td>3805 days</td>\n",
       "    </tr>\n",
       "    <tr>\n",
       "      <th>3</th>\n",
       "      <td>BE0000332412</td>\n",
       "      <td>EUR</td>\n",
       "      <td>2014-01-22</td>\n",
       "      <td>100.359</td>\n",
       "      <td>EUR</td>\n",
       "      <td>Belgium</td>\n",
       "      <td>2014-01-21</td>\n",
       "      <td>2014-06-22</td>\n",
       "      <td>2024-06-22</td>\n",
       "      <td>BE0000332412</td>\n",
       "      <td>BELGIE BRU</td>\n",
       "      <td>ANNUAL</td>\n",
       "      <td>2.60</td>\n",
       "      <td>5.000000e+09</td>\n",
       "      <td>DBFTFR</td>\n",
       "      <td>AA-</td>\n",
       "      <td>3805 days</td>\n",
       "    </tr>\n",
       "    <tr>\n",
       "      <th>4</th>\n",
       "      <td>BE0000332412</td>\n",
       "      <td>EUR</td>\n",
       "      <td>2014-01-21</td>\n",
       "      <td>100.601</td>\n",
       "      <td>EUR</td>\n",
       "      <td>Belgium</td>\n",
       "      <td>2014-01-21</td>\n",
       "      <td>2014-06-22</td>\n",
       "      <td>2024-06-22</td>\n",
       "      <td>BE0000332412</td>\n",
       "      <td>BELGIE BRU</td>\n",
       "      <td>ANNUAL</td>\n",
       "      <td>2.60</td>\n",
       "      <td>5.000000e+09</td>\n",
       "      <td>DBFTFR</td>\n",
       "      <td>AA-</td>\n",
       "      <td>3805 days</td>\n",
       "    </tr>\n",
       "    <tr>\n",
       "      <th>...</th>\n",
       "      <td>...</td>\n",
       "      <td>...</td>\n",
       "      <td>...</td>\n",
       "      <td>...</td>\n",
       "      <td>...</td>\n",
       "      <td>...</td>\n",
       "      <td>...</td>\n",
       "      <td>...</td>\n",
       "      <td>...</td>\n",
       "      <td>...</td>\n",
       "      <td>...</td>\n",
       "      <td>...</td>\n",
       "      <td>...</td>\n",
       "      <td>...</td>\n",
       "      <td>...</td>\n",
       "      <td>...</td>\n",
       "      <td>...</td>\n",
       "    </tr>\n",
       "    <tr>\n",
       "      <th>209399</th>\n",
       "      <td>FR0011486067</td>\n",
       "      <td>EUR</td>\n",
       "      <td>2021-08-31</td>\n",
       "      <td>104.237</td>\n",
       "      <td>EUR</td>\n",
       "      <td>France</td>\n",
       "      <td>2013-05-07</td>\n",
       "      <td>2013-05-25</td>\n",
       "      <td>2023-05-25</td>\n",
       "      <td>FR0011486067</td>\n",
       "      <td>REPUBLIC FRANCE</td>\n",
       "      <td>ANNUAL</td>\n",
       "      <td>1.75</td>\n",
       "      <td>4.015000e+09</td>\n",
       "      <td>DBFTFN</td>\n",
       "      <td>AA</td>\n",
       "      <td>3670 days</td>\n",
       "    </tr>\n",
       "    <tr>\n",
       "      <th>209400</th>\n",
       "      <td>FR0011486067</td>\n",
       "      <td>EUR</td>\n",
       "      <td>2021-09-02</td>\n",
       "      <td>104.231</td>\n",
       "      <td>EUR</td>\n",
       "      <td>France</td>\n",
       "      <td>2013-05-07</td>\n",
       "      <td>2013-05-25</td>\n",
       "      <td>2023-05-25</td>\n",
       "      <td>FR0011486067</td>\n",
       "      <td>REPUBLIC FRANCE</td>\n",
       "      <td>ANNUAL</td>\n",
       "      <td>1.75</td>\n",
       "      <td>4.015000e+09</td>\n",
       "      <td>DBFTFN</td>\n",
       "      <td>AA</td>\n",
       "      <td>3670 days</td>\n",
       "    </tr>\n",
       "    <tr>\n",
       "      <th>209401</th>\n",
       "      <td>FR0011486067</td>\n",
       "      <td>EUR</td>\n",
       "      <td>2021-10-14</td>\n",
       "      <td>103.889</td>\n",
       "      <td>EUR</td>\n",
       "      <td>France</td>\n",
       "      <td>2013-05-07</td>\n",
       "      <td>2013-05-25</td>\n",
       "      <td>2023-05-25</td>\n",
       "      <td>FR0011486067</td>\n",
       "      <td>REPUBLIC FRANCE</td>\n",
       "      <td>ANNUAL</td>\n",
       "      <td>1.75</td>\n",
       "      <td>4.015000e+09</td>\n",
       "      <td>DBFTFN</td>\n",
       "      <td>AA</td>\n",
       "      <td>3670 days</td>\n",
       "    </tr>\n",
       "    <tr>\n",
       "      <th>209402</th>\n",
       "      <td>FR0011486067</td>\n",
       "      <td>EUR</td>\n",
       "      <td>2021-10-15</td>\n",
       "      <td>103.882</td>\n",
       "      <td>EUR</td>\n",
       "      <td>France</td>\n",
       "      <td>2013-05-07</td>\n",
       "      <td>2013-05-25</td>\n",
       "      <td>2023-05-25</td>\n",
       "      <td>FR0011486067</td>\n",
       "      <td>REPUBLIC FRANCE</td>\n",
       "      <td>ANNUAL</td>\n",
       "      <td>1.75</td>\n",
       "      <td>4.015000e+09</td>\n",
       "      <td>DBFTFN</td>\n",
       "      <td>AA</td>\n",
       "      <td>3670 days</td>\n",
       "    </tr>\n",
       "    <tr>\n",
       "      <th>209403</th>\n",
       "      <td>FR0011486067</td>\n",
       "      <td>EUR</td>\n",
       "      <td>2021-10-18</td>\n",
       "      <td>103.826</td>\n",
       "      <td>EUR</td>\n",
       "      <td>France</td>\n",
       "      <td>2013-05-07</td>\n",
       "      <td>2013-05-25</td>\n",
       "      <td>2023-05-25</td>\n",
       "      <td>FR0011486067</td>\n",
       "      <td>REPUBLIC FRANCE</td>\n",
       "      <td>ANNUAL</td>\n",
       "      <td>1.75</td>\n",
       "      <td>4.015000e+09</td>\n",
       "      <td>DBFTFN</td>\n",
       "      <td>AA</td>\n",
       "      <td>3670 days</td>\n",
       "    </tr>\n",
       "  </tbody>\n",
       "</table>\n",
       "<p>209404 rows × 17 columns</p>\n",
       "</div>"
      ],
      "text/plain": [
       "       reference_identifier ccy_x    rate_dt      mid ccy_y  country  \\\n",
       "0              BE0000332412   EUR 2014-01-20  100.719   EUR  Belgium   \n",
       "1              BE0000332412   EUR 2014-01-24  101.005   EUR  Belgium   \n",
       "2              BE0000332412   EUR 2014-01-28  100.953   EUR  Belgium   \n",
       "3              BE0000332412   EUR 2014-01-22  100.359   EUR  Belgium   \n",
       "4              BE0000332412   EUR 2014-01-21  100.601   EUR  Belgium   \n",
       "...                     ...   ...        ...      ...   ...      ...   \n",
       "209399         FR0011486067   EUR 2021-08-31  104.237   EUR   France   \n",
       "209400         FR0011486067   EUR 2021-09-02  104.231   EUR   France   \n",
       "209401         FR0011486067   EUR 2021-10-14  103.889   EUR   France   \n",
       "209402         FR0011486067   EUR 2021-10-15  103.882   EUR   France   \n",
       "209403         FR0011486067   EUR 2021-10-18  103.826   EUR   France   \n",
       "\n",
       "         issue_dt first_coupon_date  mature_dt          isin      issuer_name  \\\n",
       "0      2014-01-21        2014-06-22 2024-06-22  BE0000332412       BELGIE BRU   \n",
       "1      2014-01-21        2014-06-22 2024-06-22  BE0000332412       BELGIE BRU   \n",
       "2      2014-01-21        2014-06-22 2024-06-22  BE0000332412       BELGIE BRU   \n",
       "3      2014-01-21        2014-06-22 2024-06-22  BE0000332412       BELGIE BRU   \n",
       "4      2014-01-21        2014-06-22 2024-06-22  BE0000332412       BELGIE BRU   \n",
       "...           ...               ...        ...           ...              ...   \n",
       "209399 2013-05-07        2013-05-25 2023-05-25  FR0011486067  REPUBLIC FRANCE   \n",
       "209400 2013-05-07        2013-05-25 2023-05-25  FR0011486067  REPUBLIC FRANCE   \n",
       "209401 2013-05-07        2013-05-25 2023-05-25  FR0011486067  REPUBLIC FRANCE   \n",
       "209402 2013-05-07        2013-05-25 2023-05-25  FR0011486067  REPUBLIC FRANCE   \n",
       "209403 2013-05-07        2013-05-25 2023-05-25  FR0011486067  REPUBLIC FRANCE   \n",
       "\n",
       "                  coupon_frq  coupon     tot_issue cfi_code issue_rating  \\\n",
       "0       ANNUAL                  2.60  5.000000e+09   DBFTFR          AA-   \n",
       "1       ANNUAL                  2.60  5.000000e+09   DBFTFR          AA-   \n",
       "2       ANNUAL                  2.60  5.000000e+09   DBFTFR          AA-   \n",
       "3       ANNUAL                  2.60  5.000000e+09   DBFTFR          AA-   \n",
       "4       ANNUAL                  2.60  5.000000e+09   DBFTFR          AA-   \n",
       "...                      ...     ...           ...      ...          ...   \n",
       "209399  ANNUAL                  1.75  4.015000e+09   DBFTFN           AA   \n",
       "209400  ANNUAL                  1.75  4.015000e+09   DBFTFN           AA   \n",
       "209401  ANNUAL                  1.75  4.015000e+09   DBFTFN           AA   \n",
       "209402  ANNUAL                  1.75  4.015000e+09   DBFTFN           AA   \n",
       "209403  ANNUAL                  1.75  4.015000e+09   DBFTFN           AA   \n",
       "\n",
       "       bond_duration  \n",
       "0          3805 days  \n",
       "1          3805 days  \n",
       "2          3805 days  \n",
       "3          3805 days  \n",
       "4          3805 days  \n",
       "...              ...  \n",
       "209399     3670 days  \n",
       "209400     3670 days  \n",
       "209401     3670 days  \n",
       "209402     3670 days  \n",
       "209403     3670 days  \n",
       "\n",
       "[209404 rows x 17 columns]"
      ]
     },
     "execution_count": 51,
     "metadata": {},
     "output_type": "execute_result"
    }
   ],
   "source": [
    "df_price.merge(df_bonds, left_on = 'reference_identifier', right_on='isin',  how = 'left')"
   ]
  },
  {
   "cell_type": "code",
   "execution_count": 52,
   "metadata": {},
   "outputs": [
    {
     "data": {
      "text/html": [
       "<div>\n",
       "<style scoped>\n",
       "    .dataframe tbody tr th:only-of-type {\n",
       "        vertical-align: middle;\n",
       "    }\n",
       "\n",
       "    .dataframe tbody tr th {\n",
       "        vertical-align: top;\n",
       "    }\n",
       "\n",
       "    .dataframe thead th {\n",
       "        text-align: right;\n",
       "    }\n",
       "</style>\n",
       "<table border=\"1\" class=\"dataframe\">\n",
       "  <thead>\n",
       "    <tr style=\"text-align: right;\">\n",
       "      <th></th>\n",
       "      <th></th>\n",
       "      <th>reference_identifier</th>\n",
       "      <th>ccy</th>\n",
       "      <th>rate_dt</th>\n",
       "      <th>mid</th>\n",
       "      <th>country</th>\n",
       "      <th>issue_dt</th>\n",
       "      <th>first_coupon_date</th>\n",
       "      <th>mature_dt</th>\n",
       "      <th>isin</th>\n",
       "      <th>issuer_name</th>\n",
       "      <th>...</th>\n",
       "      <th>20 YEARS</th>\n",
       "      <th>25 YEARS</th>\n",
       "      <th>3 YEARS</th>\n",
       "      <th>30 YEARS</th>\n",
       "      <th>4 YEARS</th>\n",
       "      <th>5 YEARS</th>\n",
       "      <th>6 YEARS</th>\n",
       "      <th>7 YEARS</th>\n",
       "      <th>8 YEARS</th>\n",
       "      <th>9 YEARS</th>\n",
       "    </tr>\n",
       "    <tr>\n",
       "      <th>country</th>\n",
       "      <th>rate_dt</th>\n",
       "      <th></th>\n",
       "      <th></th>\n",
       "      <th></th>\n",
       "      <th></th>\n",
       "      <th></th>\n",
       "      <th></th>\n",
       "      <th></th>\n",
       "      <th></th>\n",
       "      <th></th>\n",
       "      <th></th>\n",
       "      <th></th>\n",
       "      <th></th>\n",
       "      <th></th>\n",
       "      <th></th>\n",
       "      <th></th>\n",
       "      <th></th>\n",
       "      <th></th>\n",
       "      <th></th>\n",
       "      <th></th>\n",
       "      <th></th>\n",
       "      <th></th>\n",
       "    </tr>\n",
       "  </thead>\n",
       "  <tbody>\n",
       "  </tbody>\n",
       "</table>\n",
       "<p>0 rows × 30 columns</p>\n",
       "</div>"
      ],
      "text/plain": [
       "Empty DataFrame\n",
       "Columns: [reference_identifier, ccy, rate_dt, mid, country, issue_dt, first_coupon_date, mature_dt, isin, issuer_name, coupon_frq, coupon, tot_issue, cfi_code, issue_rating, bond_duration, 1 YEAR, 10 YEARS, 15 YEARS, 2 YEARS, 20 YEARS, 25 YEARS, 3 YEARS, 30 YEARS, 4 YEARS, 5 YEARS, 6 YEARS, 7 YEARS, 8 YEARS, 9 YEARS]\n",
       "Index: []\n",
       "\n",
       "[0 rows x 30 columns]"
      ]
     },
     "execution_count": 52,
     "metadata": {},
     "output_type": "execute_result"
    }
   ],
   "source": [
    "make_dataset.join_full(df_bonds,df_price,df_yield, df_inflation)\n"
   ]
  },
  {
   "cell_type": "code",
   "execution_count": null,
   "metadata": {},
   "outputs": [],
   "source": [
    "df_inflation.describe()"
   ]
  },
  {
   "cell_type": "markdown",
   "metadata": {},
   "source": [
    "All in one make statement..."
   ]
  },
  {
   "cell_type": "code",
   "execution_count": null,
   "metadata": {},
   "outputs": [],
   "source": [
    "make_dataset.make_data()"
   ]
  }
 ],
 "metadata": {
  "interpreter": {
   "hash": "11ceafc7b78f5f3763c3d9a031e4cc9e8924ad6b8398b171c2d2e49c83b2b56a"
  },
  "kernelspec": {
   "display_name": "Python 3.8.10 64-bit ('timeseries-NkPdx04N-py3.8': venv)",
   "language": "python",
   "name": "python3"
  },
  "language_info": {
   "codemirror_mode": {
    "name": "ipython",
    "version": 3
   },
   "file_extension": ".py",
   "mimetype": "text/x-python",
   "name": "python",
   "nbconvert_exporter": "python",
   "pygments_lexer": "ipython3",
   "version": "3.8.10"
  },
  "orig_nbformat": 4
 },
 "nbformat": 4,
 "nbformat_minor": 2
}
