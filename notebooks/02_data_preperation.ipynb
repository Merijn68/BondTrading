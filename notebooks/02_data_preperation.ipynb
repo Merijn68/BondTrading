{
 "cells": [
  {
   "cell_type": "markdown",
   "metadata": {},
   "source": [
    "# Data voorbewerking"
   ]
  },
  {
   "cell_type": "markdown",
   "metadata": {},
   "source": [
    "De data voor dit project is afkomstig van het back office systeem van Financial Markets, deels aangevuld met extra data vanuit Bloomberg.\n",
    "De data bestaat uit de volgende elementen:\n",
    "\n",
    "- Bond data\n",
    "- Bondprijzen\n",
    "- Government Yield curves\n",
    "- Inflation data\n",
    "\n",
    "Alle data is extracted en opgeslagen in csv files. In dit workbook lopen we door de data voorbereiding heen. Alle hier genoemde stappen kunnen ook geautomatiseerd worden uitgevoerd door het shell command 'Make Data'."
   ]
  },
  {
   "cell_type": "code",
   "execution_count": 308,
   "metadata": {},
   "outputs": [
    {
     "name": "stdout",
     "output_type": "stream",
     "text": [
      "The autoreload extension is already loaded. To reload it, use:\n",
      "  %reload_ext autoreload\n"
     ]
    }
   ],
   "source": [
    "%load_ext autoreload\n",
    "%autoreload 2\n",
    "\n",
    "import sys\n",
    "import pandas as pd\n",
    "\n",
    "sys.path.insert(0, \"..\") \n",
    "from src.data import make_dataset\n",
    "from src.features import build_features"
   ]
  },
  {
   "cell_type": "markdown",
   "metadata": {},
   "source": [
    "# Bond data"
   ]
  },
  {
   "cell_type": "code",
   "execution_count": 270,
   "metadata": {},
   "outputs": [
    {
     "name": "stderr",
     "output_type": "stream",
     "text": [
      "2021-12-31 12:20:33.113 | INFO     | src.data.make_dataset:get_bond_data:34 - Load bond data\n",
      "2021-12-31 12:20:33.114 | INFO     | src.data.make_dataset:read_csv:19 - Loading data from ..\\data\\raw\\bonds.csv\n"
     ]
    }
   ],
   "source": [
    "\n",
    "# Get bond data, drop unneeded columns, convert formats and strip training blanks\n",
    "df_bonds = make_dataset.get_bond_data()"
   ]
  },
  {
   "cell_type": "code",
   "execution_count": 271,
   "metadata": {},
   "outputs": [
    {
     "name": "stdout",
     "output_type": "stream",
     "text": [
      "<class 'pandas.core.frame.DataFrame'>\n",
      "RangeIndex: 225 entries, 0 to 224\n",
      "Data columns (total 12 columns):\n",
      " #   Column             Non-Null Count  Dtype         \n",
      "---  ------             --------------  -----         \n",
      " 0   ccy                225 non-null    string        \n",
      " 1   country            225 non-null    string        \n",
      " 2   issue_dt           225 non-null    datetime64[ns]\n",
      " 3   first_coupon_date  202 non-null    datetime64[ns]\n",
      " 4   mature_dt          225 non-null    datetime64[ns]\n",
      " 5   isin               225 non-null    string        \n",
      " 6   issuer_name        225 non-null    string        \n",
      " 7   coupon_frq         225 non-null    string        \n",
      " 8   coupon             225 non-null    float64       \n",
      " 9   tot_issue          225 non-null    float64       \n",
      " 10  cfi_code           218 non-null    string        \n",
      " 11  issue_rating       220 non-null    string        \n",
      "dtypes: datetime64[ns](3), float64(2), string(7)\n",
      "memory usage: 21.2 KB\n"
     ]
    }
   ],
   "source": [
    "df_bonds.info()"
   ]
  },
  {
   "cell_type": "code",
   "execution_count": 272,
   "metadata": {},
   "outputs": [
    {
     "data": {
      "text/html": [
       "<div>\n",
       "<style scoped>\n",
       "    .dataframe tbody tr th:only-of-type {\n",
       "        vertical-align: middle;\n",
       "    }\n",
       "\n",
       "    .dataframe tbody tr th {\n",
       "        vertical-align: top;\n",
       "    }\n",
       "\n",
       "    .dataframe thead th {\n",
       "        text-align: right;\n",
       "    }\n",
       "</style>\n",
       "<table border=\"1\" class=\"dataframe\">\n",
       "  <thead>\n",
       "    <tr style=\"text-align: right;\">\n",
       "      <th></th>\n",
       "      <th>ccy</th>\n",
       "      <th>country</th>\n",
       "      <th>issue_dt</th>\n",
       "      <th>first_coupon_date</th>\n",
       "      <th>mature_dt</th>\n",
       "      <th>isin</th>\n",
       "      <th>issuer_name</th>\n",
       "      <th>coupon_frq</th>\n",
       "      <th>coupon</th>\n",
       "      <th>tot_issue</th>\n",
       "      <th>cfi_code</th>\n",
       "      <th>issue_rating</th>\n",
       "    </tr>\n",
       "  </thead>\n",
       "  <tbody>\n",
       "    <tr>\n",
       "      <th>0</th>\n",
       "      <td>EUR</td>\n",
       "      <td>Netherlands</td>\n",
       "      <td>2009-02-13</td>\n",
       "      <td>2009-07-15</td>\n",
       "      <td>2019-07-15</td>\n",
       "      <td>NL0009086115</td>\n",
       "      <td>STAAT DER NEDERLANDEN</td>\n",
       "      <td>ANNUAL</td>\n",
       "      <td>4.000</td>\n",
       "      <td>5.000000e+09</td>\n",
       "      <td>DBFTFN</td>\n",
       "      <td>AAA</td>\n",
       "    </tr>\n",
       "    <tr>\n",
       "      <th>1</th>\n",
       "      <td>NLG</td>\n",
       "      <td>Austria</td>\n",
       "      <td>1994-02-28</td>\n",
       "      <td>1995-02-28</td>\n",
       "      <td>2024-02-28</td>\n",
       "      <td>NL0000133924</td>\n",
       "      <td>AUSTRIA</td>\n",
       "      <td>ANNUAL</td>\n",
       "      <td>6.250</td>\n",
       "      <td>1.000000e+09</td>\n",
       "      <td>DBFTXB</td>\n",
       "      <td>AA+</td>\n",
       "    </tr>\n",
       "    <tr>\n",
       "      <th>2</th>\n",
       "      <td>EUR</td>\n",
       "      <td>Netherlands</td>\n",
       "      <td>2012-03-09</td>\n",
       "      <td>2013-01-15</td>\n",
       "      <td>2033-01-15</td>\n",
       "      <td>NL0010071189</td>\n",
       "      <td>STAAT DER NEDERLANDEN</td>\n",
       "      <td>ANNUAL</td>\n",
       "      <td>2.500</td>\n",
       "      <td>4.160000e+09</td>\n",
       "      <td>DBFXXN</td>\n",
       "      <td>AAA</td>\n",
       "    </tr>\n",
       "    <tr>\n",
       "      <th>3</th>\n",
       "      <td>USD</td>\n",
       "      <td>United States</td>\n",
       "      <td>2009-05-15</td>\n",
       "      <td>2009-11-15</td>\n",
       "      <td>2019-05-15</td>\n",
       "      <td>US912828KQ20</td>\n",
       "      <td>UNITED STATES TREASURY</td>\n",
       "      <td>SEMI ANNUAL</td>\n",
       "      <td>3.125</td>\n",
       "      <td>6.441100e+10</td>\n",
       "      <td>&lt;NA&gt;</td>\n",
       "      <td>&lt;NA&gt;</td>\n",
       "    </tr>\n",
       "    <tr>\n",
       "      <th>4</th>\n",
       "      <td>USD</td>\n",
       "      <td>United States</td>\n",
       "      <td>2010-02-15</td>\n",
       "      <td>2010-08-15</td>\n",
       "      <td>2020-02-15</td>\n",
       "      <td>US912828MP29</td>\n",
       "      <td>UNITED STATES TREASURY</td>\n",
       "      <td>SEMI ANNUAL</td>\n",
       "      <td>3.625</td>\n",
       "      <td>0.000000e+00</td>\n",
       "      <td>&lt;NA&gt;</td>\n",
       "      <td>&lt;NA&gt;</td>\n",
       "    </tr>\n",
       "  </tbody>\n",
       "</table>\n",
       "</div>"
      ],
      "text/plain": [
       "   ccy        country   issue_dt first_coupon_date  mature_dt          isin  \\\n",
       "0  EUR    Netherlands 2009-02-13        2009-07-15 2019-07-15  NL0009086115   \n",
       "1  NLG        Austria 1994-02-28        1995-02-28 2024-02-28  NL0000133924   \n",
       "2  EUR    Netherlands 2012-03-09        2013-01-15 2033-01-15  NL0010071189   \n",
       "3  USD  United States 2009-05-15        2009-11-15 2019-05-15  US912828KQ20   \n",
       "4  USD  United States 2010-02-15        2010-08-15 2020-02-15  US912828MP29   \n",
       "\n",
       "              issuer_name            coupon_frq  coupon     tot_issue  \\\n",
       "0   STAAT DER NEDERLANDEN  ANNUAL                 4.000  5.000000e+09   \n",
       "1                 AUSTRIA  ANNUAL                 6.250  1.000000e+09   \n",
       "2   STAAT DER NEDERLANDEN  ANNUAL                 2.500  4.160000e+09   \n",
       "3  UNITED STATES TREASURY  SEMI ANNUAL            3.125  6.441100e+10   \n",
       "4  UNITED STATES TREASURY  SEMI ANNUAL            3.625  0.000000e+00   \n",
       "\n",
       "  cfi_code issue_rating  \n",
       "0   DBFTFN          AAA  \n",
       "1   DBFTXB          AA+  \n",
       "2   DBFXXN          AAA  \n",
       "3     <NA>         <NA>  \n",
       "4     <NA>         <NA>  "
      ]
     },
     "execution_count": 272,
     "metadata": {},
     "output_type": "execute_result"
    }
   ],
   "source": [
    "df_bonds.head()"
   ]
  },
  {
   "cell_type": "markdown",
   "metadata": {},
   "source": [
    "Imputeren ontbrekende waarden voor issue rating. \n",
    "Issue rating wordt waar deze ontbreekt ingevuld met de meest voorkomende issue rating voor de issuer.\n",
    "\n",
    "CFI code wordt waar deze ontbreekt ingevuld met code 'onbekend' = DXXXXX.\n",
    "\n",
    "Datums met de waarde 1899-12-30 zijn default waardes van het bronsysteem. Deze worden verwijderd.\n",
    "Daar waar de eerste coupon datum ontbreekt (o.a. zero coupon bonds) - wordt deze aangevuld met de issue datum.\n",
    "De reden hiervoor is dat we zo zonder veel moeite de looptijd van de bond kunnen berekenen."
   ]
  },
  {
   "cell_type": "code",
   "execution_count": 273,
   "metadata": {},
   "outputs": [
    {
     "name": "stderr",
     "output_type": "stream",
     "text": [
      "2021-12-31 12:20:33.505 | INFO     | src.data.make_dataset:impute_bonds:67 - Impute bond data\n"
     ]
    }
   ],
   "source": [
    "df_bonds = make_dataset.impute_bonds(df_bonds)"
   ]
  },
  {
   "cell_type": "code",
   "execution_count": 274,
   "metadata": {},
   "outputs": [
    {
     "name": "stderr",
     "output_type": "stream",
     "text": [
      "2021-12-31 12:20:33.615 | INFO     | src.data.make_dataset:save_pkl:287 - Save preprocessed bonds data\n"
     ]
    }
   ],
   "source": [
    "make_dataset.save_pkl('bonds', df_bonds)"
   ]
  },
  {
   "cell_type": "code",
   "execution_count": 275,
   "metadata": {},
   "outputs": [
    {
     "data": {
      "text/plain": [
       "ccy                  225\n",
       "country              225\n",
       "issue_dt             225\n",
       "first_coupon_date    225\n",
       "mature_dt            225\n",
       "isin                 225\n",
       "issuer_name          225\n",
       "coupon_frq           225\n",
       "coupon               225\n",
       "tot_issue            225\n",
       "cfi_code             225\n",
       "issue_rating         225\n",
       "bond_duration        225\n",
       "dtype: int64"
      ]
     },
     "execution_count": 275,
     "metadata": {},
     "output_type": "execute_result"
    }
   ],
   "source": [
    "df_bonds.count()"
   ]
  },
  {
   "cell_type": "markdown",
   "metadata": {},
   "source": [
    "# Bondprijzen"
   ]
  },
  {
   "cell_type": "code",
   "execution_count": 276,
   "metadata": {},
   "outputs": [
    {
     "name": "stderr",
     "output_type": "stream",
     "text": [
      "2021-12-31 12:20:33.834 | INFO     | src.data.make_dataset:get_price:104 - Load bond price data\n",
      "2021-12-31 12:20:33.834 | INFO     | src.data.make_dataset:read_csv:19 - Loading data from ..\\data\\raw\\price.csv\n"
     ]
    }
   ],
   "source": [
    "df_price = make_dataset.get_price()"
   ]
  },
  {
   "cell_type": "code",
   "execution_count": 277,
   "metadata": {},
   "outputs": [
    {
     "name": "stderr",
     "output_type": "stream",
     "text": [
      "2021-12-31 12:20:34.467 | INFO     | src.data.make_dataset:impute_price:129 - Impute bond price\n"
     ]
    }
   ],
   "source": [
    "df_price = make_dataset.impute_price(df_price)"
   ]
  },
  {
   "cell_type": "code",
   "execution_count": 278,
   "metadata": {},
   "outputs": [
    {
     "data": {
      "text/html": [
       "<div>\n",
       "<style scoped>\n",
       "    .dataframe tbody tr th:only-of-type {\n",
       "        vertical-align: middle;\n",
       "    }\n",
       "\n",
       "    .dataframe tbody tr th {\n",
       "        vertical-align: top;\n",
       "    }\n",
       "\n",
       "    .dataframe thead th {\n",
       "        text-align: right;\n",
       "    }\n",
       "</style>\n",
       "<table border=\"1\" class=\"dataframe\">\n",
       "  <thead>\n",
       "    <tr style=\"text-align: right;\">\n",
       "      <th></th>\n",
       "      <th>reference_identifier</th>\n",
       "      <th>ccy</th>\n",
       "      <th>rate_dt</th>\n",
       "      <th>mid</th>\n",
       "    </tr>\n",
       "  </thead>\n",
       "  <tbody>\n",
       "    <tr>\n",
       "      <th>0</th>\n",
       "      <td>BE0000332412</td>\n",
       "      <td>EUR</td>\n",
       "      <td>2014-01-20</td>\n",
       "      <td>100.719</td>\n",
       "    </tr>\n",
       "    <tr>\n",
       "      <th>1</th>\n",
       "      <td>BE0000332412</td>\n",
       "      <td>EUR</td>\n",
       "      <td>2014-01-24</td>\n",
       "      <td>101.005</td>\n",
       "    </tr>\n",
       "    <tr>\n",
       "      <th>2</th>\n",
       "      <td>BE0000332412</td>\n",
       "      <td>EUR</td>\n",
       "      <td>2014-01-28</td>\n",
       "      <td>100.953</td>\n",
       "    </tr>\n",
       "    <tr>\n",
       "      <th>3</th>\n",
       "      <td>BE0000332412</td>\n",
       "      <td>EUR</td>\n",
       "      <td>2014-01-22</td>\n",
       "      <td>100.359</td>\n",
       "    </tr>\n",
       "    <tr>\n",
       "      <th>4</th>\n",
       "      <td>BE0000332412</td>\n",
       "      <td>EUR</td>\n",
       "      <td>2014-01-21</td>\n",
       "      <td>100.601</td>\n",
       "    </tr>\n",
       "  </tbody>\n",
       "</table>\n",
       "</div>"
      ],
      "text/plain": [
       "  reference_identifier  ccy    rate_dt      mid\n",
       "0         BE0000332412  EUR 2014-01-20  100.719\n",
       "1         BE0000332412  EUR 2014-01-24  101.005\n",
       "2         BE0000332412  EUR 2014-01-28  100.953\n",
       "3         BE0000332412  EUR 2014-01-22  100.359\n",
       "4         BE0000332412  EUR 2014-01-21  100.601"
      ]
     },
     "execution_count": 278,
     "metadata": {},
     "output_type": "execute_result"
    }
   ],
   "source": [
    "df_price.head()"
   ]
  },
  {
   "cell_type": "code",
   "execution_count": 279,
   "metadata": {},
   "outputs": [
    {
     "data": {
      "text/html": [
       "<div>\n",
       "<style scoped>\n",
       "    .dataframe tbody tr th:only-of-type {\n",
       "        vertical-align: middle;\n",
       "    }\n",
       "\n",
       "    .dataframe tbody tr th {\n",
       "        vertical-align: top;\n",
       "    }\n",
       "\n",
       "    .dataframe thead th {\n",
       "        text-align: right;\n",
       "    }\n",
       "</style>\n",
       "<table border=\"1\" class=\"dataframe\">\n",
       "  <thead>\n",
       "    <tr style=\"text-align: right;\">\n",
       "      <th></th>\n",
       "      <th>mid</th>\n",
       "    </tr>\n",
       "  </thead>\n",
       "  <tbody>\n",
       "    <tr>\n",
       "      <th>count</th>\n",
       "      <td>209276.000000</td>\n",
       "    </tr>\n",
       "    <tr>\n",
       "      <th>mean</th>\n",
       "      <td>111.289025</td>\n",
       "    </tr>\n",
       "    <tr>\n",
       "      <th>std</th>\n",
       "      <td>15.522802</td>\n",
       "    </tr>\n",
       "    <tr>\n",
       "      <th>min</th>\n",
       "      <td>84.429000</td>\n",
       "    </tr>\n",
       "    <tr>\n",
       "      <th>25%</th>\n",
       "      <td>102.285000</td>\n",
       "    </tr>\n",
       "    <tr>\n",
       "      <th>50%</th>\n",
       "      <td>106.729000</td>\n",
       "    </tr>\n",
       "    <tr>\n",
       "      <th>75%</th>\n",
       "      <td>112.926000</td>\n",
       "    </tr>\n",
       "    <tr>\n",
       "      <th>max</th>\n",
       "      <td>195.749000</td>\n",
       "    </tr>\n",
       "  </tbody>\n",
       "</table>\n",
       "</div>"
      ],
      "text/plain": [
       "                 mid\n",
       "count  209276.000000\n",
       "mean      111.289025\n",
       "std        15.522802\n",
       "min        84.429000\n",
       "25%       102.285000\n",
       "50%       106.729000\n",
       "75%       112.926000\n",
       "max       195.749000"
      ]
     },
     "execution_count": 279,
     "metadata": {},
     "output_type": "execute_result"
    }
   ],
   "source": [
    "df_price.describe()"
   ]
  },
  {
   "cell_type": "code",
   "execution_count": 280,
   "metadata": {},
   "outputs": [
    {
     "name": "stdout",
     "output_type": "stream",
     "text": [
      "<class 'pandas.core.frame.DataFrame'>\n",
      "Int64Index: 209276 entries, 0 to 220236\n",
      "Data columns (total 4 columns):\n",
      " #   Column                Non-Null Count   Dtype         \n",
      "---  ------                --------------   -----         \n",
      " 0   reference_identifier  209276 non-null  string        \n",
      " 1   ccy                   209276 non-null  string        \n",
      " 2   rate_dt               209276 non-null  datetime64[ns]\n",
      " 3   mid                   209276 non-null  float64       \n",
      "dtypes: datetime64[ns](1), float64(1), string(2)\n",
      "memory usage: 8.0 MB\n"
     ]
    }
   ],
   "source": [
    "df_price.info()"
   ]
  },
  {
   "cell_type": "code",
   "execution_count": 281,
   "metadata": {},
   "outputs": [
    {
     "name": "stderr",
     "output_type": "stream",
     "text": [
      "2021-12-31 12:20:35.015 | INFO     | src.data.make_dataset:save_pkl:287 - Save preprocessed price data\n"
     ]
    }
   ],
   "source": [
    "make_dataset.save_pkl('price', df_price)"
   ]
  },
  {
   "cell_type": "markdown",
   "metadata": {},
   "source": [
    "# Government Yield curves"
   ]
  },
  {
   "cell_type": "code",
   "execution_count": 282,
   "metadata": {},
   "outputs": [
    {
     "name": "stderr",
     "output_type": "stream",
     "text": [
      "2021-12-31 12:20:38.083 | INFO     | src.data.make_dataset:get_yield:137 - Load goverment yield curve data\n",
      "2021-12-31 12:20:38.084 | INFO     | src.data.make_dataset:read_csv:19 - Loading data from ..\\data\\raw\\yield.csv\n"
     ]
    }
   ],
   "source": [
    "df_yield = make_dataset.get_yield()"
   ]
  },
  {
   "cell_type": "code",
   "execution_count": 283,
   "metadata": {},
   "outputs": [
    {
     "name": "stderr",
     "output_type": "stream",
     "text": [
      "2021-12-31 12:20:39.407 | INFO     | src.data.make_dataset:impute_yield:166 - Impute yield curve\n"
     ]
    }
   ],
   "source": [
    "df_yield = make_dataset.impute_yield(df_yield)"
   ]
  },
  {
   "cell_type": "code",
   "execution_count": 284,
   "metadata": {},
   "outputs": [
    {
     "data": {
      "text/html": [
       "<div>\n",
       "<style scoped>\n",
       "    .dataframe tbody tr th:only-of-type {\n",
       "        vertical-align: middle;\n",
       "    }\n",
       "\n",
       "    .dataframe tbody tr th {\n",
       "        vertical-align: top;\n",
       "    }\n",
       "\n",
       "    .dataframe thead th {\n",
       "        text-align: right;\n",
       "    }\n",
       "</style>\n",
       "<table border=\"1\" class=\"dataframe\">\n",
       "  <thead>\n",
       "    <tr style=\"text-align: right;\">\n",
       "      <th></th>\n",
       "      <th>country</th>\n",
       "      <th>rate_dt</th>\n",
       "      <th>timeband</th>\n",
       "      <th>ratename</th>\n",
       "      <th>ccy</th>\n",
       "      <th>actual_dt</th>\n",
       "      <th>datedays</th>\n",
       "      <th>bid</th>\n",
       "      <th>offer</th>\n",
       "      <th>int_basis</th>\n",
       "    </tr>\n",
       "  </thead>\n",
       "  <tbody>\n",
       "    <tr>\n",
       "      <th>1</th>\n",
       "      <td>France</td>\n",
       "      <td>2016-06-01</td>\n",
       "      <td>1 YEAR</td>\n",
       "      <td>GOV Yield Curve FR BB</td>\n",
       "      <td>EUR</td>\n",
       "      <td>2017-06-05</td>\n",
       "      <td>369</td>\n",
       "      <td>-0.5200</td>\n",
       "      <td>-0.498</td>\n",
       "      <td>ANNUAL</td>\n",
       "    </tr>\n",
       "    <tr>\n",
       "      <th>2</th>\n",
       "      <td>France</td>\n",
       "      <td>2016-06-01</td>\n",
       "      <td>10 YEARS</td>\n",
       "      <td>GOV Yield Curve FR BB</td>\n",
       "      <td>EUR</td>\n",
       "      <td>2026-06-03</td>\n",
       "      <td>3654</td>\n",
       "      <td>0.4755</td>\n",
       "      <td>0.475</td>\n",
       "      <td>ANNUAL</td>\n",
       "    </tr>\n",
       "    <tr>\n",
       "      <th>3</th>\n",
       "      <td>France</td>\n",
       "      <td>2016-06-01</td>\n",
       "      <td>15 YEARS</td>\n",
       "      <td>GOV Yield Curve FR BB</td>\n",
       "      <td>EUR</td>\n",
       "      <td>2031-06-03</td>\n",
       "      <td>5480</td>\n",
       "      <td>0.4755</td>\n",
       "      <td>0.475</td>\n",
       "      <td>ANNUAL</td>\n",
       "    </tr>\n",
       "    <tr>\n",
       "      <th>4</th>\n",
       "      <td>France</td>\n",
       "      <td>2016-06-01</td>\n",
       "      <td>2 YEARS</td>\n",
       "      <td>GOV Yield Curve FR BB</td>\n",
       "      <td>EUR</td>\n",
       "      <td>2018-06-04</td>\n",
       "      <td>733</td>\n",
       "      <td>-0.4597</td>\n",
       "      <td>-0.442</td>\n",
       "      <td>ANNUAL</td>\n",
       "    </tr>\n",
       "    <tr>\n",
       "      <th>5</th>\n",
       "      <td>France</td>\n",
       "      <td>2016-06-01</td>\n",
       "      <td>20 YEARS</td>\n",
       "      <td>GOV Yield Curve FR BB</td>\n",
       "      <td>EUR</td>\n",
       "      <td>2036-06-03</td>\n",
       "      <td>7307</td>\n",
       "      <td>1.2151</td>\n",
       "      <td>1.220</td>\n",
       "      <td>ANNUAL</td>\n",
       "    </tr>\n",
       "  </tbody>\n",
       "</table>\n",
       "</div>"
      ],
      "text/plain": [
       "  country    rate_dt      timeband               ratename  ccy  actual_dt  \\\n",
       "1  France 2016-06-01  1 YEAR        GOV Yield Curve FR BB  EUR 2017-06-05   \n",
       "2  France 2016-06-01  10 YEARS      GOV Yield Curve FR BB  EUR 2026-06-03   \n",
       "3  France 2016-06-01  15 YEARS      GOV Yield Curve FR BB  EUR 2031-06-03   \n",
       "4  France 2016-06-01  2 YEARS       GOV Yield Curve FR BB  EUR 2018-06-04   \n",
       "5  France 2016-06-01  20 YEARS      GOV Yield Curve FR BB  EUR 2036-06-03   \n",
       "\n",
       "   datedays     bid  offer     int_basis  \n",
       "1       369 -0.5200 -0.498  ANNUAL        \n",
       "2      3654  0.4755  0.475  ANNUAL        \n",
       "3      5480  0.4755  0.475  ANNUAL        \n",
       "4       733 -0.4597 -0.442  ANNUAL        \n",
       "5      7307  1.2151  1.220  ANNUAL        "
      ]
     },
     "execution_count": 284,
     "metadata": {},
     "output_type": "execute_result"
    }
   ],
   "source": [
    "df_yield.head()"
   ]
  },
  {
   "cell_type": "code",
   "execution_count": 285,
   "metadata": {},
   "outputs": [
    {
     "data": {
      "text/html": [
       "<div>\n",
       "<style scoped>\n",
       "    .dataframe tbody tr th:only-of-type {\n",
       "        vertical-align: middle;\n",
       "    }\n",
       "\n",
       "    .dataframe tbody tr th {\n",
       "        vertical-align: top;\n",
       "    }\n",
       "\n",
       "    .dataframe thead th {\n",
       "        text-align: right;\n",
       "    }\n",
       "</style>\n",
       "<table border=\"1\" class=\"dataframe\">\n",
       "  <thead>\n",
       "    <tr style=\"text-align: right;\">\n",
       "      <th></th>\n",
       "      <th>datedays</th>\n",
       "      <th>bid</th>\n",
       "      <th>offer</th>\n",
       "    </tr>\n",
       "  </thead>\n",
       "  <tbody>\n",
       "    <tr>\n",
       "      <th>count</th>\n",
       "      <td>89750.000000</td>\n",
       "      <td>89750.000000</td>\n",
       "      <td>89750.000000</td>\n",
       "    </tr>\n",
       "    <tr>\n",
       "      <th>mean</th>\n",
       "      <td>3389.135610</td>\n",
       "      <td>0.284506</td>\n",
       "      <td>0.273997</td>\n",
       "    </tr>\n",
       "    <tr>\n",
       "      <th>std</th>\n",
       "      <td>2877.657017</td>\n",
       "      <td>0.921237</td>\n",
       "      <td>0.921592</td>\n",
       "    </tr>\n",
       "    <tr>\n",
       "      <th>min</th>\n",
       "      <td>367.000000</td>\n",
       "      <td>-1.038000</td>\n",
       "      <td>-1.051000</td>\n",
       "    </tr>\n",
       "    <tr>\n",
       "      <th>25%</th>\n",
       "      <td>1463.000000</td>\n",
       "      <td>-0.429000</td>\n",
       "      <td>-0.443000</td>\n",
       "    </tr>\n",
       "    <tr>\n",
       "      <th>50%</th>\n",
       "      <td>2560.000000</td>\n",
       "      <td>0.016000</td>\n",
       "      <td>0.009000</td>\n",
       "    </tr>\n",
       "    <tr>\n",
       "      <th>75%</th>\n",
       "      <td>3657.000000</td>\n",
       "      <td>0.756000</td>\n",
       "      <td>0.750000</td>\n",
       "    </tr>\n",
       "    <tr>\n",
       "      <th>max</th>\n",
       "      <td>10968.000000</td>\n",
       "      <td>4.128000</td>\n",
       "      <td>4.109000</td>\n",
       "    </tr>\n",
       "  </tbody>\n",
       "</table>\n",
       "</div>"
      ],
      "text/plain": [
       "           datedays           bid         offer\n",
       "count  89750.000000  89750.000000  89750.000000\n",
       "mean    3389.135610      0.284506      0.273997\n",
       "std     2877.657017      0.921237      0.921592\n",
       "min      367.000000     -1.038000     -1.051000\n",
       "25%     1463.000000     -0.429000     -0.443000\n",
       "50%     2560.000000      0.016000      0.009000\n",
       "75%     3657.000000      0.756000      0.750000\n",
       "max    10968.000000      4.128000      4.109000"
      ]
     },
     "execution_count": 285,
     "metadata": {},
     "output_type": "execute_result"
    }
   ],
   "source": [
    "df_yield.describe()"
   ]
  },
  {
   "cell_type": "code",
   "execution_count": 286,
   "metadata": {},
   "outputs": [
    {
     "name": "stderr",
     "output_type": "stream",
     "text": [
      "2021-12-31 12:20:39.814 | INFO     | src.data.make_dataset:save_pkl:287 - Save preprocessed yield data\n"
     ]
    }
   ],
   "source": [
    "make_dataset.save_pkl('yield', df_yield)"
   ]
  },
  {
   "cell_type": "markdown",
   "metadata": {},
   "source": [
    "# Inflation data\n"
   ]
  },
  {
   "cell_type": "code",
   "execution_count": 287,
   "metadata": {},
   "outputs": [
    {
     "name": "stderr",
     "output_type": "stream",
     "text": [
      "2021-12-31 12:20:42.589 | INFO     | src.data.make_dataset:get_inflation:178 - Load goverment yield curve data\n",
      "2021-12-31 12:20:42.591 | INFO     | src.data.make_dataset:read_csv:19 - Loading data from ..\\data\\raw\\DE Inflation.csv\n",
      "2021-12-31 12:20:42.608 | INFO     | src.data.make_dataset:read_csv:19 - Loading data from ..\\data\\raw\\FR Inflation.csv\n",
      "2021-12-31 12:20:42.625 | INFO     | src.data.make_dataset:read_csv:19 - Loading data from ..\\data\\raw\\ES Inflation.csv\n",
      "2021-12-31 12:20:42.646 | INFO     | src.data.make_dataset:read_csv:19 - Loading data from ..\\data\\raw\\IT Inflation.csv\n",
      "2021-12-31 12:20:42.664 | INFO     | src.data.make_dataset:read_csv:19 - Loading data from ..\\data\\raw\\US Inflation.csv\n"
     ]
    }
   ],
   "source": [
    "df_inflation = make_dataset.get_inflation()  "
   ]
  },
  {
   "cell_type": "code",
   "execution_count": 288,
   "metadata": {},
   "outputs": [
    {
     "name": "stderr",
     "output_type": "stream",
     "text": [
      "2021-12-31 12:20:57.454 | INFO     | src.data.make_dataset:impute_inflation:205 - Impute inflation curve\n"
     ]
    },
    {
     "name": "stdout",
     "output_type": "stream",
     "text": [
      "<class 'pandas.core.frame.DataFrame'>\n",
      "Int64Index: 215007 entries, 0 to 216873\n",
      "Data columns (total 5 columns):\n",
      " #   Column     Non-Null Count   Dtype         \n",
      "---  ------     --------------   -----         \n",
      " 0   country    215007 non-null  string        \n",
      " 1   rate_dt    215007 non-null  datetime64[ns]\n",
      " 2   timeband   215007 non-null  string        \n",
      " 3   inflation  215007 non-null  float64       \n",
      " 4   ratename   215007 non-null  string        \n",
      "dtypes: datetime64[ns](1), float64(1), string(3)\n",
      "memory usage: 9.8 MB\n"
     ]
    }
   ],
   "source": [
    "df_inflation = make_dataset.impute_inflation(df_inflation)\n",
    "\n",
    "\n",
    "df_inflation.info()"
   ]
  },
  {
   "cell_type": "code",
   "execution_count": 289,
   "metadata": {},
   "outputs": [
    {
     "name": "stderr",
     "output_type": "stream",
     "text": [
      "2021-12-31 12:20:57.613 | INFO     | src.data.make_dataset:save_pkl:287 - Save preprocessed inflation data\n"
     ]
    }
   ],
   "source": [
    "make_dataset.save_pkl('inflation', df_inflation)"
   ]
  },
  {
   "cell_type": "code",
   "execution_count": 311,
   "metadata": {},
   "outputs": [],
   "source": [
    "df_yield_pivot = pd.pivot(df_yield, index = ['country','rate_dt'], columns = ['timeband'], values = ['bid','offer'])"
   ]
  },
  {
   "cell_type": "code",
   "execution_count": 295,
   "metadata": {},
   "outputs": [],
   "source": [
    "df_yield_pivot = pd.pivot(df_yield, columns = ['timeband'], values = ['bid','offer'])"
   ]
  },
  {
   "cell_type": "code",
   "execution_count": 296,
   "metadata": {},
   "outputs": [],
   "source": [
    "df_bpi = make_dataset.join_inflation(df_bonds, df_price, df_inflation)"
   ]
  },
  {
   "cell_type": "code",
   "execution_count": 299,
   "metadata": {},
   "outputs": [],
   "source": [
    "df_bpy = make_dataset.join_yield(df_bonds, df_price, df_yield)"
   ]
  },
  {
   "cell_type": "code",
   "execution_count": 426,
   "metadata": {},
   "outputs": [
    {
     "ename": "TypeError",
     "evalue": "pivot() got an unexpected keyword argument 'valuenames'",
     "output_type": "error",
     "traceback": [
      "\u001b[1;31m---------------------------------------------------------------------------\u001b[0m",
      "\u001b[1;31mTypeError\u001b[0m                                 Traceback (most recent call last)",
      "\u001b[1;32m~\\AppData\\Local\\Temp/ipykernel_9032/662871591.py\u001b[0m in \u001b[0;36m<module>\u001b[1;34m\u001b[0m\n\u001b[1;32m----> 1\u001b[1;33m \u001b[0mdf_bpiy\u001b[0m \u001b[1;33m=\u001b[0m \u001b[0mmake_dataset\u001b[0m\u001b[1;33m.\u001b[0m\u001b[0mfulljoin\u001b[0m\u001b[1;33m(\u001b[0m\u001b[0mdf_bonds\u001b[0m\u001b[1;33m,\u001b[0m \u001b[0mdf_price\u001b[0m\u001b[1;33m,\u001b[0m \u001b[0mdf_inflation\u001b[0m\u001b[1;33m,\u001b[0m \u001b[0mdf_yield\u001b[0m\u001b[1;33m)\u001b[0m\u001b[1;33m\u001b[0m\u001b[1;33m\u001b[0m\u001b[0m\n\u001b[0m",
      "\u001b[1;32mc:\\Users\\M\\SkyDrive\\Documents\\GitHub\\BondTrading\\notebooks\\..\\src\\data\\make_dataset.py\u001b[0m in \u001b[0;36mfulljoin\u001b[1;34m(df_bonds, df_price, df_inflation, df_yield)\u001b[0m\n\u001b[0;32m    302\u001b[0m     \u001b[0mdf_inflation_pivot\u001b[0m \u001b[1;33m=\u001b[0m \u001b[0mdf_inflation_pivot\u001b[0m\u001b[1;33m[\u001b[0m\u001b[0mcolumns\u001b[0m\u001b[1;33m]\u001b[0m\u001b[1;33m\u001b[0m\u001b[1;33m\u001b[0m\u001b[0m\n\u001b[0;32m    303\u001b[0m \u001b[1;33m\u001b[0m\u001b[0m\n\u001b[1;32m--> 304\u001b[1;33m     \u001b[0mdf_yield_pivot\u001b[0m \u001b[1;33m=\u001b[0m \u001b[0mpd\u001b[0m\u001b[1;33m.\u001b[0m\u001b[0mpivot\u001b[0m\u001b[1;33m(\u001b[0m\u001b[0mdf_yield\u001b[0m\u001b[1;33m,\u001b[0m \u001b[0mindex\u001b[0m \u001b[1;33m=\u001b[0m \u001b[1;33m[\u001b[0m\u001b[1;34m'country'\u001b[0m\u001b[1;33m,\u001b[0m\u001b[1;34m'rate_dt'\u001b[0m\u001b[1;33m]\u001b[0m\u001b[1;33m,\u001b[0m \u001b[0mcolumns\u001b[0m \u001b[1;33m=\u001b[0m \u001b[1;33m[\u001b[0m\u001b[1;34m'timeband'\u001b[0m\u001b[1;33m]\u001b[0m\u001b[1;33m,\u001b[0m \u001b[0mvalues\u001b[0m \u001b[1;33m=\u001b[0m \u001b[1;33m[\u001b[0m\u001b[1;34m'bid'\u001b[0m\u001b[1;33m,\u001b[0m\u001b[1;34m'offer'\u001b[0m\u001b[1;33m]\u001b[0m\u001b[1;33m,\u001b[0m \u001b[0mvaluenames\u001b[0m \u001b[1;33m=\u001b[0m \u001b[1;33m[\u001b[0m\u001b[1;34m'bid_'\u001b[0m\u001b[1;33m,\u001b[0m\u001b[1;34m'offer_'\u001b[0m\u001b[1;33m]\u001b[0m\u001b[1;33m)\u001b[0m\u001b[1;33m\u001b[0m\u001b[1;33m\u001b[0m\u001b[0m\n\u001b[0m\u001b[0;32m    305\u001b[0m     \u001b[0mdf_yield_pivot\u001b[0m\u001b[1;33m.\u001b[0m\u001b[0mcolumns\u001b[0m \u001b[1;33m=\u001b[0m \u001b[1;33m[\u001b[0m\u001b[1;34m''\u001b[0m\u001b[1;33m.\u001b[0m\u001b[0mjoin\u001b[0m\u001b[1;33m(\u001b[0m\u001b[1;33m(\u001b[0m\u001b[1;34m'yield_'\u001b[0m\u001b[1;33m,\u001b[0m\u001b[1;34m''\u001b[0m\u001b[1;33m.\u001b[0m\u001b[0mjoin\u001b[0m\u001b[1;33m(\u001b[0m\u001b[0mtup\u001b[0m\u001b[1;33m)\u001b[0m\u001b[1;33m)\u001b[0m\u001b[1;33m)\u001b[0m\u001b[1;33m.\u001b[0m\u001b[0mreplace\u001b[0m\u001b[1;33m(\u001b[0m\u001b[1;34m'YEARS'\u001b[0m\u001b[1;33m,\u001b[0m\u001b[1;34m''\u001b[0m\u001b[1;33m)\u001b[0m\u001b[1;33m.\u001b[0m\u001b[0mreplace\u001b[0m\u001b[1;33m(\u001b[0m\u001b[1;34m'YEAR'\u001b[0m\u001b[1;33m,\u001b[0m\u001b[1;34m''\u001b[0m\u001b[1;33m)\u001b[0m\u001b[1;33m.\u001b[0m\u001b[0mstrip\u001b[0m\u001b[1;33m(\u001b[0m\u001b[1;33m)\u001b[0m \u001b[1;32mfor\u001b[0m \u001b[0mtup\u001b[0m \u001b[1;32min\u001b[0m \u001b[0mdf_yield_pivot\u001b[0m\u001b[1;33m.\u001b[0m\u001b[0mcolumns\u001b[0m\u001b[1;33m]\u001b[0m\u001b[1;33m\u001b[0m\u001b[1;33m\u001b[0m\u001b[0m\n\u001b[0;32m    306\u001b[0m     \u001b[0mcolumns\u001b[0m \u001b[1;33m=\u001b[0m \u001b[0mdf_yield_pivot\u001b[0m\u001b[1;33m.\u001b[0m\u001b[0mcolumns\u001b[0m\u001b[1;33m.\u001b[0m\u001b[0mto_list\u001b[0m\u001b[1;33m(\u001b[0m\u001b[1;33m)\u001b[0m\u001b[1;33m\u001b[0m\u001b[1;33m\u001b[0m\u001b[0m\n",
      "\u001b[1;31mTypeError\u001b[0m: pivot() got an unexpected keyword argument 'valuenames'"
     ]
    }
   ],
   "source": [
    "df_bpiy = make_dataset.fulljoin(df_bonds, df_price, df_inflation, df_yield)"
   ]
  },
  {
   "cell_type": "code",
   "execution_count": 409,
   "metadata": {},
   "outputs": [],
   "source": [
    "df_bpiy = build_features.add_duration(df_bpiy)\n"
   ]
  },
  {
   "cell_type": "code",
   "execution_count": 410,
   "metadata": {},
   "outputs": [
    {
     "data": {
      "text/plain": [
       "Index(['reference_identifier', 'ccy', 'rate_dt', 'mid', 'country', 'issue_dt',\n",
       "       'first_coupon_date', 'mature_dt', 'isin', 'issuer_name', 'coupon_frq',\n",
       "       'coupon', 'tot_issue', 'cfi_code', 'issue_rating', 'bond_duration',\n",
       "       'inflation_1', 'inflation_2', 'inflation_3', 'inflation_4',\n",
       "       'inflation_5', 'inflation_6', 'inflation_7', 'inflation_8',\n",
       "       'inflation_9', 'inflation_10', 'inflation_15', 'inflation_20',\n",
       "       'inflation_25', 'inflation_30', 'yield_bid1', 'yield_offer1',\n",
       "       'yield_bid2', 'yield_offer2', 'yield_bid3', 'yield_offer3',\n",
       "       'yield_bid4', 'yield_offer4', 'yield_bid5', 'yield_offer5',\n",
       "       'yield_bid6', 'yield_offer6', 'yield_bid7', 'yield_offer7',\n",
       "       'yield_bid8', 'yield_offer8', 'yield_bid9', 'yield_offer9',\n",
       "       'yield_bid10', 'yield_offer10', 'yield_bid15', 'yield_offer15',\n",
       "       'yield_bid20', 'yield_offer20', 'yield_bid30', 'yield_offer30',\n",
       "       'remain_duration'],\n",
       "      dtype='object')"
      ]
     },
     "execution_count": 410,
     "metadata": {},
     "output_type": "execute_result"
    }
   ],
   "source": [
    "df_bpiy.columns"
   ]
  },
  {
   "cell_type": "code",
   "execution_count": 415,
   "metadata": {},
   "outputs": [
    {
     "ename": "KeyError",
     "evalue": "'1'",
     "output_type": "error",
     "traceback": [
      "\u001b[1;31m---------------------------------------------------------------------------\u001b[0m",
      "\u001b[1;31mKeyError\u001b[0m                                  Traceback (most recent call last)",
      "\u001b[1;32m~\\AppData\\Local\\pypoetry\\Cache\\virtualenvs\\timeseries-NkPdx04N-py3.8\\lib\\site-packages\\pandas\\core\\indexes\\base.py\u001b[0m in \u001b[0;36mget_loc\u001b[1;34m(self, key, method, tolerance)\u001b[0m\n\u001b[0;32m   3360\u001b[0m             \u001b[1;32mtry\u001b[0m\u001b[1;33m:\u001b[0m\u001b[1;33m\u001b[0m\u001b[1;33m\u001b[0m\u001b[0m\n\u001b[1;32m-> 3361\u001b[1;33m                 \u001b[1;32mreturn\u001b[0m \u001b[0mself\u001b[0m\u001b[1;33m.\u001b[0m\u001b[0m_engine\u001b[0m\u001b[1;33m.\u001b[0m\u001b[0mget_loc\u001b[0m\u001b[1;33m(\u001b[0m\u001b[0mcasted_key\u001b[0m\u001b[1;33m)\u001b[0m\u001b[1;33m\u001b[0m\u001b[1;33m\u001b[0m\u001b[0m\n\u001b[0m\u001b[0;32m   3362\u001b[0m             \u001b[1;32mexcept\u001b[0m \u001b[0mKeyError\u001b[0m \u001b[1;32mas\u001b[0m \u001b[0merr\u001b[0m\u001b[1;33m:\u001b[0m\u001b[1;33m\u001b[0m\u001b[1;33m\u001b[0m\u001b[0m\n",
      "\u001b[1;32m~\\AppData\\Local\\pypoetry\\Cache\\virtualenvs\\timeseries-NkPdx04N-py3.8\\lib\\site-packages\\pandas\\_libs\\index.pyx\u001b[0m in \u001b[0;36mpandas._libs.index.IndexEngine.get_loc\u001b[1;34m()\u001b[0m\n",
      "\u001b[1;32m~\\AppData\\Local\\pypoetry\\Cache\\virtualenvs\\timeseries-NkPdx04N-py3.8\\lib\\site-packages\\pandas\\_libs\\index.pyx\u001b[0m in \u001b[0;36mpandas._libs.index.IndexEngine.get_loc\u001b[1;34m()\u001b[0m\n",
      "\u001b[1;32mpandas\\_libs\\hashtable_class_helper.pxi\u001b[0m in \u001b[0;36mpandas._libs.hashtable.PyObjectHashTable.get_item\u001b[1;34m()\u001b[0m\n",
      "\u001b[1;32mpandas\\_libs\\hashtable_class_helper.pxi\u001b[0m in \u001b[0;36mpandas._libs.hashtable.PyObjectHashTable.get_item\u001b[1;34m()\u001b[0m\n",
      "\u001b[1;31mKeyError\u001b[0m: '1'",
      "\nThe above exception was the direct cause of the following exception:\n",
      "\u001b[1;31mKeyError\u001b[0m                                  Traceback (most recent call last)",
      "\u001b[1;32m~\\AppData\\Local\\Temp/ipykernel_9032/2167606064.py\u001b[0m in \u001b[0;36m<module>\u001b[1;34m\u001b[0m\n\u001b[1;32m----> 1\u001b[1;33m \u001b[0mdf_bpiye\u001b[0m \u001b[1;33m=\u001b[0m \u001b[0mbuild_features\u001b[0m\u001b[1;33m.\u001b[0m\u001b[0madd_bid_offer_spread\u001b[0m\u001b[1;33m(\u001b[0m\u001b[0mdf_bpiy\u001b[0m\u001b[1;33m)\u001b[0m\u001b[1;33m\u001b[0m\u001b[1;33m\u001b[0m\u001b[0m\n\u001b[0m\u001b[0;32m      2\u001b[0m \u001b[1;33m\u001b[0m\u001b[0m\n",
      "\u001b[1;32mc:\\Users\\M\\SkyDrive\\Documents\\GitHub\\BondTrading\\notebooks\\..\\src\\features\\build_features.py\u001b[0m in \u001b[0;36madd_bid_offer_spread\u001b[1;34m(df)\u001b[0m\n\u001b[0;32m     32\u001b[0m   \u001b[0myears\u001b[0m \u001b[1;33m=\u001b[0m \u001b[1;33m[\u001b[0m\u001b[1;36m1\u001b[0m\u001b[1;33m,\u001b[0m\u001b[1;36m2\u001b[0m\u001b[1;33m,\u001b[0m\u001b[1;36m3\u001b[0m\u001b[1;33m,\u001b[0m\u001b[1;36m4\u001b[0m\u001b[1;33m,\u001b[0m\u001b[1;36m5\u001b[0m\u001b[1;33m,\u001b[0m\u001b[1;36m6\u001b[0m\u001b[1;33m,\u001b[0m\u001b[1;36m7\u001b[0m\u001b[1;33m,\u001b[0m\u001b[1;36m8\u001b[0m\u001b[1;33m,\u001b[0m\u001b[1;36m9\u001b[0m\u001b[1;33m,\u001b[0m\u001b[1;36m10\u001b[0m\u001b[1;33m,\u001b[0m\u001b[1;36m15\u001b[0m\u001b[1;33m,\u001b[0m\u001b[1;36m20\u001b[0m\u001b[1;33m,\u001b[0m\u001b[1;36m30\u001b[0m\u001b[1;33m]\u001b[0m\u001b[1;33m\u001b[0m\u001b[1;33m\u001b[0m\u001b[0m\n\u001b[0;32m     33\u001b[0m   \u001b[1;32mfor\u001b[0m \u001b[0myear\u001b[0m \u001b[1;32min\u001b[0m \u001b[0myears\u001b[0m\u001b[1;33m:\u001b[0m\u001b[1;33m\u001b[0m\u001b[1;33m\u001b[0m\u001b[0m\n\u001b[1;32m---> 34\u001b[1;33m     \u001b[0mdf\u001b[0m\u001b[1;33m[\u001b[0m\u001b[1;34m'spread_'\u001b[0m\u001b[1;33m.\u001b[0m\u001b[0mjoin\u001b[0m\u001b[1;33m(\u001b[0m\u001b[1;33m(\u001b[0m\u001b[0mstr\u001b[0m\u001b[1;33m(\u001b[0m\u001b[0myear\u001b[0m\u001b[1;33m)\u001b[0m\u001b[1;33m)\u001b[0m\u001b[1;33m)\u001b[0m\u001b[1;33m]\u001b[0m \u001b[1;33m=\u001b[0m \u001b[0mdf\u001b[0m\u001b[1;33m[\u001b[0m\u001b[1;34m'yield_bid_'\u001b[0m\u001b[1;33m.\u001b[0m\u001b[0mjoin\u001b[0m\u001b[1;33m(\u001b[0m\u001b[1;33m(\u001b[0m\u001b[0mstr\u001b[0m\u001b[1;33m(\u001b[0m\u001b[0myear\u001b[0m\u001b[1;33m)\u001b[0m\u001b[1;33m)\u001b[0m\u001b[1;33m)\u001b[0m\u001b[1;33m]\u001b[0m \u001b[1;33m-\u001b[0m \u001b[0mdf\u001b[0m\u001b[1;33m[\u001b[0m\u001b[1;34m'yield_offer_'\u001b[0m\u001b[1;33m.\u001b[0m\u001b[0mjoin\u001b[0m\u001b[1;33m(\u001b[0m\u001b[1;33m(\u001b[0m\u001b[0mstr\u001b[0m\u001b[1;33m(\u001b[0m\u001b[0myear\u001b[0m\u001b[1;33m)\u001b[0m\u001b[1;33m)\u001b[0m\u001b[1;33m)\u001b[0m\u001b[1;33m]\u001b[0m\u001b[1;33m\u001b[0m\u001b[1;33m\u001b[0m\u001b[0m\n\u001b[0m\u001b[0;32m     35\u001b[0m \u001b[1;33m\u001b[0m\u001b[0m\n\u001b[0;32m     36\u001b[0m \u001b[1;33m\u001b[0m\u001b[0m\n",
      "\u001b[1;32m~\\AppData\\Local\\pypoetry\\Cache\\virtualenvs\\timeseries-NkPdx04N-py3.8\\lib\\site-packages\\pandas\\core\\frame.py\u001b[0m in \u001b[0;36m__getitem__\u001b[1;34m(self, key)\u001b[0m\n\u001b[0;32m   3456\u001b[0m             \u001b[1;32mif\u001b[0m \u001b[0mself\u001b[0m\u001b[1;33m.\u001b[0m\u001b[0mcolumns\u001b[0m\u001b[1;33m.\u001b[0m\u001b[0mnlevels\u001b[0m \u001b[1;33m>\u001b[0m \u001b[1;36m1\u001b[0m\u001b[1;33m:\u001b[0m\u001b[1;33m\u001b[0m\u001b[1;33m\u001b[0m\u001b[0m\n\u001b[0;32m   3457\u001b[0m                 \u001b[1;32mreturn\u001b[0m \u001b[0mself\u001b[0m\u001b[1;33m.\u001b[0m\u001b[0m_getitem_multilevel\u001b[0m\u001b[1;33m(\u001b[0m\u001b[0mkey\u001b[0m\u001b[1;33m)\u001b[0m\u001b[1;33m\u001b[0m\u001b[1;33m\u001b[0m\u001b[0m\n\u001b[1;32m-> 3458\u001b[1;33m             \u001b[0mindexer\u001b[0m \u001b[1;33m=\u001b[0m \u001b[0mself\u001b[0m\u001b[1;33m.\u001b[0m\u001b[0mcolumns\u001b[0m\u001b[1;33m.\u001b[0m\u001b[0mget_loc\u001b[0m\u001b[1;33m(\u001b[0m\u001b[0mkey\u001b[0m\u001b[1;33m)\u001b[0m\u001b[1;33m\u001b[0m\u001b[1;33m\u001b[0m\u001b[0m\n\u001b[0m\u001b[0;32m   3459\u001b[0m             \u001b[1;32mif\u001b[0m \u001b[0mis_integer\u001b[0m\u001b[1;33m(\u001b[0m\u001b[0mindexer\u001b[0m\u001b[1;33m)\u001b[0m\u001b[1;33m:\u001b[0m\u001b[1;33m\u001b[0m\u001b[1;33m\u001b[0m\u001b[0m\n\u001b[0;32m   3460\u001b[0m                 \u001b[0mindexer\u001b[0m \u001b[1;33m=\u001b[0m \u001b[1;33m[\u001b[0m\u001b[0mindexer\u001b[0m\u001b[1;33m]\u001b[0m\u001b[1;33m\u001b[0m\u001b[1;33m\u001b[0m\u001b[0m\n",
      "\u001b[1;32m~\\AppData\\Local\\pypoetry\\Cache\\virtualenvs\\timeseries-NkPdx04N-py3.8\\lib\\site-packages\\pandas\\core\\indexes\\base.py\u001b[0m in \u001b[0;36mget_loc\u001b[1;34m(self, key, method, tolerance)\u001b[0m\n\u001b[0;32m   3361\u001b[0m                 \u001b[1;32mreturn\u001b[0m \u001b[0mself\u001b[0m\u001b[1;33m.\u001b[0m\u001b[0m_engine\u001b[0m\u001b[1;33m.\u001b[0m\u001b[0mget_loc\u001b[0m\u001b[1;33m(\u001b[0m\u001b[0mcasted_key\u001b[0m\u001b[1;33m)\u001b[0m\u001b[1;33m\u001b[0m\u001b[1;33m\u001b[0m\u001b[0m\n\u001b[0;32m   3362\u001b[0m             \u001b[1;32mexcept\u001b[0m \u001b[0mKeyError\u001b[0m \u001b[1;32mas\u001b[0m \u001b[0merr\u001b[0m\u001b[1;33m:\u001b[0m\u001b[1;33m\u001b[0m\u001b[1;33m\u001b[0m\u001b[0m\n\u001b[1;32m-> 3363\u001b[1;33m                 \u001b[1;32mraise\u001b[0m \u001b[0mKeyError\u001b[0m\u001b[1;33m(\u001b[0m\u001b[0mkey\u001b[0m\u001b[1;33m)\u001b[0m \u001b[1;32mfrom\u001b[0m \u001b[0merr\u001b[0m\u001b[1;33m\u001b[0m\u001b[1;33m\u001b[0m\u001b[0m\n\u001b[0m\u001b[0;32m   3364\u001b[0m \u001b[1;33m\u001b[0m\u001b[0m\n\u001b[0;32m   3365\u001b[0m         \u001b[1;32mif\u001b[0m \u001b[0mis_scalar\u001b[0m\u001b[1;33m(\u001b[0m\u001b[0mkey\u001b[0m\u001b[1;33m)\u001b[0m \u001b[1;32mand\u001b[0m \u001b[0misna\u001b[0m\u001b[1;33m(\u001b[0m\u001b[0mkey\u001b[0m\u001b[1;33m)\u001b[0m \u001b[1;32mand\u001b[0m \u001b[1;32mnot\u001b[0m \u001b[0mself\u001b[0m\u001b[1;33m.\u001b[0m\u001b[0mhasnans\u001b[0m\u001b[1;33m:\u001b[0m\u001b[1;33m\u001b[0m\u001b[1;33m\u001b[0m\u001b[0m\n",
      "\u001b[1;31mKeyError\u001b[0m: '1'"
     ]
    }
   ],
   "source": [
    "df_bpiye = build_features.add_bid_offer_spread(df_bpiy)\n",
    "\n"
   ]
  },
  {
   "cell_type": "code",
   "execution_count": 440,
   "metadata": {},
   "outputs": [
    {
     "data": {
      "text/plain": [
       "Index(['reference_identifier', 'ccy', 'rate_dt', 'mid', 'country', 'issue_dt',\n",
       "       'first_coupon_date', 'mature_dt', 'isin', 'issuer_name', 'coupon_frq',\n",
       "       'coupon', 'tot_issue', 'cfi_code', 'issue_rating', 'bond_duration',\n",
       "       'inflation_1', 'inflation_2', 'inflation_3', 'inflation_4',\n",
       "       'inflation_5', 'inflation_6', 'inflation_7', 'inflation_8',\n",
       "       'inflation_9', 'inflation_10', 'inflation_15', 'inflation_20',\n",
       "       'inflation_25', 'inflation_30', 'yield_bid1', 'yield_offer1',\n",
       "       'yield_bid2', 'yield_offer2', 'yield_bid3', 'yield_offer3',\n",
       "       'yield_bid4', 'yield_offer4', 'yield_bid5', 'yield_offer5',\n",
       "       'yield_bid6', 'yield_offer6', 'yield_bid7', 'yield_offer7',\n",
       "       'yield_bid8', 'yield_offer8', 'yield_bid9', 'yield_offer9',\n",
       "       'yield_bid10', 'yield_offer10', 'yield_bid15', 'yield_offer15',\n",
       "       'yield_bid20', 'yield_offer20', 'yield_bid30', 'yield_offer30',\n",
       "       'remain_duration'],\n",
       "      dtype='object')"
      ]
     },
     "execution_count": 440,
     "metadata": {},
     "output_type": "execute_result"
    }
   ],
   "source": [
    "df_bpiy.columns"
   ]
  },
  {
   "cell_type": "code",
   "execution_count": 441,
   "metadata": {},
   "outputs": [],
   "source": [
    "df_bidofferspread = build_features.add_bidoffer_spread(df_bpiy)"
   ]
  },
  {
   "cell_type": "code",
   "execution_count": 447,
   "metadata": {},
   "outputs": [],
   "source": [
    "df_bpiye = pd.concat([df_bpiy, df_bidofferspread], axis=1)"
   ]
  },
  {
   "cell_type": "code",
   "execution_count": 448,
   "metadata": {},
   "outputs": [
    {
     "data": {
      "text/plain": [
       "67636"
      ]
     },
     "execution_count": 448,
     "metadata": {},
     "output_type": "execute_result"
    }
   ],
   "source": [
    "len(df_bidofferspread)"
   ]
  },
  {
   "cell_type": "code",
   "execution_count": 450,
   "metadata": {},
   "outputs": [
    {
     "data": {
      "text/html": [
       "<div>\n",
       "<style scoped>\n",
       "    .dataframe tbody tr th:only-of-type {\n",
       "        vertical-align: middle;\n",
       "    }\n",
       "\n",
       "    .dataframe tbody tr th {\n",
       "        vertical-align: top;\n",
       "    }\n",
       "\n",
       "    .dataframe thead th {\n",
       "        text-align: right;\n",
       "    }\n",
       "</style>\n",
       "<table border=\"1\" class=\"dataframe\">\n",
       "  <thead>\n",
       "    <tr style=\"text-align: right;\">\n",
       "      <th></th>\n",
       "      <th>reference_identifier</th>\n",
       "      <th>ccy</th>\n",
       "      <th>rate_dt</th>\n",
       "      <th>mid</th>\n",
       "      <th>country</th>\n",
       "      <th>issue_dt</th>\n",
       "      <th>first_coupon_date</th>\n",
       "      <th>mature_dt</th>\n",
       "      <th>isin</th>\n",
       "      <th>issuer_name</th>\n",
       "      <th>...</th>\n",
       "      <th>yield_offer9</th>\n",
       "      <th>yield_bid10</th>\n",
       "      <th>yield_offer10</th>\n",
       "      <th>yield_bid15</th>\n",
       "      <th>yield_offer15</th>\n",
       "      <th>yield_bid20</th>\n",
       "      <th>yield_offer20</th>\n",
       "      <th>yield_bid30</th>\n",
       "      <th>yield_offer30</th>\n",
       "      <th>remain_duration</th>\n",
       "    </tr>\n",
       "  </thead>\n",
       "  <tbody>\n",
       "    <tr>\n",
       "      <th>5498</th>\n",
       "      <td>DE0001102358</td>\n",
       "      <td>EUR</td>\n",
       "      <td>2016-06-01</td>\n",
       "      <td>112.894</td>\n",
       "      <td>Germany</td>\n",
       "      <td>2014-05-23</td>\n",
       "      <td>2015-05-15</td>\n",
       "      <td>2024-05-15</td>\n",
       "      <td>DE0001102358</td>\n",
       "      <td>Bondsrep ber</td>\n",
       "      <td>...</td>\n",
       "      <td>0.06</td>\n",
       "      <td>0.131</td>\n",
       "      <td>0.134</td>\n",
       "      <td>0.131</td>\n",
       "      <td>0.134</td>\n",
       "      <td>0.6485</td>\n",
       "      <td>0.656</td>\n",
       "      <td>0.8331</td>\n",
       "      <td>0.84</td>\n",
       "      <td>2905 days</td>\n",
       "    </tr>\n",
       "    <tr>\n",
       "      <th>22988</th>\n",
       "      <td>DE0001102374</td>\n",
       "      <td>EUR</td>\n",
       "      <td>2016-06-01</td>\n",
       "      <td>104.438</td>\n",
       "      <td>Germany</td>\n",
       "      <td>2015-01-16</td>\n",
       "      <td>2016-02-15</td>\n",
       "      <td>2025-02-15</td>\n",
       "      <td>DE0001102374</td>\n",
       "      <td>Bondsrep ber</td>\n",
       "      <td>...</td>\n",
       "      <td>0.06</td>\n",
       "      <td>0.131</td>\n",
       "      <td>0.134</td>\n",
       "      <td>0.131</td>\n",
       "      <td>0.134</td>\n",
       "      <td>0.6485</td>\n",
       "      <td>0.656</td>\n",
       "      <td>0.8331</td>\n",
       "      <td>0.84</td>\n",
       "      <td>3181 days</td>\n",
       "    </tr>\n",
       "    <tr>\n",
       "      <th>35196</th>\n",
       "      <td>DE0001141729</td>\n",
       "      <td>EUR</td>\n",
       "      <td>2016-06-01</td>\n",
       "      <td>103.045</td>\n",
       "      <td>Germany</td>\n",
       "      <td>2015-07-03</td>\n",
       "      <td>2016-10-16</td>\n",
       "      <td>2020-10-16</td>\n",
       "      <td>DE0001141729</td>\n",
       "      <td>Bondsrep ber</td>\n",
       "      <td>...</td>\n",
       "      <td>0.06</td>\n",
       "      <td>0.131</td>\n",
       "      <td>0.134</td>\n",
       "      <td>0.131</td>\n",
       "      <td>0.134</td>\n",
       "      <td>0.6485</td>\n",
       "      <td>0.656</td>\n",
       "      <td>0.8331</td>\n",
       "      <td>0.84</td>\n",
       "      <td>1598 days</td>\n",
       "    </tr>\n",
       "    <tr>\n",
       "      <th>35198</th>\n",
       "      <td>DE0001102382</td>\n",
       "      <td>EUR</td>\n",
       "      <td>2016-06-01</td>\n",
       "      <td>108.599</td>\n",
       "      <td>Germany</td>\n",
       "      <td>2015-07-17</td>\n",
       "      <td>2016-08-15</td>\n",
       "      <td>2025-08-15</td>\n",
       "      <td>DE0001102382</td>\n",
       "      <td>Bondsrep ber</td>\n",
       "      <td>...</td>\n",
       "      <td>0.06</td>\n",
       "      <td>0.131</td>\n",
       "      <td>0.134</td>\n",
       "      <td>0.131</td>\n",
       "      <td>0.134</td>\n",
       "      <td>0.6485</td>\n",
       "      <td>0.656</td>\n",
       "      <td>0.8331</td>\n",
       "      <td>0.84</td>\n",
       "      <td>3362 days</td>\n",
       "    </tr>\n",
       "    <tr>\n",
       "      <th>35200</th>\n",
       "      <td>DE0001102390</td>\n",
       "      <td>EUR</td>\n",
       "      <td>2016-06-01</td>\n",
       "      <td>103.510</td>\n",
       "      <td>Germany</td>\n",
       "      <td>2016-01-15</td>\n",
       "      <td>2017-02-15</td>\n",
       "      <td>2026-02-15</td>\n",
       "      <td>DE0001102390</td>\n",
       "      <td>Bondsrep ber</td>\n",
       "      <td>...</td>\n",
       "      <td>0.06</td>\n",
       "      <td>0.131</td>\n",
       "      <td>0.134</td>\n",
       "      <td>0.131</td>\n",
       "      <td>0.134</td>\n",
       "      <td>0.6485</td>\n",
       "      <td>0.656</td>\n",
       "      <td>0.8331</td>\n",
       "      <td>0.84</td>\n",
       "      <td>3546 days</td>\n",
       "    </tr>\n",
       "  </tbody>\n",
       "</table>\n",
       "<p>5 rows × 114 columns</p>\n",
       "</div>"
      ],
      "text/plain": [
       "      reference_identifier  ccy    rate_dt      mid  country   issue_dt  \\\n",
       "5498          DE0001102358  EUR 2016-06-01  112.894  Germany 2014-05-23   \n",
       "22988         DE0001102374  EUR 2016-06-01  104.438  Germany 2015-01-16   \n",
       "35196         DE0001141729  EUR 2016-06-01  103.045  Germany 2015-07-03   \n",
       "35198         DE0001102382  EUR 2016-06-01  108.599  Germany 2015-07-17   \n",
       "35200         DE0001102390  EUR 2016-06-01  103.510  Germany 2016-01-15   \n",
       "\n",
       "      first_coupon_date  mature_dt          isin   issuer_name  ...  \\\n",
       "5498         2015-05-15 2024-05-15  DE0001102358  Bondsrep ber  ...   \n",
       "22988        2016-02-15 2025-02-15  DE0001102374  Bondsrep ber  ...   \n",
       "35196        2016-10-16 2020-10-16  DE0001141729  Bondsrep ber  ...   \n",
       "35198        2016-08-15 2025-08-15  DE0001102382  Bondsrep ber  ...   \n",
       "35200        2017-02-15 2026-02-15  DE0001102390  Bondsrep ber  ...   \n",
       "\n",
       "      yield_offer9  yield_bid10  yield_offer10 yield_bid15 yield_offer15  \\\n",
       "5498          0.06        0.131          0.134       0.131         0.134   \n",
       "22988         0.06        0.131          0.134       0.131         0.134   \n",
       "35196         0.06        0.131          0.134       0.131         0.134   \n",
       "35198         0.06        0.131          0.134       0.131         0.134   \n",
       "35200         0.06        0.131          0.134       0.131         0.134   \n",
       "\n",
       "      yield_bid20  yield_offer20  yield_bid30  yield_offer30  remain_duration  \n",
       "5498       0.6485          0.656       0.8331           0.84        2905 days  \n",
       "22988      0.6485          0.656       0.8331           0.84        3181 days  \n",
       "35196      0.6485          0.656       0.8331           0.84        1598 days  \n",
       "35198      0.6485          0.656       0.8331           0.84        3362 days  \n",
       "35200      0.6485          0.656       0.8331           0.84        3546 days  \n",
       "\n",
       "[5 rows x 114 columns]"
      ]
     },
     "execution_count": 450,
     "metadata": {},
     "output_type": "execute_result"
    }
   ],
   "source": [
    "df_bpiye.head()"
   ]
  },
  {
   "cell_type": "code",
   "execution_count": 437,
   "metadata": {},
   "outputs": [
    {
     "data": {
      "text/html": [
       "<div>\n",
       "<style scoped>\n",
       "    .dataframe tbody tr th:only-of-type {\n",
       "        vertical-align: middle;\n",
       "    }\n",
       "\n",
       "    .dataframe tbody tr th {\n",
       "        vertical-align: top;\n",
       "    }\n",
       "\n",
       "    .dataframe thead th {\n",
       "        text-align: right;\n",
       "    }\n",
       "</style>\n",
       "<table border=\"1\" class=\"dataframe\">\n",
       "  <thead>\n",
       "    <tr style=\"text-align: right;\">\n",
       "      <th></th>\n",
       "      <th>yield_spread_1</th>\n",
       "      <th>yield_spread_2</th>\n",
       "      <th>yield_spread_3</th>\n",
       "      <th>yield_spread_4</th>\n",
       "      <th>yield_spread_5</th>\n",
       "      <th>yield_spread_6</th>\n",
       "      <th>yield_spread_7</th>\n",
       "      <th>yield_spread_8</th>\n",
       "      <th>yield_spread_9</th>\n",
       "      <th>yield_spread_10</th>\n",
       "      <th>yield_spread_15</th>\n",
       "      <th>yield_spread_20</th>\n",
       "      <th>yield_spread_30</th>\n",
       "    </tr>\n",
       "  </thead>\n",
       "  <tbody>\n",
       "    <tr>\n",
       "      <th>0</th>\n",
       "      <td>-1.098</td>\n",
       "      <td>-1.039</td>\n",
       "      <td>-1.0153</td>\n",
       "      <td>-0.937</td>\n",
       "      <td>-0.769</td>\n",
       "      <td>-0.5971</td>\n",
       "      <td>-0.4558</td>\n",
       "      <td>-0.2356</td>\n",
       "      <td>0.1171</td>\n",
       "      <td>0.265</td>\n",
       "      <td>0.265</td>\n",
       "      <td>1.3045</td>\n",
       "      <td>1.6731</td>\n",
       "    </tr>\n",
       "    <tr>\n",
       "      <th>1</th>\n",
       "      <td>-1.098</td>\n",
       "      <td>-1.039</td>\n",
       "      <td>-1.0153</td>\n",
       "      <td>-0.937</td>\n",
       "      <td>-0.769</td>\n",
       "      <td>-0.5971</td>\n",
       "      <td>-0.4558</td>\n",
       "      <td>-0.2356</td>\n",
       "      <td>0.1171</td>\n",
       "      <td>0.265</td>\n",
       "      <td>0.265</td>\n",
       "      <td>1.3045</td>\n",
       "      <td>1.6731</td>\n",
       "    </tr>\n",
       "    <tr>\n",
       "      <th>2</th>\n",
       "      <td>-1.098</td>\n",
       "      <td>-1.039</td>\n",
       "      <td>-1.0153</td>\n",
       "      <td>-0.937</td>\n",
       "      <td>-0.769</td>\n",
       "      <td>-0.5971</td>\n",
       "      <td>-0.4558</td>\n",
       "      <td>-0.2356</td>\n",
       "      <td>0.1171</td>\n",
       "      <td>0.265</td>\n",
       "      <td>0.265</td>\n",
       "      <td>1.3045</td>\n",
       "      <td>1.6731</td>\n",
       "    </tr>\n",
       "    <tr>\n",
       "      <th>3</th>\n",
       "      <td>-1.098</td>\n",
       "      <td>-1.039</td>\n",
       "      <td>-1.0153</td>\n",
       "      <td>-0.937</td>\n",
       "      <td>-0.769</td>\n",
       "      <td>-0.5971</td>\n",
       "      <td>-0.4558</td>\n",
       "      <td>-0.2356</td>\n",
       "      <td>0.1171</td>\n",
       "      <td>0.265</td>\n",
       "      <td>0.265</td>\n",
       "      <td>1.3045</td>\n",
       "      <td>1.6731</td>\n",
       "    </tr>\n",
       "    <tr>\n",
       "      <th>4</th>\n",
       "      <td>-1.098</td>\n",
       "      <td>-1.039</td>\n",
       "      <td>-1.0153</td>\n",
       "      <td>-0.937</td>\n",
       "      <td>-0.769</td>\n",
       "      <td>-0.5971</td>\n",
       "      <td>-0.4558</td>\n",
       "      <td>-0.2356</td>\n",
       "      <td>0.1171</td>\n",
       "      <td>0.265</td>\n",
       "      <td>0.265</td>\n",
       "      <td>1.3045</td>\n",
       "      <td>1.6731</td>\n",
       "    </tr>\n",
       "    <tr>\n",
       "      <th>...</th>\n",
       "      <td>...</td>\n",
       "      <td>...</td>\n",
       "      <td>...</td>\n",
       "      <td>...</td>\n",
       "      <td>...</td>\n",
       "      <td>...</td>\n",
       "      <td>...</td>\n",
       "      <td>...</td>\n",
       "      <td>...</td>\n",
       "      <td>...</td>\n",
       "      <td>...</td>\n",
       "      <td>...</td>\n",
       "      <td>...</td>\n",
       "    </tr>\n",
       "    <tr>\n",
       "      <th>67631</th>\n",
       "      <td>-0.945</td>\n",
       "      <td>-0.885</td>\n",
       "      <td>-0.7890</td>\n",
       "      <td>-0.561</td>\n",
       "      <td>-0.259</td>\n",
       "      <td>-0.1040</td>\n",
       "      <td>0.1070</td>\n",
       "      <td>0.3100</td>\n",
       "      <td>0.5090</td>\n",
       "      <td>0.781</td>\n",
       "      <td>1.597</td>\n",
       "      <td>1.6250</td>\n",
       "      <td>2.5480</td>\n",
       "    </tr>\n",
       "    <tr>\n",
       "      <th>67632</th>\n",
       "      <td>-0.945</td>\n",
       "      <td>-0.885</td>\n",
       "      <td>-0.7890</td>\n",
       "      <td>-0.561</td>\n",
       "      <td>-0.259</td>\n",
       "      <td>-0.1040</td>\n",
       "      <td>0.1070</td>\n",
       "      <td>0.3100</td>\n",
       "      <td>0.5090</td>\n",
       "      <td>0.781</td>\n",
       "      <td>1.597</td>\n",
       "      <td>1.6250</td>\n",
       "      <td>2.5480</td>\n",
       "    </tr>\n",
       "    <tr>\n",
       "      <th>67633</th>\n",
       "      <td>-0.930</td>\n",
       "      <td>-0.896</td>\n",
       "      <td>-0.7810</td>\n",
       "      <td>-0.549</td>\n",
       "      <td>-0.228</td>\n",
       "      <td>-0.0600</td>\n",
       "      <td>0.1450</td>\n",
       "      <td>0.3380</td>\n",
       "      <td>0.5390</td>\n",
       "      <td>0.815</td>\n",
       "      <td>1.637</td>\n",
       "      <td>1.6640</td>\n",
       "      <td>2.5980</td>\n",
       "    </tr>\n",
       "    <tr>\n",
       "      <th>67634</th>\n",
       "      <td>-0.930</td>\n",
       "      <td>-0.896</td>\n",
       "      <td>-0.7810</td>\n",
       "      <td>-0.549</td>\n",
       "      <td>-0.228</td>\n",
       "      <td>-0.0600</td>\n",
       "      <td>0.1450</td>\n",
       "      <td>0.3380</td>\n",
       "      <td>0.5390</td>\n",
       "      <td>0.815</td>\n",
       "      <td>1.637</td>\n",
       "      <td>1.6640</td>\n",
       "      <td>2.5980</td>\n",
       "    </tr>\n",
       "    <tr>\n",
       "      <th>67635</th>\n",
       "      <td>-0.930</td>\n",
       "      <td>-0.896</td>\n",
       "      <td>-0.7810</td>\n",
       "      <td>-0.549</td>\n",
       "      <td>-0.228</td>\n",
       "      <td>-0.0600</td>\n",
       "      <td>0.1450</td>\n",
       "      <td>0.3380</td>\n",
       "      <td>0.5390</td>\n",
       "      <td>0.815</td>\n",
       "      <td>1.637</td>\n",
       "      <td>1.6640</td>\n",
       "      <td>2.5980</td>\n",
       "    </tr>\n",
       "  </tbody>\n",
       "</table>\n",
       "<p>67636 rows × 13 columns</p>\n",
       "</div>"
      ],
      "text/plain": [
       "       yield_spread_1  yield_spread_2  yield_spread_3  yield_spread_4  \\\n",
       "0              -1.098          -1.039         -1.0153          -0.937   \n",
       "1              -1.098          -1.039         -1.0153          -0.937   \n",
       "2              -1.098          -1.039         -1.0153          -0.937   \n",
       "3              -1.098          -1.039         -1.0153          -0.937   \n",
       "4              -1.098          -1.039         -1.0153          -0.937   \n",
       "...               ...             ...             ...             ...   \n",
       "67631          -0.945          -0.885         -0.7890          -0.561   \n",
       "67632          -0.945          -0.885         -0.7890          -0.561   \n",
       "67633          -0.930          -0.896         -0.7810          -0.549   \n",
       "67634          -0.930          -0.896         -0.7810          -0.549   \n",
       "67635          -0.930          -0.896         -0.7810          -0.549   \n",
       "\n",
       "       yield_spread_5  yield_spread_6  yield_spread_7  yield_spread_8  \\\n",
       "0              -0.769         -0.5971         -0.4558         -0.2356   \n",
       "1              -0.769         -0.5971         -0.4558         -0.2356   \n",
       "2              -0.769         -0.5971         -0.4558         -0.2356   \n",
       "3              -0.769         -0.5971         -0.4558         -0.2356   \n",
       "4              -0.769         -0.5971         -0.4558         -0.2356   \n",
       "...               ...             ...             ...             ...   \n",
       "67631          -0.259         -0.1040          0.1070          0.3100   \n",
       "67632          -0.259         -0.1040          0.1070          0.3100   \n",
       "67633          -0.228         -0.0600          0.1450          0.3380   \n",
       "67634          -0.228         -0.0600          0.1450          0.3380   \n",
       "67635          -0.228         -0.0600          0.1450          0.3380   \n",
       "\n",
       "       yield_spread_9  yield_spread_10  yield_spread_15  yield_spread_20  \\\n",
       "0              0.1171            0.265            0.265           1.3045   \n",
       "1              0.1171            0.265            0.265           1.3045   \n",
       "2              0.1171            0.265            0.265           1.3045   \n",
       "3              0.1171            0.265            0.265           1.3045   \n",
       "4              0.1171            0.265            0.265           1.3045   \n",
       "...               ...              ...              ...              ...   \n",
       "67631          0.5090            0.781            1.597           1.6250   \n",
       "67632          0.5090            0.781            1.597           1.6250   \n",
       "67633          0.5390            0.815            1.637           1.6640   \n",
       "67634          0.5390            0.815            1.637           1.6640   \n",
       "67635          0.5390            0.815            1.637           1.6640   \n",
       "\n",
       "       yield_spread_30  \n",
       "0               1.6731  \n",
       "1               1.6731  \n",
       "2               1.6731  \n",
       "3               1.6731  \n",
       "4               1.6731  \n",
       "...                ...  \n",
       "67631           2.5480  \n",
       "67632           2.5480  \n",
       "67633           2.5980  \n",
       "67634           2.5980  \n",
       "67635           2.5980  \n",
       "\n",
       "[67636 rows x 13 columns]"
      ]
     },
     "execution_count": 437,
     "metadata": {},
     "output_type": "execute_result"
    }
   ],
   "source": [
    "df_spread"
   ]
  },
  {
   "cell_type": "code",
   "execution_count": 403,
   "metadata": {},
   "outputs": [
    {
     "data": {
      "text/plain": [
       "Index(['reference_identifier', 'ccy', 'rate_dt', 'mid', 'country', 'issue_dt',\n",
       "       'first_coupon_date', 'mature_dt', 'isin', 'issuer_name', 'coupon_frq',\n",
       "       'coupon', 'tot_issue', 'cfi_code', 'issue_rating', 'bond_duration',\n",
       "       'inflation_1', 'inflation_2', 'inflation_3', 'inflation_4',\n",
       "       'inflation_5', 'inflation_6', 'inflation_7', 'inflation_8',\n",
       "       'inflation_9', 'inflation_10', 'inflation_15', 'inflation_20',\n",
       "       'inflation_25', 'inflation_30', 'yield_bid1', 'yield_offer1',\n",
       "       'yield_bid2', 'yield_offer2', 'yield_bid3', 'yield_offer3',\n",
       "       'yield_bid4', 'yield_offer4', 'yield_bid5', 'yield_offer5',\n",
       "       'yield_bid6', 'yield_offer6', 'yield_bid7', 'yield_offer7',\n",
       "       'yield_bid8', 'yield_offer8', 'yield_bid9', 'yield_offer9',\n",
       "       'yield_bid10', 'yield_offer10', 'yield_bid15', 'yield_offer15',\n",
       "       'yield_bid20', 'yield_offer20', 'yield_bid30', 'yield_offer30',\n",
       "       'remain_duration', 'spread1', 'spread2', 'spread3', 'spread4',\n",
       "       'spread5', 'spread6', 'spread7', 'spread8', 'spread9', 'spread10',\n",
       "       'spread15', 'spread20', 'spread30'],\n",
       "      dtype='object')"
      ]
     },
     "execution_count": 403,
     "metadata": {},
     "output_type": "execute_result"
    }
   ],
   "source": [
    "df_bpiye.columns"
   ]
  },
  {
   "cell_type": "code",
   "execution_count": 380,
   "metadata": {},
   "outputs": [
    {
     "data": {
      "text/plain": [
       "Index(['reference_identifier', 'ccy', 'rate_dt', 'mid', 'country', 'issue_dt',\n",
       "       'first_coupon_date', 'mature_dt', 'isin', 'issuer_name', 'coupon_frq',\n",
       "       'coupon', 'tot_issue', 'cfi_code', 'issue_rating', 'bond_duration',\n",
       "       'inflation_1', 'inflation_2', 'inflation_3', 'inflation_4',\n",
       "       'inflation_5', 'inflation_6', 'inflation_7', 'inflation_8',\n",
       "       'inflation_9', 'inflation_10', 'inflation_15', 'inflation_20',\n",
       "       'inflation_25', 'inflation_30', 'yield_bid1', 'yield_offer1',\n",
       "       'yield_bid2', 'yield_offer2', 'yield_bid3', 'yield_offer3',\n",
       "       'yield_bid4', 'yield_offer4', 'yield_bid5', 'yield_offer5',\n",
       "       'yield_bid6', 'yield_offer6', 'yield_bid7', 'yield_offer7',\n",
       "       'yield_bid8', 'yield_offer8', 'yield_bid9', 'yield_offer9',\n",
       "       'yield_bid10', 'yield_offer10', 'yield_bid15', 'yield_offer15',\n",
       "       'yield_bid20', 'yield_offer20', 'yield_bid30', 'yield_offer30',\n",
       "       'remain_duration'],\n",
       "      dtype='object')"
      ]
     },
     "execution_count": 380,
     "metadata": {},
     "output_type": "execute_result"
    }
   ],
   "source": [
    "df_bpiy.columns"
   ]
  },
  {
   "cell_type": "code",
   "execution_count": 343,
   "metadata": {},
   "outputs": [
    {
     "data": {
      "text/plain": [
       "['Inflation_1 YEAR',\n",
       " 'Inflation_10 YEARS',\n",
       " 'Inflation_15 YEARS',\n",
       " 'Inflation_2 YEARS',\n",
       " 'Inflation_20 YEARS',\n",
       " 'Inflation_25 YEARS',\n",
       " 'Inflation_3 YEARS',\n",
       " 'Inflation_30 YEARS',\n",
       " 'Inflation_4 YEARS',\n",
       " 'Inflation_5 YEARS',\n",
       " 'Inflation_6 YEARS',\n",
       " 'Inflation_7 YEARS',\n",
       " 'Inflation_8 YEARS',\n",
       " 'Inflation_9 YEARS']"
      ]
     },
     "execution_count": 343,
     "metadata": {},
     "output_type": "execute_result"
    }
   ],
   "source": [
    "df_inflation_pivot = pd.pivot(df_inflation, index = ['country','rate_dt'], columns = ['timeband'], values = 'inflation')\n",
    "[''.join(('Inflation_',col)) for col in df_inflation_pivot.columns]"
   ]
  },
  {
   "cell_type": "code",
   "execution_count": 328,
   "metadata": {},
   "outputs": [],
   "source": [
    "df_bpy.to_csv(f'../data/processed/bpy.csv')\n",
    "df_bpi.to_csv(f'../data/processed/bpi.csv')\n",
    "df_bpiy.to_csv(f'../data/processed/bpiy.csv')\n"
   ]
  },
  {
   "cell_type": "code",
   "execution_count": null,
   "metadata": {},
   "outputs": [],
   "source": [
    "countrydict: dict = {'DE': 'Germany','FR': 'France','ES': 'Spain','IT': 'Italy','US': 'United States'}\n",
    "print(countrydict.values())\n",
    "print(df_bpi['country'].unique())\n",
    "df_bpi[df_bpi['country'].isin(countrydict.values())]['country'].unique()"
   ]
  },
  {
   "cell_type": "code",
   "execution_count": null,
   "metadata": {},
   "outputs": [],
   "source": [
    "df_inflation['country'].unique()"
   ]
  },
  {
   "cell_type": "code",
   "execution_count": null,
   "metadata": {},
   "outputs": [],
   "source": [
    "df = make_dataset.join_full(df_bonds,df_price,df_yield, df_inflation)\n",
    "\n"
   ]
  },
  {
   "cell_type": "code",
   "execution_count": null,
   "metadata": {},
   "outputs": [],
   "source": [
    "df.count()"
   ]
  },
  {
   "cell_type": "code",
   "execution_count": null,
   "metadata": {},
   "outputs": [],
   "source": [
    "df = df_price[df_price['reference_identifier'] == 'BE0000332412']"
   ]
  },
  {
   "cell_type": "code",
   "execution_count": null,
   "metadata": {},
   "outputs": [],
   "source": []
  },
  {
   "cell_type": "code",
   "execution_count": null,
   "metadata": {},
   "outputs": [],
   "source": [
    "df_inflation.describe()"
   ]
  },
  {
   "cell_type": "markdown",
   "metadata": {},
   "source": [
    "All in one make statement..."
   ]
  },
  {
   "cell_type": "code",
   "execution_count": null,
   "metadata": {},
   "outputs": [],
   "source": [
    "make_dataset.make_data()"
   ]
  }
 ],
 "metadata": {
  "interpreter": {
   "hash": "11ceafc7b78f5f3763c3d9a031e4cc9e8924ad6b8398b171c2d2e49c83b2b56a"
  },
  "kernelspec": {
   "display_name": "Python 3.8.10 64-bit ('timeseries-NkPdx04N-py3.8': venv)",
   "language": "python",
   "name": "python3"
  },
  "language_info": {
   "codemirror_mode": {
    "name": "ipython",
    "version": 3
   },
   "file_extension": ".py",
   "mimetype": "text/x-python",
   "name": "python",
   "nbconvert_exporter": "python",
   "pygments_lexer": "ipython3",
   "version": "3.8.10"
  },
  "orig_nbformat": 4
 },
 "nbformat": 4,
 "nbformat_minor": 2
}
