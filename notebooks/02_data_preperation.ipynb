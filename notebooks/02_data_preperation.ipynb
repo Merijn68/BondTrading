{
 "cells": [
  {
   "cell_type": "markdown",
   "metadata": {},
   "source": [
    "# Data voorbewerking"
   ]
  },
  {
   "cell_type": "markdown",
   "metadata": {},
   "source": [
    "De data voor dit project is afkomstig van het back office systeem van Financial Markets, deels aangevuld met extra data vanuit Bloomberg.\n",
    "De data bestaat uit de volgende elementen:\n",
    "\n",
    "- Bond data\n",
    "- Bondprijzen\n",
    "- Government Yield curves\n",
    "- Inflation data\n",
    "\n",
    "Alle data is extracted en opgeslagen in csv files. In dit workbook lopen we door de data voorbereiding heen. Alle hier genoemde stappen kunnen ook geautomatiseerd worden uitgevoerd door het shell command 'Make Data'."
   ]
  },
  {
   "cell_type": "code",
   "execution_count": 1,
   "metadata": {},
   "outputs": [],
   "source": [
    "%load_ext autoreload\n",
    "%autoreload 2\n",
    "\n",
    "import sys\n",
    "import pandas as pd\n",
    "\n",
    "sys.path.insert(0, \"..\") \n",
    "from src.data import make_dataset\n",
    "from src.features import build_features"
   ]
  },
  {
   "cell_type": "markdown",
   "metadata": {},
   "source": [
    "# Bond data"
   ]
  },
  {
   "cell_type": "code",
   "execution_count": 2,
   "metadata": {},
   "outputs": [
    {
     "name": "stderr",
     "output_type": "stream",
     "text": [
      "2022-01-10 19:33:48.584 | INFO     | src.data.make_dataset:get_bond_data:42 - Load bond data\n",
      "2022-01-10 19:33:48.586 | INFO     | src.data.make_dataset:read_csv:26 - Loading data from ..\\data\\raw\\bonds.csv\n"
     ]
    }
   ],
   "source": [
    "\n",
    "# Get bond data, drop unneeded columns, convert formats and strip training blanks\n",
    "df_bonds = make_dataset.get_bond_data()"
   ]
  },
  {
   "cell_type": "code",
   "execution_count": 3,
   "metadata": {},
   "outputs": [
    {
     "name": "stdout",
     "output_type": "stream",
     "text": [
      "<class 'pandas.core.frame.DataFrame'>\n",
      "RangeIndex: 230 entries, 0 to 229\n",
      "Data columns (total 12 columns):\n",
      " #   Column             Non-Null Count  Dtype         \n",
      "---  ------             --------------  -----         \n",
      " 0   ccy                230 non-null    string        \n",
      " 1   country            230 non-null    string        \n",
      " 2   issue_dt           230 non-null    datetime64[ns]\n",
      " 3   first_coupon_date  207 non-null    datetime64[ns]\n",
      " 4   mature_dt          230 non-null    datetime64[ns]\n",
      " 5   isin               230 non-null    string        \n",
      " 6   issuer_name        230 non-null    string        \n",
      " 7   coupon_frq         230 non-null    string        \n",
      " 8   coupon             230 non-null    float64       \n",
      " 9   tot_issue          230 non-null    float64       \n",
      " 10  cfi_code           223 non-null    string        \n",
      " 11  issue_rating       226 non-null    string        \n",
      "dtypes: datetime64[ns](3), float64(2), string(7)\n",
      "memory usage: 21.7 KB\n"
     ]
    }
   ],
   "source": [
    "df_bonds.info()"
   ]
  },
  {
   "cell_type": "code",
   "execution_count": 4,
   "metadata": {},
   "outputs": [
    {
     "data": {
      "text/html": [
       "<div>\n",
       "<style scoped>\n",
       "    .dataframe tbody tr th:only-of-type {\n",
       "        vertical-align: middle;\n",
       "    }\n",
       "\n",
       "    .dataframe tbody tr th {\n",
       "        vertical-align: top;\n",
       "    }\n",
       "\n",
       "    .dataframe thead th {\n",
       "        text-align: right;\n",
       "    }\n",
       "</style>\n",
       "<table border=\"1\" class=\"dataframe\">\n",
       "  <thead>\n",
       "    <tr style=\"text-align: right;\">\n",
       "      <th></th>\n",
       "      <th>ccy</th>\n",
       "      <th>country</th>\n",
       "      <th>issue_dt</th>\n",
       "      <th>first_coupon_date</th>\n",
       "      <th>mature_dt</th>\n",
       "      <th>isin</th>\n",
       "      <th>issuer_name</th>\n",
       "      <th>coupon_frq</th>\n",
       "      <th>coupon</th>\n",
       "      <th>tot_issue</th>\n",
       "      <th>cfi_code</th>\n",
       "      <th>issue_rating</th>\n",
       "    </tr>\n",
       "  </thead>\n",
       "  <tbody>\n",
       "    <tr>\n",
       "      <th>0</th>\n",
       "      <td>EUR</td>\n",
       "      <td>Netherlands</td>\n",
       "      <td>2009-02-13</td>\n",
       "      <td>2009-07-15</td>\n",
       "      <td>2019-07-15</td>\n",
       "      <td>NL0009086115</td>\n",
       "      <td>STAAT DER NEDERLANDEN</td>\n",
       "      <td>ANNUAL</td>\n",
       "      <td>4.000</td>\n",
       "      <td>5000.0</td>\n",
       "      <td>DBFTFN</td>\n",
       "      <td>AAA</td>\n",
       "    </tr>\n",
       "    <tr>\n",
       "      <th>1</th>\n",
       "      <td>NLG</td>\n",
       "      <td>Austria</td>\n",
       "      <td>1994-02-28</td>\n",
       "      <td>1995-02-28</td>\n",
       "      <td>2024-02-28</td>\n",
       "      <td>NL0000133924</td>\n",
       "      <td>AUSTRIA</td>\n",
       "      <td>ANNUAL</td>\n",
       "      <td>6.250</td>\n",
       "      <td>1000.0</td>\n",
       "      <td>DBFTXB</td>\n",
       "      <td>AA+</td>\n",
       "    </tr>\n",
       "    <tr>\n",
       "      <th>2</th>\n",
       "      <td>EUR</td>\n",
       "      <td>Netherlands</td>\n",
       "      <td>2012-03-09</td>\n",
       "      <td>2013-01-15</td>\n",
       "      <td>2033-01-15</td>\n",
       "      <td>NL0010071189</td>\n",
       "      <td>STAAT DER NEDERLANDEN</td>\n",
       "      <td>ANNUAL</td>\n",
       "      <td>2.500</td>\n",
       "      <td>4160.0</td>\n",
       "      <td>DBFXXN</td>\n",
       "      <td>AAA</td>\n",
       "    </tr>\n",
       "    <tr>\n",
       "      <th>3</th>\n",
       "      <td>USD</td>\n",
       "      <td>United States</td>\n",
       "      <td>2009-05-15</td>\n",
       "      <td>2009-11-15</td>\n",
       "      <td>2019-05-15</td>\n",
       "      <td>US912828KQ20</td>\n",
       "      <td>UNITED STATES TREASURY</td>\n",
       "      <td>SEMI ANNUAL</td>\n",
       "      <td>3.125</td>\n",
       "      <td>64411.0</td>\n",
       "      <td>&lt;NA&gt;</td>\n",
       "      <td>&lt;NA&gt;</td>\n",
       "    </tr>\n",
       "    <tr>\n",
       "      <th>4</th>\n",
       "      <td>USD</td>\n",
       "      <td>United States</td>\n",
       "      <td>2010-02-15</td>\n",
       "      <td>2010-08-15</td>\n",
       "      <td>2020-02-15</td>\n",
       "      <td>US912828MP29</td>\n",
       "      <td>UNITED STATES TREASURY</td>\n",
       "      <td>SEMI ANNUAL</td>\n",
       "      <td>3.625</td>\n",
       "      <td>0.0</td>\n",
       "      <td>&lt;NA&gt;</td>\n",
       "      <td>&lt;NA&gt;</td>\n",
       "    </tr>\n",
       "  </tbody>\n",
       "</table>\n",
       "</div>"
      ],
      "text/plain": [
       "   ccy        country   issue_dt first_coupon_date  mature_dt          isin  \\\n",
       "0  EUR    Netherlands 2009-02-13        2009-07-15 2019-07-15  NL0009086115   \n",
       "1  NLG        Austria 1994-02-28        1995-02-28 2024-02-28  NL0000133924   \n",
       "2  EUR    Netherlands 2012-03-09        2013-01-15 2033-01-15  NL0010071189   \n",
       "3  USD  United States 2009-05-15        2009-11-15 2019-05-15  US912828KQ20   \n",
       "4  USD  United States 2010-02-15        2010-08-15 2020-02-15  US912828MP29   \n",
       "\n",
       "                           issuer_name   coupon_frq  coupon  tot_issue  \\\n",
       "0  STAAT DER NEDERLANDEN                     ANNUAL   4.000     5000.0   \n",
       "1  AUSTRIA                                   ANNUAL   6.250     1000.0   \n",
       "2  STAAT DER NEDERLANDEN                     ANNUAL   2.500     4160.0   \n",
       "3  UNITED STATES TREASURY               SEMI ANNUAL   3.125    64411.0   \n",
       "4  UNITED STATES TREASURY               SEMI ANNUAL   3.625        0.0   \n",
       "\n",
       "  cfi_code issue_rating  \n",
       "0   DBFTFN          AAA  \n",
       "1   DBFTXB          AA+  \n",
       "2   DBFXXN          AAA  \n",
       "3     <NA>         <NA>  \n",
       "4     <NA>         <NA>  "
      ]
     },
     "execution_count": 4,
     "metadata": {},
     "output_type": "execute_result"
    }
   ],
   "source": [
    "df_bonds.head()"
   ]
  },
  {
   "cell_type": "markdown",
   "metadata": {},
   "source": [
    "Imputeren ontbrekende waarden voor issue rating. \n",
    "Issue rating wordt waar deze ontbreekt ingevuld met de meest voorkomende issue rating voor de issuer.\n",
    "\n",
    "CFI code wordt waar deze ontbreekt ingevuld met code 'onbekend' = DXXXXX.\n",
    "\n",
    "Datums met de waarde 1899-12-30 zijn default waardes van het bronsysteem. Deze worden verwijderd.\n",
    "Daar waar de eerste coupon datum ontbreekt (o.a. zero coupon bonds) - wordt deze aangevuld met de issue datum.\n",
    "De reden hiervoor is dat we zo zonder veel moeite de looptijd van de bond kunnen berekenen."
   ]
  },
  {
   "cell_type": "code",
   "execution_count": 5,
   "metadata": {},
   "outputs": [
    {
     "name": "stderr",
     "output_type": "stream",
     "text": [
      "2022-01-10 19:34:00.912 | INFO     | src.data.make_dataset:impute_bonds:78 - Impute bond data\n"
     ]
    }
   ],
   "source": [
    "df_bonds = make_dataset.impute_bonds(df_bonds)"
   ]
  },
  {
   "cell_type": "code",
   "execution_count": 6,
   "metadata": {},
   "outputs": [
    {
     "name": "stderr",
     "output_type": "stream",
     "text": [
      "2022-01-10 19:34:02.626 | INFO     | src.data.make_dataset:save_pkl:359 - Save preprocessed bonds data\n"
     ]
    }
   ],
   "source": [
    "make_dataset.save_pkl('bonds', df_bonds)"
   ]
  },
  {
   "cell_type": "code",
   "execution_count": 7,
   "metadata": {},
   "outputs": [
    {
     "data": {
      "text/plain": [
       "ccy                  230\n",
       "country              230\n",
       "issue_dt             230\n",
       "first_coupon_date    230\n",
       "mature_dt            230\n",
       "isin                 230\n",
       "issuer_name          230\n",
       "coupon_frq           230\n",
       "coupon               230\n",
       "tot_issue            230\n",
       "cfi_code             230\n",
       "issue_rating         226\n",
       "bond_duration        230\n",
       "dtype: int64"
      ]
     },
     "execution_count": 7,
     "metadata": {},
     "output_type": "execute_result"
    }
   ],
   "source": [
    "df_bonds.count()"
   ]
  },
  {
   "cell_type": "markdown",
   "metadata": {},
   "source": [
    "# Bondprijzen"
   ]
  },
  {
   "cell_type": "code",
   "execution_count": 8,
   "metadata": {},
   "outputs": [
    {
     "name": "stderr",
     "output_type": "stream",
     "text": [
      "2022-01-10 19:34:09.664 | INFO     | src.data.make_dataset:get_price:112 - Load bond price data\n",
      "2022-01-10 19:34:09.665 | INFO     | src.data.make_dataset:read_csv:26 - Loading data from ..\\data\\raw\\price.csv\n"
     ]
    }
   ],
   "source": [
    "df_price = make_dataset.get_price()"
   ]
  },
  {
   "cell_type": "code",
   "execution_count": 9,
   "metadata": {},
   "outputs": [
    {
     "name": "stderr",
     "output_type": "stream",
     "text": [
      "2022-01-10 19:34:11.458 | INFO     | src.data.make_dataset:impute_price:142 - Impute bond price\n"
     ]
    }
   ],
   "source": [
    "df_price = make_dataset.impute_price(df_price)"
   ]
  },
  {
   "cell_type": "code",
   "execution_count": 10,
   "metadata": {},
   "outputs": [
    {
     "data": {
      "text/html": [
       "<div>\n",
       "<style scoped>\n",
       "    .dataframe tbody tr th:only-of-type {\n",
       "        vertical-align: middle;\n",
       "    }\n",
       "\n",
       "    .dataframe tbody tr th {\n",
       "        vertical-align: top;\n",
       "    }\n",
       "\n",
       "    .dataframe thead th {\n",
       "        text-align: right;\n",
       "    }\n",
       "</style>\n",
       "<table border=\"1\" class=\"dataframe\">\n",
       "  <thead>\n",
       "    <tr style=\"text-align: right;\">\n",
       "      <th></th>\n",
       "      <th>reference_identifier</th>\n",
       "      <th>ccy</th>\n",
       "      <th>rate_dt</th>\n",
       "      <th>mid</th>\n",
       "    </tr>\n",
       "  </thead>\n",
       "  <tbody>\n",
       "    <tr>\n",
       "      <th>0</th>\n",
       "      <td>DE0001135143</td>\n",
       "      <td>EUR</td>\n",
       "      <td>2010-12-17</td>\n",
       "      <td>136.760</td>\n",
       "    </tr>\n",
       "    <tr>\n",
       "      <th>1</th>\n",
       "      <td>NL0000102275</td>\n",
       "      <td>EUR</td>\n",
       "      <td>2010-12-17</td>\n",
       "      <td>103.390</td>\n",
       "    </tr>\n",
       "    <tr>\n",
       "      <th>2</th>\n",
       "      <td>DE0001135424</td>\n",
       "      <td>EUR</td>\n",
       "      <td>2010-12-17</td>\n",
       "      <td>95.453</td>\n",
       "    </tr>\n",
       "    <tr>\n",
       "      <th>3</th>\n",
       "      <td>NL0009446418</td>\n",
       "      <td>EUR</td>\n",
       "      <td>2010-12-17</td>\n",
       "      <td>102.690</td>\n",
       "    </tr>\n",
       "    <tr>\n",
       "      <th>4</th>\n",
       "      <td>NL0000102234</td>\n",
       "      <td>EUR</td>\n",
       "      <td>2010-12-17</td>\n",
       "      <td>106.220</td>\n",
       "    </tr>\n",
       "  </tbody>\n",
       "</table>\n",
       "</div>"
      ],
      "text/plain": [
       "  reference_identifier  ccy    rate_dt      mid\n",
       "0         DE0001135143  EUR 2010-12-17  136.760\n",
       "1         NL0000102275  EUR 2010-12-17  103.390\n",
       "2         DE0001135424  EUR 2010-12-17   95.453\n",
       "3         NL0009446418  EUR 2010-12-17  102.690\n",
       "4         NL0000102234  EUR 2010-12-17  106.220"
      ]
     },
     "execution_count": 10,
     "metadata": {},
     "output_type": "execute_result"
    }
   ],
   "source": [
    "df_price.head()"
   ]
  },
  {
   "cell_type": "code",
   "execution_count": 11,
   "metadata": {},
   "outputs": [
    {
     "data": {
      "text/html": [
       "<div>\n",
       "<style scoped>\n",
       "    .dataframe tbody tr th:only-of-type {\n",
       "        vertical-align: middle;\n",
       "    }\n",
       "\n",
       "    .dataframe tbody tr th {\n",
       "        vertical-align: top;\n",
       "    }\n",
       "\n",
       "    .dataframe thead th {\n",
       "        text-align: right;\n",
       "    }\n",
       "</style>\n",
       "<table border=\"1\" class=\"dataframe\">\n",
       "  <thead>\n",
       "    <tr style=\"text-align: right;\">\n",
       "      <th></th>\n",
       "      <th>mid</th>\n",
       "    </tr>\n",
       "  </thead>\n",
       "  <tbody>\n",
       "    <tr>\n",
       "      <th>count</th>\n",
       "      <td>224586.000000</td>\n",
       "    </tr>\n",
       "    <tr>\n",
       "      <th>mean</th>\n",
       "      <td>110.794414</td>\n",
       "    </tr>\n",
       "    <tr>\n",
       "      <th>std</th>\n",
       "      <td>15.311800</td>\n",
       "    </tr>\n",
       "    <tr>\n",
       "      <th>min</th>\n",
       "      <td>84.429000</td>\n",
       "    </tr>\n",
       "    <tr>\n",
       "      <th>25%</th>\n",
       "      <td>102.136000</td>\n",
       "    </tr>\n",
       "    <tr>\n",
       "      <th>50%</th>\n",
       "      <td>106.272000</td>\n",
       "    </tr>\n",
       "    <tr>\n",
       "      <th>75%</th>\n",
       "      <td>112.214000</td>\n",
       "    </tr>\n",
       "    <tr>\n",
       "      <th>max</th>\n",
       "      <td>195.749000</td>\n",
       "    </tr>\n",
       "  </tbody>\n",
       "</table>\n",
       "</div>"
      ],
      "text/plain": [
       "                 mid\n",
       "count  224586.000000\n",
       "mean      110.794414\n",
       "std        15.311800\n",
       "min        84.429000\n",
       "25%       102.136000\n",
       "50%       106.272000\n",
       "75%       112.214000\n",
       "max       195.749000"
      ]
     },
     "execution_count": 11,
     "metadata": {},
     "output_type": "execute_result"
    }
   ],
   "source": [
    "df_price.describe()"
   ]
  },
  {
   "cell_type": "code",
   "execution_count": 12,
   "metadata": {},
   "outputs": [
    {
     "name": "stdout",
     "output_type": "stream",
     "text": [
      "<class 'pandas.core.frame.DataFrame'>\n",
      "Int64Index: 224586 entries, 0 to 235985\n",
      "Data columns (total 4 columns):\n",
      " #   Column                Non-Null Count   Dtype         \n",
      "---  ------                --------------   -----         \n",
      " 0   reference_identifier  224586 non-null  string        \n",
      " 1   ccy                   224586 non-null  string        \n",
      " 2   rate_dt               224586 non-null  datetime64[ns]\n",
      " 3   mid                   224586 non-null  float64       \n",
      "dtypes: datetime64[ns](1), float64(1), string(2)\n",
      "memory usage: 8.6 MB\n"
     ]
    }
   ],
   "source": [
    "df_price.info()"
   ]
  },
  {
   "cell_type": "code",
   "execution_count": 13,
   "metadata": {},
   "outputs": [
    {
     "name": "stderr",
     "output_type": "stream",
     "text": [
      "2022-01-10 19:34:28.522 | INFO     | src.data.make_dataset:save_pkl:359 - Save preprocessed price data\n"
     ]
    }
   ],
   "source": [
    "make_dataset.save_pkl('price', df_price)"
   ]
  },
  {
   "cell_type": "markdown",
   "metadata": {},
   "source": [
    "# Government Yield curves"
   ]
  },
  {
   "cell_type": "code",
   "execution_count": 14,
   "metadata": {},
   "outputs": [
    {
     "name": "stderr",
     "output_type": "stream",
     "text": [
      "2022-01-10 19:34:36.514 | INFO     | src.data.make_dataset:get_yield:150 - Load goverment yield curve data\n",
      "2022-01-10 19:34:36.515 | INFO     | src.data.make_dataset:read_csv:26 - Loading data from ..\\data\\raw\\yield.csv\n"
     ]
    }
   ],
   "source": [
    "df_yield = make_dataset.get_yield()"
   ]
  },
  {
   "cell_type": "code",
   "execution_count": 15,
   "metadata": {},
   "outputs": [
    {
     "name": "stderr",
     "output_type": "stream",
     "text": [
      "2022-01-10 19:34:37.971 | INFO     | src.data.make_dataset:impute_yield:181 - Impute yield curve\n"
     ]
    }
   ],
   "source": [
    "df_yield = make_dataset.impute_yield(df_yield)"
   ]
  },
  {
   "cell_type": "code",
   "execution_count": 16,
   "metadata": {},
   "outputs": [
    {
     "data": {
      "text/html": [
       "<div>\n",
       "<style scoped>\n",
       "    .dataframe tbody tr th:only-of-type {\n",
       "        vertical-align: middle;\n",
       "    }\n",
       "\n",
       "    .dataframe tbody tr th {\n",
       "        vertical-align: top;\n",
       "    }\n",
       "\n",
       "    .dataframe thead th {\n",
       "        text-align: right;\n",
       "    }\n",
       "</style>\n",
       "<table border=\"1\" class=\"dataframe\">\n",
       "  <thead>\n",
       "    <tr style=\"text-align: right;\">\n",
       "      <th></th>\n",
       "      <th>country</th>\n",
       "      <th>rate_dt</th>\n",
       "      <th>timeband</th>\n",
       "      <th>ratename</th>\n",
       "      <th>ccy</th>\n",
       "      <th>actual_dt</th>\n",
       "      <th>datedays</th>\n",
       "      <th>bid</th>\n",
       "      <th>offer</th>\n",
       "      <th>int_basis</th>\n",
       "      <th>time</th>\n",
       "    </tr>\n",
       "  </thead>\n",
       "  <tbody>\n",
       "    <tr>\n",
       "      <th>116809</th>\n",
       "      <td>Spain</td>\n",
       "      <td>2021-12-23</td>\n",
       "      <td>5 YEARS</td>\n",
       "      <td>GOV Yield Curve ES BB</td>\n",
       "      <td>EUR</td>\n",
       "      <td>2026-12-23</td>\n",
       "      <td>1831</td>\n",
       "      <td>-0.062</td>\n",
       "      <td>-0.081</td>\n",
       "      <td>ANNUAL</td>\n",
       "      <td>1826 days</td>\n",
       "    </tr>\n",
       "    <tr>\n",
       "      <th>116811</th>\n",
       "      <td>Spain</td>\n",
       "      <td>2021-12-23</td>\n",
       "      <td>6 YEARS</td>\n",
       "      <td>GOV Yield Curve ES BB</td>\n",
       "      <td>EUR</td>\n",
       "      <td>2027-12-23</td>\n",
       "      <td>2195</td>\n",
       "      <td>-0.015</td>\n",
       "      <td>-0.030</td>\n",
       "      <td>ANNUAL</td>\n",
       "      <td>2191 days</td>\n",
       "    </tr>\n",
       "    <tr>\n",
       "      <th>116812</th>\n",
       "      <td>Spain</td>\n",
       "      <td>2021-12-23</td>\n",
       "      <td>7 YEARS</td>\n",
       "      <td>GOV Yield Curve ES BB</td>\n",
       "      <td>EUR</td>\n",
       "      <td>2028-12-23</td>\n",
       "      <td>2561</td>\n",
       "      <td>0.071</td>\n",
       "      <td>0.057</td>\n",
       "      <td>ANNUAL</td>\n",
       "      <td>2557 days</td>\n",
       "    </tr>\n",
       "    <tr>\n",
       "      <th>116813</th>\n",
       "      <td>Spain</td>\n",
       "      <td>2021-12-23</td>\n",
       "      <td>8 YEARS</td>\n",
       "      <td>GOV Yield Curve ES BB</td>\n",
       "      <td>EUR</td>\n",
       "      <td>2029-12-23</td>\n",
       "      <td>2926</td>\n",
       "      <td>0.240</td>\n",
       "      <td>0.229</td>\n",
       "      <td>ANNUAL</td>\n",
       "      <td>2922 days</td>\n",
       "    </tr>\n",
       "    <tr>\n",
       "      <th>116815</th>\n",
       "      <td>Spain</td>\n",
       "      <td>2021-12-23</td>\n",
       "      <td>9 YEARS</td>\n",
       "      <td>GOV Yield Curve ES BB</td>\n",
       "      <td>EUR</td>\n",
       "      <td>2030-12-23</td>\n",
       "      <td>3291</td>\n",
       "      <td>0.367</td>\n",
       "      <td>0.357</td>\n",
       "      <td>ANNUAL</td>\n",
       "      <td>3287 days</td>\n",
       "    </tr>\n",
       "  </tbody>\n",
       "</table>\n",
       "</div>"
      ],
      "text/plain": [
       "       country    rate_dt timeband               ratename  ccy  actual_dt  \\\n",
       "116809   Spain 2021-12-23  5 YEARS  GOV Yield Curve ES BB  EUR 2026-12-23   \n",
       "116811   Spain 2021-12-23  6 YEARS  GOV Yield Curve ES BB  EUR 2027-12-23   \n",
       "116812   Spain 2021-12-23  7 YEARS  GOV Yield Curve ES BB  EUR 2028-12-23   \n",
       "116813   Spain 2021-12-23  8 YEARS  GOV Yield Curve ES BB  EUR 2029-12-23   \n",
       "116815   Spain 2021-12-23  9 YEARS  GOV Yield Curve ES BB  EUR 2030-12-23   \n",
       "\n",
       "        datedays    bid  offer     int_basis      time  \n",
       "116809      1831 -0.062 -0.081  ANNUAL       1826 days  \n",
       "116811      2195 -0.015 -0.030  ANNUAL       2191 days  \n",
       "116812      2561  0.071  0.057  ANNUAL       2557 days  \n",
       "116813      2926  0.240  0.229  ANNUAL       2922 days  \n",
       "116815      3291  0.367  0.357  ANNUAL       3287 days  "
      ]
     },
     "execution_count": 16,
     "metadata": {},
     "output_type": "execute_result"
    }
   ],
   "source": [
    "df_yield.tail()"
   ]
  },
  {
   "cell_type": "code",
   "execution_count": 17,
   "metadata": {},
   "outputs": [
    {
     "name": "stdout",
     "output_type": "stream",
     "text": [
      "<class 'pandas.core.frame.DataFrame'>\n",
      "Int64Index: 89750 entries, 1 to 116815\n",
      "Data columns (total 11 columns):\n",
      " #   Column     Non-Null Count  Dtype          \n",
      "---  ------     --------------  -----          \n",
      " 0   country    89750 non-null  object         \n",
      " 1   rate_dt    89750 non-null  datetime64[ns] \n",
      " 2   timeband   89750 non-null  object         \n",
      " 3   ratename   89750 non-null  string         \n",
      " 4   ccy        89750 non-null  string         \n",
      " 5   actual_dt  89750 non-null  datetime64[ns] \n",
      " 6   datedays   89750 non-null  int64          \n",
      " 7   bid        89750 non-null  float64        \n",
      " 8   offer      89750 non-null  float64        \n",
      " 9   int_basis  89750 non-null  string         \n",
      " 10  time       89750 non-null  timedelta64[ns]\n",
      "dtypes: datetime64[ns](2), float64(2), int64(1), object(2), string(3), timedelta64[ns](1)\n",
      "memory usage: 8.2+ MB\n"
     ]
    }
   ],
   "source": [
    "df_yield.info()"
   ]
  },
  {
   "cell_type": "code",
   "execution_count": 18,
   "metadata": {},
   "outputs": [
    {
     "name": "stderr",
     "output_type": "stream",
     "text": [
      "2022-01-10 19:34:43.363 | INFO     | src.data.make_dataset:save_pkl:359 - Save preprocessed yield data\n"
     ]
    }
   ],
   "source": [
    "make_dataset.save_pkl('yield', df_yield)"
   ]
  },
  {
   "cell_type": "markdown",
   "metadata": {},
   "source": [
    "# Inflation data\n"
   ]
  },
  {
   "cell_type": "code",
   "execution_count": 19,
   "metadata": {},
   "outputs": [
    {
     "name": "stderr",
     "output_type": "stream",
     "text": [
      "2022-01-10 19:34:48.850 | INFO     | src.data.make_dataset:get_inflation:201 - Load goverment yield curve data\n",
      "2022-01-10 19:34:48.852 | INFO     | src.data.make_dataset:read_csv:26 - Loading data from ..\\data\\raw\\DE Inflation.csv\n",
      "2022-01-10 19:34:48.868 | INFO     | src.data.make_dataset:read_csv:26 - Loading data from ..\\data\\raw\\FR Inflation.csv\n",
      "2022-01-10 19:34:48.886 | INFO     | src.data.make_dataset:read_csv:26 - Loading data from ..\\data\\raw\\ES Inflation.csv\n",
      "2022-01-10 19:34:48.905 | INFO     | src.data.make_dataset:read_csv:26 - Loading data from ..\\data\\raw\\IT Inflation.csv\n",
      "2022-01-10 19:34:48.926 | INFO     | src.data.make_dataset:read_csv:26 - Loading data from ..\\data\\raw\\US Inflation.csv\n"
     ]
    }
   ],
   "source": [
    "df_inflation = make_dataset.get_inflation()  "
   ]
  },
  {
   "cell_type": "code",
   "execution_count": 20,
   "metadata": {},
   "outputs": [
    {
     "name": "stderr",
     "output_type": "stream",
     "text": [
      "2022-01-10 19:35:33.596 | INFO     | src.data.make_dataset:impute_inflation:229 - Impute inflation curve\n"
     ]
    },
    {
     "name": "stdout",
     "output_type": "stream",
     "text": [
      "<class 'pandas.core.frame.DataFrame'>\n",
      "Int64Index: 215007 entries, 0 to 216873\n",
      "Data columns (total 7 columns):\n",
      " #   Column     Non-Null Count   Dtype          \n",
      "---  ------     --------------   -----          \n",
      " 0   country    215007 non-null  string         \n",
      " 1   rate_dt    215007 non-null  datetime64[ns] \n",
      " 2   timeband   215007 non-null  string         \n",
      " 3   inflation  215007 non-null  float64        \n",
      " 4   ratename   215007 non-null  string         \n",
      " 5   actual_dt  215007 non-null  datetime64[ns] \n",
      " 6   time       215007 non-null  timedelta64[ns]\n",
      "dtypes: datetime64[ns](2), float64(1), string(3), timedelta64[ns](1)\n",
      "memory usage: 13.1 MB\n"
     ]
    }
   ],
   "source": [
    "df_inflation = make_dataset.impute_inflation(df_inflation)\n",
    "\n",
    "\n",
    "df_inflation.info()"
   ]
  },
  {
   "cell_type": "code",
   "execution_count": 21,
   "metadata": {},
   "outputs": [
    {
     "data": {
      "text/html": [
       "<div>\n",
       "<style scoped>\n",
       "    .dataframe tbody tr th:only-of-type {\n",
       "        vertical-align: middle;\n",
       "    }\n",
       "\n",
       "    .dataframe tbody tr th {\n",
       "        vertical-align: top;\n",
       "    }\n",
       "\n",
       "    .dataframe thead th {\n",
       "        text-align: right;\n",
       "    }\n",
       "</style>\n",
       "<table border=\"1\" class=\"dataframe\">\n",
       "  <thead>\n",
       "    <tr style=\"text-align: right;\">\n",
       "      <th></th>\n",
       "      <th>country</th>\n",
       "      <th>rate_dt</th>\n",
       "      <th>timeband</th>\n",
       "      <th>inflation</th>\n",
       "      <th>ratename</th>\n",
       "      <th>actual_dt</th>\n",
       "      <th>time</th>\n",
       "    </tr>\n",
       "  </thead>\n",
       "  <tbody>\n",
       "    <tr>\n",
       "      <th>0</th>\n",
       "      <td>Germany</td>\n",
       "      <td>2021-12-23</td>\n",
       "      <td>1 YEAR</td>\n",
       "      <td>3.28625</td>\n",
       "      <td>Inflation</td>\n",
       "      <td>2022-12-23</td>\n",
       "      <td>365 days</td>\n",
       "    </tr>\n",
       "    <tr>\n",
       "      <th>1</th>\n",
       "      <td>Germany</td>\n",
       "      <td>2021-12-22</td>\n",
       "      <td>1 YEAR</td>\n",
       "      <td>3.33875</td>\n",
       "      <td>Inflation</td>\n",
       "      <td>2022-12-22</td>\n",
       "      <td>365 days</td>\n",
       "    </tr>\n",
       "    <tr>\n",
       "      <th>2</th>\n",
       "      <td>Germany</td>\n",
       "      <td>2021-12-21</td>\n",
       "      <td>1 YEAR</td>\n",
       "      <td>3.15625</td>\n",
       "      <td>Inflation</td>\n",
       "      <td>2022-12-21</td>\n",
       "      <td>365 days</td>\n",
       "    </tr>\n",
       "    <tr>\n",
       "      <th>3</th>\n",
       "      <td>Germany</td>\n",
       "      <td>2021-12-20</td>\n",
       "      <td>1 YEAR</td>\n",
       "      <td>3.01375</td>\n",
       "      <td>Inflation</td>\n",
       "      <td>2022-12-20</td>\n",
       "      <td>365 days</td>\n",
       "    </tr>\n",
       "    <tr>\n",
       "      <th>4</th>\n",
       "      <td>Germany</td>\n",
       "      <td>2021-12-17</td>\n",
       "      <td>1 YEAR</td>\n",
       "      <td>2.89875</td>\n",
       "      <td>Inflation</td>\n",
       "      <td>2022-12-17</td>\n",
       "      <td>365 days</td>\n",
       "    </tr>\n",
       "  </tbody>\n",
       "</table>\n",
       "</div>"
      ],
      "text/plain": [
       "   country    rate_dt timeband  inflation   ratename  actual_dt     time\n",
       "0  Germany 2021-12-23   1 YEAR    3.28625  Inflation 2022-12-23 365 days\n",
       "1  Germany 2021-12-22   1 YEAR    3.33875  Inflation 2022-12-22 365 days\n",
       "2  Germany 2021-12-21   1 YEAR    3.15625  Inflation 2022-12-21 365 days\n",
       "3  Germany 2021-12-20   1 YEAR    3.01375  Inflation 2022-12-20 365 days\n",
       "4  Germany 2021-12-17   1 YEAR    2.89875  Inflation 2022-12-17 365 days"
      ]
     },
     "execution_count": 21,
     "metadata": {},
     "output_type": "execute_result"
    }
   ],
   "source": [
    "df_inflation.head()"
   ]
  },
  {
   "cell_type": "code",
   "execution_count": 22,
   "metadata": {},
   "outputs": [
    {
     "name": "stderr",
     "output_type": "stream",
     "text": [
      "2022-01-10 19:35:40.553 | INFO     | src.data.make_dataset:save_pkl:359 - Save preprocessed inflation data\n"
     ]
    }
   ],
   "source": [
    "make_dataset.save_pkl('inflation', df_inflation)"
   ]
  },
  {
   "cell_type": "code",
   "execution_count": 23,
   "metadata": {},
   "outputs": [
    {
     "name": "stderr",
     "output_type": "stream",
     "text": [
      "2022-01-10 19:36:01.854 | INFO     | src.features.build_features:add_duration:13 - Add remaining duration...\n"
     ]
    }
   ],
   "source": [
    "df_bp = make_dataset.join_price(df_bonds,df_price )\n",
    "df_bp = build_features.add_duration(df_bp)"
   ]
  },
  {
   "cell_type": "markdown",
   "metadata": {},
   "source": [
    "Om de termspread toe te kunnen voegen moeten we de bond data joinen met de government yield. Hierdoor hebben we minder data beschikbaar.\n",
    "De vraag is of dit nodig is (of dat het model dit zelf uit kan vogelen)\n",
    "\n",
    "Hoe meer data we joinen - hoe meer data we kwijt raken. "
   ]
  },
  {
   "cell_type": "code",
   "execution_count": null,
   "metadata": {},
   "outputs": [],
   "source": [
    "df_bpy = make_dataset.join_yield(df_bp, df_yield)\n",
    "df_bpy = build_features.add_term_spread(df_bpy)\n",
    "df_bpy = build_features.add_bid_offer_spread(df_bpy)\n",
    "df_bpy.info()"
   ]
  },
  {
   "cell_type": "code",
   "execution_count": null,
   "metadata": {},
   "outputs": [],
   "source": [
    "df_tf = make_dataset.build_simple_input(df_bonds, df_price)\n"
   ]
  },
  {
   "cell_type": "markdown",
   "metadata": {},
   "source": [
    "All in one make statement..."
   ]
  },
  {
   "cell_type": "code",
   "execution_count": 34,
   "metadata": {},
   "outputs": [
    {
     "name": "stderr",
     "output_type": "stream",
     "text": [
      "2022-01-10 20:06:02.006 | INFO     | src.data.make_dataset:get_bond_data:42 - Load bond data\n",
      "2022-01-10 20:06:02.007 | INFO     | src.data.make_dataset:read_csv:27 - Loading data from ..\\data\\raw\\bonds.csv\n",
      "2022-01-10 20:06:02.031 | INFO     | src.data.make_dataset:impute_bonds:80 - Impute bond data\n",
      "2022-01-10 20:06:02.039 | INFO     | src.data.make_dataset:save_pkl:357 - Save preprocessed bonds data\n",
      "2022-01-10 20:06:02.062 | INFO     | src.data.make_dataset:get_price:114 - Load bond price data\n",
      "2022-01-10 20:06:02.063 | INFO     | src.data.make_dataset:read_csv:27 - Loading data from ..\\data\\raw\\price.csv\n",
      "2022-01-10 20:06:02.470 | INFO     | src.data.make_dataset:impute_price:138 - Impute bond price\n",
      "2022-01-10 20:06:02.492 | INFO     | src.data.make_dataset:save_pkl:357 - Save preprocessed price data\n",
      "2022-01-10 20:06:06.203 | INFO     | src.data.make_dataset:get_yield:151 - Load goverment yield curve data\n",
      "2022-01-10 20:06:06.203 | INFO     | src.data.make_dataset:read_csv:27 - Loading data from ..\\data\\raw\\yield.csv\n",
      "2022-01-10 20:06:07.163 | INFO     | src.data.make_dataset:impute_yield:179 - Impute yield curve\n",
      "2022-01-10 20:06:07.467 | INFO     | src.data.make_dataset:save_pkl:357 - Save preprocessed yield data\n",
      "2022-01-10 20:06:11.504 | INFO     | src.data.make_dataset:get_inflation:199 - Load goverment yield curve data\n",
      "2022-01-10 20:06:11.506 | INFO     | src.data.make_dataset:read_csv:27 - Loading data from ..\\data\\raw\\DE Inflation.csv\n",
      "2022-01-10 20:06:11.522 | INFO     | src.data.make_dataset:read_csv:27 - Loading data from ..\\data\\raw\\FR Inflation.csv\n",
      "2022-01-10 20:06:11.539 | INFO     | src.data.make_dataset:read_csv:27 - Loading data from ..\\data\\raw\\ES Inflation.csv\n",
      "2022-01-10 20:06:11.561 | INFO     | src.data.make_dataset:read_csv:27 - Loading data from ..\\data\\raw\\IT Inflation.csv\n",
      "2022-01-10 20:06:11.580 | INFO     | src.data.make_dataset:read_csv:27 - Loading data from ..\\data\\raw\\US Inflation.csv\n",
      "2022-01-10 20:06:28.360 | INFO     | src.data.make_dataset:impute_inflation:227 - Impute inflation curve\n",
      "2022-01-10 20:06:28.874 | INFO     | src.data.make_dataset:save_pkl:357 - Save preprocessed inflation data\n",
      "2022-01-10 20:06:40.566 | INFO     | src.data.make_dataset:save_pkl:357 - Save preprocessed bp data\n",
      "2022-01-10 20:06:57.748 | INFO     | src.features.build_features:add_duration:13 - Add remaining duration...\n",
      "2022-01-10 20:06:57.785 | INFO     | src.features.build_features:encode_coupon_freq:22 - Encode coupon frequency coupon_frq\n",
      "2022-01-10 20:06:57.803 | INFO     | src.features.build_features:encode_cfi:50 - Encode CFI Code column cfi_code\n",
      "2022-01-10 20:06:58.182 | INFO     | src.features.build_features:encode_onehot:35 - One Hot Encode column country\n",
      "2022-01-10 20:06:58.422 | INFO     | src.features.build_features:encode_onehot:35 - One Hot Encode column isin\n"
     ]
    },
    {
     "ename": "MemoryError",
     "evalue": "Unable to allocate 404. MiB for an array with shape (236, 224586) and data type float64",
     "output_type": "error",
     "traceback": [
      "\u001b[1;31m---------------------------------------------------------------------------\u001b[0m",
      "\u001b[1;31mMemoryError\u001b[0m                               Traceback (most recent call last)",
      "\u001b[1;32m~\\AppData\\Local\\Temp/ipykernel_12904/955416780.py\u001b[0m in \u001b[0;36m<module>\u001b[1;34m\u001b[0m\n\u001b[1;32m----> 1\u001b[1;33m \u001b[0mmake_dataset\u001b[0m\u001b[1;33m.\u001b[0m\u001b[0mmake_data\u001b[0m\u001b[1;33m(\u001b[0m\u001b[1;33m)\u001b[0m\u001b[1;33m\u001b[0m\u001b[1;33m\u001b[0m\u001b[0m\n\u001b[0m",
      "\u001b[1;32mc:\\Users\\M\\SkyDrive\\Documents\\GitHub\\BondTrading\\notebooks\\..\\src\\data\\make_dataset.py\u001b[0m in \u001b[0;36mmake_data\u001b[1;34m()\u001b[0m\n\u001b[0;32m    263\u001b[0m     \u001b[0msave_pkl\u001b[0m\u001b[1;33m(\u001b[0m\u001b[1;34m'bp'\u001b[0m\u001b[1;33m,\u001b[0m \u001b[0mdf_bp\u001b[0m\u001b[1;33m)\u001b[0m\u001b[1;33m\u001b[0m\u001b[1;33m\u001b[0m\u001b[0m\n\u001b[0;32m    264\u001b[0m \u001b[1;33m\u001b[0m\u001b[0m\n\u001b[1;32m--> 265\u001b[1;33m     \u001b[0mdf_tf\u001b[0m \u001b[1;33m=\u001b[0m \u001b[0mbuild_simple_input\u001b[0m\u001b[1;33m(\u001b[0m\u001b[0mdf_bonds\u001b[0m\u001b[1;33m,\u001b[0m \u001b[0mdf_price\u001b[0m\u001b[1;33m)\u001b[0m\u001b[1;33m\u001b[0m\u001b[1;33m\u001b[0m\u001b[0m\n\u001b[0m\u001b[0;32m    266\u001b[0m     \u001b[0msave_pkl\u001b[0m\u001b[1;33m(\u001b[0m\u001b[1;34m'tf'\u001b[0m\u001b[1;33m,\u001b[0m \u001b[0mdf_tf\u001b[0m\u001b[1;33m)\u001b[0m\u001b[1;33m\u001b[0m\u001b[1;33m\u001b[0m\u001b[0m\n\u001b[0;32m    267\u001b[0m \u001b[1;33m\u001b[0m\u001b[0m\n",
      "\u001b[1;32mc:\\Users\\M\\SkyDrive\\Documents\\GitHub\\BondTrading\\notebooks\\..\\src\\data\\make_dataset.py\u001b[0m in \u001b[0;36mbuild_simple_input\u001b[1;34m(df_bonds, df_price)\u001b[0m\n\u001b[0;32m    400\u001b[0m     \u001b[1;31m# Alle string variabelen worden one hot encoded...\u001b[0m\u001b[1;33m\u001b[0m\u001b[1;33m\u001b[0m\u001b[1;33m\u001b[0m\u001b[0m\n\u001b[0;32m    401\u001b[0m     \u001b[1;32mfor\u001b[0m \u001b[0mcolumn\u001b[0m \u001b[1;32min\u001b[0m \u001b[0mdf_bp\u001b[0m\u001b[1;33m.\u001b[0m\u001b[0mselect_dtypes\u001b[0m\u001b[1;33m(\u001b[0m\u001b[0minclude\u001b[0m\u001b[1;33m=\u001b[0m\u001b[1;33m[\u001b[0m\u001b[1;34m'string'\u001b[0m\u001b[1;33m]\u001b[0m\u001b[1;33m)\u001b[0m\u001b[1;33m.\u001b[0m\u001b[0mcolumns\u001b[0m\u001b[1;33m.\u001b[0m\u001b[0mtolist\u001b[0m\u001b[1;33m(\u001b[0m\u001b[1;33m)\u001b[0m\u001b[1;33m:\u001b[0m\u001b[1;33m\u001b[0m\u001b[1;33m\u001b[0m\u001b[0m\n\u001b[1;32m--> 402\u001b[1;33m         \u001b[0mdf_bp\u001b[0m \u001b[1;33m=\u001b[0m \u001b[0mbuild_features\u001b[0m\u001b[1;33m.\u001b[0m\u001b[0mencode_onehot\u001b[0m\u001b[1;33m(\u001b[0m\u001b[0mdf_bp\u001b[0m\u001b[1;33m,\u001b[0m\u001b[0mcolumn\u001b[0m\u001b[1;33m)\u001b[0m\u001b[1;33m\u001b[0m\u001b[1;33m\u001b[0m\u001b[0m\n\u001b[0m\u001b[0;32m    403\u001b[0m \u001b[1;33m\u001b[0m\u001b[0m\n\u001b[0;32m    404\u001b[0m     \u001b[1;32mreturn\u001b[0m \u001b[0mdf_bp\u001b[0m\u001b[1;33m\u001b[0m\u001b[1;33m\u001b[0m\u001b[0m\n",
      "\u001b[1;32mc:\\Users\\M\\SkyDrive\\Documents\\GitHub\\BondTrading\\notebooks\\..\\src\\features\\build_features.py\u001b[0m in \u001b[0;36mencode_onehot\u001b[1;34m(df, col)\u001b[0m\n\u001b[0;32m     39\u001b[0m   \u001b[0mdf\u001b[0m \u001b[1;33m=\u001b[0m \u001b[0mdf\u001b[0m\u001b[1;33m.\u001b[0m\u001b[0mjoin\u001b[0m\u001b[1;33m(\u001b[0m\u001b[0mdf_enc\u001b[0m\u001b[1;33m)\u001b[0m\u001b[1;33m\u001b[0m\u001b[1;33m\u001b[0m\u001b[0m\n\u001b[0;32m     40\u001b[0m \u001b[1;33m\u001b[0m\u001b[0m\n\u001b[1;32m---> 41\u001b[1;33m   \u001b[0mdf\u001b[0m \u001b[1;33m=\u001b[0m \u001b[0mdf\u001b[0m\u001b[1;33m.\u001b[0m\u001b[0mdrop\u001b[0m\u001b[1;33m(\u001b[0m\u001b[0mcol\u001b[0m\u001b[1;33m,\u001b[0m \u001b[0maxis\u001b[0m \u001b[1;33m=\u001b[0m \u001b[1;34m'columns'\u001b[0m\u001b[1;33m)\u001b[0m\u001b[1;33m\u001b[0m\u001b[1;33m\u001b[0m\u001b[0m\n\u001b[0m\u001b[0;32m     42\u001b[0m \u001b[1;33m\u001b[0m\u001b[0m\n\u001b[0;32m     43\u001b[0m   \u001b[1;32mreturn\u001b[0m \u001b[0mdf\u001b[0m\u001b[1;33m\u001b[0m\u001b[1;33m\u001b[0m\u001b[0m\n",
      "\u001b[1;32m~\\AppData\\Local\\pypoetry\\Cache\\virtualenvs\\timeseries-NkPdx04N-py3.8\\lib\\site-packages\\pandas\\util\\_decorators.py\u001b[0m in \u001b[0;36mwrapper\u001b[1;34m(*args, **kwargs)\u001b[0m\n\u001b[0;32m    309\u001b[0m                     \u001b[0mstacklevel\u001b[0m\u001b[1;33m=\u001b[0m\u001b[0mstacklevel\u001b[0m\u001b[1;33m,\u001b[0m\u001b[1;33m\u001b[0m\u001b[1;33m\u001b[0m\u001b[0m\n\u001b[0;32m    310\u001b[0m                 )\n\u001b[1;32m--> 311\u001b[1;33m             \u001b[1;32mreturn\u001b[0m \u001b[0mfunc\u001b[0m\u001b[1;33m(\u001b[0m\u001b[1;33m*\u001b[0m\u001b[0margs\u001b[0m\u001b[1;33m,\u001b[0m \u001b[1;33m**\u001b[0m\u001b[0mkwargs\u001b[0m\u001b[1;33m)\u001b[0m\u001b[1;33m\u001b[0m\u001b[1;33m\u001b[0m\u001b[0m\n\u001b[0m\u001b[0;32m    312\u001b[0m \u001b[1;33m\u001b[0m\u001b[0m\n\u001b[0;32m    313\u001b[0m         \u001b[1;32mreturn\u001b[0m \u001b[0mwrapper\u001b[0m\u001b[1;33m\u001b[0m\u001b[1;33m\u001b[0m\u001b[0m\n",
      "\u001b[1;32m~\\AppData\\Local\\pypoetry\\Cache\\virtualenvs\\timeseries-NkPdx04N-py3.8\\lib\\site-packages\\pandas\\core\\frame.py\u001b[0m in \u001b[0;36mdrop\u001b[1;34m(self, labels, axis, index, columns, level, inplace, errors)\u001b[0m\n\u001b[0;32m   4904\u001b[0m                 \u001b[0mweight\u001b[0m  \u001b[1;36m1.0\u001b[0m     \u001b[1;36m0.8\u001b[0m\u001b[1;33m\u001b[0m\u001b[1;33m\u001b[0m\u001b[0m\n\u001b[0;32m   4905\u001b[0m         \"\"\"\n\u001b[1;32m-> 4906\u001b[1;33m         return super().drop(\n\u001b[0m\u001b[0;32m   4907\u001b[0m             \u001b[0mlabels\u001b[0m\u001b[1;33m=\u001b[0m\u001b[0mlabels\u001b[0m\u001b[1;33m,\u001b[0m\u001b[1;33m\u001b[0m\u001b[1;33m\u001b[0m\u001b[0m\n\u001b[0;32m   4908\u001b[0m             \u001b[0maxis\u001b[0m\u001b[1;33m=\u001b[0m\u001b[0maxis\u001b[0m\u001b[1;33m,\u001b[0m\u001b[1;33m\u001b[0m\u001b[1;33m\u001b[0m\u001b[0m\n",
      "\u001b[1;32m~\\AppData\\Local\\pypoetry\\Cache\\virtualenvs\\timeseries-NkPdx04N-py3.8\\lib\\site-packages\\pandas\\core\\generic.py\u001b[0m in \u001b[0;36mdrop\u001b[1;34m(self, labels, axis, index, columns, level, inplace, errors)\u001b[0m\n\u001b[0;32m   4148\u001b[0m         \u001b[1;32mfor\u001b[0m \u001b[0maxis\u001b[0m\u001b[1;33m,\u001b[0m \u001b[0mlabels\u001b[0m \u001b[1;32min\u001b[0m \u001b[0maxes\u001b[0m\u001b[1;33m.\u001b[0m\u001b[0mitems\u001b[0m\u001b[1;33m(\u001b[0m\u001b[1;33m)\u001b[0m\u001b[1;33m:\u001b[0m\u001b[1;33m\u001b[0m\u001b[1;33m\u001b[0m\u001b[0m\n\u001b[0;32m   4149\u001b[0m             \u001b[1;32mif\u001b[0m \u001b[0mlabels\u001b[0m \u001b[1;32mis\u001b[0m \u001b[1;32mnot\u001b[0m \u001b[1;32mNone\u001b[0m\u001b[1;33m:\u001b[0m\u001b[1;33m\u001b[0m\u001b[1;33m\u001b[0m\u001b[0m\n\u001b[1;32m-> 4150\u001b[1;33m                 \u001b[0mobj\u001b[0m \u001b[1;33m=\u001b[0m \u001b[0mobj\u001b[0m\u001b[1;33m.\u001b[0m\u001b[0m_drop_axis\u001b[0m\u001b[1;33m(\u001b[0m\u001b[0mlabels\u001b[0m\u001b[1;33m,\u001b[0m \u001b[0maxis\u001b[0m\u001b[1;33m,\u001b[0m \u001b[0mlevel\u001b[0m\u001b[1;33m=\u001b[0m\u001b[0mlevel\u001b[0m\u001b[1;33m,\u001b[0m \u001b[0merrors\u001b[0m\u001b[1;33m=\u001b[0m\u001b[0merrors\u001b[0m\u001b[1;33m)\u001b[0m\u001b[1;33m\u001b[0m\u001b[1;33m\u001b[0m\u001b[0m\n\u001b[0m\u001b[0;32m   4151\u001b[0m \u001b[1;33m\u001b[0m\u001b[0m\n\u001b[0;32m   4152\u001b[0m         \u001b[1;32mif\u001b[0m \u001b[0minplace\u001b[0m\u001b[1;33m:\u001b[0m\u001b[1;33m\u001b[0m\u001b[1;33m\u001b[0m\u001b[0m\n",
      "\u001b[1;32m~\\AppData\\Local\\pypoetry\\Cache\\virtualenvs\\timeseries-NkPdx04N-py3.8\\lib\\site-packages\\pandas\\core\\generic.py\u001b[0m in \u001b[0;36m_drop_axis\u001b[1;34m(self, labels, axis, level, errors)\u001b[0m\n\u001b[0;32m   4184\u001b[0m             \u001b[1;32melse\u001b[0m\u001b[1;33m:\u001b[0m\u001b[1;33m\u001b[0m\u001b[1;33m\u001b[0m\u001b[0m\n\u001b[0;32m   4185\u001b[0m                 \u001b[0mnew_axis\u001b[0m \u001b[1;33m=\u001b[0m \u001b[0maxis\u001b[0m\u001b[1;33m.\u001b[0m\u001b[0mdrop\u001b[0m\u001b[1;33m(\u001b[0m\u001b[0mlabels\u001b[0m\u001b[1;33m,\u001b[0m \u001b[0merrors\u001b[0m\u001b[1;33m=\u001b[0m\u001b[0merrors\u001b[0m\u001b[1;33m)\u001b[0m\u001b[1;33m\u001b[0m\u001b[1;33m\u001b[0m\u001b[0m\n\u001b[1;32m-> 4186\u001b[1;33m             \u001b[0mresult\u001b[0m \u001b[1;33m=\u001b[0m \u001b[0mself\u001b[0m\u001b[1;33m.\u001b[0m\u001b[0mreindex\u001b[0m\u001b[1;33m(\u001b[0m\u001b[1;33m**\u001b[0m\u001b[1;33m{\u001b[0m\u001b[0maxis_name\u001b[0m\u001b[1;33m:\u001b[0m \u001b[0mnew_axis\u001b[0m\u001b[1;33m}\u001b[0m\u001b[1;33m)\u001b[0m\u001b[1;33m\u001b[0m\u001b[1;33m\u001b[0m\u001b[0m\n\u001b[0m\u001b[0;32m   4187\u001b[0m \u001b[1;33m\u001b[0m\u001b[0m\n\u001b[0;32m   4188\u001b[0m         \u001b[1;31m# Case for non-unique axis\u001b[0m\u001b[1;33m\u001b[0m\u001b[1;33m\u001b[0m\u001b[1;33m\u001b[0m\u001b[0m\n",
      "\u001b[1;32m~\\AppData\\Local\\pypoetry\\Cache\\virtualenvs\\timeseries-NkPdx04N-py3.8\\lib\\site-packages\\pandas\\util\\_decorators.py\u001b[0m in \u001b[0;36mwrapper\u001b[1;34m(*args, **kwargs)\u001b[0m\n\u001b[0;32m    322\u001b[0m         \u001b[1;33m@\u001b[0m\u001b[0mwraps\u001b[0m\u001b[1;33m(\u001b[0m\u001b[0mfunc\u001b[0m\u001b[1;33m)\u001b[0m\u001b[1;33m\u001b[0m\u001b[1;33m\u001b[0m\u001b[0m\n\u001b[0;32m    323\u001b[0m         \u001b[1;32mdef\u001b[0m \u001b[0mwrapper\u001b[0m\u001b[1;33m(\u001b[0m\u001b[1;33m*\u001b[0m\u001b[0margs\u001b[0m\u001b[1;33m,\u001b[0m \u001b[1;33m**\u001b[0m\u001b[0mkwargs\u001b[0m\u001b[1;33m)\u001b[0m \u001b[1;33m->\u001b[0m \u001b[0mCallable\u001b[0m\u001b[1;33m[\u001b[0m\u001b[1;33m...\u001b[0m\u001b[1;33m,\u001b[0m \u001b[0mAny\u001b[0m\u001b[1;33m]\u001b[0m\u001b[1;33m:\u001b[0m\u001b[1;33m\u001b[0m\u001b[1;33m\u001b[0m\u001b[0m\n\u001b[1;32m--> 324\u001b[1;33m             \u001b[1;32mreturn\u001b[0m \u001b[0mfunc\u001b[0m\u001b[1;33m(\u001b[0m\u001b[1;33m*\u001b[0m\u001b[0margs\u001b[0m\u001b[1;33m,\u001b[0m \u001b[1;33m**\u001b[0m\u001b[0mkwargs\u001b[0m\u001b[1;33m)\u001b[0m\u001b[1;33m\u001b[0m\u001b[1;33m\u001b[0m\u001b[0m\n\u001b[0m\u001b[0;32m    325\u001b[0m \u001b[1;33m\u001b[0m\u001b[0m\n\u001b[0;32m    326\u001b[0m         \u001b[0mkind\u001b[0m \u001b[1;33m=\u001b[0m \u001b[0minspect\u001b[0m\u001b[1;33m.\u001b[0m\u001b[0mParameter\u001b[0m\u001b[1;33m.\u001b[0m\u001b[0mPOSITIONAL_OR_KEYWORD\u001b[0m\u001b[1;33m\u001b[0m\u001b[1;33m\u001b[0m\u001b[0m\n",
      "\u001b[1;32m~\\AppData\\Local\\pypoetry\\Cache\\virtualenvs\\timeseries-NkPdx04N-py3.8\\lib\\site-packages\\pandas\\core\\frame.py\u001b[0m in \u001b[0;36mreindex\u001b[1;34m(self, *args, **kwargs)\u001b[0m\n\u001b[0;32m   4770\u001b[0m         \u001b[0mkwargs\u001b[0m\u001b[1;33m.\u001b[0m\u001b[0mpop\u001b[0m\u001b[1;33m(\u001b[0m\u001b[1;34m\"axis\"\u001b[0m\u001b[1;33m,\u001b[0m \u001b[1;32mNone\u001b[0m\u001b[1;33m)\u001b[0m\u001b[1;33m\u001b[0m\u001b[1;33m\u001b[0m\u001b[0m\n\u001b[0;32m   4771\u001b[0m         \u001b[0mkwargs\u001b[0m\u001b[1;33m.\u001b[0m\u001b[0mpop\u001b[0m\u001b[1;33m(\u001b[0m\u001b[1;34m\"labels\"\u001b[0m\u001b[1;33m,\u001b[0m \u001b[1;32mNone\u001b[0m\u001b[1;33m)\u001b[0m\u001b[1;33m\u001b[0m\u001b[1;33m\u001b[0m\u001b[0m\n\u001b[1;32m-> 4772\u001b[1;33m         \u001b[1;32mreturn\u001b[0m \u001b[0msuper\u001b[0m\u001b[1;33m(\u001b[0m\u001b[1;33m)\u001b[0m\u001b[1;33m.\u001b[0m\u001b[0mreindex\u001b[0m\u001b[1;33m(\u001b[0m\u001b[1;33m**\u001b[0m\u001b[0mkwargs\u001b[0m\u001b[1;33m)\u001b[0m\u001b[1;33m\u001b[0m\u001b[1;33m\u001b[0m\u001b[0m\n\u001b[0m\u001b[0;32m   4773\u001b[0m \u001b[1;33m\u001b[0m\u001b[0m\n\u001b[0;32m   4774\u001b[0m     \u001b[1;33m@\u001b[0m\u001b[0mdeprecate_nonkeyword_arguments\u001b[0m\u001b[1;33m(\u001b[0m\u001b[0mversion\u001b[0m\u001b[1;33m=\u001b[0m\u001b[1;32mNone\u001b[0m\u001b[1;33m,\u001b[0m \u001b[0mallowed_args\u001b[0m\u001b[1;33m=\u001b[0m\u001b[1;33m[\u001b[0m\u001b[1;34m\"self\"\u001b[0m\u001b[1;33m,\u001b[0m \u001b[1;34m\"labels\"\u001b[0m\u001b[1;33m]\u001b[0m\u001b[1;33m)\u001b[0m\u001b[1;33m\u001b[0m\u001b[1;33m\u001b[0m\u001b[0m\n",
      "\u001b[1;32m~\\AppData\\Local\\pypoetry\\Cache\\virtualenvs\\timeseries-NkPdx04N-py3.8\\lib\\site-packages\\pandas\\core\\generic.py\u001b[0m in \u001b[0;36mreindex\u001b[1;34m(self, *args, **kwargs)\u001b[0m\n\u001b[0;32m   4798\u001b[0m             )\n\u001b[0;32m   4799\u001b[0m \u001b[1;33m\u001b[0m\u001b[0m\n\u001b[1;32m-> 4800\u001b[1;33m         \u001b[0mself\u001b[0m\u001b[1;33m.\u001b[0m\u001b[0m_consolidate_inplace\u001b[0m\u001b[1;33m(\u001b[0m\u001b[1;33m)\u001b[0m\u001b[1;33m\u001b[0m\u001b[1;33m\u001b[0m\u001b[0m\n\u001b[0m\u001b[0;32m   4801\u001b[0m \u001b[1;33m\u001b[0m\u001b[0m\n\u001b[0;32m   4802\u001b[0m         \u001b[1;31m# if all axes that are requested to reindex are equal, then only copy\u001b[0m\u001b[1;33m\u001b[0m\u001b[1;33m\u001b[0m\u001b[1;33m\u001b[0m\u001b[0m\n",
      "\u001b[1;32m~\\AppData\\Local\\pypoetry\\Cache\\virtualenvs\\timeseries-NkPdx04N-py3.8\\lib\\site-packages\\pandas\\core\\generic.py\u001b[0m in \u001b[0;36m_consolidate_inplace\u001b[1;34m(self)\u001b[0m\n\u001b[0;32m   5563\u001b[0m             \u001b[0mself\u001b[0m\u001b[1;33m.\u001b[0m\u001b[0m_mgr\u001b[0m \u001b[1;33m=\u001b[0m \u001b[0mself\u001b[0m\u001b[1;33m.\u001b[0m\u001b[0m_mgr\u001b[0m\u001b[1;33m.\u001b[0m\u001b[0mconsolidate\u001b[0m\u001b[1;33m(\u001b[0m\u001b[1;33m)\u001b[0m\u001b[1;33m\u001b[0m\u001b[1;33m\u001b[0m\u001b[0m\n\u001b[0;32m   5564\u001b[0m \u001b[1;33m\u001b[0m\u001b[0m\n\u001b[1;32m-> 5565\u001b[1;33m         \u001b[0mself\u001b[0m\u001b[1;33m.\u001b[0m\u001b[0m_protect_consolidate\u001b[0m\u001b[1;33m(\u001b[0m\u001b[0mf\u001b[0m\u001b[1;33m)\u001b[0m\u001b[1;33m\u001b[0m\u001b[1;33m\u001b[0m\u001b[0m\n\u001b[0m\u001b[0;32m   5566\u001b[0m \u001b[1;33m\u001b[0m\u001b[0m\n\u001b[0;32m   5567\u001b[0m     \u001b[1;33m@\u001b[0m\u001b[0mfinal\u001b[0m\u001b[1;33m\u001b[0m\u001b[1;33m\u001b[0m\u001b[0m\n",
      "\u001b[1;32m~\\AppData\\Local\\pypoetry\\Cache\\virtualenvs\\timeseries-NkPdx04N-py3.8\\lib\\site-packages\\pandas\\core\\generic.py\u001b[0m in \u001b[0;36m_protect_consolidate\u001b[1;34m(self, f)\u001b[0m\n\u001b[0;32m   5551\u001b[0m             \u001b[1;32mreturn\u001b[0m \u001b[0mf\u001b[0m\u001b[1;33m(\u001b[0m\u001b[1;33m)\u001b[0m\u001b[1;33m\u001b[0m\u001b[1;33m\u001b[0m\u001b[0m\n\u001b[0;32m   5552\u001b[0m         \u001b[0mblocks_before\u001b[0m \u001b[1;33m=\u001b[0m \u001b[0mlen\u001b[0m\u001b[1;33m(\u001b[0m\u001b[0mself\u001b[0m\u001b[1;33m.\u001b[0m\u001b[0m_mgr\u001b[0m\u001b[1;33m.\u001b[0m\u001b[0mblocks\u001b[0m\u001b[1;33m)\u001b[0m\u001b[1;33m\u001b[0m\u001b[1;33m\u001b[0m\u001b[0m\n\u001b[1;32m-> 5553\u001b[1;33m         \u001b[0mresult\u001b[0m \u001b[1;33m=\u001b[0m \u001b[0mf\u001b[0m\u001b[1;33m(\u001b[0m\u001b[1;33m)\u001b[0m\u001b[1;33m\u001b[0m\u001b[1;33m\u001b[0m\u001b[0m\n\u001b[0m\u001b[0;32m   5554\u001b[0m         \u001b[1;32mif\u001b[0m \u001b[0mlen\u001b[0m\u001b[1;33m(\u001b[0m\u001b[0mself\u001b[0m\u001b[1;33m.\u001b[0m\u001b[0m_mgr\u001b[0m\u001b[1;33m.\u001b[0m\u001b[0mblocks\u001b[0m\u001b[1;33m)\u001b[0m \u001b[1;33m!=\u001b[0m \u001b[0mblocks_before\u001b[0m\u001b[1;33m:\u001b[0m\u001b[1;33m\u001b[0m\u001b[1;33m\u001b[0m\u001b[0m\n\u001b[0;32m   5555\u001b[0m             \u001b[0mself\u001b[0m\u001b[1;33m.\u001b[0m\u001b[0m_clear_item_cache\u001b[0m\u001b[1;33m(\u001b[0m\u001b[1;33m)\u001b[0m\u001b[1;33m\u001b[0m\u001b[1;33m\u001b[0m\u001b[0m\n",
      "\u001b[1;32m~\\AppData\\Local\\pypoetry\\Cache\\virtualenvs\\timeseries-NkPdx04N-py3.8\\lib\\site-packages\\pandas\\core\\generic.py\u001b[0m in \u001b[0;36mf\u001b[1;34m()\u001b[0m\n\u001b[0;32m   5561\u001b[0m \u001b[1;33m\u001b[0m\u001b[0m\n\u001b[0;32m   5562\u001b[0m         \u001b[1;32mdef\u001b[0m \u001b[0mf\u001b[0m\u001b[1;33m(\u001b[0m\u001b[1;33m)\u001b[0m\u001b[1;33m:\u001b[0m\u001b[1;33m\u001b[0m\u001b[1;33m\u001b[0m\u001b[0m\n\u001b[1;32m-> 5563\u001b[1;33m             \u001b[0mself\u001b[0m\u001b[1;33m.\u001b[0m\u001b[0m_mgr\u001b[0m \u001b[1;33m=\u001b[0m \u001b[0mself\u001b[0m\u001b[1;33m.\u001b[0m\u001b[0m_mgr\u001b[0m\u001b[1;33m.\u001b[0m\u001b[0mconsolidate\u001b[0m\u001b[1;33m(\u001b[0m\u001b[1;33m)\u001b[0m\u001b[1;33m\u001b[0m\u001b[1;33m\u001b[0m\u001b[0m\n\u001b[0m\u001b[0;32m   5564\u001b[0m \u001b[1;33m\u001b[0m\u001b[0m\n\u001b[0;32m   5565\u001b[0m         \u001b[0mself\u001b[0m\u001b[1;33m.\u001b[0m\u001b[0m_protect_consolidate\u001b[0m\u001b[1;33m(\u001b[0m\u001b[0mf\u001b[0m\u001b[1;33m)\u001b[0m\u001b[1;33m\u001b[0m\u001b[1;33m\u001b[0m\u001b[0m\n",
      "\u001b[1;32m~\\AppData\\Local\\pypoetry\\Cache\\virtualenvs\\timeseries-NkPdx04N-py3.8\\lib\\site-packages\\pandas\\core\\internals\\managers.py\u001b[0m in \u001b[0;36mconsolidate\u001b[1;34m(self)\u001b[0m\n\u001b[0;32m    617\u001b[0m         \u001b[0mbm\u001b[0m \u001b[1;33m=\u001b[0m \u001b[0mtype\u001b[0m\u001b[1;33m(\u001b[0m\u001b[0mself\u001b[0m\u001b[1;33m)\u001b[0m\u001b[1;33m(\u001b[0m\u001b[0mself\u001b[0m\u001b[1;33m.\u001b[0m\u001b[0mblocks\u001b[0m\u001b[1;33m,\u001b[0m \u001b[0mself\u001b[0m\u001b[1;33m.\u001b[0m\u001b[0maxes\u001b[0m\u001b[1;33m,\u001b[0m \u001b[0mverify_integrity\u001b[0m\u001b[1;33m=\u001b[0m\u001b[1;32mFalse\u001b[0m\u001b[1;33m)\u001b[0m\u001b[1;33m\u001b[0m\u001b[1;33m\u001b[0m\u001b[0m\n\u001b[0;32m    618\u001b[0m         \u001b[0mbm\u001b[0m\u001b[1;33m.\u001b[0m\u001b[0m_is_consolidated\u001b[0m \u001b[1;33m=\u001b[0m \u001b[1;32mFalse\u001b[0m\u001b[1;33m\u001b[0m\u001b[1;33m\u001b[0m\u001b[0m\n\u001b[1;32m--> 619\u001b[1;33m         \u001b[0mbm\u001b[0m\u001b[1;33m.\u001b[0m\u001b[0m_consolidate_inplace\u001b[0m\u001b[1;33m(\u001b[0m\u001b[1;33m)\u001b[0m\u001b[1;33m\u001b[0m\u001b[1;33m\u001b[0m\u001b[0m\n\u001b[0m\u001b[0;32m    620\u001b[0m         \u001b[1;32mreturn\u001b[0m \u001b[0mbm\u001b[0m\u001b[1;33m\u001b[0m\u001b[1;33m\u001b[0m\u001b[0m\n\u001b[0;32m    621\u001b[0m \u001b[1;33m\u001b[0m\u001b[0m\n",
      "\u001b[1;32m~\\AppData\\Local\\pypoetry\\Cache\\virtualenvs\\timeseries-NkPdx04N-py3.8\\lib\\site-packages\\pandas\\core\\internals\\managers.py\u001b[0m in \u001b[0;36m_consolidate_inplace\u001b[1;34m(self)\u001b[0m\n\u001b[0;32m    622\u001b[0m     \u001b[1;32mdef\u001b[0m \u001b[0m_consolidate_inplace\u001b[0m\u001b[1;33m(\u001b[0m\u001b[0mself\u001b[0m\u001b[1;33m)\u001b[0m \u001b[1;33m->\u001b[0m \u001b[1;32mNone\u001b[0m\u001b[1;33m:\u001b[0m\u001b[1;33m\u001b[0m\u001b[1;33m\u001b[0m\u001b[0m\n\u001b[0;32m    623\u001b[0m         \u001b[1;32mif\u001b[0m \u001b[1;32mnot\u001b[0m \u001b[0mself\u001b[0m\u001b[1;33m.\u001b[0m\u001b[0mis_consolidated\u001b[0m\u001b[1;33m(\u001b[0m\u001b[1;33m)\u001b[0m\u001b[1;33m:\u001b[0m\u001b[1;33m\u001b[0m\u001b[1;33m\u001b[0m\u001b[0m\n\u001b[1;32m--> 624\u001b[1;33m             \u001b[0mself\u001b[0m\u001b[1;33m.\u001b[0m\u001b[0mblocks\u001b[0m \u001b[1;33m=\u001b[0m \u001b[0mtuple\u001b[0m\u001b[1;33m(\u001b[0m\u001b[0m_consolidate\u001b[0m\u001b[1;33m(\u001b[0m\u001b[0mself\u001b[0m\u001b[1;33m.\u001b[0m\u001b[0mblocks\u001b[0m\u001b[1;33m)\u001b[0m\u001b[1;33m)\u001b[0m\u001b[1;33m\u001b[0m\u001b[1;33m\u001b[0m\u001b[0m\n\u001b[0m\u001b[0;32m    625\u001b[0m             \u001b[0mself\u001b[0m\u001b[1;33m.\u001b[0m\u001b[0m_is_consolidated\u001b[0m \u001b[1;33m=\u001b[0m \u001b[1;32mTrue\u001b[0m\u001b[1;33m\u001b[0m\u001b[1;33m\u001b[0m\u001b[0m\n\u001b[0;32m    626\u001b[0m             \u001b[0mself\u001b[0m\u001b[1;33m.\u001b[0m\u001b[0m_known_consolidated\u001b[0m \u001b[1;33m=\u001b[0m \u001b[1;32mTrue\u001b[0m\u001b[1;33m\u001b[0m\u001b[1;33m\u001b[0m\u001b[0m\n",
      "\u001b[1;32m~\\AppData\\Local\\pypoetry\\Cache\\virtualenvs\\timeseries-NkPdx04N-py3.8\\lib\\site-packages\\pandas\\core\\internals\\managers.py\u001b[0m in \u001b[0;36m_consolidate\u001b[1;34m(blocks)\u001b[0m\n\u001b[0;32m   1972\u001b[0m     \u001b[0mnew_blocks\u001b[0m\u001b[1;33m:\u001b[0m \u001b[0mlist\u001b[0m\u001b[1;33m[\u001b[0m\u001b[0mBlock\u001b[0m\u001b[1;33m]\u001b[0m \u001b[1;33m=\u001b[0m \u001b[1;33m[\u001b[0m\u001b[1;33m]\u001b[0m\u001b[1;33m\u001b[0m\u001b[1;33m\u001b[0m\u001b[0m\n\u001b[0;32m   1973\u001b[0m     \u001b[1;32mfor\u001b[0m \u001b[1;33m(\u001b[0m\u001b[0m_can_consolidate\u001b[0m\u001b[1;33m,\u001b[0m \u001b[0mdtype\u001b[0m\u001b[1;33m)\u001b[0m\u001b[1;33m,\u001b[0m \u001b[0mgroup_blocks\u001b[0m \u001b[1;32min\u001b[0m \u001b[0mgrouper\u001b[0m\u001b[1;33m:\u001b[0m\u001b[1;33m\u001b[0m\u001b[1;33m\u001b[0m\u001b[0m\n\u001b[1;32m-> 1974\u001b[1;33m         merged_blocks = _merge_blocks(\n\u001b[0m\u001b[0;32m   1975\u001b[0m             \u001b[0mlist\u001b[0m\u001b[1;33m(\u001b[0m\u001b[0mgroup_blocks\u001b[0m\u001b[1;33m)\u001b[0m\u001b[1;33m,\u001b[0m \u001b[0mdtype\u001b[0m\u001b[1;33m=\u001b[0m\u001b[0mdtype\u001b[0m\u001b[1;33m,\u001b[0m \u001b[0mcan_consolidate\u001b[0m\u001b[1;33m=\u001b[0m\u001b[0m_can_consolidate\u001b[0m\u001b[1;33m\u001b[0m\u001b[1;33m\u001b[0m\u001b[0m\n\u001b[0;32m   1976\u001b[0m         )\n",
      "\u001b[1;32m~\\AppData\\Local\\pypoetry\\Cache\\virtualenvs\\timeseries-NkPdx04N-py3.8\\lib\\site-packages\\pandas\\core\\internals\\managers.py\u001b[0m in \u001b[0;36m_merge_blocks\u001b[1;34m(blocks, dtype, can_consolidate)\u001b[0m\n\u001b[0;32m   2006\u001b[0m \u001b[1;33m\u001b[0m\u001b[0m\n\u001b[0;32m   2007\u001b[0m         \u001b[0margsort\u001b[0m \u001b[1;33m=\u001b[0m \u001b[0mnp\u001b[0m\u001b[1;33m.\u001b[0m\u001b[0margsort\u001b[0m\u001b[1;33m(\u001b[0m\u001b[0mnew_mgr_locs\u001b[0m\u001b[1;33m)\u001b[0m\u001b[1;33m\u001b[0m\u001b[1;33m\u001b[0m\u001b[0m\n\u001b[1;32m-> 2008\u001b[1;33m         \u001b[0mnew_values\u001b[0m \u001b[1;33m=\u001b[0m \u001b[0mnew_values\u001b[0m\u001b[1;33m[\u001b[0m\u001b[0margsort\u001b[0m\u001b[1;33m]\u001b[0m\u001b[1;33m\u001b[0m\u001b[1;33m\u001b[0m\u001b[0m\n\u001b[0m\u001b[0;32m   2009\u001b[0m         \u001b[0mnew_mgr_locs\u001b[0m \u001b[1;33m=\u001b[0m \u001b[0mnew_mgr_locs\u001b[0m\u001b[1;33m[\u001b[0m\u001b[0margsort\u001b[0m\u001b[1;33m]\u001b[0m\u001b[1;33m\u001b[0m\u001b[1;33m\u001b[0m\u001b[0m\n\u001b[0;32m   2010\u001b[0m \u001b[1;33m\u001b[0m\u001b[0m\n",
      "\u001b[1;31mMemoryError\u001b[0m: Unable to allocate 404. MiB for an array with shape (236, 224586) and data type float64"
     ]
    }
   ],
   "source": [
    "make_dataset.make_data()"
   ]
  }
 ],
 "metadata": {
  "interpreter": {
   "hash": "11ceafc7b78f5f3763c3d9a031e4cc9e8924ad6b8398b171c2d2e49c83b2b56a"
  },
  "kernelspec": {
   "display_name": "Python 3.8.10 64-bit ('timeseries-NkPdx04N-py3.8': venv)",
   "language": "python",
   "name": "python3"
  },
  "language_info": {
   "codemirror_mode": {
    "name": "ipython",
    "version": 3
   },
   "file_extension": ".py",
   "mimetype": "text/x-python",
   "name": "python",
   "nbconvert_exporter": "python",
   "pygments_lexer": "ipython3",
   "version": "3.8.10"
  },
  "orig_nbformat": 4
 },
 "nbformat": 4,
 "nbformat_minor": 2
}
