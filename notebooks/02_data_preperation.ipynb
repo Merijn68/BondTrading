{
 "cells": [
  {
   "cell_type": "markdown",
   "metadata": {},
   "source": [
    "# Data voorbewerking"
   ]
  },
  {
   "cell_type": "markdown",
   "metadata": {},
   "source": [
    "De data voor dit project is afkomstig van het back office systeem van Financial Markets, deels aangevuld met extra data vanuit Bloomberg.\n",
    "De data bestaat uit de volgende elementen:\n",
    "\n",
    "- Bond data\n",
    "- Bondprijzen\n",
    "- Government Yield curves\n",
    "- Inflation data\n",
    "\n",
    "Alle data is extracted en opgeslagen in csv files. In dit workbook lopen we door de data voorbereiding heen. Alle hier genoemde stappen kunnen ook geautomatiseerd worden uitgevoerd door het shell command 'Make Data'."
   ]
  },
  {
   "cell_type": "code",
   "execution_count": 27,
   "metadata": {},
   "outputs": [
    {
     "name": "stdout",
     "output_type": "stream",
     "text": [
      "The autoreload extension is already loaded. To reload it, use:\n",
      "  %reload_ext autoreload\n"
     ]
    }
   ],
   "source": [
    "%load_ext autoreload\n",
    "%autoreload 2\n",
    "\n",
    "import sys\n",
    "import pandas as pd\n",
    "\n",
    "sys.path.insert(0, \"..\") \n",
    "from src.data import make_dataset\n",
    "from src.features import build_features"
   ]
  },
  {
   "cell_type": "markdown",
   "metadata": {},
   "source": [
    "# Bond data"
   ]
  },
  {
   "cell_type": "code",
   "execution_count": 50,
   "metadata": {},
   "outputs": [
    {
     "name": "stderr",
     "output_type": "stream",
     "text": [
      "2022-01-10 21:27:19.301 | INFO     | src.data.make_dataset:get_bond_data:42 - Load bond data\n",
      "2022-01-10 21:27:19.302 | INFO     | src.data.make_dataset:read_csv:27 - Loading data from ..\\data\\raw\\bonds.csv\n"
     ]
    }
   ],
   "source": [
    "\n",
    "# Get bond data, drop unneeded columns, convert formats and strip training blanks\n",
    "df_bonds = make_dataset.get_bond_data()"
   ]
  },
  {
   "cell_type": "code",
   "execution_count": 53,
   "metadata": {},
   "outputs": [
    {
     "name": "stdout",
     "output_type": "stream",
     "text": [
      "<class 'pandas.core.frame.DataFrame'>\n",
      "Int64Index: 226 entries, 0 to 229\n",
      "Data columns (total 13 columns):\n",
      " #   Column             Non-Null Count  Dtype          \n",
      "---  ------             --------------  -----          \n",
      " 0   ccy                226 non-null    string         \n",
      " 1   country            226 non-null    string         \n",
      " 2   issue_dt           226 non-null    datetime64[ns] \n",
      " 3   first_coupon_date  226 non-null    datetime64[ns] \n",
      " 4   mature_dt          226 non-null    datetime64[ns] \n",
      " 5   isin               226 non-null    string         \n",
      " 6   issuer_name        226 non-null    string         \n",
      " 7   coupon_frq         226 non-null    string         \n",
      " 8   coupon             226 non-null    float64        \n",
      " 9   tot_issue          226 non-null    float64        \n",
      " 10  cfi_code           226 non-null    string         \n",
      " 11  issue_rating       226 non-null    string         \n",
      " 12  bond_duration      226 non-null    timedelta64[ns]\n",
      "dtypes: datetime64[ns](3), float64(2), string(7), timedelta64[ns](1)\n",
      "memory usage: 24.7 KB\n"
     ]
    }
   ],
   "source": [
    "df_bonds.info()"
   ]
  },
  {
   "cell_type": "markdown",
   "metadata": {},
   "source": [
    "Imputeren ontbrekende waarden voor issue rating. \n",
    "Issue rating wordt waar deze ontbreekt ingevuld met de meest voorkomende issue rating voor de issuer.\n",
    "\n",
    "CFI code wordt waar deze ontbreekt ingevuld met code 'onbekend' = DXXXXX.\n",
    "\n",
    "Datums met de waarde 1899-12-30 zijn default waardes van het bronsysteem. Deze worden verwijderd.\n",
    "Daar waar de eerste coupon datum ontbreekt (o.a. zero coupon bonds) - wordt deze aangevuld met de issue datum.\n",
    "De reden hiervoor is dat we zo zonder veel moeite de looptijd van de bond kunnen berekenen."
   ]
  },
  {
   "cell_type": "code",
   "execution_count": 52,
   "metadata": {},
   "outputs": [
    {
     "name": "stderr",
     "output_type": "stream",
     "text": [
      "2022-01-10 21:27:29.214 | INFO     | src.data.make_dataset:impute_bonds:81 - Impute bond data\n"
     ]
    }
   ],
   "source": [
    "df_bonds = make_dataset.impute_bonds(df_bonds)\n"
   ]
  },
  {
   "cell_type": "code",
   "execution_count": 54,
   "metadata": {},
   "outputs": [
    {
     "name": "stderr",
     "output_type": "stream",
     "text": [
      "2022-01-10 21:27:47.341 | INFO     | src.data.make_dataset:save_pkl:364 - Save preprocessed bonds data\n"
     ]
    }
   ],
   "source": [
    "make_dataset.save_pkl('bonds', df_bonds)"
   ]
  },
  {
   "cell_type": "code",
   "execution_count": 55,
   "metadata": {},
   "outputs": [
    {
     "data": {
      "text/plain": [
       "ccy                  226\n",
       "country              226\n",
       "issue_dt             226\n",
       "first_coupon_date    226\n",
       "mature_dt            226\n",
       "isin                 226\n",
       "issuer_name          226\n",
       "coupon_frq           226\n",
       "coupon               226\n",
       "tot_issue            226\n",
       "cfi_code             226\n",
       "issue_rating         226\n",
       "bond_duration        226\n",
       "dtype: int64"
      ]
     },
     "execution_count": 55,
     "metadata": {},
     "output_type": "execute_result"
    }
   ],
   "source": [
    "df_bonds.count()"
   ]
  },
  {
   "cell_type": "markdown",
   "metadata": {},
   "source": [
    "# Bondprijzen"
   ]
  },
  {
   "cell_type": "code",
   "execution_count": 29,
   "metadata": {},
   "outputs": [
    {
     "name": "stderr",
     "output_type": "stream",
     "text": [
      "2022-01-10 21:13:35.830 | INFO     | src.data.make_dataset:get_price:113 - Load bond price data\n",
      "2022-01-10 21:13:35.831 | INFO     | src.data.make_dataset:read_csv:27 - Loading data from ..\\data\\raw\\price.csv\n"
     ]
    }
   ],
   "source": [
    "df_price = make_dataset.get_price()"
   ]
  },
  {
   "cell_type": "code",
   "execution_count": 30,
   "metadata": {},
   "outputs": [
    {
     "name": "stderr",
     "output_type": "stream",
     "text": [
      "2022-01-10 21:13:38.655 | INFO     | src.data.make_dataset:impute_price:136 - Impute bond price\n"
     ]
    }
   ],
   "source": [
    "df_price = make_dataset.impute_price(df_price)"
   ]
  },
  {
   "cell_type": "code",
   "execution_count": null,
   "metadata": {},
   "outputs": [],
   "source": [
    "df_price.head()"
   ]
  },
  {
   "cell_type": "code",
   "execution_count": null,
   "metadata": {},
   "outputs": [],
   "source": [
    "df_price.describe()"
   ]
  },
  {
   "cell_type": "code",
   "execution_count": null,
   "metadata": {},
   "outputs": [],
   "source": [
    "df_price.info()"
   ]
  },
  {
   "cell_type": "code",
   "execution_count": null,
   "metadata": {},
   "outputs": [],
   "source": [
    "make_dataset.save_pkl('price', df_price)"
   ]
  },
  {
   "cell_type": "markdown",
   "metadata": {},
   "source": [
    "# Government Yield curves"
   ]
  },
  {
   "cell_type": "code",
   "execution_count": null,
   "metadata": {},
   "outputs": [],
   "source": [
    "df_yield = make_dataset.get_yield()"
   ]
  },
  {
   "cell_type": "code",
   "execution_count": null,
   "metadata": {},
   "outputs": [],
   "source": [
    "df_yield.info()"
   ]
  },
  {
   "cell_type": "code",
   "execution_count": null,
   "metadata": {},
   "outputs": [],
   "source": [
    "df_yield = make_dataset.impute_yield(df_yield)"
   ]
  },
  {
   "cell_type": "code",
   "execution_count": null,
   "metadata": {},
   "outputs": [],
   "source": [
    "df_yield.tail()"
   ]
  },
  {
   "cell_type": "code",
   "execution_count": null,
   "metadata": {},
   "outputs": [],
   "source": [
    "df_yield.info()"
   ]
  },
  {
   "cell_type": "code",
   "execution_count": null,
   "metadata": {},
   "outputs": [],
   "source": [
    "make_dataset.save_pkl('yield', df_yield)"
   ]
  },
  {
   "cell_type": "markdown",
   "metadata": {},
   "source": [
    "# Inflation data\n"
   ]
  },
  {
   "cell_type": "code",
   "execution_count": null,
   "metadata": {},
   "outputs": [],
   "source": [
    "df_inflation = make_dataset.get_inflation()  "
   ]
  },
  {
   "cell_type": "code",
   "execution_count": null,
   "metadata": {},
   "outputs": [],
   "source": [
    "df_inflation = make_dataset.impute_inflation(df_inflation)\n",
    "\n",
    "\n",
    "df_inflation.info()"
   ]
  },
  {
   "cell_type": "code",
   "execution_count": null,
   "metadata": {},
   "outputs": [],
   "source": [
    "df_inflation.head()"
   ]
  },
  {
   "cell_type": "code",
   "execution_count": null,
   "metadata": {},
   "outputs": [],
   "source": [
    "make_dataset.save_pkl('inflation', df_inflation)"
   ]
  },
  {
   "cell_type": "code",
   "execution_count": null,
   "metadata": {},
   "outputs": [],
   "source": [
    "df_bp = make_dataset.join_price(df_bonds,df_price )\n",
    "df_bp = build_features.add_duration(df_bp)"
   ]
  },
  {
   "cell_type": "markdown",
   "metadata": {},
   "source": [
    "Om de termspread toe te kunnen voegen moeten we de bond data joinen met de government yield. Hierdoor hebben we minder data beschikbaar.\n",
    "De vraag is of dit nodig is (of dat het model dit zelf uit kan vogelen)\n",
    "\n",
    "Hoe meer data we joinen - hoe meer data we kwijt raken. "
   ]
  },
  {
   "cell_type": "code",
   "execution_count": null,
   "metadata": {},
   "outputs": [],
   "source": [
    "df_bpy = make_dataset.join_yield(df_bp, df_yield)\n",
    "df_bpy = build_features.add_term_spread(df_bpy)\n",
    "df_bpy = build_features.add_bid_offer_spread(df_bpy)\n",
    "df_bpy.info()"
   ]
  },
  {
   "cell_type": "code",
   "execution_count": null,
   "metadata": {},
   "outputs": [],
   "source": [
    "df_tf = make_dataset.build_simple_input(df_bonds, df_price)\n"
   ]
  },
  {
   "cell_type": "markdown",
   "metadata": {},
   "source": [
    "All in one make statement...\n",
    "\n",
    "(dit duurt ongeveer 1min, 20sec)"
   ]
  },
  {
   "cell_type": "code",
   "execution_count": 28,
   "metadata": {},
   "outputs": [
    {
     "name": "stderr",
     "output_type": "stream",
     "text": [
      "2022-01-10 21:09:15.553 | INFO     | src.data.make_dataset:get_bond_data:42 - Load bond data\n",
      "2022-01-10 21:09:15.554 | INFO     | src.data.make_dataset:read_csv:27 - Loading data from ..\\data\\raw\\bonds.csv\n",
      "2022-01-10 21:09:15.574 | INFO     | src.data.make_dataset:impute_bonds:81 - Impute bond data\n",
      "2022-01-10 21:09:15.908 | INFO     | src.data.make_dataset:save_pkl:360 - Save preprocessed bonds data\n",
      "2022-01-10 21:09:15.925 | INFO     | src.data.make_dataset:get_price:110 - Load bond price data\n",
      "2022-01-10 21:09:15.925 | INFO     | src.data.make_dataset:read_csv:27 - Loading data from ..\\data\\raw\\price.csv\n",
      "2022-01-10 21:09:16.308 | INFO     | src.data.make_dataset:impute_price:133 - Impute bond price\n",
      "2022-01-10 21:09:16.334 | INFO     | src.data.make_dataset:save_pkl:360 - Save preprocessed price data\n",
      "2022-01-10 21:09:20.021 | INFO     | src.data.make_dataset:get_yield:146 - Load goverment yield curve data\n",
      "2022-01-10 21:09:20.022 | INFO     | src.data.make_dataset:read_csv:27 - Loading data from ..\\data\\raw\\yield.csv\n",
      "2022-01-10 21:09:20.872 | INFO     | src.data.make_dataset:impute_yield:176 - Impute yield curve\n",
      "2022-01-10 21:09:21.191 | INFO     | src.data.make_dataset:save_pkl:360 - Save preprocessed yield data\n",
      "2022-01-10 21:09:25.295 | INFO     | src.data.make_dataset:get_inflation:202 - Load goverment yield curve data\n",
      "2022-01-10 21:09:25.296 | INFO     | src.data.make_dataset:read_csv:27 - Loading data from ..\\data\\raw\\DE Inflation.csv\n",
      "2022-01-10 21:09:25.311 | INFO     | src.data.make_dataset:read_csv:27 - Loading data from ..\\data\\raw\\FR Inflation.csv\n",
      "2022-01-10 21:09:25.328 | INFO     | src.data.make_dataset:read_csv:27 - Loading data from ..\\data\\raw\\ES Inflation.csv\n",
      "2022-01-10 21:09:25.344 | INFO     | src.data.make_dataset:read_csv:27 - Loading data from ..\\data\\raw\\IT Inflation.csv\n",
      "2022-01-10 21:09:25.361 | INFO     | src.data.make_dataset:read_csv:27 - Loading data from ..\\data\\raw\\US Inflation.csv\n",
      "2022-01-10 21:09:40.714 | INFO     | src.data.make_dataset:impute_inflation:230 - Impute inflation curve\n",
      "2022-01-10 21:09:41.227 | INFO     | src.data.make_dataset:save_pkl:360 - Save preprocessed inflation data\n",
      "2022-01-10 21:09:51.061 | INFO     | src.data.make_dataset:save_pkl:360 - Save preprocessed bp data\n",
      "2022-01-10 21:10:07.639 | INFO     | src.features.build_features:add_duration:13 - Add remaining duration...\n",
      "2022-01-10 21:10:07.680 | INFO     | src.features.build_features:encode_coupon_freq:22 - Encode coupon frequency coupon_frq\n",
      "2022-01-10 21:10:07.698 | INFO     | src.features.build_features:encode_cfi:50 - Encode CFI Code column cfi_code\n",
      "2022-01-10 21:10:08.089 | INFO     | src.data.make_dataset:save_pkl:360 - Save preprocessed tf data\n",
      "2022-01-10 21:10:22.212 | INFO     | src.features.build_features:add_term_spread:63 - Add term spread...\n",
      "2022-01-10 21:10:22.216 | INFO     | src.features.build_features:add_bid_offer_spread:74 - Add bid offer spread...\n",
      "2022-01-10 21:10:22.438 | INFO     | src.data.make_dataset:save_pkl:360 - Save preprocessed bpy data\n"
     ]
    }
   ],
   "source": [
    "make_dataset.make_data()"
   ]
  }
 ],
 "metadata": {
  "interpreter": {
   "hash": "11ceafc7b78f5f3763c3d9a031e4cc9e8924ad6b8398b171c2d2e49c83b2b56a"
  },
  "kernelspec": {
   "display_name": "Python 3.8.10 64-bit ('timeseries-NkPdx04N-py3.8': venv)",
   "language": "python",
   "name": "python3"
  },
  "language_info": {
   "codemirror_mode": {
    "name": "ipython",
    "version": 3
   },
   "file_extension": ".py",
   "mimetype": "text/x-python",
   "name": "python",
   "nbconvert_exporter": "python",
   "pygments_lexer": "ipython3",
   "version": "3.8.10"
  },
  "orig_nbformat": 4
 },
 "nbformat": 4,
 "nbformat_minor": 2
}
