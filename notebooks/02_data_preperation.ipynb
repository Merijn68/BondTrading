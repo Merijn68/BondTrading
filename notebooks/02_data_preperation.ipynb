{
 "cells": [
  {
   "cell_type": "markdown",
   "metadata": {},
   "source": [
    "# Data voorbewerking"
   ]
  },
  {
   "cell_type": "markdown",
   "metadata": {},
   "source": [
    "De data voor dit project is afkomstig van het back office systeem van de Volksbank Financial Markets, deels aangevuld met extra data vanuit Bloomberg.\n",
    "De data voor dit onderzoek bestaat uit de volgende data sets:\n",
    "\n",
    "- Bond data\n",
    "- Bondprijzen\n",
    "- Government Yield curves\n",
    "- Inflation data\n",
    "\n",
    "Alle data is uit de bronsystemen geextraheerd en opgeslagen in csv files. In dit workbook lopen we door de data voorbereiding heen. Alle hier genoemde stappen kunnen ook geautomatiseerd worden uitgevoerd door het aanroepen van de make_data routine zoals te zien aan het eind van dit notebook."
   ]
  },
  {
   "cell_type": "code",
   "execution_count": 4,
   "metadata": {},
   "outputs": [
    {
     "name": "stdout",
     "output_type": "stream",
     "text": [
      "The autoreload extension is already loaded. To reload it, use:\n",
      "  %reload_ext autoreload\n"
     ]
    }
   ],
   "source": [
    "%load_ext autoreload\n",
    "%autoreload 2\n",
    "\n",
    "import sys\n",
    "import pandas as pd\n",
    "\n",
    "sys.path.insert(0, \"..\") \n",
    "from src.data import make_dataset, join_data\n",
    "from src.features import build_features"
   ]
  },
  {
   "cell_type": "markdown",
   "metadata": {},
   "source": [
    "# Bond data"
   ]
  },
  {
   "cell_type": "code",
   "execution_count": 8,
   "metadata": {},
   "outputs": [
    {
     "name": "stderr",
     "output_type": "stream",
     "text": [
      "2022-01-27 21:47:14.273 | INFO     | src.data.make_dataset:get_bond_data:34 - Load bond data\n",
      "2022-01-27 21:47:14.274 | INFO     | src.data.make_dataset:read_csv:23 - Loading data from ..\\data\\raw\\bonds.csv\n"
     ]
    }
   ],
   "source": [
    "\n",
    "# Get bond data, drop unneeded columns, convert formats and strip training blanks\n",
    "df_bonds = make_dataset.get_bond_data()"
   ]
  },
  {
   "cell_type": "markdown",
   "metadata": {},
   "source": [
    "Imputeren ontbrekende waarden voor issue rating. \n",
    "Issue rating wordt waar deze ontbreekt ingevuld met de meest voorkomende issue rating voor de issuer.\n",
    "\n",
    "CFI code wordt waar deze ontbreekt ingevuld met code 'onbekend' = DXXXXX.\n",
    "\n",
    "Datums met de waarde 1899-12-30 zijn default waardes van het bronsysteem. Deze worden verwijderd.\n",
    "Daar waar de eerste coupon datum ontbreekt (o.a. zero coupon bonds) - wordt deze aangevuld met de issue datum.\n",
    "De reden hiervoor is dat we zo zonder veel moeite de looptijd van de bond kunnen berekenen."
   ]
  },
  {
   "cell_type": "code",
   "execution_count": 9,
   "metadata": {},
   "outputs": [
    {
     "name": "stderr",
     "output_type": "stream",
     "text": [
      "2022-01-27 21:47:19.816 | INFO     | src.data.make_dataset:impute_bonds:73 - Impute bond data\n"
     ]
    }
   ],
   "source": [
    "df_bonds = make_dataset.impute_bonds(df_bonds)"
   ]
  },
  {
   "cell_type": "code",
   "execution_count": 11,
   "metadata": {},
   "outputs": [
    {
     "name": "stdout",
     "output_type": "stream",
     "text": [
      "<class 'pandas.core.frame.DataFrame'>\n",
      "Int64Index: 226 entries, 0 to 229\n",
      "Data columns (total 15 columns):\n",
      " #   Column             Non-Null Count  Dtype         \n",
      "---  ------             --------------  -----         \n",
      " 0   ccy                226 non-null    string        \n",
      " 1   country            226 non-null    string        \n",
      " 2   bond_ext_name      226 non-null    string        \n",
      " 3   issue_dt           226 non-null    datetime64[ns]\n",
      " 4   first_coupon_date  226 non-null    datetime64[ns]\n",
      " 5   mature_dt          226 non-null    datetime64[ns]\n",
      " 6   isin               226 non-null    string        \n",
      " 7   issuer_name        226 non-null    string        \n",
      " 8   coupon_frq         226 non-null    string        \n",
      " 9   coupon             226 non-null    float64       \n",
      " 10  tot_issue          226 non-null    float64       \n",
      " 11  cfi_code           226 non-null    string        \n",
      " 12  issue_rating       226 non-null    string        \n",
      " 13  bond_duration      226 non-null    int64         \n",
      " 14  issue              226 non-null    string        \n",
      "dtypes: datetime64[ns](3), float64(2), int64(1), string(9)\n",
      "memory usage: 28.2 KB\n"
     ]
    }
   ],
   "source": [
    "df_bonds.info()\n"
   ]
  },
  {
   "cell_type": "code",
   "execution_count": 12,
   "metadata": {},
   "outputs": [
    {
     "name": "stderr",
     "output_type": "stream",
     "text": [
      "2022-01-27 21:47:34.784 | INFO     | src.data.make_dataset:save_pkl:322 - Save preprocessed bonds data\n"
     ]
    }
   ],
   "source": [
    "make_dataset.save_pkl('bonds', df_bonds)"
   ]
  },
  {
   "cell_type": "markdown",
   "metadata": {},
   "source": [
    "# Bondprijzen"
   ]
  },
  {
   "cell_type": "code",
   "execution_count": 13,
   "metadata": {},
   "outputs": [
    {
     "name": "stderr",
     "output_type": "stream",
     "text": [
      "2022-01-27 21:47:36.809 | INFO     | src.data.make_dataset:get_price:107 - Load bond price data\n",
      "2022-01-27 21:47:36.810 | INFO     | src.data.make_dataset:read_csv:23 - Loading data from ..\\data\\raw\\price.csv\n"
     ]
    }
   ],
   "source": [
    "df_price = make_dataset.get_price()"
   ]
  },
  {
   "cell_type": "code",
   "execution_count": 14,
   "metadata": {},
   "outputs": [
    {
     "name": "stderr",
     "output_type": "stream",
     "text": [
      "2022-01-27 21:47:38.698 | INFO     | src.data.make_dataset:impute_price:131 - Impute bond price\n"
     ]
    }
   ],
   "source": [
    "df_price = make_dataset.impute_price(df_price)"
   ]
  },
  {
   "cell_type": "code",
   "execution_count": 15,
   "metadata": {},
   "outputs": [
    {
     "data": {
      "text/html": [
       "<div>\n",
       "<style scoped>\n",
       "    .dataframe tbody tr th:only-of-type {\n",
       "        vertical-align: middle;\n",
       "    }\n",
       "\n",
       "    .dataframe tbody tr th {\n",
       "        vertical-align: top;\n",
       "    }\n",
       "\n",
       "    .dataframe thead th {\n",
       "        text-align: right;\n",
       "    }\n",
       "</style>\n",
       "<table border=\"1\" class=\"dataframe\">\n",
       "  <thead>\n",
       "    <tr style=\"text-align: right;\">\n",
       "      <th></th>\n",
       "      <th>reference_identifier</th>\n",
       "      <th>ccy</th>\n",
       "      <th>rate_dt</th>\n",
       "      <th>mid</th>\n",
       "      <th>lastday</th>\n",
       "    </tr>\n",
       "  </thead>\n",
       "  <tbody>\n",
       "    <tr>\n",
       "      <th>0</th>\n",
       "      <td>DE0001135143</td>\n",
       "      <td>EUR</td>\n",
       "      <td>2010-12-17</td>\n",
       "      <td>136.760</td>\n",
       "      <td>2010-12-31</td>\n",
       "    </tr>\n",
       "    <tr>\n",
       "      <th>1</th>\n",
       "      <td>NL0000102275</td>\n",
       "      <td>EUR</td>\n",
       "      <td>2010-12-17</td>\n",
       "      <td>103.390</td>\n",
       "      <td>2010-12-31</td>\n",
       "    </tr>\n",
       "    <tr>\n",
       "      <th>2</th>\n",
       "      <td>DE0001135424</td>\n",
       "      <td>EUR</td>\n",
       "      <td>2010-12-17</td>\n",
       "      <td>95.453</td>\n",
       "      <td>2010-12-31</td>\n",
       "    </tr>\n",
       "    <tr>\n",
       "      <th>3</th>\n",
       "      <td>NL0009446418</td>\n",
       "      <td>EUR</td>\n",
       "      <td>2010-12-17</td>\n",
       "      <td>102.690</td>\n",
       "      <td>2010-12-31</td>\n",
       "    </tr>\n",
       "    <tr>\n",
       "      <th>4</th>\n",
       "      <td>NL0000102234</td>\n",
       "      <td>EUR</td>\n",
       "      <td>2010-12-17</td>\n",
       "      <td>106.220</td>\n",
       "      <td>2010-12-31</td>\n",
       "    </tr>\n",
       "  </tbody>\n",
       "</table>\n",
       "</div>"
      ],
      "text/plain": [
       "  reference_identifier  ccy    rate_dt      mid     lastday\n",
       "0         DE0001135143  EUR 2010-12-17  136.760  2010-12-31\n",
       "1         NL0000102275  EUR 2010-12-17  103.390  2010-12-31\n",
       "2         DE0001135424  EUR 2010-12-17   95.453  2010-12-31\n",
       "3         NL0009446418  EUR 2010-12-17  102.690  2010-12-31\n",
       "4         NL0000102234  EUR 2010-12-17  106.220  2010-12-31"
      ]
     },
     "execution_count": 15,
     "metadata": {},
     "output_type": "execute_result"
    }
   ],
   "source": [
    "df_price.head()"
   ]
  },
  {
   "cell_type": "code",
   "execution_count": 16,
   "metadata": {},
   "outputs": [
    {
     "data": {
      "text/html": [
       "<div>\n",
       "<style scoped>\n",
       "    .dataframe tbody tr th:only-of-type {\n",
       "        vertical-align: middle;\n",
       "    }\n",
       "\n",
       "    .dataframe tbody tr th {\n",
       "        vertical-align: top;\n",
       "    }\n",
       "\n",
       "    .dataframe thead th {\n",
       "        text-align: right;\n",
       "    }\n",
       "</style>\n",
       "<table border=\"1\" class=\"dataframe\">\n",
       "  <thead>\n",
       "    <tr style=\"text-align: right;\">\n",
       "      <th></th>\n",
       "      <th>mid</th>\n",
       "    </tr>\n",
       "  </thead>\n",
       "  <tbody>\n",
       "    <tr>\n",
       "      <th>count</th>\n",
       "      <td>223950.000000</td>\n",
       "    </tr>\n",
       "    <tr>\n",
       "      <th>mean</th>\n",
       "      <td>110.800750</td>\n",
       "    </tr>\n",
       "    <tr>\n",
       "      <th>std</th>\n",
       "      <td>15.315898</td>\n",
       "    </tr>\n",
       "    <tr>\n",
       "      <th>min</th>\n",
       "      <td>84.429000</td>\n",
       "    </tr>\n",
       "    <tr>\n",
       "      <th>25%</th>\n",
       "      <td>102.137000</td>\n",
       "    </tr>\n",
       "    <tr>\n",
       "      <th>50%</th>\n",
       "      <td>106.278000</td>\n",
       "    </tr>\n",
       "    <tr>\n",
       "      <th>75%</th>\n",
       "      <td>112.225000</td>\n",
       "    </tr>\n",
       "    <tr>\n",
       "      <th>max</th>\n",
       "      <td>195.749000</td>\n",
       "    </tr>\n",
       "  </tbody>\n",
       "</table>\n",
       "</div>"
      ],
      "text/plain": [
       "                 mid\n",
       "count  223950.000000\n",
       "mean      110.800750\n",
       "std        15.315898\n",
       "min        84.429000\n",
       "25%       102.137000\n",
       "50%       106.278000\n",
       "75%       112.225000\n",
       "max       195.749000"
      ]
     },
     "execution_count": 16,
     "metadata": {},
     "output_type": "execute_result"
    }
   ],
   "source": [
    "df_price.describe()"
   ]
  },
  {
   "cell_type": "code",
   "execution_count": 17,
   "metadata": {},
   "outputs": [
    {
     "name": "stdout",
     "output_type": "stream",
     "text": [
      "<class 'pandas.core.frame.DataFrame'>\n",
      "Int64Index: 223950 entries, 0 to 235985\n",
      "Data columns (total 5 columns):\n",
      " #   Column                Non-Null Count   Dtype         \n",
      "---  ------                --------------   -----         \n",
      " 0   reference_identifier  223950 non-null  string        \n",
      " 1   ccy                   223950 non-null  string        \n",
      " 2   rate_dt               223950 non-null  datetime64[ns]\n",
      " 3   mid                   223950 non-null  float64       \n",
      " 4   lastday               223950 non-null  object        \n",
      "dtypes: datetime64[ns](1), float64(1), object(1), string(2)\n",
      "memory usage: 10.3+ MB\n"
     ]
    }
   ],
   "source": [
    "df_price.info()"
   ]
  },
  {
   "cell_type": "code",
   "execution_count": 18,
   "metadata": {},
   "outputs": [
    {
     "name": "stderr",
     "output_type": "stream",
     "text": [
      "2022-01-27 21:47:47.932 | INFO     | src.data.make_dataset:save_pkl:322 - Save preprocessed price data\n"
     ]
    }
   ],
   "source": [
    "make_dataset.save_pkl('price', df_price)"
   ]
  },
  {
   "cell_type": "markdown",
   "metadata": {},
   "source": [
    "# Government Yield curves"
   ]
  },
  {
   "cell_type": "code",
   "execution_count": 19,
   "metadata": {},
   "outputs": [
    {
     "name": "stderr",
     "output_type": "stream",
     "text": [
      "2022-01-27 21:47:51.860 | INFO     | src.data.make_dataset:get_yield:149 - Load goverment yield curve data\n",
      "2022-01-27 21:47:51.862 | INFO     | src.data.make_dataset:read_csv:23 - Loading data from ..\\data\\raw\\yield.csv\n"
     ]
    }
   ],
   "source": [
    "df_yield = make_dataset.get_yield()"
   ]
  },
  {
   "cell_type": "code",
   "execution_count": 20,
   "metadata": {},
   "outputs": [
    {
     "name": "stderr",
     "output_type": "stream",
     "text": [
      "2022-01-27 21:47:53.842 | INFO     | src.data.make_dataset:impute_yield:180 - Impute yield curve\n"
     ]
    }
   ],
   "source": [
    "df_yield = make_dataset.impute_yield(df_yield)"
   ]
  },
  {
   "cell_type": "code",
   "execution_count": 21,
   "metadata": {},
   "outputs": [
    {
     "data": {
      "text/html": [
       "<div>\n",
       "<style scoped>\n",
       "    .dataframe tbody tr th:only-of-type {\n",
       "        vertical-align: middle;\n",
       "    }\n",
       "\n",
       "    .dataframe tbody tr th {\n",
       "        vertical-align: top;\n",
       "    }\n",
       "\n",
       "    .dataframe thead th {\n",
       "        text-align: right;\n",
       "    }\n",
       "</style>\n",
       "<table border=\"1\" class=\"dataframe\">\n",
       "  <thead>\n",
       "    <tr style=\"text-align: right;\">\n",
       "      <th></th>\n",
       "      <th>country</th>\n",
       "      <th>rate_dt</th>\n",
       "      <th>timeband</th>\n",
       "      <th>ratename</th>\n",
       "      <th>ccy</th>\n",
       "      <th>actual_dt</th>\n",
       "      <th>datedays</th>\n",
       "      <th>bid</th>\n",
       "      <th>offer</th>\n",
       "      <th>int_basis</th>\n",
       "      <th>time</th>\n",
       "      <th>mid</th>\n",
       "    </tr>\n",
       "  </thead>\n",
       "  <tbody>\n",
       "    <tr>\n",
       "      <th>117793</th>\n",
       "      <td>Spain</td>\n",
       "      <td>2022-01-07</td>\n",
       "      <td>5 YEARS</td>\n",
       "      <td>GOV Yield Curve ES BB</td>\n",
       "      <td>EUR</td>\n",
       "      <td>2027-01-07</td>\n",
       "      <td>1830</td>\n",
       "      <td>0.026</td>\n",
       "      <td>0.013</td>\n",
       "      <td>ANNUAL</td>\n",
       "      <td>1826 days</td>\n",
       "      <td>0.0195</td>\n",
       "    </tr>\n",
       "    <tr>\n",
       "      <th>117795</th>\n",
       "      <td>Spain</td>\n",
       "      <td>2022-01-07</td>\n",
       "      <td>6 YEARS</td>\n",
       "      <td>GOV Yield Curve ES BB</td>\n",
       "      <td>EUR</td>\n",
       "      <td>2028-01-07</td>\n",
       "      <td>2195</td>\n",
       "      <td>0.097</td>\n",
       "      <td>0.079</td>\n",
       "      <td>ANNUAL</td>\n",
       "      <td>2191 days</td>\n",
       "      <td>0.0880</td>\n",
       "    </tr>\n",
       "    <tr>\n",
       "      <th>117796</th>\n",
       "      <td>Spain</td>\n",
       "      <td>2022-01-07</td>\n",
       "      <td>7 YEARS</td>\n",
       "      <td>GOV Yield Curve ES BB</td>\n",
       "      <td>EUR</td>\n",
       "      <td>2029-01-07</td>\n",
       "      <td>2561</td>\n",
       "      <td>0.175</td>\n",
       "      <td>0.158</td>\n",
       "      <td>ANNUAL</td>\n",
       "      <td>2557 days</td>\n",
       "      <td>0.1665</td>\n",
       "    </tr>\n",
       "    <tr>\n",
       "      <th>117797</th>\n",
       "      <td>Spain</td>\n",
       "      <td>2022-01-07</td>\n",
       "      <td>8 YEARS</td>\n",
       "      <td>GOV Yield Curve ES BB</td>\n",
       "      <td>EUR</td>\n",
       "      <td>2030-01-07</td>\n",
       "      <td>2926</td>\n",
       "      <td>0.332</td>\n",
       "      <td>0.319</td>\n",
       "      <td>ANNUAL</td>\n",
       "      <td>2922 days</td>\n",
       "      <td>0.3255</td>\n",
       "    </tr>\n",
       "    <tr>\n",
       "      <th>117799</th>\n",
       "      <td>Spain</td>\n",
       "      <td>2022-01-07</td>\n",
       "      <td>9 YEARS</td>\n",
       "      <td>GOV Yield Curve ES BB</td>\n",
       "      <td>EUR</td>\n",
       "      <td>2031-01-07</td>\n",
       "      <td>3293</td>\n",
       "      <td>0.489</td>\n",
       "      <td>0.477</td>\n",
       "      <td>ANNUAL</td>\n",
       "      <td>3287 days</td>\n",
       "      <td>0.4830</td>\n",
       "    </tr>\n",
       "  </tbody>\n",
       "</table>\n",
       "</div>"
      ],
      "text/plain": [
       "       country    rate_dt timeband               ratename  ccy  actual_dt  \\\n",
       "117793   Spain 2022-01-07  5 YEARS  GOV Yield Curve ES BB  EUR 2027-01-07   \n",
       "117795   Spain 2022-01-07  6 YEARS  GOV Yield Curve ES BB  EUR 2028-01-07   \n",
       "117796   Spain 2022-01-07  7 YEARS  GOV Yield Curve ES BB  EUR 2029-01-07   \n",
       "117797   Spain 2022-01-07  8 YEARS  GOV Yield Curve ES BB  EUR 2030-01-07   \n",
       "117799   Spain 2022-01-07  9 YEARS  GOV Yield Curve ES BB  EUR 2031-01-07   \n",
       "\n",
       "        datedays    bid  offer int_basis      time     mid  \n",
       "117793      1830  0.026  0.013    ANNUAL 1826 days  0.0195  \n",
       "117795      2195  0.097  0.079    ANNUAL 2191 days  0.0880  \n",
       "117796      2561  0.175  0.158    ANNUAL 2557 days  0.1665  \n",
       "117797      2926  0.332  0.319    ANNUAL 2922 days  0.3255  \n",
       "117799      3293  0.489  0.477    ANNUAL 3287 days  0.4830  "
      ]
     },
     "execution_count": 21,
     "metadata": {},
     "output_type": "execute_result"
    }
   ],
   "source": [
    "df_yield.tail()"
   ]
  },
  {
   "cell_type": "code",
   "execution_count": 22,
   "metadata": {},
   "outputs": [
    {
     "name": "stdout",
     "output_type": "stream",
     "text": [
      "<class 'pandas.core.frame.DataFrame'>\n",
      "Int64Index: 90506 entries, 1 to 117799\n",
      "Data columns (total 12 columns):\n",
      " #   Column     Non-Null Count  Dtype          \n",
      "---  ------     --------------  -----          \n",
      " 0   country    90506 non-null  string         \n",
      " 1   rate_dt    90506 non-null  datetime64[ns] \n",
      " 2   timeband   90506 non-null  string         \n",
      " 3   ratename   90506 non-null  string         \n",
      " 4   ccy        90506 non-null  string         \n",
      " 5   actual_dt  90506 non-null  datetime64[ns] \n",
      " 6   datedays   90506 non-null  int64          \n",
      " 7   bid        90506 non-null  float64        \n",
      " 8   offer      90506 non-null  float64        \n",
      " 9   int_basis  90506 non-null  string         \n",
      " 10  time       90506 non-null  timedelta64[ns]\n",
      " 11  mid        90506 non-null  float64        \n",
      "dtypes: datetime64[ns](2), float64(3), int64(1), string(5), timedelta64[ns](1)\n",
      "memory usage: 9.0 MB\n"
     ]
    }
   ],
   "source": [
    "df_yield.info()"
   ]
  },
  {
   "cell_type": "code",
   "execution_count": 23,
   "metadata": {},
   "outputs": [
    {
     "name": "stderr",
     "output_type": "stream",
     "text": [
      "2022-01-27 21:47:59.887 | INFO     | src.data.make_dataset:save_pkl:322 - Save preprocessed yield data\n"
     ]
    }
   ],
   "source": [
    "make_dataset.save_pkl('yield', df_yield)"
   ]
  },
  {
   "cell_type": "markdown",
   "metadata": {},
   "source": [
    "# Inflation data\n"
   ]
  },
  {
   "cell_type": "code",
   "execution_count": 24,
   "metadata": {},
   "outputs": [
    {
     "name": "stderr",
     "output_type": "stream",
     "text": [
      "2022-01-27 21:48:04.092 | INFO     | src.data.make_dataset:get_inflation:207 - Load goverment yield curve data\n",
      "2022-01-27 21:48:04.093 | INFO     | src.data.make_dataset:read_csv:23 - Loading data from ..\\data\\raw\\DE Inflation.csv\n",
      "2022-01-27 21:48:04.111 | INFO     | src.data.make_dataset:read_csv:23 - Loading data from ..\\data\\raw\\FR Inflation.csv\n",
      "2022-01-27 21:48:04.128 | INFO     | src.data.make_dataset:read_csv:23 - Loading data from ..\\data\\raw\\ES Inflation.csv\n",
      "2022-01-27 21:48:04.147 | INFO     | src.data.make_dataset:read_csv:23 - Loading data from ..\\data\\raw\\IT Inflation.csv\n",
      "2022-01-27 21:48:04.166 | INFO     | src.data.make_dataset:read_csv:23 - Loading data from ..\\data\\raw\\US Inflation.csv\n"
     ]
    }
   ],
   "source": [
    "df_inflation = make_dataset.get_inflation()  "
   ]
  },
  {
   "cell_type": "code",
   "execution_count": 25,
   "metadata": {},
   "outputs": [
    {
     "name": "stderr",
     "output_type": "stream",
     "text": [
      "2022-01-27 21:48:20.253 | INFO     | src.data.make_dataset:impute_inflation:235 - Impute inflation curve\n"
     ]
    }
   ],
   "source": [
    "df_inflation = make_dataset.impute_inflation(df_inflation)"
   ]
  },
  {
   "cell_type": "code",
   "execution_count": 26,
   "metadata": {},
   "outputs": [
    {
     "name": "stdout",
     "output_type": "stream",
     "text": [
      "<class 'pandas.core.frame.DataFrame'>\n",
      "Int64Index: 215007 entries, 0 to 216873\n",
      "Data columns (total 7 columns):\n",
      " #   Column     Non-Null Count   Dtype          \n",
      "---  ------     --------------   -----          \n",
      " 0   country    215007 non-null  string         \n",
      " 1   rate_dt    215007 non-null  datetime64[ns] \n",
      " 2   timeband   215007 non-null  string         \n",
      " 3   inflation  215007 non-null  float64        \n",
      " 4   ratename   215007 non-null  string         \n",
      " 5   actual_dt  215007 non-null  datetime64[ns] \n",
      " 6   time       215007 non-null  timedelta64[ns]\n",
      "dtypes: datetime64[ns](2), float64(1), string(3), timedelta64[ns](1)\n",
      "memory usage: 13.1 MB\n"
     ]
    }
   ],
   "source": [
    "df_inflation.info()"
   ]
  },
  {
   "cell_type": "code",
   "execution_count": 27,
   "metadata": {},
   "outputs": [
    {
     "data": {
      "text/html": [
       "<div>\n",
       "<style scoped>\n",
       "    .dataframe tbody tr th:only-of-type {\n",
       "        vertical-align: middle;\n",
       "    }\n",
       "\n",
       "    .dataframe tbody tr th {\n",
       "        vertical-align: top;\n",
       "    }\n",
       "\n",
       "    .dataframe thead th {\n",
       "        text-align: right;\n",
       "    }\n",
       "</style>\n",
       "<table border=\"1\" class=\"dataframe\">\n",
       "  <thead>\n",
       "    <tr style=\"text-align: right;\">\n",
       "      <th></th>\n",
       "      <th>country</th>\n",
       "      <th>rate_dt</th>\n",
       "      <th>timeband</th>\n",
       "      <th>inflation</th>\n",
       "      <th>ratename</th>\n",
       "      <th>actual_dt</th>\n",
       "      <th>time</th>\n",
       "    </tr>\n",
       "  </thead>\n",
       "  <tbody>\n",
       "    <tr>\n",
       "      <th>0</th>\n",
       "      <td>Germany</td>\n",
       "      <td>2021-12-23</td>\n",
       "      <td>1 YEAR</td>\n",
       "      <td>3.28625</td>\n",
       "      <td>Inflation</td>\n",
       "      <td>2022-12-23</td>\n",
       "      <td>365 days</td>\n",
       "    </tr>\n",
       "    <tr>\n",
       "      <th>1</th>\n",
       "      <td>Germany</td>\n",
       "      <td>2021-12-22</td>\n",
       "      <td>1 YEAR</td>\n",
       "      <td>3.33875</td>\n",
       "      <td>Inflation</td>\n",
       "      <td>2022-12-22</td>\n",
       "      <td>365 days</td>\n",
       "    </tr>\n",
       "    <tr>\n",
       "      <th>2</th>\n",
       "      <td>Germany</td>\n",
       "      <td>2021-12-21</td>\n",
       "      <td>1 YEAR</td>\n",
       "      <td>3.15625</td>\n",
       "      <td>Inflation</td>\n",
       "      <td>2022-12-21</td>\n",
       "      <td>365 days</td>\n",
       "    </tr>\n",
       "    <tr>\n",
       "      <th>3</th>\n",
       "      <td>Germany</td>\n",
       "      <td>2021-12-20</td>\n",
       "      <td>1 YEAR</td>\n",
       "      <td>3.01375</td>\n",
       "      <td>Inflation</td>\n",
       "      <td>2022-12-20</td>\n",
       "      <td>365 days</td>\n",
       "    </tr>\n",
       "    <tr>\n",
       "      <th>4</th>\n",
       "      <td>Germany</td>\n",
       "      <td>2021-12-17</td>\n",
       "      <td>1 YEAR</td>\n",
       "      <td>2.89875</td>\n",
       "      <td>Inflation</td>\n",
       "      <td>2022-12-17</td>\n",
       "      <td>365 days</td>\n",
       "    </tr>\n",
       "  </tbody>\n",
       "</table>\n",
       "</div>"
      ],
      "text/plain": [
       "   country    rate_dt timeband  inflation   ratename  actual_dt     time\n",
       "0  Germany 2021-12-23   1 YEAR    3.28625  Inflation 2022-12-23 365 days\n",
       "1  Germany 2021-12-22   1 YEAR    3.33875  Inflation 2022-12-22 365 days\n",
       "2  Germany 2021-12-21   1 YEAR    3.15625  Inflation 2022-12-21 365 days\n",
       "3  Germany 2021-12-20   1 YEAR    3.01375  Inflation 2022-12-20 365 days\n",
       "4  Germany 2021-12-17   1 YEAR    2.89875  Inflation 2022-12-17 365 days"
      ]
     },
     "execution_count": 27,
     "metadata": {},
     "output_type": "execute_result"
    }
   ],
   "source": [
    "df_inflation.head()"
   ]
  },
  {
   "cell_type": "code",
   "execution_count": 28,
   "metadata": {},
   "outputs": [
    {
     "name": "stderr",
     "output_type": "stream",
     "text": [
      "2022-01-27 21:48:21.172 | INFO     | src.data.make_dataset:save_pkl:322 - Save preprocessed inflation data\n"
     ]
    }
   ],
   "source": [
    "make_dataset.save_pkl('inflation', df_inflation)"
   ]
  },
  {
   "cell_type": "code",
   "execution_count": 29,
   "metadata": {},
   "outputs": [
    {
     "name": "stderr",
     "output_type": "stream",
     "text": [
      "2022-01-27 21:48:30.823 | INFO     | src.features.build_features:add_duration:13 - Add remaining duration...\n",
      "2022-01-27 21:48:30.837 | INFO     | src.data.make_dataset:save_pkl:322 - Save preprocessed bp data\n"
     ]
    }
   ],
   "source": [
    "df_bp = join_data.join_price(df_bonds,df_price )\n",
    "df_bp = build_features.add_duration(df_bp)\n",
    "make_dataset.save_pkl('bp', df_bp)\n"
   ]
  },
  {
   "cell_type": "markdown",
   "metadata": {},
   "source": [
    "Om de termspread toe te kunnen voegen moeten we de bond data joinen met de government yield. "
   ]
  },
  {
   "cell_type": "code",
   "execution_count": 30,
   "metadata": {},
   "outputs": [
    {
     "name": "stderr",
     "output_type": "stream",
     "text": [
      "2022-01-27 21:48:48.221 | INFO     | src.features.build_features:add_term_spread:64 - Add term spread...\n",
      "2022-01-27 21:48:48.226 | INFO     | src.features.build_features:add_bid_offer_spread:75 - Add bid offer spread...\n",
      "2022-01-27 21:48:48.510 | INFO     | src.data.make_dataset:save_pkl:322 - Save preprocessed bpy data\n"
     ]
    }
   ],
   "source": [
    "df_bpy = join_data.join_yield(df_bp, df_yield)\n",
    "df_bpy = build_features.add_term_spread(df_bpy)\n",
    "df_bpy = build_features.add_bid_offer_spread(df_bpy)\n",
    "make_dataset.save_pkl('bpy', df_bpy)"
   ]
  },
  {
   "cell_type": "markdown",
   "metadata": {},
   "source": [
    "All in one make statement...\n",
    "\n",
    "(dit duurt ongeveer 1min, 25sec)"
   ]
  },
  {
   "cell_type": "code",
   "execution_count": 31,
   "metadata": {},
   "outputs": [
    {
     "name": "stderr",
     "output_type": "stream",
     "text": [
      "2022-01-27 21:49:04.472 | INFO     | src.data.make_dataset:get_bond_data:34 - Load bond data\n",
      "2022-01-27 21:49:04.473 | INFO     | src.data.make_dataset:read_csv:23 - Loading data from ..\\data\\raw\\bonds.csv\n",
      "2022-01-27 21:49:04.496 | INFO     | src.data.make_dataset:impute_bonds:73 - Impute bond data\n",
      "2022-01-27 21:49:04.508 | INFO     | src.data.make_dataset:save_pkl:322 - Save preprocessed bonds data\n",
      "2022-01-27 21:49:04.564 | INFO     | src.data.make_dataset:get_price:107 - Load bond price data\n",
      "2022-01-27 21:49:04.565 | INFO     | src.data.make_dataset:read_csv:23 - Loading data from ..\\data\\raw\\price.csv\n",
      "2022-01-27 21:49:04.942 | INFO     | src.data.make_dataset:impute_price:131 - Impute bond price\n",
      "2022-01-27 21:49:05.154 | INFO     | src.data.make_dataset:save_pkl:322 - Save preprocessed price data\n",
      "2022-01-27 21:49:09.193 | INFO     | src.data.make_dataset:get_yield:149 - Load goverment yield curve data\n",
      "2022-01-27 21:49:09.194 | INFO     | src.data.make_dataset:read_csv:23 - Loading data from ..\\data\\raw\\yield.csv\n",
      "2022-01-27 21:49:10.019 | INFO     | src.data.make_dataset:impute_yield:180 - Impute yield curve\n",
      "2022-01-27 21:49:10.316 | INFO     | src.data.make_dataset:save_pkl:322 - Save preprocessed yield data\n",
      "2022-01-27 21:49:14.566 | INFO     | src.data.make_dataset:get_inflation:207 - Load goverment yield curve data\n",
      "2022-01-27 21:49:14.567 | INFO     | src.data.make_dataset:read_csv:23 - Loading data from ..\\data\\raw\\DE Inflation.csv\n",
      "2022-01-27 21:49:14.585 | INFO     | src.data.make_dataset:read_csv:23 - Loading data from ..\\data\\raw\\FR Inflation.csv\n",
      "2022-01-27 21:49:14.603 | INFO     | src.data.make_dataset:read_csv:23 - Loading data from ..\\data\\raw\\ES Inflation.csv\n",
      "2022-01-27 21:49:14.623 | INFO     | src.data.make_dataset:read_csv:23 - Loading data from ..\\data\\raw\\IT Inflation.csv\n",
      "2022-01-27 21:49:14.645 | INFO     | src.data.make_dataset:read_csv:23 - Loading data from ..\\data\\raw\\US Inflation.csv\n",
      "2022-01-27 21:49:31.193 | INFO     | src.data.make_dataset:impute_inflation:235 - Impute inflation curve\n",
      "2022-01-27 21:49:31.662 | INFO     | src.data.make_dataset:save_pkl:322 - Save preprocessed inflation data\n",
      "2022-01-27 21:49:42.529 | INFO     | src.features.build_features:add_duration:13 - Add remaining duration...\n",
      "2022-01-27 21:49:42.543 | INFO     | src.data.make_dataset:save_pkl:322 - Save preprocessed bp data\n",
      "2022-01-27 21:49:57.270 | INFO     | src.features.build_features:add_term_spread:64 - Add term spread...\n",
      "2022-01-27 21:49:57.274 | INFO     | src.features.build_features:add_bid_offer_spread:75 - Add bid offer spread...\n",
      "2022-01-27 21:49:57.516 | INFO     | src.data.make_dataset:save_pkl:322 - Save preprocessed bpy data\n"
     ]
    }
   ],
   "source": [
    "make_dataset.make_data()"
   ]
  }
 ],
 "metadata": {
  "interpreter": {
   "hash": "11ceafc7b78f5f3763c3d9a031e4cc9e8924ad6b8398b171c2d2e49c83b2b56a"
  },
  "kernelspec": {
   "display_name": "Python 3.8.10 64-bit ('timeseries-NkPdx04N-py3.8': venv)",
   "language": "python",
   "name": "python3"
  },
  "language_info": {
   "codemirror_mode": {
    "name": "ipython",
    "version": 3
   },
   "file_extension": ".py",
   "mimetype": "text/x-python",
   "name": "python",
   "nbconvert_exporter": "python",
   "pygments_lexer": "ipython3",
   "version": "3.8.10"
  },
  "orig_nbformat": 4
 },
 "nbformat": 4,
 "nbformat_minor": 2
}
