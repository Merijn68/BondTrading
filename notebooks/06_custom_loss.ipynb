{
 "cells": [
  {
   "cell_type": "markdown",
   "metadata": {},
   "source": [
    "Voor het kunnen handelen op de koersonwikkeling is de MSE loss functie onvoldoende. Op zijn minst zou ook de richting van de ontwikkelingen meegewogen moeten worden. \n",
    "Het is immers minder erg om bij een KOOP advies meer winst of minder te realiseren dan verwacht, dan om geld te verliezen. Alpha bepaald hoe zwaar de richting mee gerekend wordt in het model. Alpha zou een hyperparameter moeten zijn."
   ]
  },
  {
   "cell_type": "code",
   "execution_count": null,
   "metadata": {},
   "outputs": [],
   "source": [
    "# import tensorflow.keras.backend as kb\n",
    "\n",
    "# def custom_loss( y_true, y_pred):\n",
    "\n",
    "#     print( y_true.get_shape())\n",
    "#     print( y_pred.get_shape())\n",
    "\n",
    "#     y_true_next = y_true[1:]\n",
    "#     y_pred_next = y_pred[1:]\n",
    "#     y_true_tdy = y_true[:-1]\n",
    "#     y_pred_tdy = y_pred[:-1]\n",
    "\n",
    "#     #substract to get up/down movement of the two tensors\n",
    "#     y_true_diff = tf.subtract(y_true_next, y_true_tdy)\n",
    "#     y_pred_diff = tf.subtract(y_pred_next, y_pred_tdy)\n",
    "#     #create a standard tensor with zero value for comparison\n",
    "#     standard = tf.zeros_like(y_pred_diff)\n",
    "#     #compare with the standard; if true, UP; else DOWN\n",
    "#     y_true_move = tf.greater_equal(y_true_diff, standard)\n",
    "#     y_pred_move = tf.greater_equal(y_pred_diff, standard)\n",
    "\n",
    "#     # find indices where the directions are not the same\n",
    "#     condition = tf.not_equal(y_true_move, y_pred_move)\n",
    "#     indices = tf.where(condition)\n",
    "#     ones = tf.ones_like(indices)\n",
    "#     indices = tf.add(indices, ones)\n",
    "#     direction_loss = tf.Variable(tf.ones_like(y_pred), dtype='float32')\n",
    "#     updates = kb.cast(tf.ones_like(indices), dtype='float32')\n",
    "#     alpha = 1000\n",
    "#     direction_loss = tf.compat.v1.scatter_nd_update(direction_loss, indices, alpha*updates)\n",
    "#     custom_loss = kb.mean(tf.multiply(K.square(y_true - y_pred), direction_loss), axis=-1)\n",
    "#     return custom_loss"
   ]
  },
  {
   "cell_type": "code",
   "execution_count": null,
   "metadata": {},
   "outputs": [],
   "source": [
    "# See https://codeburst.io/neural-networks-for-algorithmic-trading-volatility-forecasting-and-custom-loss-functions-c030e316ea7e\n",
    "# deze loss functie houdt rekening met de richting van het verlies.\n",
    "\n",
    "#def stock_loss(y_true, y_pred):\n",
    "#    alpha = 100.\n",
    "#    loss = kb.switch(kb.less(y_true * y_pred, 0), \\\n",
    "#        alpha*y_pred**2 - kb.sign(y_true)*y_pred + kb.abs(y_true), \\\n",
    "#        kb.abs(y_true - y_pred)\n",
    "#        )\n",
    "#    return kb.mean(loss, axis=-1)"
   ]
  },
  {
   "cell_type": "code",
   "execution_count": null,
   "metadata": {},
   "outputs": [],
   "source": [
    "# lr = 1e-2\n",
    "# model.compile(loss=custom_loss, optimizer=Adam(learning_rate=lr), metrics=[\"mae\", smae])\n",
    "# model.fit(train_set,epochs=200, validation_data=valid_set, callbacks=[early_stop], verbose=1)"
   ]
  }
 ],
 "metadata": {
  "language_info": {
   "name": "python"
  },
  "orig_nbformat": 4
 },
 "nbformat": 4,
 "nbformat_minor": 2
}
