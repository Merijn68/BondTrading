{
 "cells": [
  {
   "cell_type": "markdown",
   "metadata": {},
   "source": [
    "# Tijdreeksanalyse van bondprijzen\n",
    "\n",
    "Voorspellen van prijzen van staatsobligaties op basis van marktdata met behulp van Neurale Netwerken"
   ]
  },
  {
   "cell_type": "markdown",
   "metadata": {},
   "source": [
    "### Business analyse\n",
    "\n",
    "Obligaties zijn een vorm van leningen van bedrijven en overheden aan investeerders. Het is een mogelijkheid om financiering aan te trekken. \n",
    "Over het algemeen moet na verloop van tijd op een afgesproken datum de hoofdsom worden terugbetaald. Tot die tijd ontvangt de geldschieter vaste rentebetalingen (Coupons). Obligatiehandel is een mogelijkheid om winst te maken door gebruik te maken van de prijsfluctuaties in deze obligaties. Hoewel aan het einde van de looptijd de waarde van de hoofdsom wordt terugbetaald, flucteert de marktwaarde gedurende de looptijd. Wanneer de rente bijvoorbeeld stijgt gaat de waarde van de bond omlaag. Andere investeringen worden dan aantrekkelijker dan de eerder uitgegeven bond. Naast rente speelt met name bij obligaties van bedrijven ook de kredietwaardigheid een belangrijke rol in de prijsstelling van de bond. De bondmarkt is traditioneel gezien minder liquide en minder transparant dan de aandelenmarkt. Typisch werden transacties 'Over the Counter' (OTC) afgesloten, waarbij de verschillende brokers (telefonisch) een prijs afgaven. De laatste jaren worden transacties echter vooral electronisch afgesloten en zijn instituties verplicht deze prijzen (met enige vertraging) te publiseren. Deze data is helaas voor dit onderzoek nog niet publiek beschikbaar. \n",
    "\n",
    "Met de automatisering van de bondhandel heeft ook algotrading in de bondhandel zijn intreden gedaan. In dit onderzoek wordt gekeken naar de mogelijkheden en onmogelijkheden van het gebruik van Neurale Netwerken bij de handel in staatsobligaties."
   ]
  },
  {
   "cell_type": "markdown",
   "metadata": {},
   "source": [
    "### Probleemstelling\n",
    "\n",
    "Er zijn op de markt veel verschillende issuers van obligaties actief. Dit onderzoek beperkt zich hierbij bewust tot vastrentende staatsobligaties met een looptijd van 10 jaar uitgegeven door een aantal landen binnen de Euro zone. De 10 jaars obligatie is een soort standaard en daarmee ook de meest liquide vorm. \n",
    "\n",
    "Voor de voorspellingen wordt uitgegaan van een tijdshorizon van 10 dagen. Dit is een redelijk gebruikelijke tijd om een bond binnen de trading portefeuille aan te houden. Rekening houdend met de noodzaak om de bonds ook fysiek te leveren - is een veel snellere omloopsnelheid waarschijnlijk wel mogelijk - maar vereist dit ook aanpassingen aan het back office proces. Daarnaast beschikken we voor dit onderzoek alleen over eindedaggegevens. Het is dus niet mogelijk om op intraday-fluctuaties in te spelen."
   ]
  },
  {
   "cell_type": "markdown",
   "metadata": {},
   "source": [
    "### Literatuuronderzoek\n",
    "\n",
    "Het voorspellen van bondprijzen is geen nieuw onderwerp - ook over de bond markt is al veel gepubliceerd. Ook worden algortimes al gebruikt in de bond handel. Details van de modellen die gebruikt worden zijn bedrijfsgeheim en worden daarbij niet gedeeld. Het algemene beeld is dat het lastig wordt. Prijzen van financiele instrumenten zijn stochastisch en laten zich niet goed voorspellen. \n",
    "\n",
    "Uit het literatuur ondezoek zijn de volgende factoren naar voren gekomen die van invloed zijn op de prijsvorming van staatsobligaties:\n",
    "- Karateristieken van de bond\n",
    "- Macro-economische vooruitzichten\n",
    "- Lange termijn rente verwachting\n",
    "- Schaarste (vraag en aanbod)\n",
    "- Kredietwaardigheid van het land\n",
    "- Verwachtingen van marktparticipanten\n",
    "\n",
    "Al met al is er een gebrek aan voorspellende indicatoren. Items die genoemd worden:\n",
    "- Bid - Ask Spread van geselecteerde bonds\n",
    "- Term spread - Verschil tussen korte en lange rente\n",
    "- Macro econmische indicatoren \n",
    "    - housing\n",
    "    - buiding permits\n",
    "    - Orders Consumenten\n",
    "- Verschil in rente tussen high grade en low grade bonds\n",
    "- Spreads tussen landen\n",
    "- Sentiment analyze van het nieuws?\n",
    "\n",
    "lange bonds hebben een hogere risico opslag dan kortlopende bonds. Kleine veranderingen in de rates hebben dan een groter effect op de prijs van langer lopende bonds. De waarde van een bond met een langere looptijd zal hierdoor sterker fluctureren. De term spread (het verschil tussen korte- en lange rente) is een indicatie voor de economische groei. Een negatieve term spread van staatsobligaties staat bekend als een indicator voor een aankomende recessie.\n"
   ]
  },
  {
   "cell_type": "markdown",
   "metadata": {},
   "source": [
    "### Data analyse\n",
    "\n",
    "De data voor dit onderzoek is afkomstig van de systemen van de Volksbank Financial Markets. Voor dit onderzoek wordt dagelijkse eindedags pricing data gebruikt van staatsobligaties. De details van de data preparatie worden in dit notebook uitgelegd [business understanding](https://github.com/Merijn68/BondTrading/blob/master/notebooks/02_data_preperation.ipynb)\n",
    "\n",
    "In de [data exploratie](https://github.com/Merijn68/BondTrading/blob/master/notebooks/03_data_exploratie.ipynb) wordt eerste blik geworpen op de data en gekeken naar de relaties binnen de datasets. De prijzen van bonds zijn onderling sterk gecorreleerd. De prijzen van bonds houden een direct verband met de rente curve - later berekenen we ook de intrisieke waarde van de obligatie aan de hand van de rente curves. De bondprijzen zijn ook duidelijk negatief gecorreleerd met de verwachte inflatie."
   ]
  },
  {
   "cell_type": "markdown",
   "metadata": {},
   "source": [
    "### Modelling"
   ]
  },
  {
   "cell_type": "markdown",
   "metadata": {},
   "source": [
    "Hoewel het om tijd serie data gaat, is er waarschijnlijk geen sprake van seizoensinvloeden of duidelijke trends. Bonds worden normaal geprijst gedurende werkdagen. In het weekend en op feestdagen zijn er geen bondgegevens aanwezig. In het vierde notebook [Base Modelling](https://github.com/Merijn68/BondTrading/blob/master/04_base_model.ipynb) zijn in eerste instantie de modellen alleen getraind op het signaal (de bondprijs). Dit om een goede baseline te krijgen en meer gevoel voor de data. Het is niet aannemelijk dat we alleen op basis van de historische prijsonwikkeling een goede inschatting kunnen maken van de bondprijs over 2 weken.\n",
    "\n",
    "Vanwege technische problemen met de installatie van Tensorflow is het niet gelukt om Tensorflow en Ray tuning goed te laten samenwerken onder windows. Om dit probleem op te vangen zijn de notebooks 4, 5 en 6 getrained met Google Colab. Deze notebooks zijn om die reden ook in de root van het project geplaatst. Ray tune heeft anders moeite om de juiste directories te vinden.\n",
    "\n",
    "In het vijfde notebook [Adding Features](https://github.com/Merijn68/BondTrading/blob/master/05_adding_feartures.ipynb) wordt de analyse verder uitgebreid en worden extra features meegenomen in de voorspelling.\n",
    "\n",
    "Tot slot wordt in het laatste notebook [Predicting Movement]() gekeken in hoeverre het model in staat is om de richting van de beweging van de bondprijs te voorspellen."
   ]
  },
  {
   "cell_type": "markdown",
   "metadata": {},
   "source": [
    "### Conclusie\n",
    "\n",
    "Zoals verwacht zijn we niet erg succesvol bij het voorspellen van de marktwaarde ontwikkeling op de bondmarkt. Wat ik zeker niet had verwacht is dat ik zo'n sterke correlatie zou vinden tussen de bid-ask spread op de yield curve en de ontwikkeling van de bondprijs. Dat is zeker opmerkelijk en geeft mijnsinziens aan dat algo trading een zeer grote rol speelt in de totstandkoming van de bondprijzen.\n"
   ]
  },
  {
   "cell_type": "markdown",
   "metadata": {},
   "source": [
    "# Referenties\n",
    "\n",
    "De volgende artikelen ben ik tegen gekomen tijdens dit onderzoek en vond ik toch wel het benoemen waard. \n",
    "\n",
    "- Voorspellen met time-embeddings en transformers. https://towardsdatascience.com/stock-predictions-with-state-of-the-art-transformer-and-time-embeddings-3a4485237de6.\n",
    "- Algo trading, volatiliteit en custom loss functies. https://codeburst.io/neural-networks-for-algorithmic-trading-volatility-forecasting-and-custom-loss-functions-c030e316ea7e\n",
    "- Bitcoin predictions - https://dev.mrdbourke.com/tensorflow-deep-learning/10_time_series_forecasting_in_tensorflow/\n",
    "- Machine learning rente curve, feature extractie: https://arxiv.org/abs/1812.01102\n",
    "- Voorspellen van bondprijzen met Neurale Netwerken https://medium.com/@thomasbacas/predicting-accurate-bond-prices-with-neural-networks-ff46c051c25c\n",
    "- Transfer Learning voor Financial Time Series Forecasting https://www.researchgate.net/publication/335340654_Transfer_Learning_for_Financial_Time_Series_Forecasting\n",
    "- Achtergrond, inzicht in de bond markt: https://www.investopedia.com/insights/forces-behind-interest-rates/\n",
    "\n"
   ]
  }
 ],
 "metadata": {
  "language_info": {
   "name": "python"
  },
  "orig_nbformat": 4
 },
 "nbformat": 4,
 "nbformat_minor": 2
}
