{
 "cells": [
  {
   "cell_type": "code",
   "execution_count": null,
   "metadata": {},
   "outputs": [],
   "source": []
  },
  {
   "cell_type": "markdown",
   "metadata": {},
   "source": [
    "# Bond handel\n",
    "\n",
    "## Voorspellen van obligatieprijzen \n",
    "\n",
    "Obligaties zijn een vorm van leningen van bedrijven en overheden aan investeerders. Het is een mogelijkheid om financiering aan te trekken. \n",
    "Over het algemeen moet na verloop van tijd op een afgesproken datum de hoofdsom worden terugbetaald. Tot die tijd ontvangt de geldschieter vaste rentebetalingen (Coupons). Obligatiehandel is een mogelijkheid om winst te maken door gebruik te maken van de prijsfluctuaties in deze obligaties.\n",
    "\n",
    "Hoewel aan het einde van de looptijd de waarde van de hoofdsom wordt terugbetaald, flucteert de marktwaarde gedurende de looptijd. Wanneer de rente bijvoorbeeld stijgt gaat de waarde van de bond omlaag. Andere investeringen worden dan aantrekkelijker dan de eerder uitgegeven bond.\n",
    "\n",
    "Naast rente speelt met name bij obligaties van bedrijven ook de kredietwaardigheid een belangrijke rol in de prijsstelling van de bond.\n",
    "\n",
    "De bondmarkt is traditioneel gezien minder liquide en minder transparant dan de aandelenmarkt. Typisch werden transacties 'Over the Counter' (OTC) afgesloten, waarbij de verschillende brokers (telefonisch) een prijs afgaven. De laatste jaren worden transacties echter vooral electronisch afgesloten en zijn instituties verplicht deze prijzen (met enige vertraging) te publiseren. Deze data is helaas nog niet publiek beschikbaar. \n",
    "\n",
    "in dit onderzoek wil ik gaan kijken of ik de bond prijzen kan gaan voorspellen. In dit onderzoek wil ik mij beperken tot vastrentende staatsobligaties met een looptijd van 2 jaar of 10 jaar uitgegeven door landen binnen de Euro zone.\n",
    "\n",
    "Het voorspellen van bondprijzen is geen nieuw onderwerp - ook over de bond markt is al veel gepubliceerd. Details van de modellen die gebruikt worden zijn bedrijfsgeheim en worden daarbij niet gedeeld. Het algemene beeld is dat het lastig wordt. Prijzen van financiele instrumenten zijn stochastisch en laten zich niet goed voorspellen.\n",
    "\n",
    "Factoren die van invloed zijn op de prijsvorming van staatsobligaties\n",
    "- Karateristieken van de bond\n",
    "- Macro-economische vooruitzichten\n",
    "- Lange termijn rente verwachting\n",
    "- Schaarste (vraag en aanbod) \n",
    "- Kredietwaardigheid van het land\n",
    "- Verwachtingen van marktparticipanten\n",
    "\n",
    "Al met al is er een gebrek aan voorspellende indicatoren - zeker op dagbasis. Items die genoemd worden:\n",
    "- Bid - Ask Spread van geselecteerde bonds\n",
    "- Term spread - Verschil tussen korte en lange rente\n",
    "- Macro econmische indicatoren \n",
    "    - housing\n",
    "    - buiding permits\n",
    "    - Orders Consumenten\n",
    "- Verschil in rente tussen high grade en low grade bonds\n",
    "- Spreads tussen landen\n",
    "- Sentiment analyze van het nieuws?\n",
    "\n",
    "Asset price theorie: lange bonds hebben een hogere risico opslag dan kortlopende bonds. Kleine veranderingen in de rates hebben een groter effect op langer lopende bonds. De term spread (het verschil tussen korte- en lange rente) is een indicatie voor de economische groei. Negatieve term spread staat bekend als een indicatie voor een recessie.\n",
    "\n"
   ]
  },
  {
   "cell_type": "markdown",
   "metadata": {},
   "source": [
    "Bonds worden wel vergeleken met Benchmark bonds. => Kijk of we benchmark bonds kunnen downloaden uit Bloomberg"
   ]
  },
  {
   "cell_type": "markdown",
   "metadata": {},
   "source": [
    "Hoewel het om tijd serie data gaat, is het aannemelijk dat er geen seizoensinvloeden en duidelijke trends herkenbaar zijn in de data."
   ]
  }
 ],
 "metadata": {
  "language_info": {
   "name": "python"
  },
  "orig_nbformat": 4
 },
 "nbformat": 4,
 "nbformat_minor": 2
}
